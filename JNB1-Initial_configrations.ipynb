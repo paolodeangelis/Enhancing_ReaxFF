{
 "cells": [
  {
   "attachments": {},
   "cell_type": "markdown",
   "id": "883181fd-a575-4b8e-ac97-9ee1b1024e98",
   "metadata": {},
   "source": [
    "# JNB1 - Build initial configuration for DFT simulations"
   ]
  },
  {
   "attachments": {},
   "cell_type": "markdown",
   "id": "5f3fa402",
   "metadata": {},
   "source": [
    "Welcome to this Jupyter Notebook, where we will explore crystal units stored in the [Material Project](https://materialsproject.org/) database. \n",
    "Our objective is to generate initial configurations for performing Density Functional Theory (DFT) simulations. To achieve this, we will be utilizing the `Pymatgen` Python library.\n",
    "\n",
    "This notebook represents the first step of the protocol discussed in the associated article (see the README.md file) as illustrated in the Figure 1 below.\n",
    "\n",
    "The notebook is organized into sections based on the type of manipulations applied to the crystals. Here is an overview of the sections:\n",
    "\n",
    "* [Get *Material Project* structures](#get_mp_structure)\n",
    "* [Pure species system](#pure_species)\n",
    "* [Supercells](#supercells)\n",
    "* [Elastic strain](#elastic_strain)\n",
    "* [Vacancies](#vacancies)\n",
    "* [Substitution](#substitution)\n",
    "* [Interstitial](#interstitial)\n",
    "* [Slabs](#slabs)\n",
    "* [Initial configuration for *ab initio* MD (DFTB) simulations](#ic_ab_initio)\n",
    "    * [Amorphous bulk](#amorphous_bulk)\n",
    "    * [Bulk at 500 K](#bulk_500)\n",
    "\n",
    "Each section focuses on specific manipulations and explores different aspects of the crystals. Our main goal is to generate initial configurations that can be used in subsequent Jupyter Notebooks for performing DFT simulations."
   ]
  },
  {
   "attachments": {},
   "cell_type": "markdown",
   "id": "9880ac7b",
   "metadata": {},
   "source": [
    "<figure>\n",
    "    <img src=\"assets/img/wf-JNB1.png\" alt=\"JNB1 workflow\">\n",
    "    <figcaption><strong>Figure 1</strong>: Protocol workflow and part covered by this Jupyter Notebook highlighted in red.<figcaption>\n",
    "<figure> "
   ]
  },
  {
   "attachments": {},
   "cell_type": "markdown",
   "id": "0352be92",
   "metadata": {},
   "source": [
    "## Load libraries"
   ]
  },
  {
   "cell_type": "code",
   "execution_count": 2,
   "id": "0260fcc7-8434-408b-9a86-5bef09b6e1e3",
   "metadata": {},
   "outputs": [
    {
     "name": "stderr",
     "output_type": "stream",
     "text": [
      "/home/paolo/Enhancing_ReaxFF/venv/lib/python3.8/site-packages/pymatgen/ext/matproj.py:185: UserWarning: You are using the legacy MPRester. This version of the MPRester will no longer be updated. To access the latest data with the new MPRester, obtain a new API key from https://materialsproject.org/api and consult the docs at https://docs.materialsproject.org/ for more information.\n",
      "  warnings.warn(\n"
     ]
    }
   ],
   "source": [
    "import os\n",
    "\n",
    "import matplotlib.pyplot as plt\n",
    "import numpy as np\n",
    "import pandas as pd\n",
    "from ase.visualize import view\n",
    "from numpy.random import PCG64, Generator\n",
    "from pymatgen.analysis.defects.generators import (\n",
    "    SubstitutionGenerator,\n",
    "    VacancyGenerator,\n",
    "    VoronoiInterstitialGenerator,\n",
    ")\n",
    "from pymatgen.analysis.elasticity.strain import Strain\n",
    "from pymatgen.core.surface import SlabGenerator\n",
    "from pymatgen.io.ase import AseAtomsAdaptor\n",
    "\n",
    "from tools import make_dir\n",
    "from tools.interstitials import get_all_sites\n",
    "from tools.mp import get_crystals, load_cifs\n",
    "\n",
    "matget2ase = AseAtomsAdaptor()\n",
    "plt.style.use(\"default\")"
   ]
  },
  {
   "attachments": {},
   "cell_type": "markdown",
   "id": "2ccb7fd9",
   "metadata": {},
   "source": [
    "## Settings"
   ]
  },
  {
   "attachments": {},
   "cell_type": "markdown",
   "id": "86f609fe",
   "metadata": {},
   "source": [
    "In this section, we define the constants and generators that will be used throughout the notebook:\n",
    "\n",
    "* `MAIN_DIR_JNB1`: The main folder where the results of this Jupyter Notebook will be stored.\n",
    "* `CHEM_FORMULA`: The chemical formula of the SEI component.\n",
    "* `SEED`: The seed number used for the random number generator.\n",
    "* `pcg64`: The random number generator (PCG64).\n",
    "\n",
    "These constants and generators play a crucial role in ensuring reproducibility and providing the necessary inputs for various computations and simulations in this notebook."
   ]
  },
  {
   "cell_type": "code",
   "execution_count": 3,
   "id": "f139a15f",
   "metadata": {},
   "outputs": [],
   "source": [
    "from tools.misc import MAIN_DIR_JNB1\n",
    "\n",
    "CHEM_FORMULA = \"LiF\"\n",
    "SEED = 2718\n",
    "\n",
    "pcg64 = PCG64(seed=SEED)\n",
    "rg = Generator(pcg64)"
   ]
  },
  {
   "attachments": {},
   "cell_type": "markdown",
   "id": "7bc61c0b",
   "metadata": {},
   "source": [
    "Making the output folder"
   ]
  },
  {
   "cell_type": "code",
   "execution_count": 4,
   "id": "caa7d2a0-b27b-4426-9f17-74db7581d3a2",
   "metadata": {},
   "outputs": [],
   "source": [
    "make_dir(os.path.join(MAIN_DIR_JNB1, CHEM_FORMULA))"
   ]
  },
  {
   "attachments": {},
   "cell_type": "markdown",
   "id": "27803353",
   "metadata": {},
   "source": [
    "## Get *Material Project* structures <a id='get_mp_structure'></a>"
   ]
  },
  {
   "cell_type": "code",
   "execution_count": 5,
   "id": "a991a987",
   "metadata": {},
   "outputs": [],
   "source": [
    "SUBDIR = \"0-materialproject\"\n",
    "MP_CIF_DIR = os.path.join(MAIN_DIR_JNB1, CHEM_FORMULA, SUBDIR)\n",
    "make_dir(MP_CIF_DIR)"
   ]
  },
  {
   "cell_type": "markdown",
   "id": "2a781d05-fc09-41c5-a0a7-1b1148a05cbf",
   "metadata": {},
   "source": [
    "Load possible structure from Material Project"
   ]
  },
  {
   "cell_type": "code",
   "execution_count": 6,
   "id": "e9f1cc10",
   "metadata": {},
   "outputs": [
    {
     "name": "stdout",
     "output_type": "stream",
     "text": [
      "N=3 crsital units found for the chemical formula `LiF`\n"
     ]
    }
   ],
   "source": [
    "info_df, systems, systems_ase = get_crystals(\"LiF\")"
   ]
  },
  {
   "cell_type": "code",
   "execution_count": 7,
   "id": "68db6a8e",
   "metadata": {},
   "outputs": [
    {
     "data": {
      "text/html": [
       "<div>\n",
       "<style scoped>\n",
       "    .dataframe tbody tr th:only-of-type {\n",
       "        vertical-align: middle;\n",
       "    }\n",
       "\n",
       "    .dataframe tbody tr th {\n",
       "        vertical-align: top;\n",
       "    }\n",
       "\n",
       "    .dataframe thead th {\n",
       "        text-align: right;\n",
       "    }\n",
       "</style>\n",
       "<table border=\"1\" class=\"dataframe\">\n",
       "  <thead>\n",
       "    <tr style=\"text-align: right;\">\n",
       "      <th></th>\n",
       "      <th>energy_per_atom</th>\n",
       "      <th>formation_energy_per_atom</th>\n",
       "    </tr>\n",
       "  </thead>\n",
       "  <tbody>\n",
       "    <tr>\n",
       "      <th>mp-1138</th>\n",
       "      <td>-4.845146</td>\n",
       "      <td>-3.180409</td>\n",
       "    </tr>\n",
       "    <tr>\n",
       "      <th>mp-1185301</th>\n",
       "      <td>-4.838474</td>\n",
       "      <td>-3.173737</td>\n",
       "    </tr>\n",
       "    <tr>\n",
       "      <th>mp-1009009</th>\n",
       "      <td>-4.557603</td>\n",
       "      <td>-2.892867</td>\n",
       "    </tr>\n",
       "  </tbody>\n",
       "</table>\n",
       "</div>"
      ],
      "text/plain": [
       "            energy_per_atom  formation_energy_per_atom\n",
       "mp-1138           -4.845146                  -3.180409\n",
       "mp-1185301        -4.838474                  -3.173737\n",
       "mp-1009009        -4.557603                  -2.892867"
      ]
     },
     "execution_count": 7,
     "metadata": {},
     "output_type": "execute_result"
    }
   ],
   "source": [
    "info_df"
   ]
  },
  {
   "attachments": {},
   "cell_type": "markdown",
   "id": "3a98db79-d14a-4b37-86d4-784e90242298",
   "metadata": {},
   "source": [
    "Store the retrieved system and info"
   ]
  },
  {
   "cell_type": "code",
   "execution_count": 8,
   "id": "2e243adc-1c13-4511-b82d-f845dd5d3b9a",
   "metadata": {},
   "outputs": [],
   "source": [
    "file_name = []\n",
    "for i, (system, Ef_) in enumerate(zip(systems, info_df[\"formation_energy_per_atom\"])):\n",
    "    file_name.append(f\"{i:d}-{CHEM_FORMULA}_{system.get_space_group_info()[0]}_{Ef_:1.2f}.cif\".replace(\"/\", \"\"))\n",
    "    system.to(fmt=\"cif\", filename=os.path.join(MP_CIF_DIR, file_name[-1]))"
   ]
  },
  {
   "attachments": {},
   "cell_type": "markdown",
   "id": "36797769-3111-4323-9993-b562c97eb4fc",
   "metadata": {},
   "source": [
    "In addition we store the info as `json` file"
   ]
  },
  {
   "cell_type": "code",
   "execution_count": 9,
   "id": "1644170c",
   "metadata": {},
   "outputs": [
    {
     "data": {
      "text/html": [
       "<div>\n",
       "<style scoped>\n",
       "    .dataframe tbody tr th:only-of-type {\n",
       "        vertical-align: middle;\n",
       "    }\n",
       "\n",
       "    .dataframe tbody tr th {\n",
       "        vertical-align: top;\n",
       "    }\n",
       "\n",
       "    .dataframe thead th {\n",
       "        text-align: right;\n",
       "    }\n",
       "</style>\n",
       "<table border=\"1\" class=\"dataframe\">\n",
       "  <thead>\n",
       "    <tr style=\"text-align: right;\">\n",
       "      <th></th>\n",
       "      <th>energy_per_atom</th>\n",
       "      <th>formation_energy_per_atom</th>\n",
       "    </tr>\n",
       "    <tr>\n",
       "      <th>file_name</th>\n",
       "      <th></th>\n",
       "      <th></th>\n",
       "    </tr>\n",
       "  </thead>\n",
       "  <tbody>\n",
       "    <tr>\n",
       "      <th>0-LiF_Fm-3m_-3.18.cif</th>\n",
       "      <td>-4.845146</td>\n",
       "      <td>-3.180409</td>\n",
       "    </tr>\n",
       "    <tr>\n",
       "      <th>1-LiF_P6_3mc_-3.17.cif</th>\n",
       "      <td>-4.838474</td>\n",
       "      <td>-3.173737</td>\n",
       "    </tr>\n",
       "    <tr>\n",
       "      <th>2-LiF_Pm-3m_-2.89.cif</th>\n",
       "      <td>-4.557603</td>\n",
       "      <td>-2.892867</td>\n",
       "    </tr>\n",
       "  </tbody>\n",
       "</table>\n",
       "</div>"
      ],
      "text/plain": [
       "                        energy_per_atom  formation_energy_per_atom\n",
       "file_name                                                         \n",
       "0-LiF_Fm-3m_-3.18.cif         -4.845146                  -3.180409\n",
       "1-LiF_P6_3mc_-3.17.cif        -4.838474                  -3.173737\n",
       "2-LiF_Pm-3m_-2.89.cif         -4.557603                  -2.892867"
      ]
     },
     "execution_count": 9,
     "metadata": {},
     "output_type": "execute_result"
    }
   ],
   "source": [
    "info_df.loc[:, \"file_name\"] = file_name\n",
    "info_df.set_index(\"file_name\", inplace=True)\n",
    "info_df.to_json(os.path.join(MP_CIF_DIR, \"info.json\"))\n",
    "\n",
    "info_df"
   ]
  },
  {
   "cell_type": "code",
   "execution_count": 10,
   "id": "ced12d7f-4b4b-4cd0-8a93-d867807c0e9d",
   "metadata": {},
   "outputs": [
    {
     "data": {
      "image/png": "[encoded data removed]",
      "text/plain": [
       "<Figure size 500x300 with 1 Axes>"
      ]
     },
     "metadata": {},
     "output_type": "display_data"
    }
   ],
   "source": [
    "fig = plt.figure(figsize=[5, 3], dpi=100, facecolor=\"w\")\n",
    "\n",
    "with plt.style.context(\"seaborn\"):\n",
    "    ax = fig.add_subplot(111)\n",
    "    Ef_np = info_df.energy_per_atom.values\n",
    "    ax.bar(info_df.index.values, info_df.energy_per_atom.values, width=0.20)\n",
    "    ax.set_ylabel(\"Energy per atoms [eV]\")\n",
    "    ax.set_xticks([i for i in range(len(info_df.index))])\n",
    "    ax.set_xticklabels(info_df.index.values, rotation=25, ha=\"right\")\n",
    "    delta_Ef = Ef_np.max() - Ef_np.min()\n",
    "    mean_Ef = (Ef_np.max() + Ef_np.min()) / 2\n",
    "    ax.set_ylim(mean_Ef - delta_Ef, mean_Ef + delta_Ef)\n",
    "plt.show()"
   ]
  },
  {
   "attachments": {},
   "cell_type": "markdown",
   "id": "1d1abcae",
   "metadata": {},
   "source": [
    "3D view of the system"
   ]
  },
  {
   "cell_type": "code",
   "execution_count": 11,
   "id": "1c4e371f-8a26-451e-b87c-28bcd3f3ac4a",
   "metadata": {},
   "outputs": [
    {
     "data": {
      "application/vnd.jupyter.widget-view+json": {
       "model_id": "ebee454a12a74c36b79b6c0f52583514",
       "version_major": 2,
       "version_minor": 0
      },
      "text/plain": []
     },
     "metadata": {},
     "output_type": "display_data"
    },
    {
     "data": {
      "application/vnd.jupyter.widget-view+json": {
       "model_id": "472b42369e624dbd92059ef29502e0ec",
       "version_major": 2,
       "version_minor": 0
      },
      "text/plain": [
       "HBox(children=(NGLWidget(max_frame=2), VBox(children=(Dropdown(description='Show', options=('All', 'F', 'Li'),…"
      ]
     },
     "execution_count": 11,
     "metadata": {},
     "output_type": "execute_result"
    }
   ],
   "source": [
    "view(systems_ase, viewer=\"ngl\")"
   ]
  },
  {
   "attachments": {},
   "cell_type": "markdown",
   "id": "fb18f5e9",
   "metadata": {},
   "source": [
    "## Pure Species system <a id='pure_species'></a>"
   ]
  },
  {
   "attachments": {},
   "cell_type": "markdown",
   "id": "25a85fbc",
   "metadata": {},
   "source": [
    "When modifying a system by adding or removing atoms for the purpose of ReaxFF training, it is beneficial to compare it with a stable system. For instance, instead of relying on the absolute energy of a Li atom added to a 2x2x2 supercell, it is more effective to use the energy difference relative to a stable crystal:\n",
    "\n",
    "$\\Delta E = E(Li_9F_8) - ( 8\\times E(LiF) + 0.5 E(Li_2) )$\n",
    "\n",
    "Therefore, in this section of the Jupyter Notebook, we will query the Materials Project database to obtain stable unit crystals that consist of only a single element."
   ]
  },
  {
   "cell_type": "code",
   "execution_count": 12,
   "id": "6efca06a",
   "metadata": {},
   "outputs": [],
   "source": [
    "SUBDIR = \"0.1-pure_species\""
   ]
  },
  {
   "cell_type": "markdown",
   "id": "df9a6eaa-9f6f-4ae3-b270-76673d96af7f",
   "metadata": {},
   "source": [
    "Load structure"
   ]
  },
  {
   "cell_type": "code",
   "execution_count": 13,
   "id": "a282b6fa-827b-4d62-a08b-35cf53a11f17",
   "metadata": {},
   "outputs": [
    {
     "name": "stderr",
     "output_type": "stream",
     "text": [
      "/home/paolo/Enhancing_ReaxFF/venv/lib/python3.8/site-packages/pymatgen/io/cif.py:1134: UserWarning: Issues encountered while parsing CIF: Some fractional coordinates rounded to ideal values to avoid issues with finite precision.\n",
      "  warnings.warn(\"Issues encountered while parsing CIF: \" + \"\\n\".join(self.warnings))\n"
     ]
    }
   ],
   "source": [
    "systems = load_cifs(MP_CIF_DIR)"
   ]
  },
  {
   "attachments": {},
   "cell_type": "markdown",
   "id": "ed29e07f",
   "metadata": {},
   "source": [
    "Get unique elements in the system"
   ]
  },
  {
   "cell_type": "code",
   "execution_count": 14,
   "id": "febc3f73",
   "metadata": {},
   "outputs": [],
   "source": [
    "elements = np.unique([i.name for i in systems[0][1].species])"
   ]
  },
  {
   "cell_type": "markdown",
   "id": "e5c92462",
   "metadata": {},
   "source": [
    "Load possible structure from Material Project"
   ]
  },
  {
   "cell_type": "code",
   "execution_count": 15,
   "id": "62fabd45",
   "metadata": {},
   "outputs": [
    {
     "name": "stdout",
     "output_type": "stream",
     "text": [
      "N=5 crsital units found for the chemical formula `F`\n",
      "N=8 crsital units found for the chemical formula `Li`\n"
     ]
    }
   ],
   "source": [
    "info_df = []\n",
    "systems = []\n",
    "systems_ase = []\n",
    "\n",
    "for el in elements:\n",
    "    info_df_, systems_, systems_ase_ = get_crystals(el)\n",
    "    indx = np.where(info_df_[\"energy_per_atom\"] == info_df_[\"energy_per_atom\"].min())[0][0]\n",
    "    systems.append(systems_[indx])\n",
    "    systems_ase.append(systems_ase_[indx])\n",
    "    info_df__ = info_df_[info_df_[\"energy_per_atom\"] == info_df_[\"energy_per_atom\"].min()]\n",
    "    temp_ = pd.DataFrame(columns=[\"element\", \"N\"], index=info_df__.index)\n",
    "    temp_[\"element\"] = el\n",
    "    temp_[\"N\"] = len(systems_ase_[indx])\n",
    "    info_df__ = info_df__.join(temp_)\n",
    "    info_df.append(info_df__)\n",
    "info_df = pd.concat(info_df)"
   ]
  },
  {
   "cell_type": "code",
   "execution_count": 16,
   "id": "14f90158",
   "metadata": {},
   "outputs": [
    {
     "data": {
      "text/html": [
       "<div>\n",
       "<style scoped>\n",
       "    .dataframe tbody tr th:only-of-type {\n",
       "        vertical-align: middle;\n",
       "    }\n",
       "\n",
       "    .dataframe tbody tr th {\n",
       "        vertical-align: top;\n",
       "    }\n",
       "\n",
       "    .dataframe thead th {\n",
       "        text-align: right;\n",
       "    }\n",
       "</style>\n",
       "<table border=\"1\" class=\"dataframe\">\n",
       "  <thead>\n",
       "    <tr style=\"text-align: right;\">\n",
       "      <th></th>\n",
       "      <th>energy_per_atom</th>\n",
       "      <th>formation_energy_per_atom</th>\n",
       "      <th>element</th>\n",
       "      <th>N</th>\n",
       "    </tr>\n",
       "  </thead>\n",
       "  <tbody>\n",
       "    <tr>\n",
       "      <th>mp-561203</th>\n",
       "      <td>-1.911456</td>\n",
       "      <td>0.0</td>\n",
       "      <td>F</td>\n",
       "      <td>4</td>\n",
       "    </tr>\n",
       "    <tr>\n",
       "      <th>mp-1018134</th>\n",
       "      <td>-1.908923</td>\n",
       "      <td>0.0</td>\n",
       "      <td>Li</td>\n",
       "      <td>3</td>\n",
       "    </tr>\n",
       "  </tbody>\n",
       "</table>\n",
       "</div>"
      ],
      "text/plain": [
       "            energy_per_atom  formation_energy_per_atom element  N\n",
       "mp-561203         -1.911456                        0.0       F  4\n",
       "mp-1018134        -1.908923                        0.0      Li  3"
      ]
     },
     "execution_count": 16,
     "metadata": {},
     "output_type": "execute_result"
    }
   ],
   "source": [
    "info_df"
   ]
  },
  {
   "cell_type": "markdown",
   "id": "d7644f7a",
   "metadata": {},
   "source": [
    "Store it"
   ]
  },
  {
   "cell_type": "code",
   "execution_count": 17,
   "id": "5a4cf9f1",
   "metadata": {},
   "outputs": [],
   "source": [
    "out_dir = os.path.join(MAIN_DIR_JNB1, CHEM_FORMULA, SUBDIR)\n",
    "make_dir(out_dir)\n",
    "file_name = []\n",
    "for i, (system, el, nel) in enumerate(zip(systems, info_df[\"element\"], info_df[\"N\"])):\n",
    "    file_name.append(f\"{i:d}-{el}_{system.get_space_group_info()[0].replace('/','')}_na{nel:d}.cif\")\n",
    "    system.to(fmt=\"cif\", filename=os.path.join(out_dir, file_name[-1]))"
   ]
  },
  {
   "attachments": {},
   "cell_type": "markdown",
   "id": "4fe69e66",
   "metadata": {},
   "source": [
    "In addition we store the info as `json` file"
   ]
  },
  {
   "cell_type": "code",
   "execution_count": 18,
   "id": "0ca61b1d",
   "metadata": {},
   "outputs": [
    {
     "data": {
      "text/html": [
       "<div>\n",
       "<style scoped>\n",
       "    .dataframe tbody tr th:only-of-type {\n",
       "        vertical-align: middle;\n",
       "    }\n",
       "\n",
       "    .dataframe tbody tr th {\n",
       "        vertical-align: top;\n",
       "    }\n",
       "\n",
       "    .dataframe thead th {\n",
       "        text-align: right;\n",
       "    }\n",
       "</style>\n",
       "<table border=\"1\" class=\"dataframe\">\n",
       "  <thead>\n",
       "    <tr style=\"text-align: right;\">\n",
       "      <th></th>\n",
       "      <th>energy_per_atom</th>\n",
       "      <th>formation_energy_per_atom</th>\n",
       "      <th>element</th>\n",
       "      <th>N</th>\n",
       "    </tr>\n",
       "    <tr>\n",
       "      <th>file_name</th>\n",
       "      <th></th>\n",
       "      <th></th>\n",
       "      <th></th>\n",
       "      <th></th>\n",
       "    </tr>\n",
       "  </thead>\n",
       "  <tbody>\n",
       "    <tr>\n",
       "      <th>0-F_C2c_na4.cif</th>\n",
       "      <td>-1.911456</td>\n",
       "      <td>0.0</td>\n",
       "      <td>F</td>\n",
       "      <td>4</td>\n",
       "    </tr>\n",
       "    <tr>\n",
       "      <th>1-Li_R-3m_na3.cif</th>\n",
       "      <td>-1.908923</td>\n",
       "      <td>0.0</td>\n",
       "      <td>Li</td>\n",
       "      <td>3</td>\n",
       "    </tr>\n",
       "  </tbody>\n",
       "</table>\n",
       "</div>"
      ],
      "text/plain": [
       "                   energy_per_atom  formation_energy_per_atom element  N\n",
       "file_name                                                               \n",
       "0-F_C2c_na4.cif          -1.911456                        0.0       F  4\n",
       "1-Li_R-3m_na3.cif        -1.908923                        0.0      Li  3"
      ]
     },
     "execution_count": 18,
     "metadata": {},
     "output_type": "execute_result"
    }
   ],
   "source": [
    "info_df.loc[:, \"file_name\"] = file_name\n",
    "info_df.set_index(\"file_name\", inplace=True)\n",
    "info_df.to_json(os.path.join(out_dir, \"info.json\"))\n",
    "\n",
    "info_df"
   ]
  },
  {
   "cell_type": "code",
   "execution_count": 19,
   "id": "cf24e2eb",
   "metadata": {},
   "outputs": [
    {
     "data": {
      "image/png": "[encoded data removed]",
      "text/plain": [
       "<Figure size 500x300 with 1 Axes>"
      ]
     },
     "metadata": {},
     "output_type": "display_data"
    }
   ],
   "source": [
    "fig = plt.figure(figsize=[5, 3], dpi=100, facecolor=\"w\")\n",
    "\n",
    "with plt.style.context(\"seaborn\"):\n",
    "    ax = fig.add_subplot(111)\n",
    "    Ef_np = info_df[\"energy_per_atom\"].values\n",
    "    ax.bar(file_name, Ef_np, width=0.20)\n",
    "    ax.set_ylabel(\"Energy per atoms [eV]\")\n",
    "    ax.set_xticks([i for i in range(len(Ef_np))])\n",
    "    ax.set_xticklabels(file_name, rotation=25, ha=\"right\")\n",
    "    delta_Ef = Ef_np.max() - Ef_np.min()\n",
    "    mean_Ef = (Ef_np.max() + Ef_np.min()) / 2\n",
    "    ax.set_ylim(mean_Ef - delta_Ef, mean_Ef + delta_Ef)\n",
    "plt.show()"
   ]
  },
  {
   "cell_type": "code",
   "execution_count": 20,
   "id": "0409ddf1",
   "metadata": {},
   "outputs": [
    {
     "data": {
      "application/vnd.jupyter.widget-view+json": {
       "model_id": "32b61d823dc146c3bf524a22f9b4a9dd",
       "version_major": 2,
       "version_minor": 0
      },
      "text/plain": [
       "HBox(children=(NGLWidget(max_frame=1), VBox(children=(Dropdown(description='Show', options=('All', 'F'), value…"
      ]
     },
     "execution_count": 20,
     "metadata": {},
     "output_type": "execute_result"
    }
   ],
   "source": [
    "view(systems_ase, viewer=\"ngl\")"
   ]
  },
  {
   "attachments": {},
   "cell_type": "markdown",
   "id": "9d02c16c-16e4-4583-b9db-5a97a1473abc",
   "metadata": {
    "tags": []
   },
   "source": [
    "## Supercells <a id='supercells'></a>"
   ]
  },
  {
   "cell_type": "code",
   "execution_count": 21,
   "id": "16859404-0834-478f-bc7b-98d16ba9723d",
   "metadata": {},
   "outputs": [],
   "source": [
    "SUBDIR = \"1-supercell\"\n",
    "SUB_TRAINSET_ID = 1"
   ]
  },
  {
   "cell_type": "markdown",
   "id": "4cad4318",
   "metadata": {},
   "source": [
    "Load structure"
   ]
  },
  {
   "cell_type": "code",
   "execution_count": 22,
   "id": "a282b6fa-827b-4d62-a08b-35cf53a11f17",
   "metadata": {},
   "outputs": [
    {
     "name": "stderr",
     "output_type": "stream",
     "text": [
      "/home/paolo/Enhancing_ReaxFF/venv/lib/python3.8/site-packages/pymatgen/io/cif.py:1134: UserWarning: Issues encountered while parsing CIF: Some fractional coordinates rounded to ideal values to avoid issues with finite precision.\n",
      "  warnings.warn(\"Issues encountered while parsing CIF: \" + \"\\n\".join(self.warnings))\n"
     ]
    }
   ],
   "source": [
    "systems = load_cifs(MP_CIF_DIR)"
   ]
  },
  {
   "cell_type": "code",
   "execution_count": 23,
   "id": "9f56c26c-c654-4974-bcd2-1ba55e3b94e8",
   "metadata": {},
   "outputs": [],
   "source": [
    "supercell_scale = [[2, 1, 1], [2, 2, 1], [2, 2, 2], [3, 2, 2], [3, 3, 2], [3, 3, 3]]\n",
    "supercells = []\n",
    "supercells_ase = []\n",
    "supercell_info = {}\n",
    "\n",
    "for i, (name, syst_, syst_ase_) in enumerate(systems):\n",
    "    n = 0\n",
    "    for scale in supercell_scale:\n",
    "        filename = f\"{SUB_TRAINSET_ID}.{n}-{i}-{name}_{scale[0]}x{scale[1]}x{scale[2]}.cif\"\n",
    "        supercell_info[filename] = scale[0] * scale[1] * scale[2]\n",
    "        supercell = syst_.copy()\n",
    "        supercell.make_supercell([scale[0], scale[1], scale[2]])\n",
    "        supercells.append((filename, supercell.copy()))\n",
    "        supercells_ase.append(matget2ase.get_atoms(supercell))\n",
    "        # print(filename)\n",
    "        n += 1"
   ]
  },
  {
   "cell_type": "markdown",
   "id": "122de0ba-2f9b-4879-9c8d-c9868a918644",
   "metadata": {},
   "source": [
    "Store it"
   ]
  },
  {
   "cell_type": "code",
   "execution_count": 24,
   "id": "8f2edf07-238e-4808-8538-150fa0d01081",
   "metadata": {},
   "outputs": [],
   "source": [
    "out_dir = os.path.join(MAIN_DIR_JNB1, CHEM_FORMULA, SUBDIR)\n",
    "make_dir(out_dir)\n",
    "for filename, system in supercells:\n",
    "    system.to(fmt=\"cif\", filename=os.path.join(out_dir, filename))"
   ]
  },
  {
   "cell_type": "markdown",
   "id": "7495ffb6-3a5c-41ed-8573-8c3d702c9df4",
   "metadata": {},
   "source": [
    "Save properties"
   ]
  },
  {
   "cell_type": "code",
   "execution_count": 25,
   "id": "2eaffaf3-8032-4397-8c35-1356423c9073",
   "metadata": {},
   "outputs": [
    {
     "data": {
      "text/html": [
       "<div>\n",
       "<style scoped>\n",
       "    .dataframe tbody tr th:only-of-type {\n",
       "        vertical-align: middle;\n",
       "    }\n",
       "\n",
       "    .dataframe tbody tr th {\n",
       "        vertical-align: top;\n",
       "    }\n",
       "\n",
       "    .dataframe thead th {\n",
       "        text-align: right;\n",
       "    }\n",
       "</style>\n",
       "<table border=\"1\" class=\"dataframe\">\n",
       "  <thead>\n",
       "    <tr style=\"text-align: right;\">\n",
       "      <th></th>\n",
       "      <th>unitcell_repetition</th>\n",
       "    </tr>\n",
       "  </thead>\n",
       "  <tbody>\n",
       "    <tr>\n",
       "      <th>1.0-0-LiF_Fm-3m_-3.18_2x1x1.cif</th>\n",
       "      <td>2</td>\n",
       "    </tr>\n",
       "    <tr>\n",
       "      <th>1.1-0-LiF_Fm-3m_-3.18_2x2x1.cif</th>\n",
       "      <td>4</td>\n",
       "    </tr>\n",
       "    <tr>\n",
       "      <th>1.2-0-LiF_Fm-3m_-3.18_2x2x2.cif</th>\n",
       "      <td>8</td>\n",
       "    </tr>\n",
       "    <tr>\n",
       "      <th>1.3-0-LiF_Fm-3m_-3.18_3x2x2.cif</th>\n",
       "      <td>12</td>\n",
       "    </tr>\n",
       "    <tr>\n",
       "      <th>1.4-0-LiF_Fm-3m_-3.18_3x3x2.cif</th>\n",
       "      <td>18</td>\n",
       "    </tr>\n",
       "  </tbody>\n",
       "</table>\n",
       "</div>"
      ],
      "text/plain": [
       "                                unitcell_repetition\n",
       "1.0-0-LiF_Fm-3m_-3.18_2x1x1.cif                   2\n",
       "1.1-0-LiF_Fm-3m_-3.18_2x2x1.cif                   4\n",
       "1.2-0-LiF_Fm-3m_-3.18_2x2x2.cif                   8\n",
       "1.3-0-LiF_Fm-3m_-3.18_3x2x2.cif                  12\n",
       "1.4-0-LiF_Fm-3m_-3.18_3x3x2.cif                  18"
      ]
     },
     "execution_count": 25,
     "metadata": {},
     "output_type": "execute_result"
    }
   ],
   "source": [
    "file_name = list(supercell_info.keys())\n",
    "info_df = pd.DataFrame(index=file_name, columns=[\"unitcell_repetition\"])\n",
    "for file_name_ in file_name:\n",
    "    info_df.loc[file_name_, \"unitcell_repetition\"] = supercell_info[file_name_]\n",
    "info_df.to_json(os.path.join(out_dir, \"info.json\"))\n",
    "info_df.head()"
   ]
  },
  {
   "cell_type": "code",
   "execution_count": 26,
   "id": "3f3bcf83-1545-4afa-8ff7-55e8064c5824",
   "metadata": {},
   "outputs": [],
   "source": [
    "v = view(supercells_ase, viewer=\"ngl\")"
   ]
  },
  {
   "attachments": {},
   "cell_type": "markdown",
   "id": "01f7f10b-1a40-4f15-8114-aaf34040bd6c",
   "metadata": {},
   "source": [
    "## Elastic strain <a id='elastic_strain'></a>"
   ]
  },
  {
   "cell_type": "code",
   "execution_count": 27,
   "id": "ae3c2861",
   "metadata": {},
   "outputs": [],
   "source": [
    "SUBDIR = \"2-strain\"\n",
    "SUB_TRAINSET_ID = 2"
   ]
  },
  {
   "cell_type": "markdown",
   "id": "ad2a01c5",
   "metadata": {},
   "source": [
    "Load structure"
   ]
  },
  {
   "cell_type": "code",
   "execution_count": 28,
   "id": "4cf87f24",
   "metadata": {},
   "outputs": [
    {
     "name": "stderr",
     "output_type": "stream",
     "text": [
      "/home/paolo/Enhancing_ReaxFF/venv/lib/python3.8/site-packages/pymatgen/io/cif.py:1134: UserWarning: Issues encountered while parsing CIF: Some fractional coordinates rounded to ideal values to avoid issues with finite precision.\n",
      "  warnings.warn(\"Issues encountered while parsing CIF: \" + \"\\n\".join(self.warnings))\n"
     ]
    }
   ],
   "source": [
    "systems = load_cifs(MP_CIF_DIR)"
   ]
  },
  {
   "cell_type": "code",
   "execution_count": 29,
   "id": "c2601077-3297-4d50-8c18-99cc671598a5",
   "metadata": {},
   "outputs": [],
   "source": [
    "supercell_scale = [(2, 2, 2)]\n",
    "strain_amount = np.linspace(-0.125, 0.235, 13)\n",
    "# defining the Green-Lagrange strain matrix\n",
    "# in voigt notation [σ_xx, σ_yy, σ_zz, σ_yz, σ_xz, σ_xy]\n",
    "strains = {\n",
    "    \"xx\": np.array([[1.0, 0.0, 0.0], [0.0, 0.0, 0.0], [0.0, 0.0, 0.0]]),\n",
    "    \"xy\": np.array([[0.0, 0.7, 0.0], [0.7, 0.0, 0.0], [0.0, 0.0, 0.0]]),\n",
    "    \"xxyyzz\": np.array([[1.0, 0.0, 0.0], [0.0, 1.0, 0.0], [0.0, 0.0, 1.0]]),\n",
    "}\n",
    "new_systems = []\n",
    "new_systems_ase = []\n",
    "strain_info = {}\n",
    "\n",
    "for i, (name, syst_, syst_ase_) in enumerate(systems):\n",
    "    n = 0\n",
    "    for scale_x, scale_y, scale_z in supercell_scale:\n",
    "        supercell = syst_.copy()\n",
    "        supercell.make_supercell([scale_x, scale_y, scale_z])\n",
    "        volume = supercell.volume\n",
    "        for strain_type, strain_mtx in strains.items():\n",
    "            for amount in strain_amount:\n",
    "                filename = f\"{SUB_TRAINSET_ID}.{n}-{i}-{name}_{strain_type}_{amount:1.3f}.cif\"\n",
    "                obj_strain = Strain(strain_mtx * amount)\n",
    "                strain_info[filename] = strain_mtx * amount\n",
    "                defomation_mtx = obj_strain.get_deformation_matrix()\n",
    "                obj_deformed = supercell.copy()\n",
    "                obj_deformed = defomation_mtx.apply_to_structure(obj_deformed)\n",
    "                new_systems.append((filename, obj_deformed.copy()))\n",
    "                new_systems_ase.append(matget2ase.get_atoms(obj_deformed))\n",
    "                n += 1"
   ]
  },
  {
   "cell_type": "markdown",
   "id": "adbe7cf3-fc8e-4aa0-aeab-c5981f165661",
   "metadata": {},
   "source": [
    "Store it"
   ]
  },
  {
   "cell_type": "code",
   "execution_count": 30,
   "id": "fbdbd830-e223-42da-84e0-3f3e5caf698c",
   "metadata": {},
   "outputs": [],
   "source": [
    "out_dir = os.path.join(MAIN_DIR_JNB1, CHEM_FORMULA, SUBDIR)\n",
    "make_dir(out_dir)\n",
    "\n",
    "for filename, new_system in new_systems:\n",
    "    new_system.to(fmt=\"cif\", filename=os.path.join(out_dir, filename))"
   ]
  },
  {
   "cell_type": "markdown",
   "id": "dbb7939b-13d1-4b10-9bec-9d5b933fabed",
   "metadata": {},
   "source": [
    "Save properties"
   ]
  },
  {
   "cell_type": "code",
   "execution_count": 31,
   "id": "32ab53d1-a1dc-47f5-ba8c-319d54f26291",
   "metadata": {},
   "outputs": [
    {
     "data": {
      "text/html": [
       "<div>\n",
       "<style scoped>\n",
       "    .dataframe tbody tr th:only-of-type {\n",
       "        vertical-align: middle;\n",
       "    }\n",
       "\n",
       "    .dataframe tbody tr th {\n",
       "        vertical-align: top;\n",
       "    }\n",
       "\n",
       "    .dataframe thead th {\n",
       "        text-align: right;\n",
       "    }\n",
       "</style>\n",
       "<table border=\"1\" class=\"dataframe\">\n",
       "  <thead>\n",
       "    <tr style=\"text-align: right;\">\n",
       "      <th></th>\n",
       "      <th>unitcell_repetition</th>\n",
       "      <th>strain_matrix</th>\n",
       "    </tr>\n",
       "  </thead>\n",
       "  <tbody>\n",
       "    <tr>\n",
       "      <th>2.0-0-LiF_Fm-3m_-3.18_xx_-0.125.cif</th>\n",
       "      <td>8</td>\n",
       "      <td>[[-0.125, -0.0, -0.0], [-0.0, -0.0, -0.0], [-0...</td>\n",
       "    </tr>\n",
       "    <tr>\n",
       "      <th>2.1-0-LiF_Fm-3m_-3.18_xx_-0.095.cif</th>\n",
       "      <td>8</td>\n",
       "      <td>[[-0.095, -0.0, -0.0], [-0.0, -0.0, -0.0], [-0...</td>\n",
       "    </tr>\n",
       "    <tr>\n",
       "      <th>2.2-0-LiF_Fm-3m_-3.18_xx_-0.065.cif</th>\n",
       "      <td>8</td>\n",
       "      <td>[[-0.065, -0.0, -0.0], [-0.0, -0.0, -0.0], [-0...</td>\n",
       "    </tr>\n",
       "    <tr>\n",
       "      <th>2.3-0-LiF_Fm-3m_-3.18_xx_-0.035.cif</th>\n",
       "      <td>8</td>\n",
       "      <td>[[-0.035, -0.0, -0.0], [-0.0, -0.0, -0.0], [-0...</td>\n",
       "    </tr>\n",
       "    <tr>\n",
       "      <th>2.4-0-LiF_Fm-3m_-3.18_xx_-0.005.cif</th>\n",
       "      <td>8</td>\n",
       "      <td>[[-0.0050000000000000044, -0.0, -0.0], [-0.0, ...</td>\n",
       "    </tr>\n",
       "  </tbody>\n",
       "</table>\n",
       "</div>"
      ],
      "text/plain": [
       "                                    unitcell_repetition  \\\n",
       "2.0-0-LiF_Fm-3m_-3.18_xx_-0.125.cif                   8   \n",
       "2.1-0-LiF_Fm-3m_-3.18_xx_-0.095.cif                   8   \n",
       "2.2-0-LiF_Fm-3m_-3.18_xx_-0.065.cif                   8   \n",
       "2.3-0-LiF_Fm-3m_-3.18_xx_-0.035.cif                   8   \n",
       "2.4-0-LiF_Fm-3m_-3.18_xx_-0.005.cif                   8   \n",
       "\n",
       "                                                                         strain_matrix  \n",
       "2.0-0-LiF_Fm-3m_-3.18_xx_-0.125.cif  [[-0.125, -0.0, -0.0], [-0.0, -0.0, -0.0], [-0...  \n",
       "2.1-0-LiF_Fm-3m_-3.18_xx_-0.095.cif  [[-0.095, -0.0, -0.0], [-0.0, -0.0, -0.0], [-0...  \n",
       "2.2-0-LiF_Fm-3m_-3.18_xx_-0.065.cif  [[-0.065, -0.0, -0.0], [-0.0, -0.0, -0.0], [-0...  \n",
       "2.3-0-LiF_Fm-3m_-3.18_xx_-0.035.cif  [[-0.035, -0.0, -0.0], [-0.0, -0.0, -0.0], [-0...  \n",
       "2.4-0-LiF_Fm-3m_-3.18_xx_-0.005.cif  [[-0.0050000000000000044, -0.0, -0.0], [-0.0, ...  "
      ]
     },
     "execution_count": 31,
     "metadata": {},
     "output_type": "execute_result"
    }
   ],
   "source": [
    "file_name = list(strain_info.keys())\n",
    "info_df = pd.DataFrame(index=file_name, columns=[\"unitcell_repetition\", \"strain_matrix\"])\n",
    "for file_name_ in file_name:\n",
    "    info_df.loc[file_name_, \"strain_matrix\"] = strain_info[file_name_]\n",
    "    info_df.loc[file_name_, \"unitcell_repetition\"] = np.prod(supercell_scale)\n",
    "info_df.to_json(os.path.join(out_dir, \"info.json\"))\n",
    "info_df.head()"
   ]
  },
  {
   "cell_type": "code",
   "execution_count": 32,
   "id": "f88da728-ffd7-407c-b68b-b887b27d70ef",
   "metadata": {},
   "outputs": [
    {
     "data": {
      "application/vnd.jupyter.widget-view+json": {
       "model_id": "8ffdaee00e3a4729be8596cf20cff262",
       "version_major": 2,
       "version_minor": 0
      },
      "text/plain": [
       "HBox(children=(NGLWidget(max_frame=116), VBox(children=(Dropdown(description='Show', options=('All', 'F', 'Li'…"
      ]
     },
     "execution_count": 32,
     "metadata": {},
     "output_type": "execute_result"
    }
   ],
   "source": [
    "view(new_systems_ase, viewer=\"ngl\")"
   ]
  },
  {
   "attachments": {},
   "cell_type": "markdown",
   "id": "399ae74a-de54-4847-88b7-38b3dcb98f11",
   "metadata": {},
   "source": [
    "## Vacancies <a id='vacancies'></a>"
   ]
  },
  {
   "cell_type": "code",
   "execution_count": 33,
   "id": "fa245f92-5d8d-4285-8c6f-a1e056e236a1",
   "metadata": {},
   "outputs": [],
   "source": [
    "SUBDIR = \"3-vacancies\"\n",
    "SUB_TRAINSET_ID = 3"
   ]
  },
  {
   "cell_type": "markdown",
   "id": "82ab7b4b-d5be-45c0-b3f0-5751e0f233de",
   "metadata": {},
   "source": [
    "Load structure"
   ]
  },
  {
   "cell_type": "code",
   "execution_count": 34,
   "id": "a41a66a5-c8a2-4e32-9ad8-1fc1f53c7097",
   "metadata": {},
   "outputs": [
    {
     "name": "stderr",
     "output_type": "stream",
     "text": [
      "/home/paolo/Enhancing_ReaxFF/venv/lib/python3.8/site-packages/pymatgen/io/cif.py:1134: UserWarning: Issues encountered while parsing CIF: Some fractional coordinates rounded to ideal values to avoid issues with finite precision.\n",
      "  warnings.warn(\"Issues encountered while parsing CIF: \" + \"\\n\".join(self.warnings))\n"
     ]
    }
   ],
   "source": [
    "systems = load_cifs(MP_CIF_DIR)"
   ]
  },
  {
   "attachments": {},
   "cell_type": "markdown",
   "id": "0d62eb70-69ed-481b-bb42-371b742d5aaf",
   "metadata": {},
   "source": [
    "Random removing Li atoms from in 2x2x2 supercell"
   ]
  },
  {
   "cell_type": "code",
   "execution_count": 35,
   "id": "2b2878da-33f8-42e0-a86d-07764ed1bf9a",
   "metadata": {},
   "outputs": [],
   "source": [
    "supercell_scale = [[2, 2, 1]]\n",
    "max_vacacy = 5\n",
    "vacancy_info = {\"site\": {}, \"element\": {}, \"unitcell_repetition\": {}}\n",
    "new_systems = []\n",
    "new_systems_ase = []\n",
    "\n",
    "for i, (name, syst_, syst_ase_) in enumerate(systems):\n",
    "    n = 0\n",
    "    for scale in supercell_scale:\n",
    "        supercell = syst_.copy()\n",
    "        supercell.make_supercell([scale[0], scale[1], scale[2]])\n",
    "        temporary = supercell.copy()\n",
    "        prev_vacancy_el = []\n",
    "        prev_vacancy_site = []\n",
    "        for nv in range(max_vacacy):\n",
    "            primitive_elements = [e.species_string for e in supercell.get_primitive_structure().sites]\n",
    "            vacancy_gen = VacancyGenerator().generate(temporary)\n",
    "            temporary = []\n",
    "            for v_site in list(vacancy_gen):\n",
    "                site_el = v_site.site.species_string\n",
    "                if site_el in primitive_elements:\n",
    "                    primitive_elements.remove(site_el)\n",
    "                elif len(primitive_elements) == 0:\n",
    "                    break\n",
    "                else:\n",
    "                    continue\n",
    "                filename = f\"{SUB_TRAINSET_ID}.{n}-{i}-{name}_nv_{nv+1}.cif\"\n",
    "                vacancy_info[\"element\"][filename] = prev_vacancy_el + [v_site.site.species_string]\n",
    "                vacancy_info[\"site\"][filename] = prev_vacancy_site + [v_site.site.coords]\n",
    "                vacancy_info[\"unitcell_repetition\"][filename] = np.prod(scale)\n",
    "                obj_with_vacancy = v_site.defect_structure.copy()\n",
    "                new_systems.append((filename, obj_with_vacancy.copy()))\n",
    "                new_systems_ase.append(matget2ase.get_atoms(obj_with_vacancy))\n",
    "                n += 1\n",
    "                temporary.append(obj_with_vacancy.copy())\n",
    "            # Store some data\n",
    "            Nidx = len(temporary)\n",
    "            keys = list(vacancy_info[\"element\"].keys())\n",
    "            idx = rg.choice(Nidx)\n",
    "            temporary = temporary[idx]\n",
    "            key = keys[-Nidx:][idx]\n",
    "            prev_vacancy_el = vacancy_info[\"element\"][key]\n",
    "            prev_vacancy_site = vacancy_info[\"site\"][key]"
   ]
  },
  {
   "cell_type": "markdown",
   "id": "255adf23-bfb2-4b06-8d07-6a46f641d899",
   "metadata": {},
   "source": [
    "Store it"
   ]
  },
  {
   "cell_type": "code",
   "execution_count": 36,
   "id": "0f931d13-988c-409c-b3b5-ec068caac9f0",
   "metadata": {},
   "outputs": [],
   "source": [
    "out_dir = os.path.join(MAIN_DIR_JNB1, CHEM_FORMULA, SUBDIR)\n",
    "make_dir(out_dir)\n",
    "for filename, new_system in new_systems:\n",
    "    new_system.to(fmt=\"cif\", filename=os.path.join(out_dir, filename))"
   ]
  },
  {
   "cell_type": "markdown",
   "id": "3eb62bda-577d-4736-bdd1-905d6f52e949",
   "metadata": {},
   "source": [
    "Save properties"
   ]
  },
  {
   "cell_type": "code",
   "execution_count": 37,
   "id": "2d1ef04c-5223-47ba-8050-10e58f391186",
   "metadata": {},
   "outputs": [
    {
     "data": {
      "text/html": [
       "<div>\n",
       "<style scoped>\n",
       "    .dataframe tbody tr th:only-of-type {\n",
       "        vertical-align: middle;\n",
       "    }\n",
       "\n",
       "    .dataframe tbody tr th {\n",
       "        vertical-align: top;\n",
       "    }\n",
       "\n",
       "    .dataframe thead th {\n",
       "        text-align: right;\n",
       "    }\n",
       "</style>\n",
       "<table border=\"1\" class=\"dataframe\">\n",
       "  <thead>\n",
       "    <tr style=\"text-align: right;\">\n",
       "      <th></th>\n",
       "      <th>vacancy_site</th>\n",
       "      <th>vacancy_element</th>\n",
       "      <th>unitcell_repetition</th>\n",
       "    </tr>\n",
       "  </thead>\n",
       "  <tbody>\n",
       "    <tr>\n",
       "      <th>3.0-0-LiF_Fm-3m_-3.18_nv_1.cif</th>\n",
       "      <td>[[0.0, 0.0, 0.0]]</td>\n",
       "      <td>[Li]</td>\n",
       "      <td>4</td>\n",
       "    </tr>\n",
       "    <tr>\n",
       "      <th>3.1-0-LiF_Fm-3m_-3.18_nv_1.cif</th>\n",
       "      <td>[[1.6670525006439094, 1.1787841277992999, 2.88...</td>\n",
       "      <td>[F]</td>\n",
       "      <td>4</td>\n",
       "    </tr>\n",
       "    <tr>\n",
       "      <th>3.2-0-LiF_Fm-3m_-3.18_nv_2.cif</th>\n",
       "      <td>[[1.6670525006439094, 1.1787841277992999, 2.88...</td>\n",
       "      <td>[F, Li]</td>\n",
       "      <td>4</td>\n",
       "    </tr>\n",
       "    <tr>\n",
       "      <th>3.3-0-LiF_Fm-3m_-3.18_nv_2.cif</th>\n",
       "      <td>[[1.6670525006439094, 1.1787841277992999, 2.88...</td>\n",
       "      <td>[F, F]</td>\n",
       "      <td>4</td>\n",
       "    </tr>\n",
       "    <tr>\n",
       "      <th>3.4-0-LiF_Fm-3m_-3.18_nv_3.cif</th>\n",
       "      <td>[[1.6670525006439094, 1.1787841277992999, 2.88...</td>\n",
       "      <td>[F, Li, Li]</td>\n",
       "      <td>4</td>\n",
       "    </tr>\n",
       "  </tbody>\n",
       "</table>\n",
       "</div>"
      ],
      "text/plain": [
       "                                                                     vacancy_site  \\\n",
       "3.0-0-LiF_Fm-3m_-3.18_nv_1.cif                                  [[0.0, 0.0, 0.0]]   \n",
       "3.1-0-LiF_Fm-3m_-3.18_nv_1.cif  [[1.6670525006439094, 1.1787841277992999, 2.88...   \n",
       "3.2-0-LiF_Fm-3m_-3.18_nv_2.cif  [[1.6670525006439094, 1.1787841277992999, 2.88...   \n",
       "3.3-0-LiF_Fm-3m_-3.18_nv_2.cif  [[1.6670525006439094, 1.1787841277992999, 2.88...   \n",
       "3.4-0-LiF_Fm-3m_-3.18_nv_3.cif  [[1.6670525006439094, 1.1787841277992999, 2.88...   \n",
       "\n",
       "                               vacancy_element unitcell_repetition  \n",
       "3.0-0-LiF_Fm-3m_-3.18_nv_1.cif            [Li]                   4  \n",
       "3.1-0-LiF_Fm-3m_-3.18_nv_1.cif             [F]                   4  \n",
       "3.2-0-LiF_Fm-3m_-3.18_nv_2.cif         [F, Li]                   4  \n",
       "3.3-0-LiF_Fm-3m_-3.18_nv_2.cif          [F, F]                   4  \n",
       "3.4-0-LiF_Fm-3m_-3.18_nv_3.cif     [F, Li, Li]                   4  "
      ]
     },
     "execution_count": 37,
     "metadata": {},
     "output_type": "execute_result"
    }
   ],
   "source": [
    "file_name = list(vacancy_info[\"element\"].keys())\n",
    "info_df = pd.DataFrame(index=file_name, columns=[\"vacancy_site\", \"vacancy_element\", \"unitcell_repetition\"])\n",
    "for file_name_ in file_name:\n",
    "    info_df.loc[file_name_, \"unitcell_repetition\"] = vacancy_info[\"unitcell_repetition\"][file_name_]\n",
    "    info_df.loc[file_name_, \"vacancy_site\"] = vacancy_info[\"site\"][file_name_]\n",
    "    info_df.loc[file_name_, \"vacancy_element\"] = vacancy_info[\"element\"][file_name_]\n",
    "info_df.to_json(os.path.join(out_dir, \"info.json\"))\n",
    "info_df.head()"
   ]
  },
  {
   "cell_type": "code",
   "execution_count": 38,
   "id": "7243e27e-38bd-41f9-a716-8b9a1389d69e",
   "metadata": {},
   "outputs": [
    {
     "data": {
      "application/vnd.jupyter.widget-view+json": {
       "model_id": "3e743fb9d1f5457f999696e64fe08f3d",
       "version_major": 2,
       "version_minor": 0
      },
      "text/plain": [
       "HBox(children=(NGLWidget(max_frame=37), VBox(children=(Dropdown(description='Show', options=('All', 'F', 'Li')…"
      ]
     },
     "execution_count": 38,
     "metadata": {},
     "output_type": "execute_result"
    }
   ],
   "source": [
    "view(new_systems_ase, viewer=\"ngl\")"
   ]
  },
  {
   "attachments": {},
   "cell_type": "markdown",
   "id": "d3bd7234-5e8f-4cc1-a305-59b029bba6bb",
   "metadata": {
    "tags": []
   },
   "source": [
    "## Substitution <a id='substitution'></a>"
   ]
  },
  {
   "cell_type": "code",
   "execution_count": 39,
   "id": "5734765d-9851-4102-9f79-6d1c204bf608",
   "metadata": {},
   "outputs": [],
   "source": [
    "SUBDIR = \"4-substitutions\"\n",
    "SUB_TRAINSET_ID = 4"
   ]
  },
  {
   "cell_type": "markdown",
   "id": "42015aac-488c-43be-bc20-02086f1d01b8",
   "metadata": {},
   "source": [
    "Load structure"
   ]
  },
  {
   "cell_type": "code",
   "execution_count": 40,
   "id": "b2092822-e075-4f4c-9e5a-1244d8e9feaf",
   "metadata": {},
   "outputs": [
    {
     "name": "stderr",
     "output_type": "stream",
     "text": [
      "/home/paolo/Enhancing_ReaxFF/venv/lib/python3.8/site-packages/pymatgen/io/cif.py:1134: UserWarning: Issues encountered while parsing CIF: Some fractional coordinates rounded to ideal values to avoid issues with finite precision.\n",
      "  warnings.warn(\"Issues encountered while parsing CIF: \" + \"\\n\".join(self.warnings))\n"
     ]
    }
   ],
   "source": [
    "systems = load_cifs(MP_CIF_DIR)"
   ]
  },
  {
   "cell_type": "markdown",
   "id": "5379149b-2b32-4ac5-bab8-d99f4f325d98",
   "metadata": {},
   "source": [
    "Random substitue a Atom in 2x2x2 supercell"
   ]
  },
  {
   "cell_type": "code",
   "execution_count": 41,
   "id": "38db4431-ba64-473a-bc5e-ef8a338d474f",
   "metadata": {},
   "outputs": [],
   "source": [
    "supercell_scale = [[2, 2, 1]]\n",
    "max_substitution = 8\n",
    "substitution_info = {\"site\": {}, \"element\": {}, \"unitcell_repetition\": {}}\n",
    "new_systems = []\n",
    "new_systems_ase = []\n",
    "\n",
    "for i, (name, syst_, syst_ase_) in enumerate(systems):\n",
    "    n = 0\n",
    "    for scale in supercell_scale:\n",
    "        supercell = syst_.copy()\n",
    "        supercell.make_supercell([scale[0], scale[1], scale[2]])\n",
    "        temporary = supercell.copy()\n",
    "        prev_substitution_el = []\n",
    "        prev_substitution_site = []\n",
    "        for ns in range(max_substitution):\n",
    "            substitution_gen = SubstitutionGenerator().generate(temporary, substitution={\"Li\": \"F\", \"F\": \"Li\"})\n",
    "            filename = f\"{SUB_TRAINSET_ID}.{n}-{i}-{name}_ns_{ns+1}.cif\"\n",
    "            sub_site = list(substitution_gen)\n",
    "            n_sub_site = len(sub_site)\n",
    "            idx = rg.choice(n_sub_site)\n",
    "            sub_site = sub_site[idx]\n",
    "            substitution_info[\"element\"][filename] = prev_substitution_el + [sub_site.site.species_string]\n",
    "            substitution_info[\"site\"][filename] = prev_substitution_site + [sub_site.site.coords]\n",
    "            substitution_info[\"unitcell_repetition\"][filename] = np.prod(scale)\n",
    "            obj_with_substitution = sub_site.defect_structure.copy()\n",
    "            new_systems.append((filename, obj_with_substitution.copy()))\n",
    "            new_systems_ase.append(matget2ase.get_atoms(obj_with_substitution))\n",
    "            prev_substitution_el = substitution_info[\"element\"][filename]\n",
    "            prev_substitution_site = substitution_info[\"site\"][filename]\n",
    "            temporary = obj_with_substitution.copy()\n",
    "            n += 1"
   ]
  },
  {
   "cell_type": "markdown",
   "id": "592e53d3-5546-4071-92d6-f7863179543f",
   "metadata": {},
   "source": [
    "Store it"
   ]
  },
  {
   "cell_type": "code",
   "execution_count": 42,
   "id": "6bfe1df5-138f-48d6-ae8c-7872a440fd8c",
   "metadata": {},
   "outputs": [],
   "source": [
    "out_dir = os.path.join(MAIN_DIR_JNB1, CHEM_FORMULA, SUBDIR)\n",
    "make_dir(out_dir)\n",
    "for filename, new_system in new_systems:\n",
    "    new_system.to(fmt=\"cif\", filename=os.path.join(out_dir, filename))"
   ]
  },
  {
   "cell_type": "markdown",
   "id": "12fec1cf-f09d-4562-b3f0-f56bdfaf611f",
   "metadata": {},
   "source": [
    "Save properties"
   ]
  },
  {
   "cell_type": "code",
   "execution_count": 43,
   "id": "14d8bac0-2e0f-40ea-a825-5759be2a06c4",
   "metadata": {},
   "outputs": [
    {
     "data": {
      "text/html": [
       "<div>\n",
       "<style scoped>\n",
       "    .dataframe tbody tr th:only-of-type {\n",
       "        vertical-align: middle;\n",
       "    }\n",
       "\n",
       "    .dataframe tbody tr th {\n",
       "        vertical-align: top;\n",
       "    }\n",
       "\n",
       "    .dataframe thead th {\n",
       "        text-align: right;\n",
       "    }\n",
       "</style>\n",
       "<table border=\"1\" class=\"dataframe\">\n",
       "  <thead>\n",
       "    <tr style=\"text-align: right;\">\n",
       "      <th></th>\n",
       "      <th>substitution_site</th>\n",
       "      <th>substitution_element</th>\n",
       "      <th>unitcell_repetition</th>\n",
       "    </tr>\n",
       "  </thead>\n",
       "  <tbody>\n",
       "    <tr>\n",
       "      <th>4.0-0-LiF_Fm-3m_-3.18_ns_1.cif</th>\n",
       "      <td>[[0.0, 0.0, 0.0]]</td>\n",
       "      <td>[F]</td>\n",
       "      <td>4</td>\n",
       "    </tr>\n",
       "    <tr>\n",
       "      <th>4.1-0-LiF_Fm-3m_-3.18_ns_2.cif</th>\n",
       "      <td>[[0.0, 0.0, 0.0], [0.833526250321955, 2.357568...</td>\n",
       "      <td>[F, F]</td>\n",
       "      <td>4</td>\n",
       "    </tr>\n",
       "    <tr>\n",
       "      <th>4.2-0-LiF_Fm-3m_-3.18_ns_3.cif</th>\n",
       "      <td>[[0.0, 0.0, 0.0], [0.833526250321955, 2.357568...</td>\n",
       "      <td>[F, F, Li]</td>\n",
       "      <td>4</td>\n",
       "    </tr>\n",
       "    <tr>\n",
       "      <th>4.3-0-LiF_Fm-3m_-3.18_ns_4.cif</th>\n",
       "      <td>[[0.0, 0.0, 0.0], [0.833526250321955, 2.357568...</td>\n",
       "      <td>[F, F, Li, F]</td>\n",
       "      <td>4</td>\n",
       "    </tr>\n",
       "    <tr>\n",
       "      <th>4.4-0-LiF_Fm-3m_-3.18_ns_5.cif</th>\n",
       "      <td>[[0.0, 0.0, 0.0], [0.833526250321955, 2.357568...</td>\n",
       "      <td>[F, F, Li, F, F]</td>\n",
       "      <td>4</td>\n",
       "    </tr>\n",
       "  </tbody>\n",
       "</table>\n",
       "</div>"
      ],
      "text/plain": [
       "                                                                substitution_site  \\\n",
       "4.0-0-LiF_Fm-3m_-3.18_ns_1.cif                                  [[0.0, 0.0, 0.0]]   \n",
       "4.1-0-LiF_Fm-3m_-3.18_ns_2.cif  [[0.0, 0.0, 0.0], [0.833526250321955, 2.357568...   \n",
       "4.2-0-LiF_Fm-3m_-3.18_ns_3.cif  [[0.0, 0.0, 0.0], [0.833526250321955, 2.357568...   \n",
       "4.3-0-LiF_Fm-3m_-3.18_ns_4.cif  [[0.0, 0.0, 0.0], [0.833526250321955, 2.357568...   \n",
       "4.4-0-LiF_Fm-3m_-3.18_ns_5.cif  [[0.0, 0.0, 0.0], [0.833526250321955, 2.357568...   \n",
       "\n",
       "                               substitution_element unitcell_repetition  \n",
       "4.0-0-LiF_Fm-3m_-3.18_ns_1.cif                  [F]                   4  \n",
       "4.1-0-LiF_Fm-3m_-3.18_ns_2.cif               [F, F]                   4  \n",
       "4.2-0-LiF_Fm-3m_-3.18_ns_3.cif           [F, F, Li]                   4  \n",
       "4.3-0-LiF_Fm-3m_-3.18_ns_4.cif        [F, F, Li, F]                   4  \n",
       "4.4-0-LiF_Fm-3m_-3.18_ns_5.cif     [F, F, Li, F, F]                   4  "
      ]
     },
     "execution_count": 43,
     "metadata": {},
     "output_type": "execute_result"
    }
   ],
   "source": [
    "file_name = list(substitution_info[\"element\"].keys())\n",
    "info_df = pd.DataFrame(index=file_name, columns=[\"substitution_site\", \"substitution_element\", \"unitcell_repetition\"])\n",
    "for file_name_ in file_name:\n",
    "    info_df.loc[file_name_, \"unitcell_repetition\"] = substitution_info[\"unitcell_repetition\"][file_name_]\n",
    "    info_df.loc[file_name_, \"substitution_site\"] = substitution_info[\"site\"][file_name_]\n",
    "    info_df.loc[file_name_, \"substitution_element\"] = substitution_info[\"element\"][file_name_]\n",
    "info_df.to_json(os.path.join(out_dir, \"info.json\"))\n",
    "info_df.head()"
   ]
  },
  {
   "cell_type": "code",
   "execution_count": 44,
   "id": "ca1b4bac-4ffe-4c33-9d2b-948b8c589ec2",
   "metadata": {},
   "outputs": [],
   "source": [
    "v = view(new_systems_ase, viewer=\"ngl\")"
   ]
  },
  {
   "attachments": {},
   "cell_type": "markdown",
   "id": "913a4404-084d-4ca4-9bac-04a6330bd15f",
   "metadata": {
    "tags": []
   },
   "source": [
    "## Interstitial <a id='interstitial'></a>"
   ]
  },
  {
   "cell_type": "code",
   "execution_count": 45,
   "id": "8f1ef7b9-807c-4f65-b815-c3e813b8fd6d",
   "metadata": {},
   "outputs": [],
   "source": [
    "SUBDIR = \"5-interstitial\"\n",
    "SUB_TRAINSET_ID = 5"
   ]
  },
  {
   "cell_type": "markdown",
   "id": "e9a00c2e-f34f-4414-aa8d-189a6e3d9bf5",
   "metadata": {},
   "source": [
    "Load structure"
   ]
  },
  {
   "cell_type": "code",
   "execution_count": 46,
   "id": "f6cbf7a9-1d03-44a5-ba44-5a0f41329409",
   "metadata": {},
   "outputs": [
    {
     "name": "stderr",
     "output_type": "stream",
     "text": [
      "/home/paolo/Enhancing_ReaxFF/venv/lib/python3.8/site-packages/pymatgen/io/cif.py:1134: UserWarning: Issues encountered while parsing CIF: Some fractional coordinates rounded to ideal values to avoid issues with finite precision.\n",
      "  warnings.warn(\"Issues encountered while parsing CIF: \" + \"\\n\".join(self.warnings))\n"
     ]
    }
   ],
   "source": [
    "systems = load_cifs(MP_CIF_DIR)"
   ]
  },
  {
   "cell_type": "markdown",
   "id": "be1278f8-c189-45b5-9ddf-cad1be347de9",
   "metadata": {},
   "source": [
    "Random substitue a Atom in 2x2x2 supercell"
   ]
  },
  {
   "cell_type": "code",
   "execution_count": 47,
   "id": "ae33cb84-f08d-4cc8-86de-2e0f80938bd9",
   "metadata": {},
   "outputs": [],
   "source": [
    "pcg64 = PCG64(seed=SEED + SUB_TRAINSET_ID)\n",
    "rg = Generator(pcg64)\n",
    "\n",
    "supercell_scale = [[2, 2, 1]]\n",
    "N_interstitial = np.arange(7)\n",
    "interstitial_info = {\"site\": {}, \"element\": {}, \"unitcell_repetition\": {}}\n",
    "new_systems = []\n",
    "new_systems_ase = []\n",
    "\n",
    "for i, (name, syst_, syst_ase_) in enumerate(systems):\n",
    "    n = 0\n",
    "    for scale in supercell_scale:\n",
    "        lattice = syst_.lattice\n",
    "        supercell = syst_.copy()\n",
    "        interstitial_gen = VoronoiInterstitialGenerator().generate(syst_, insert_species=[\"Li\"])\n",
    "        sites = list(interstitial_gen)\n",
    "        r_sites = get_all_sites(sites, lattice, supercell=scale)\n",
    "        rg.shuffle(r_sites, axis=0)\n",
    "        supercell.make_supercell(scale)\n",
    "        temporary = supercell.copy()\n",
    "        prev_interstitial_el = []\n",
    "        prev_interstitial_site = []\n",
    "        for ni in N_interstitial:\n",
    "            filename = f\"{SUB_TRAINSET_ID}.{n}-{i}-{name}_ni_{ni}.cif\"\n",
    "            if ni == 0:\n",
    "                interstitial_info[\"element\"][filename] = []\n",
    "                interstitial_info[\"site\"][filename] = []\n",
    "                interstitial_info[\"unitcell_repetition\"][filename] = np.prod(scale)\n",
    "            else:\n",
    "                n_sites = len(r_sites)\n",
    "                if n_sites > 0:\n",
    "                    idx = rg.choice(n_sites)\n",
    "                    intestitial_r = r_sites.pop(idx)\n",
    "                    interstitial_info[\"element\"][filename] = prev_interstitial_el + [\"Li\"]\n",
    "                    interstitial_info[\"site\"][filename] = prev_interstitial_site + [intestitial_r]\n",
    "                    interstitial_info[\"unitcell_repetition\"][filename] = np.prod(scale)\n",
    "                    temporary.append(\"Li\", intestitial_r, coords_are_cartesian=True)\n",
    "                    temporary.set_charge(0.0)\n",
    "                else:\n",
    "                    continue\n",
    "            new_systems.append((filename, temporary.copy()))\n",
    "            new_systems_ase.append(matget2ase.get_atoms(temporary))\n",
    "            prev_interstitial_el = interstitial_info[\"element\"][filename]\n",
    "            prev_interstitial_site = interstitial_info[\"site\"][filename]\n",
    "            n += 1"
   ]
  },
  {
   "cell_type": "markdown",
   "id": "ddf1f49f-396a-42fc-af70-f418e8250337",
   "metadata": {},
   "source": [
    "Store it"
   ]
  },
  {
   "cell_type": "code",
   "execution_count": 48,
   "id": "af3e5b59-4cca-48b3-a921-0fdb3aad6539",
   "metadata": {},
   "outputs": [],
   "source": [
    "out_dir = os.path.join(MAIN_DIR_JNB1, CHEM_FORMULA, SUBDIR)\n",
    "make_dir(out_dir)\n",
    "for filename, new_system in new_systems:\n",
    "    new_system.to(fmt=\"cif\", filename=os.path.join(out_dir, filename))"
   ]
  },
  {
   "cell_type": "markdown",
   "id": "c893a8e2-68f3-4f0e-8a4b-d481a120f8b5",
   "metadata": {},
   "source": [
    "Save properties"
   ]
  },
  {
   "cell_type": "code",
   "execution_count": 49,
   "id": "aeb5932f-aa93-46f8-9460-7a396f1eea43",
   "metadata": {},
   "outputs": [
    {
     "data": {
      "text/html": [
       "<div>\n",
       "<style scoped>\n",
       "    .dataframe tbody tr th:only-of-type {\n",
       "        vertical-align: middle;\n",
       "    }\n",
       "\n",
       "    .dataframe tbody tr th {\n",
       "        vertical-align: top;\n",
       "    }\n",
       "\n",
       "    .dataframe thead th {\n",
       "        text-align: right;\n",
       "    }\n",
       "</style>\n",
       "<table border=\"1\" class=\"dataframe\">\n",
       "  <thead>\n",
       "    <tr style=\"text-align: right;\">\n",
       "      <th></th>\n",
       "      <th>unitcell_repetition</th>\n",
       "      <th>interstitial_site</th>\n",
       "      <th>interstitial_element</th>\n",
       "    </tr>\n",
       "  </thead>\n",
       "  <tbody>\n",
       "    <tr>\n",
       "      <th>5.0-0-LiF_Fm-3m_-3.18_ni_0.cif</th>\n",
       "      <td>4</td>\n",
       "      <td>[]</td>\n",
       "      <td>[]</td>\n",
       "    </tr>\n",
       "    <tr>\n",
       "      <th>5.1-0-LiF_Fm-3m_-3.18_ni_1.cif</th>\n",
       "      <td>4</td>\n",
       "      <td>[[0.833526250321955, 0.5893920638996494, 1.443...</td>\n",
       "      <td>[Li]</td>\n",
       "    </tr>\n",
       "    <tr>\n",
       "      <th>5.2-0-LiF_Fm-3m_-3.18_ni_2.cif</th>\n",
       "      <td>4</td>\n",
       "      <td>[[0.833526250321955, 0.5893920638996494, 1.443...</td>\n",
       "      <td>[Li, Li]</td>\n",
       "    </tr>\n",
       "    <tr>\n",
       "      <th>5.3-0-LiF_Fm-3m_-3.18_ni_3.cif</th>\n",
       "      <td>4</td>\n",
       "      <td>[[0.833526250321955, 0.5893920638996494, 1.443...</td>\n",
       "      <td>[Li, Li, Li]</td>\n",
       "    </tr>\n",
       "    <tr>\n",
       "      <th>5.4-0-LiF_Fm-3m_-3.18_ni_4.cif</th>\n",
       "      <td>4</td>\n",
       "      <td>[[0.833526250321955, 0.5893920638996494, 1.443...</td>\n",
       "      <td>[Li, Li, Li, Li]</td>\n",
       "    </tr>\n",
       "  </tbody>\n",
       "</table>\n",
       "</div>"
      ],
      "text/plain": [
       "                               unitcell_repetition  \\\n",
       "5.0-0-LiF_Fm-3m_-3.18_ni_0.cif                   4   \n",
       "5.1-0-LiF_Fm-3m_-3.18_ni_1.cif                   4   \n",
       "5.2-0-LiF_Fm-3m_-3.18_ni_2.cif                   4   \n",
       "5.3-0-LiF_Fm-3m_-3.18_ni_3.cif                   4   \n",
       "5.4-0-LiF_Fm-3m_-3.18_ni_4.cif                   4   \n",
       "\n",
       "                                                                interstitial_site  \\\n",
       "5.0-0-LiF_Fm-3m_-3.18_ni_0.cif                                                 []   \n",
       "5.1-0-LiF_Fm-3m_-3.18_ni_1.cif  [[0.833526250321955, 0.5893920638996494, 1.443...   \n",
       "5.2-0-LiF_Fm-3m_-3.18_ni_2.cif  [[0.833526250321955, 0.5893920638996494, 1.443...   \n",
       "5.3-0-LiF_Fm-3m_-3.18_ni_3.cif  [[0.833526250321955, 0.5893920638996494, 1.443...   \n",
       "5.4-0-LiF_Fm-3m_-3.18_ni_4.cif  [[0.833526250321955, 0.5893920638996494, 1.443...   \n",
       "\n",
       "                               interstitial_element  \n",
       "5.0-0-LiF_Fm-3m_-3.18_ni_0.cif                   []  \n",
       "5.1-0-LiF_Fm-3m_-3.18_ni_1.cif                 [Li]  \n",
       "5.2-0-LiF_Fm-3m_-3.18_ni_2.cif             [Li, Li]  \n",
       "5.3-0-LiF_Fm-3m_-3.18_ni_3.cif         [Li, Li, Li]  \n",
       "5.4-0-LiF_Fm-3m_-3.18_ni_4.cif     [Li, Li, Li, Li]  "
      ]
     },
     "execution_count": 49,
     "metadata": {},
     "output_type": "execute_result"
    }
   ],
   "source": [
    "file_name = list(interstitial_info[\"element\"].keys())\n",
    "info_df = pd.DataFrame(index=file_name, columns=[\"unitcell_repetition\", \"interstitial_site\", \"interstitial_element\"])\n",
    "for file_name_ in file_name:\n",
    "    info_df.loc[file_name_, \"interstitial_site\"] = interstitial_info[\"site\"][file_name_]\n",
    "    info_df.loc[file_name_, \"interstitial_element\"] = interstitial_info[\"element\"][file_name_]\n",
    "    info_df.loc[file_name_, \"unitcell_repetition\"] = interstitial_info[\"unitcell_repetition\"][file_name_]\n",
    "info_df.to_json(os.path.join(out_dir, \"info.json\"))\n",
    "info_df.head()"
   ]
  },
  {
   "cell_type": "code",
   "execution_count": 50,
   "id": "b1090240-676e-4982-beb0-a83ed51df616",
   "metadata": {},
   "outputs": [
    {
     "data": {
      "application/vnd.jupyter.widget-view+json": {
       "model_id": "9195aadf6ccb42c896eaffdd92c1af40",
       "version_major": 2,
       "version_minor": 0
      },
      "text/plain": [
       "HBox(children=(NGLWidget(max_frame=16), VBox(children=(Dropdown(description='Show', options=('All', 'F', 'Li')…"
      ]
     },
     "execution_count": 50,
     "metadata": {},
     "output_type": "execute_result"
    }
   ],
   "source": [
    "view(new_systems_ase, viewer=\"ngl\")"
   ]
  },
  {
   "attachments": {},
   "cell_type": "markdown",
   "id": "573974bb-eff9-468e-86b8-134cea420972",
   "metadata": {
    "tags": []
   },
   "source": [
    "## Slabs <a id='slabs'></a>"
   ]
  },
  {
   "cell_type": "code",
   "execution_count": 51,
   "id": "0b3de943-57e7-409a-bde0-ac8055f597a1",
   "metadata": {},
   "outputs": [],
   "source": [
    "SUBDIR = \"6-slabs\"\n",
    "SUB_TRAINSET_ID = 6"
   ]
  },
  {
   "cell_type": "markdown",
   "id": "0666f782-0d5e-48e8-9305-9756da13ff92",
   "metadata": {},
   "source": [
    "Load structure"
   ]
  },
  {
   "cell_type": "code",
   "execution_count": 52,
   "id": "8301a81e-2102-4568-ac37-06020ce8d8c8",
   "metadata": {},
   "outputs": [
    {
     "name": "stderr",
     "output_type": "stream",
     "text": [
      "/home/paolo/Enhancing_ReaxFF/venv/lib/python3.8/site-packages/pymatgen/io/cif.py:1134: UserWarning: Issues encountered while parsing CIF: Some fractional coordinates rounded to ideal values to avoid issues with finite precision.\n",
      "  warnings.warn(\"Issues encountered while parsing CIF: \" + \"\\n\".join(self.warnings))\n"
     ]
    }
   ],
   "source": [
    "systems = load_cifs(MP_CIF_DIR)"
   ]
  },
  {
   "cell_type": "code",
   "execution_count": 53,
   "id": "c360d2f3-8b90-48bb-8d1a-29340dd787f2",
   "metadata": {},
   "outputs": [],
   "source": [
    "supercell_scale = [1, 1, 1]\n",
    "Nslabs = [1, 2, 3]\n",
    "millers = [(0, 0, 1), (0, 1, 0), (1, 0, 0), (0, 1, 1), (1, 0, 1), (1, 1, 0), (1, 1, 1), (1, 1, 2), (1, 2, 1), (2, 1, 1)]\n",
    "min_vacuum_size = 10  # [Ang]\n",
    "slab_info = {\"millers\": {}, \"slabs\": {}}\n",
    "new_systems = []\n",
    "new_systems_ase = []\n",
    "\n",
    "for i, (name, syst_, syst_ase_) in enumerate(systems):\n",
    "    n = 0\n",
    "    for hkl in millers:\n",
    "        for n_slabs in Nslabs:\n",
    "            hkl_str = \"\".join([str(index) for index in hkl])\n",
    "            filename = f\"{SUB_TRAINSET_ID}.{n}-{i}-{name}_{hkl_str}x{n_slabs}.cif\"\n",
    "            lc = syst_.lattice.parameters[3]\n",
    "            vacuum_size = max([int(np.ceil(min_vacuum_size / lc) + 1), 2])\n",
    "            slabgen = SlabGenerator(\n",
    "                syst_,\n",
    "                miller_index=hkl,\n",
    "                min_slab_size=n_slabs,\n",
    "                in_unit_planes=True,\n",
    "                min_vacuum_size=vacuum_size,\n",
    "                lll_reduce=False,\n",
    "                center_slab=True,\n",
    "            )\n",
    "            slab = slabgen.get_slab()\n",
    "            slab.make_supercell(supercell_scale)\n",
    "            slab_info[\"millers\"][filename] = hkl\n",
    "            slab_info[\"slabs\"][filename] = n_slabs\n",
    "            new_systems.append((filename, slab.copy()))\n",
    "            new_systems_ase.append(matget2ase.get_atoms(slab.copy()))\n",
    "            n += 1"
   ]
  },
  {
   "cell_type": "markdown",
   "id": "2283d13f-42c3-40db-b450-92014ee8f06b",
   "metadata": {},
   "source": [
    "Store it"
   ]
  },
  {
   "cell_type": "code",
   "execution_count": 54,
   "id": "07e8640b-35c6-473f-9fc3-3382c043163f",
   "metadata": {},
   "outputs": [],
   "source": [
    "out_dir = os.path.join(MAIN_DIR_JNB1, CHEM_FORMULA, SUBDIR)\n",
    "make_dir(out_dir)\n",
    "for filename, new_system in new_systems:\n",
    "    new_system.to(fmt=\"cif\", filename=os.path.join(out_dir, filename))"
   ]
  },
  {
   "cell_type": "markdown",
   "id": "ab82683a-7d33-4599-8842-e4124ad3bb40",
   "metadata": {},
   "source": [
    "Save properties"
   ]
  },
  {
   "cell_type": "code",
   "execution_count": 55,
   "id": "50bb7571-ed7e-4f35-89cb-335f2d03ec9a",
   "metadata": {},
   "outputs": [
    {
     "data": {
      "text/html": [
       "<div>\n",
       "<style scoped>\n",
       "    .dataframe tbody tr th:only-of-type {\n",
       "        vertical-align: middle;\n",
       "    }\n",
       "\n",
       "    .dataframe tbody tr th {\n",
       "        vertical-align: top;\n",
       "    }\n",
       "\n",
       "    .dataframe thead th {\n",
       "        text-align: right;\n",
       "    }\n",
       "</style>\n",
       "<table border=\"1\" class=\"dataframe\">\n",
       "  <thead>\n",
       "    <tr style=\"text-align: right;\">\n",
       "      <th></th>\n",
       "      <th>millers</th>\n",
       "      <th>slabs</th>\n",
       "    </tr>\n",
       "  </thead>\n",
       "  <tbody>\n",
       "    <tr>\n",
       "      <th>6.0-0-LiF_Fm-3m_-3.18_001x1.cif</th>\n",
       "      <td>(0, 0, 1)</td>\n",
       "      <td>1</td>\n",
       "    </tr>\n",
       "    <tr>\n",
       "      <th>6.1-0-LiF_Fm-3m_-3.18_001x2.cif</th>\n",
       "      <td>(0, 0, 1)</td>\n",
       "      <td>2</td>\n",
       "    </tr>\n",
       "    <tr>\n",
       "      <th>6.2-0-LiF_Fm-3m_-3.18_001x3.cif</th>\n",
       "      <td>(0, 0, 1)</td>\n",
       "      <td>3</td>\n",
       "    </tr>\n",
       "    <tr>\n",
       "      <th>6.3-0-LiF_Fm-3m_-3.18_010x1.cif</th>\n",
       "      <td>(0, 1, 0)</td>\n",
       "      <td>1</td>\n",
       "    </tr>\n",
       "    <tr>\n",
       "      <th>6.4-0-LiF_Fm-3m_-3.18_010x2.cif</th>\n",
       "      <td>(0, 1, 0)</td>\n",
       "      <td>2</td>\n",
       "    </tr>\n",
       "  </tbody>\n",
       "</table>\n",
       "</div>"
      ],
      "text/plain": [
       "                                   millers slabs\n",
       "6.0-0-LiF_Fm-3m_-3.18_001x1.cif  (0, 0, 1)     1\n",
       "6.1-0-LiF_Fm-3m_-3.18_001x2.cif  (0, 0, 1)     2\n",
       "6.2-0-LiF_Fm-3m_-3.18_001x3.cif  (0, 0, 1)     3\n",
       "6.3-0-LiF_Fm-3m_-3.18_010x1.cif  (0, 1, 0)     1\n",
       "6.4-0-LiF_Fm-3m_-3.18_010x2.cif  (0, 1, 0)     2"
      ]
     },
     "execution_count": 55,
     "metadata": {},
     "output_type": "execute_result"
    }
   ],
   "source": [
    "file_name = list(slab_info[\"millers\"].keys())\n",
    "info_df = pd.DataFrame(index=file_name, columns=[\"millers\", \"slabs\"])\n",
    "for file_name_ in file_name:\n",
    "    info_df.loc[file_name_, \"millers\"] = slab_info[\"millers\"][file_name_]\n",
    "    info_df.loc[file_name_, \"slabs\"] = slab_info[\"slabs\"][file_name_]\n",
    "info_df.to_json(os.path.join(out_dir, \"info.json\"))\n",
    "info_df.head()"
   ]
  },
  {
   "cell_type": "code",
   "execution_count": 56,
   "id": "ac3cab2a-d99e-4d2c-825f-469493fb1be2",
   "metadata": {},
   "outputs": [
    {
     "data": {
      "application/vnd.jupyter.widget-view+json": {
       "model_id": "1c23d9c5660543fd92509bbdb72ea038",
       "version_major": 2,
       "version_minor": 0
      },
      "text/plain": [
       "HBox(children=(NGLWidget(max_frame=89), VBox(children=(Dropdown(description='Show', options=('All', 'F', 'Li')…"
      ]
     },
     "execution_count": 56,
     "metadata": {},
     "output_type": "execute_result"
    }
   ],
   "source": [
    "view(new_systems_ase, viewer=\"ngl\")"
   ]
  },
  {
   "attachments": {},
   "cell_type": "markdown",
   "id": "efa1182b",
   "metadata": {},
   "source": [
    "## Initial configurationf for *ab intio* MD (DFTB) simulations <a id='ic_ab_initio'></a>"
   ]
  },
  {
   "attachments": {},
   "cell_type": "markdown",
   "id": "d4a04ded",
   "metadata": {},
   "source": [
    "In this section, we initialize a 2x2x2 supercell, which will be used for *ab initio* Density Functional Tight Binding (DFTB) simulations. Frames will be extracted from this supercell and included in the database."
   ]
  },
  {
   "attachments": {},
   "cell_type": "markdown",
   "id": "d9335f0c-1c66-4e0c-b86f-5a3995429be1",
   "metadata": {},
   "source": [
    "### Amorphous bulk  <a id='amorphous_bulk '></a>"
   ]
  },
  {
   "cell_type": "code",
   "execution_count": 57,
   "id": "1df844b9-a789-49ae-811d-1727092fe4ab",
   "metadata": {},
   "outputs": [],
   "source": [
    "SUBDIR = \"7-amorphous\"\n",
    "SUB_TRAINSET_ID = 7"
   ]
  },
  {
   "cell_type": "markdown",
   "id": "3e455add-b6f6-48f8-a6b2-6eba262bbe34",
   "metadata": {},
   "source": [
    "Load structure"
   ]
  },
  {
   "cell_type": "code",
   "execution_count": 58,
   "id": "839580af-3221-4c38-8e86-326358f3faee",
   "metadata": {},
   "outputs": [
    {
     "name": "stderr",
     "output_type": "stream",
     "text": [
      "/home/paolo/Enhancing_ReaxFF/venv/lib/python3.8/site-packages/pymatgen/io/cif.py:1134: UserWarning: Issues encountered while parsing CIF: Some fractional coordinates rounded to ideal values to avoid issues with finite precision.\n",
      "  warnings.warn(\"Issues encountered while parsing CIF: \" + \"\\n\".join(self.warnings))\n"
     ]
    }
   ],
   "source": [
    "systems = load_cifs(MP_CIF_DIR)"
   ]
  },
  {
   "cell_type": "code",
   "execution_count": 59,
   "id": "5540e656-e92f-4a02-b1bc-fa02827f24c6",
   "metadata": {},
   "outputs": [],
   "source": [
    "supercell_scale = [[2, 2, 2]]\n",
    "min_vacuum_size = 10  # [Ang]\n",
    "supercell_info = {}\n",
    "new_systems = []\n",
    "new_systems_ase = []\n",
    "\n",
    "for i, (name, syst_, syst_ase_) in enumerate(systems):\n",
    "    n = 0\n",
    "    for scale in supercell_scale:\n",
    "        supercell = syst_.copy()\n",
    "        filename = f\"{SUB_TRAINSET_ID}.{n}-{i}-{name}_{scale[0]}x{scale[1]}x{scale[2]}.cif\"\n",
    "        supercell_info[filename] = scale[0] * scale[1] * scale[2]\n",
    "        supercell.make_supercell(scale)\n",
    "        new_systems.append((filename, supercell.copy()))\n",
    "        new_systems_ase.append(matget2ase.get_atoms(supercell))\n",
    "        n += 1"
   ]
  },
  {
   "cell_type": "markdown",
   "id": "df3d259c-b94d-4b29-b87c-b4c6d8be49b6",
   "metadata": {},
   "source": [
    "Store it"
   ]
  },
  {
   "cell_type": "code",
   "execution_count": 60,
   "id": "9e445c13-dd39-43c9-a4cd-eda1c43fae09",
   "metadata": {},
   "outputs": [],
   "source": [
    "out_dir = os.path.join(MAIN_DIR_JNB1, CHEM_FORMULA, SUBDIR)\n",
    "make_dir(out_dir)\n",
    "for filename, new_system in new_systems:\n",
    "    new_system.to(fmt=\"cif\", filename=os.path.join(out_dir, filename))"
   ]
  },
  {
   "cell_type": "markdown",
   "id": "626fdf69-a00e-4f17-bc8a-f5b83e671f92",
   "metadata": {},
   "source": [
    "Save properties"
   ]
  },
  {
   "cell_type": "code",
   "execution_count": 61,
   "id": "e514e6b1-e76d-48a2-b2b7-2b20694b2f9e",
   "metadata": {},
   "outputs": [
    {
     "data": {
      "text/html": [
       "<div>\n",
       "<style scoped>\n",
       "    .dataframe tbody tr th:only-of-type {\n",
       "        vertical-align: middle;\n",
       "    }\n",
       "\n",
       "    .dataframe tbody tr th {\n",
       "        vertical-align: top;\n",
       "    }\n",
       "\n",
       "    .dataframe thead th {\n",
       "        text-align: right;\n",
       "    }\n",
       "</style>\n",
       "<table border=\"1\" class=\"dataframe\">\n",
       "  <thead>\n",
       "    <tr style=\"text-align: right;\">\n",
       "      <th></th>\n",
       "      <th>unitcell_repetition</th>\n",
       "    </tr>\n",
       "  </thead>\n",
       "  <tbody>\n",
       "    <tr>\n",
       "      <th>7.0-0-LiF_Fm-3m_-3.18_2x2x2.cif</th>\n",
       "      <td>8</td>\n",
       "    </tr>\n",
       "    <tr>\n",
       "      <th>7.0-1-LiF_P6_3mc_-3.17_2x2x2.cif</th>\n",
       "      <td>8</td>\n",
       "    </tr>\n",
       "    <tr>\n",
       "      <th>7.0-2-LiF_Pm-3m_-2.89_2x2x2.cif</th>\n",
       "      <td>8</td>\n",
       "    </tr>\n",
       "  </tbody>\n",
       "</table>\n",
       "</div>"
      ],
      "text/plain": [
       "                                 unitcell_repetition\n",
       "7.0-0-LiF_Fm-3m_-3.18_2x2x2.cif                    8\n",
       "7.0-1-LiF_P6_3mc_-3.17_2x2x2.cif                   8\n",
       "7.0-2-LiF_Pm-3m_-2.89_2x2x2.cif                    8"
      ]
     },
     "execution_count": 61,
     "metadata": {},
     "output_type": "execute_result"
    }
   ],
   "source": [
    "file_name = list(supercell_info.keys())\n",
    "info_df = pd.DataFrame(index=file_name, columns=[\"unitcell_repetition\"])\n",
    "for file_name_ in file_name:\n",
    "    info_df.loc[file_name_, \"unitcell_repetition\"] = supercell_info[file_name_]\n",
    "info_df.to_json(os.path.join(out_dir, \"info.json\"))\n",
    "info_df.head()"
   ]
  },
  {
   "cell_type": "code",
   "execution_count": 62,
   "id": "e9bcef57",
   "metadata": {},
   "outputs": [
    {
     "data": {
      "application/vnd.jupyter.widget-view+json": {
       "model_id": "b721e3660d704c70bbb7833796bd73af",
       "version_major": 2,
       "version_minor": 0
      },
      "text/plain": [
       "HBox(children=(NGLWidget(max_frame=2), VBox(children=(Dropdown(description='Show', options=('All', 'F', 'Li'),…"
      ]
     },
     "execution_count": 62,
     "metadata": {},
     "output_type": "execute_result"
    }
   ],
   "source": [
    "view(new_systems_ase, viewer=\"ngl\")"
   ]
  },
  {
   "attachments": {},
   "cell_type": "markdown",
   "id": "78031031-5392-42c5-8b88-4dda4fed3bea",
   "metadata": {
    "tags": []
   },
   "source": [
    "### Bulk at 300 K  <a id='bulk_300'></a>"
   ]
  },
  {
   "cell_type": "code",
   "execution_count": 63,
   "id": "cf5d850f-4f65-4b62-8ba6-fc04722b1e68",
   "metadata": {},
   "outputs": [],
   "source": [
    "SUBDIR = \"8-bulk_300K\"\n",
    "SUB_TRAINSET_ID = 8"
   ]
  },
  {
   "cell_type": "markdown",
   "id": "022668d7-d425-4573-9143-b96f3cb6dc33",
   "metadata": {},
   "source": [
    "Load structure"
   ]
  },
  {
   "cell_type": "code",
   "execution_count": 64,
   "id": "f31f3622-ddcc-417e-af4a-90649ec12f7a",
   "metadata": {},
   "outputs": [
    {
     "name": "stderr",
     "output_type": "stream",
     "text": [
      "/home/paolo/Enhancing_ReaxFF/venv/lib/python3.8/site-packages/pymatgen/io/cif.py:1134: UserWarning: Issues encountered while parsing CIF: Some fractional coordinates rounded to ideal values to avoid issues with finite precision.\n",
      "  warnings.warn(\"Issues encountered while parsing CIF: \" + \"\\n\".join(self.warnings))\n"
     ]
    }
   ],
   "source": [
    "systems = load_cifs(MP_CIF_DIR)"
   ]
  },
  {
   "cell_type": "markdown",
   "id": "824b221f-b85b-4402-bd63-f514a6293ef2",
   "metadata": {},
   "source": [
    "Random substitue a Atom in 2x2x2 supercell"
   ]
  },
  {
   "cell_type": "code",
   "execution_count": 65,
   "id": "03bdc465-0013-440a-b8ac-d057099a699e",
   "metadata": {},
   "outputs": [],
   "source": [
    "supercell_scale = [[2, 2, 2]]\n",
    "min_vacuum_size = 10  # [Ang]\n",
    "supercell_info = {}\n",
    "new_systems = []\n",
    "new_systems_ase = []\n",
    "\n",
    "for i, (name, syst_, syst_ase_) in enumerate(systems):\n",
    "    n = 0\n",
    "    for scale in supercell_scale:\n",
    "        supercell = syst_.copy()\n",
    "        filename = f\"{SUB_TRAINSET_ID}.{n}-{i}-{name}_{scale[0]}x{scale[1]}x{scale[2]}.cif\"\n",
    "        supercell_info[filename] = scale[0] * scale[1] * scale[2]\n",
    "        supercell.make_supercell([scale[0], scale[1], scale[2]])\n",
    "        new_systems.append((filename, supercell.copy()))\n",
    "        new_systems_ase.append(matget2ase.get_atoms(supercell))\n",
    "        n += 1"
   ]
  },
  {
   "cell_type": "markdown",
   "id": "3db8f80d-da91-44b8-9edd-c311c7f1323c",
   "metadata": {},
   "source": [
    "Store it"
   ]
  },
  {
   "cell_type": "code",
   "execution_count": 66,
   "id": "718c6def-02a4-485b-9a9e-5409f6dd8b02",
   "metadata": {},
   "outputs": [],
   "source": [
    "out_dir = os.path.join(MAIN_DIR_JNB1, CHEM_FORMULA, SUBDIR)\n",
    "make_dir(out_dir)\n",
    "for filename, new_system in new_systems:\n",
    "    new_system.to(fmt=\"cif\", filename=os.path.join(out_dir, filename))"
   ]
  },
  {
   "cell_type": "markdown",
   "id": "08bd1d5b-1855-4037-8933-360c260349a1",
   "metadata": {},
   "source": [
    "Save properties"
   ]
  },
  {
   "cell_type": "code",
   "execution_count": 67,
   "id": "fe7b240e-3b85-4a73-94bf-84aa7bf3dd8a",
   "metadata": {},
   "outputs": [
    {
     "data": {
      "text/html": [
       "<div>\n",
       "<style scoped>\n",
       "    .dataframe tbody tr th:only-of-type {\n",
       "        vertical-align: middle;\n",
       "    }\n",
       "\n",
       "    .dataframe tbody tr th {\n",
       "        vertical-align: top;\n",
       "    }\n",
       "\n",
       "    .dataframe thead th {\n",
       "        text-align: right;\n",
       "    }\n",
       "</style>\n",
       "<table border=\"1\" class=\"dataframe\">\n",
       "  <thead>\n",
       "    <tr style=\"text-align: right;\">\n",
       "      <th></th>\n",
       "      <th>unitcell_repetition</th>\n",
       "    </tr>\n",
       "  </thead>\n",
       "  <tbody>\n",
       "    <tr>\n",
       "      <th>8.0-0-LiF_Fm-3m_-3.18_2x2x2.cif</th>\n",
       "      <td>8</td>\n",
       "    </tr>\n",
       "    <tr>\n",
       "      <th>8.0-1-LiF_P6_3mc_-3.17_2x2x2.cif</th>\n",
       "      <td>8</td>\n",
       "    </tr>\n",
       "    <tr>\n",
       "      <th>8.0-2-LiF_Pm-3m_-2.89_2x2x2.cif</th>\n",
       "      <td>8</td>\n",
       "    </tr>\n",
       "  </tbody>\n",
       "</table>\n",
       "</div>"
      ],
      "text/plain": [
       "                                 unitcell_repetition\n",
       "8.0-0-LiF_Fm-3m_-3.18_2x2x2.cif                    8\n",
       "8.0-1-LiF_P6_3mc_-3.17_2x2x2.cif                   8\n",
       "8.0-2-LiF_Pm-3m_-2.89_2x2x2.cif                    8"
      ]
     },
     "execution_count": 67,
     "metadata": {},
     "output_type": "execute_result"
    }
   ],
   "source": [
    "file_name = list(supercell_info.keys())\n",
    "info_df = pd.DataFrame(index=file_name, columns=[\"unitcell_repetition\"])\n",
    "for file_name_ in file_name:\n",
    "    info_df.loc[file_name_, \"unitcell_repetition\"] = supercell_info[file_name_]\n",
    "info_df.to_json(os.path.join(out_dir, \"info.json\"))\n",
    "info_df.head()"
   ]
  },
  {
   "cell_type": "code",
   "execution_count": 68,
   "id": "cc73a6a1-a7dd-4cea-9cca-33dbf21c4d78",
   "metadata": {},
   "outputs": [
    {
     "data": {
      "application/vnd.jupyter.widget-view+json": {
       "model_id": "2c319206e23c44f9b961f9a059bff8e8",
       "version_major": 2,
       "version_minor": 0
      },
      "text/plain": [
       "HBox(children=(NGLWidget(max_frame=2), VBox(children=(Dropdown(description='Show', options=('All', 'F', 'Li'),…"
      ]
     },
     "execution_count": 68,
     "metadata": {},
     "output_type": "execute_result"
    }
   ],
   "source": [
    "view(new_systems_ase, viewer=\"ngl\")"
   ]
  },
  {
   "attachments": {},
   "cell_type": "markdown",
   "id": "3519be27",
   "metadata": {},
   "source": [
    "### Bulk at 500 K  <a id='bulk_500'></a>"
   ]
  },
  {
   "cell_type": "code",
   "execution_count": 69,
   "id": "ade2f021",
   "metadata": {},
   "outputs": [],
   "source": [
    "SUBDIR = \"9-bulk_500K\"\n",
    "SUB_TRAINSET_ID = 9"
   ]
  },
  {
   "cell_type": "markdown",
   "id": "355d6b58",
   "metadata": {},
   "source": [
    "Load structure"
   ]
  },
  {
   "cell_type": "code",
   "execution_count": 70,
   "id": "8b796e4c",
   "metadata": {},
   "outputs": [
    {
     "name": "stderr",
     "output_type": "stream",
     "text": [
      "/home/paolo/Enhancing_ReaxFF/venv/lib/python3.8/site-packages/pymatgen/io/cif.py:1134: UserWarning: Issues encountered while parsing CIF: Some fractional coordinates rounded to ideal values to avoid issues with finite precision.\n",
      "  warnings.warn(\"Issues encountered while parsing CIF: \" + \"\\n\".join(self.warnings))\n"
     ]
    }
   ],
   "source": [
    "systems = load_cifs(MP_CIF_DIR)"
   ]
  },
  {
   "cell_type": "markdown",
   "id": "5cde082d",
   "metadata": {},
   "source": [
    "Random substitue a Atom in 2x2x2 supercell"
   ]
  },
  {
   "cell_type": "code",
   "execution_count": 71,
   "id": "d7971ada",
   "metadata": {},
   "outputs": [],
   "source": [
    "supercell_scale = [[2, 2, 2]]\n",
    "min_vacuum_size = 10  # [Ang]\n",
    "supercell_info = {}\n",
    "new_systems = []\n",
    "new_systems_ase = []\n",
    "\n",
    "for i, (name, syst_, syst_ase_) in enumerate(systems):\n",
    "    n = 0\n",
    "    for scale in supercell_scale:\n",
    "        supercell = syst_.copy()\n",
    "        filename = f\"{SUB_TRAINSET_ID}.{n}-{i}-{name}_{scale[0]}x{scale[1]}x{scale[2]}.cif\"\n",
    "        supercell_info[filename] = scale[0] * scale[1] * scale[2]\n",
    "        supercell.make_supercell([scale[0], scale[1], scale[2]])\n",
    "        new_systems.append((filename, supercell.copy()))\n",
    "        new_systems_ase.append(matget2ase.get_atoms(supercell))\n",
    "        n += 1"
   ]
  },
  {
   "cell_type": "markdown",
   "id": "dd7b571a",
   "metadata": {},
   "source": [
    "Store it"
   ]
  },
  {
   "cell_type": "code",
   "execution_count": 72,
   "id": "af636a3e",
   "metadata": {},
   "outputs": [],
   "source": [
    "out_dir = os.path.join(MAIN_DIR_JNB1, CHEM_FORMULA, SUBDIR)\n",
    "make_dir(out_dir)\n",
    "for filename, new_system in new_systems:\n",
    "    new_system.to(fmt=\"cif\", filename=os.path.join(out_dir, filename))"
   ]
  },
  {
   "cell_type": "markdown",
   "id": "5e49ce79",
   "metadata": {},
   "source": [
    "Save properties"
   ]
  },
  {
   "cell_type": "code",
   "execution_count": 73,
   "id": "3a403787",
   "metadata": {},
   "outputs": [
    {
     "data": {
      "text/html": [
       "<div>\n",
       "<style scoped>\n",
       "    .dataframe tbody tr th:only-of-type {\n",
       "        vertical-align: middle;\n",
       "    }\n",
       "\n",
       "    .dataframe tbody tr th {\n",
       "        vertical-align: top;\n",
       "    }\n",
       "\n",
       "    .dataframe thead th {\n",
       "        text-align: right;\n",
       "    }\n",
       "</style>\n",
       "<table border=\"1\" class=\"dataframe\">\n",
       "  <thead>\n",
       "    <tr style=\"text-align: right;\">\n",
       "      <th></th>\n",
       "      <th>unitcell_repetition</th>\n",
       "    </tr>\n",
       "  </thead>\n",
       "  <tbody>\n",
       "    <tr>\n",
       "      <th>9.0-0-LiF_Fm-3m_-3.18_2x2x2.cif</th>\n",
       "      <td>8</td>\n",
       "    </tr>\n",
       "    <tr>\n",
       "      <th>9.0-1-LiF_P6_3mc_-3.17_2x2x2.cif</th>\n",
       "      <td>8</td>\n",
       "    </tr>\n",
       "    <tr>\n",
       "      <th>9.0-2-LiF_Pm-3m_-2.89_2x2x2.cif</th>\n",
       "      <td>8</td>\n",
       "    </tr>\n",
       "  </tbody>\n",
       "</table>\n",
       "</div>"
      ],
      "text/plain": [
       "                                 unitcell_repetition\n",
       "9.0-0-LiF_Fm-3m_-3.18_2x2x2.cif                    8\n",
       "9.0-1-LiF_P6_3mc_-3.17_2x2x2.cif                   8\n",
       "9.0-2-LiF_Pm-3m_-2.89_2x2x2.cif                    8"
      ]
     },
     "execution_count": 73,
     "metadata": {},
     "output_type": "execute_result"
    }
   ],
   "source": [
    "file_name = list(supercell_info.keys())\n",
    "info_df = pd.DataFrame(index=file_name, columns=[\"unitcell_repetition\"])\n",
    "for file_name_ in file_name:\n",
    "    info_df.loc[file_name_, \"unitcell_repetition\"] = supercell_info[file_name_]\n",
    "info_df.to_json(os.path.join(out_dir, \"info.json\"))\n",
    "info_df.head()"
   ]
  },
  {
   "cell_type": "code",
   "execution_count": 74,
   "id": "60d3f8c8",
   "metadata": {},
   "outputs": [
    {
     "data": {
      "application/vnd.jupyter.widget-view+json": {
       "model_id": "6adcce0384c7417ca6ca585d5d4c8ad9",
       "version_major": 2,
       "version_minor": 0
      },
      "text/plain": [
       "HBox(children=(NGLWidget(max_frame=2), VBox(children=(Dropdown(description='Show', options=('All', 'F', 'Li'),…"
      ]
     },
     "execution_count": 74,
     "metadata": {},
     "output_type": "execute_result"
    }
   ],
   "source": [
    "view(new_systems_ase, viewer=\"ngl\")"
   ]
  },
  {
   "cell_type": "code",
   "execution_count": null,
   "id": "8300ed04",
   "metadata": {},
   "outputs": [],
   "source": []
  }
 ],
 "metadata": {
  "kernelspec": {
   "display_name": "Python 3",
   "language": "python",
   "name": "python3"
  },
  "language_info": {
   "codemirror_mode": {
    "name": "ipython",
    "version": 3
   },
   "file_extension": ".py",
   "mimetype": "text/x-python",
   "name": "python",
   "nbconvert_exporter": "python",
   "pygments_lexer": "ipython3",
   "version": "3.8.12"
  },
  "toc-autonumbering": true,
  "vscode": {
   "interpreter": {
    "hash": "6b8d2ee35f28cb0939199389d8f28e1089d9032c18d891ecd9d96baa0be783b2"
   }
  }
 },
 "nbformat": 4,
 "nbformat_minor": 5
}
