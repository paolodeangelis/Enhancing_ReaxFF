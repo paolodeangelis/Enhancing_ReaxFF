{
 "cells": [
  {
   "attachments": {},
   "cell_type": "markdown",
   "id": "879c6463-39c1-42a5-9c8c-23ba1ce0ec23",
   "metadata": {},
   "source": [
    "# JNB2 - Run DFT simulations"
   ]
  },
  {
   "attachments": {},
   "cell_type": "markdown",
   "id": "6da68a58",
   "metadata": {},
   "source": []
  },
  {
   "cell_type": "code",
   "execution_count": 1,
   "id": "72c600d6",
   "metadata": {},
   "outputs": [],
   "source": [
    "%load_ext autoreload\n",
    "%autoreload 2"
   ]
  },
  {
   "cell_type": "code",
   "execution_count": 27,
   "id": "904118a7-4cd2-4f7d-8012-adb331fca768",
   "metadata": {},
   "outputs": [],
   "source": [
    "import glob\n",
    "import os\n",
    "import pickle\n",
    "import sys\n",
    "\n",
    "import matplotlib as mp\n",
    "import matplotlib.pyplot as plt\n",
    "import numpy as np\n",
    "import pandas as pd\n",
    "\n",
    "# import matplotlib.gridspec as gridspec\n",
    "# import scipy as sci\n",
    "import scm.plams as scm\n",
    "from ase.visualize import view\n",
    "from pymatgen.core import Structure\n",
    "from pymatgen.io.ase import AseAtomsAdaptor\n",
    "from scm.plams.interfaces.molecule.ase import fromASE, toASE\n",
    "\n",
    "from tools import make_dir\n",
    "from tools.misc import mtx2str\n",
    "\n",
    "# from ase.visualize import view\n",
    "# from pymatgen.ext.matproj import MPRester\n",
    "\n",
    "\n",
    "# from shutil import copyfile\n",
    "\n",
    "\n",
    "matget2ase = AseAtomsAdaptor()\n",
    "\n",
    "# MPKEY = 'zDsCbuRTjVMusXLvJ54h'\n",
    "# MAIN_DIR = 'trainset_sim'\n",
    "# ALLSIM_DIR = os.path.join(MAIN_DIR_JNB2, CHEM_FORMULA,  'output_all')\n",
    "# IC_DIR = 'trainset_ic'\n",
    "# make_dir(MAIN_DIR)\n",
    "# make_dir(ALLSIM_DIR)\n",
    "plt.style.use(\"default\")"
   ]
  },
  {
   "attachments": {},
   "cell_type": "markdown",
   "id": "eedbeed9",
   "metadata": {},
   "source": [
    "## Settings"
   ]
  },
  {
   "attachments": {},
   "cell_type": "markdown",
   "id": "ca235714",
   "metadata": {},
   "source": [
    "In this section, we define the constants and generators that will be used throughout the notebook:\n",
    "\n",
    "* `MAIN_DIR_JNB2`: The main folder where the results of this Jupyter Notebook will be stored.\n",
    "* `CHEM_FORMULA`: The chemical formula of the SEI component.\n",
    "\n",
    "These constants and generators play a crucial role in ensuring reproducibility and providing the necessary inputs for various computations and simulations in this notebook."
   ]
  },
  {
   "cell_type": "code",
   "execution_count": 3,
   "id": "72a5e2bf-e3e3-4be1-9397-a070d3ab4f03",
   "metadata": {},
   "outputs": [
    {
     "data": {
      "text/plain": [
       "'1.5.1'"
      ]
     },
     "execution_count": 3,
     "metadata": {},
     "output_type": "execute_result"
    }
   ],
   "source": [
    "from tools.misc import MAIN_DIR_JNB1, MAIN_DIR_JNB2\n",
    "\n",
    "CHEM_FORMULA = \"LiF\"\n",
    "\n",
    "scm.__version__"
   ]
  },
  {
   "attachments": {},
   "cell_type": "markdown",
   "id": "dba2252d",
   "metadata": {},
   "source": [
    "Making the output folder"
   ]
  },
  {
   "cell_type": "code",
   "execution_count": 6,
   "id": "b060831d",
   "metadata": {},
   "outputs": [],
   "source": [
    "make_dir(os.path.join(MAIN_DIR_JNB2, CHEM_FORMULA))"
   ]
  },
  {
   "attachments": {},
   "cell_type": "markdown",
   "id": "d315bfda-2754-4dd5-8dc6-53fa00c6138c",
   "metadata": {
    "jp-MarkdownHeadingCollapsed": true,
    "tags": []
   },
   "source": [
    "## Unit Cells `Single Point`"
   ]
  },
  {
   "cell_type": "code",
   "execution_count": 52,
   "id": "83080e52-7d0c-4373-8e21-78a1a84a4dce",
   "metadata": {},
   "outputs": [],
   "source": [
    "SIMsNAME = \"0-UnitCell_SP\"\n",
    "TASK = \"SP\"\n",
    "RUN_DIR = os.path.join(MAIN_DIR_JNB2, CHEM_FORMULA, SIMsNAME)"
   ]
  },
  {
   "attachments": {},
   "cell_type": "markdown",
   "id": "7dcc2caf-4161-4571-9e9a-10543054915f",
   "metadata": {},
   "source": [
    "### Setting `BAND` *Single Point*"
   ]
  },
  {
   "cell_type": "code",
   "execution_count": 53,
   "id": "8807a6ad-f46f-46eb-a061-0f6a9f861b96",
   "metadata": {},
   "outputs": [
    {
     "name": "stdout",
     "output_type": "stream",
     "text": [
      "input: \t\n",
      "      AMS: \t\n",
      "          task: \tSinglePoint\n",
      "          Properties: \t\n",
      "                     Gradients: \tyes\n",
      "                     StressTensor: \tyes\n",
      "                     Hessian: \tyes\n",
      "                     PESPointCharacter: \tno\n",
      "                     ElasticTensor: \tno\n",
      "      BAND: \t\n",
      "           basis: \t\n",
      "                 type: \tDZP\n",
      "           xc: \t\n",
      "              GGA: \tPBE\n",
      "           KSpace: \t\n",
      "                  Quality: \tGood\n",
      "\n"
     ]
    }
   ],
   "source": [
    "from tools.misc.default_settings import settings_0_SP\n",
    "\n",
    "print(settings_0_SP)"
   ]
  },
  {
   "attachments": {},
   "cell_type": "markdown",
   "id": "497feee2-f96d-41a9-9650-5cbb8b242cc4",
   "metadata": {},
   "source": [
    "### Set-up `RUNNER`"
   ]
  },
  {
   "cell_type": "code",
   "execution_count": 54,
   "id": "1f268c8e-bf68-4b5c-a2ea-2a71c147fd9c",
   "metadata": {},
   "outputs": [],
   "source": [
    "# HPC Job settings\n",
    "NODES = 2\n",
    "CORES_PER_NODE = 64\n",
    "CPUS_PER_CORE = 4\n",
    "MAX_JOBS = 30"
   ]
  },
  {
   "cell_type": "code",
   "execution_count": null,
   "id": "008a37ac-e658-4df1-8166-8dad92ee4e84",
   "metadata": {},
   "outputs": [],
   "source": [
    "scm.init(folder=RUN_DIR)\n",
    "RUNNER = scm.GridRunner(grid=\"slurm\", sleepstep=5, parallel=True, maxjobs=MAX_JOBS)\n",
    "RUNNER.settings.workdir = \"-D\"\n",
    "RUNNER.settings.special.nodes = \"--nodes=\"\n",
    "RUNNER.settings.special.qos = \"--qos=\"\n",
    "RUNNER.settings.special.walltime = \"--time=\"\n",
    "RUNNER.settings.special.tasks_per_node = \"--ntasks-per-node=\"\n",
    "RUNNER.settings.special.cpus_per_task = \"--cpus-per-task=\"\n",
    "RUNNER.settings.special.partition = \"--partition=\"\n",
    "RUNNER.settings.special.account = \"--account=\"\n",
    "RUNNER.settings.special.job_name = \"--job-name=\"\n",
    "\n",
    "scm.config.log.file = 7  # debug\n",
    "scm.config.log.stdout = 1  # 1: important 3: normal 5: verbose 7: debug\n",
    "scm.config.job.pickle = False\n",
    "scm.config.job.runscript.nproc = CORES_PER_NODE\n",
    "scm.config.job.runscript.shebang = r\"#!/bin/bash\"\n",
    "scm.config.default_jobrunner = RUNNER"
   ]
  },
  {
   "cell_type": "code",
   "execution_count": 14,
   "id": "3596a0e9-710d-4912-a8a5-209fa358877d",
   "metadata": {},
   "outputs": [],
   "source": [
    "settings_pkl_file = os.path.join(RUN_DIR, \"settings.pkl\")\n",
    "with open(settings_pkl_file, \"wb\") as file:\n",
    "    pickle.dump(settings_0_SP, file)"
   ]
  },
  {
   "attachments": {},
   "cell_type": "markdown",
   "id": "d507f940-3542-4616-8d8c-e05f540ac9b5",
   "metadata": {},
   "source": [
    "### Set-up JOBS"
   ]
  },
  {
   "attachments": {},
   "cell_type": "markdown",
   "id": "7bf3a6a0-8fc4-4f09-bf40-1975bfc03965",
   "metadata": {},
   "source": [
    "Load systems"
   ]
  },
  {
   "cell_type": "code",
   "execution_count": 55,
   "id": "8509081c-1100-45c3-a306-beedc88e5449",
   "metadata": {},
   "outputs": [
    {
     "name": "stderr",
     "output_type": "stream",
     "text": [
      "/home/paolo/Enhancing_ReaxFF/venv/lib/python3.8/site-packages/pymatgen/io/cif.py:1134: UserWarning: Issues encountered while parsing CIF: Some fractional coordinates rounded to ideal values to avoid issues with finite precision.\n",
      "  warnings.warn(\"Issues encountered while parsing CIF: \" + \"\\n\".join(self.warnings))\n"
     ]
    }
   ],
   "source": [
    "cis_dir = os.path.join(MAIN_DIR_JNB1, CHEM_FORMULA, \"0-materialproject\")\n",
    "systems = []\n",
    "\n",
    "for path in np.sort(glob.glob(os.path.join(cis_dir, \"*.cif\"))):\n",
    "    system_name = path.split(os.sep)[-1].split(\".cif\")[0]\n",
    "    system_mat = Structure.from_file(path)\n",
    "    system_ase = matget2ase.get_atoms(system_mat)\n",
    "    systems.append((system_name, fromASE(system_ase)))"
   ]
  },
  {
   "attachments": {},
   "cell_type": "markdown",
   "id": "f1e24d3c-bcf7-49ad-8b5a-5c4a685bcb62",
   "metadata": {},
   "source": [
    "Define jobs"
   ]
  },
  {
   "cell_type": "code",
   "execution_count": 20,
   "id": "369f3e52-091e-430e-974a-63c308dc32f2",
   "metadata": {},
   "outputs": [],
   "source": [
    "jobs = []\n",
    "for name, system_obj in systems:\n",
    "    sim_name = f\"SP-{name}\"\n",
    "    job = scm.AMSJob(molecule=system_obj, settings=settings_0_SP, name=sim_name)\n",
    "    job.settings.runscript.pre = \"\"\"module use --append /work/pr1u1751/pr1u1751/shared/modules\n",
    "module load ams/2022.102\"\"\"\n",
    "    jobs.append(job)\n",
    "# Group all\n",
    "multi_jobs = scm.MultiJob(name=\"jobs\", children=jobs)"
   ]
  },
  {
   "attachments": {},
   "cell_type": "markdown",
   "id": "6f197d29-0335-4350-9995-5adf51d1fb24",
   "metadata": {},
   "source": [
    "#### Run All"
   ]
  },
  {
   "cell_type": "code",
   "execution_count": null,
   "id": "c659f33c-5fd6-485c-a5c3-73d679d06e45",
   "metadata": {},
   "outputs": [
    {
     "name": "stdout",
     "output_type": "stream",
     "text": [
      "[05.07|14:45:18] JOB jobs STARTED\n",
      "[05.07|14:45:18] JOB jobs/SP-0-Li2CO3_P6_3mcm_-2.19 STARTED\n",
      "[05.07|14:45:18] JOB jobs/SP-1-Li2CO3_C2c_-2.26 STARTED\n",
      "[05.07|15:57:57] JOB jobs/SP-1-Li2CO3_C2c_-2.26 SUCCESSFUL\n",
      "[05.07|16:02:01] JOB jobs/SP-0-Li2CO3_P6_3mcm_-2.19 SUCCESSFUL\n",
      "[05.07|16:02:01] JOB jobs SUCCESSFUL\n"
     ]
    }
   ],
   "source": [
    "result = multi_jobs.run(\n",
    "    jobrunner=RUNNER,\n",
    "    nodes=NODES,\n",
    "    cores=CORES_PER_NODE * NODES,\n",
    "    tasks_per_node=CORES_PER_NODE,\n",
    "    cpus_per_task=CPUS_PER_CORE,\n",
    "    walltime=\"24:00:00\",\n",
    "    partition=\"standard\",\n",
    "    account=\"pr1u1751\",\n",
    "    qos=\"standard\",\n",
    ")"
   ]
  },
  {
   "attachments": {},
   "cell_type": "markdown",
   "id": "568a48b2-927a-4457-b746-5fcb95f4b1d4",
   "metadata": {},
   "source": [
    "### Post-processing"
   ]
  },
  {
   "attachments": {},
   "cell_type": "markdown",
   "id": "9af7b355-89c3-44d1-84ac-b411fd99f94c",
   "metadata": {},
   "source": [
    "Load Material Project data"
   ]
  },
  {
   "cell_type": "code",
   "execution_count": 56,
   "id": "8f431ab7-fdbd-4868-8fb6-c658925c40cc",
   "metadata": {},
   "outputs": [],
   "source": [
    "dir_jobs = os.path.join(RUN_DIR, \"jobs\")\n",
    "\n",
    "cis_dir = os.path.join(MAIN_DIR_JNB1, CHEM_FORMULA, \"0-materialproject\")\n",
    "data_path = os.path.join(cis_dir, \"info.json\")\n",
    "results_df = pd.read_json(data_path)"
   ]
  },
  {
   "cell_type": "code",
   "execution_count": 57,
   "id": "d4dc5d2f-118d-4a97-bd26-59138cb72f63",
   "metadata": {},
   "outputs": [],
   "source": [
    "for job_dir in glob.glob(os.path.join(dir_jobs, \"*\")):\n",
    "    sim_name = job_dir.split(os.sep)[-1]\n",
    "    job_result = scm.AMSJob.load_external(job_dir, settings=settings_0_SP).results\n",
    "    energy = scm.Units.convert(job_result.get_energy(), \"au\", \"eV\")\n",
    "    results_df.loc[sim_name[3:] + \".cif\", \"scm_energy_SP\"] = energy\n",
    "    Na = len(job_result.get_molecule(\"Molecule\").atoms)\n",
    "    energy_per_atom = energy / Na\n",
    "    results_df.loc[sim_name[3:] + \".cif\", \"scm_energy_per_atom_SP\"] = energy_per_atom\n",
    "results_df.to_json(os.path.join(RUN_DIR, f\"results.json\"))"
   ]
  },
  {
   "cell_type": "code",
   "execution_count": 58,
   "id": "a4f2acfd-12aa-44d7-b77a-8f6434ad01e2",
   "metadata": {},
   "outputs": [
    {
     "data": {
      "text/html": [
       "<div>\n",
       "<style scoped>\n",
       "    .dataframe tbody tr th:only-of-type {\n",
       "        vertical-align: middle;\n",
       "    }\n",
       "\n",
       "    .dataframe tbody tr th {\n",
       "        vertical-align: top;\n",
       "    }\n",
       "\n",
       "    .dataframe thead th {\n",
       "        text-align: right;\n",
       "    }\n",
       "</style>\n",
       "<table border=\"1\" class=\"dataframe\">\n",
       "  <thead>\n",
       "    <tr style=\"text-align: right;\">\n",
       "      <th></th>\n",
       "      <th>energy_per_atom</th>\n",
       "      <th>formation_energy_per_atom</th>\n",
       "      <th>scm_energy_SP</th>\n",
       "      <th>scm_energy_per_atom_SP</th>\n",
       "    </tr>\n",
       "  </thead>\n",
       "  <tbody>\n",
       "    <tr>\n",
       "      <th>0-LiF_Fm-3m_-3.18.cif</th>\n",
       "      <td>-4.845146</td>\n",
       "      <td>-3.180409</td>\n",
       "      <td>-9.622935</td>\n",
       "      <td>-4.811468</td>\n",
       "    </tr>\n",
       "    <tr>\n",
       "      <th>1-LiF_P6_3mc_-3.17.cif</th>\n",
       "      <td>-4.838474</td>\n",
       "      <td>-3.173737</td>\n",
       "      <td>-19.208830</td>\n",
       "      <td>-4.802207</td>\n",
       "    </tr>\n",
       "    <tr>\n",
       "      <th>2-LiF_Pm-3m_-2.89.cif</th>\n",
       "      <td>-4.557603</td>\n",
       "      <td>-2.892867</td>\n",
       "      <td>-9.023544</td>\n",
       "      <td>-4.511772</td>\n",
       "    </tr>\n",
       "  </tbody>\n",
       "</table>\n",
       "</div>"
      ],
      "text/plain": [
       "                        energy_per_atom  ...  scm_energy_per_atom_SP\n",
       "0-LiF_Fm-3m_-3.18.cif         -4.845146  ...               -4.811468\n",
       "1-LiF_P6_3mc_-3.17.cif        -4.838474  ...               -4.802207\n",
       "2-LiF_Pm-3m_-2.89.cif         -4.557603  ...               -4.511772\n",
       "\n",
       "[3 rows x 4 columns]"
      ]
     },
     "execution_count": 58,
     "metadata": {},
     "output_type": "execute_result"
    }
   ],
   "source": [
    "results_df"
   ]
  },
  {
   "cell_type": "code",
   "execution_count": 59,
   "id": "a51233d1-e769-4b63-9b96-453ff235e528",
   "metadata": {},
   "outputs": [
    {
     "data": {
      "image/png": "[encoded data removed]",
      "text/plain": [
       "<Figure size 500x280 with 1 Axes>"
      ]
     },
     "metadata": {},
     "output_type": "display_data"
    }
   ],
   "source": [
    "fig = plt.figure(figsize=[5, 2.8], dpi=100)\n",
    "\n",
    "with plt.style.context(\"./articles_seaborn.mplstyle\"):\n",
    "    ax = fig.add_subplot(111)\n",
    "    idx = np.arange(len(results_df))\n",
    "    ax.bar(idx - 0.1, results_df[\"scm_energy_per_atom_SP\"], width=0.20, label=\"simulated\")\n",
    "    ax.bar(idx + 0.1, results_df[\"energy_per_atom\"], width=0.20, label=\"materials project\")\n",
    "    ax.set_ylabel(\"Energy per atoms [eV]\")\n",
    "    ax.set_xticks(idx)\n",
    "    ax.set_xticklabels(results_df.index, rotation=25, ha=\"right\")\n",
    "    # ax.legend(loc='center left', bbox_to_anchor=(1., 0.5))\n",
    "    ax.legend(loc=\"lower center\")\n",
    "    all_E = results_df[\"energy_per_atom\"].values.tolist() + results_df[\"scm_energy_per_atom_SP\"].values.tolist()\n",
    "    ax.set_ylim(np.min(all_E) - np.abs(np.mean(all_E)) * 0.05, np.max(all_E) + np.abs(np.mean(all_E)) * 0.05)\n",
    "plt.show()\n",
    "fig.savefig(os.path.join(\"plots\", f\"0-{CHEM_FORMULA}_{TASK}_sim_energy.pdf\"), dpi=300, bbox_inches=\"tight\")"
   ]
  },
  {
   "attachments": {},
   "cell_type": "markdown",
   "id": "7a9c0386-8074-4e66-ae27-7f33ab133502",
   "metadata": {},
   "source": [
    "#### Finishing "
   ]
  },
  {
   "cell_type": "code",
   "execution_count": 22,
   "id": "4c1b0b88-5349-4ba1-9b23-298b6954f186",
   "metadata": {},
   "outputs": [],
   "source": [
    "scm.finish()"
   ]
  },
  {
   "attachments": {},
   "cell_type": "markdown",
   "id": "4ee6311d-d60f-407c-8c2e-0978718b0541",
   "metadata": {
    "jp-MarkdownHeadingCollapsed": true,
    "tags": []
   },
   "source": [
    "## Unit Cell `Geometry Optimization`"
   ]
  },
  {
   "cell_type": "code",
   "execution_count": 60,
   "id": "3412c32d-d8bd-4ef3-abad-24b7264dcb38",
   "metadata": {},
   "outputs": [],
   "source": [
    "SIMsNAME = \"0-UnitCell_GO\"\n",
    "TASK = \"GO\"\n",
    "RUN_DIR = os.path.join(MAIN_DIR_JNB2, CHEM_FORMULA, SIMsNAME)"
   ]
  },
  {
   "attachments": {},
   "cell_type": "markdown",
   "id": "61fecff7-741a-4bd8-af36-647668a0a563",
   "metadata": {},
   "source": [
    "### Setting `BAND` *Single Point*"
   ]
  },
  {
   "cell_type": "code",
   "execution_count": 61,
   "id": "19560fc0-4118-48f4-9d2a-56112dc58478",
   "metadata": {},
   "outputs": [
    {
     "name": "stdout",
     "output_type": "stream",
     "text": [
      "input: \t\n",
      "      AMS: \t\n",
      "          task: \tGeometryOptimization\n",
      "          Properties: \t\n",
      "                     Gradients: \tno\n",
      "                     StressTensor: \tno\n",
      "                     Hessian: \tno\n",
      "                     PESPointCharacter: \tno\n",
      "                     ElasticTensor: \tno\n",
      "          GeometryOptimization: \t\n",
      "                               OptimizeLattice: \tyes\n",
      "                               PretendConverged: \tyes\n",
      "                               MaxIterations: \t500\n",
      "      BAND: \t\n",
      "           basis: \t\n",
      "                 type: \tDZP\n",
      "           xc: \t\n",
      "              GGA: \tPBE\n",
      "           SCF: \t\n",
      "               Iterations: \t150\n",
      "           RadialDefaults: \t\n",
      "                          NR: \t3000\n",
      "           CPVector: \t256\n",
      "           KGRPX: \t10\n",
      "\n"
     ]
    }
   ],
   "source": [
    "from tools.misc.default_settings import settings_0_GO\n",
    "\n",
    "print(settings_0_GO)"
   ]
  },
  {
   "attachments": {},
   "cell_type": "markdown",
   "id": "844962d6-c43a-4dfd-9d42-6a284df33f40",
   "metadata": {},
   "source": [
    "### Set-up `RUNNER`"
   ]
  },
  {
   "cell_type": "code",
   "execution_count": 62,
   "id": "a8169564-9fcd-4cce-a852-dba8f3aadbac",
   "metadata": {},
   "outputs": [],
   "source": [
    "NODES = 2\n",
    "CORES_PER_NODE = 64\n",
    "CPUS_PER_CORE = 2\n",
    "MAX_JOBS = 0"
   ]
  },
  {
   "cell_type": "code",
   "execution_count": null,
   "id": "d08248ee-2c7c-41fd-a932-f71d9141f5a8",
   "metadata": {},
   "outputs": [],
   "source": [
    "scm.init(folder=RUN_DIR)\n",
    "RUNNER = scm.GridRunner(grid=\"slurm\", sleepstep=5, parallel=True, maxjobs=MAX_JOBS)  # TODO: Replace it with GridRunner\n",
    "RUNNER.settings.workdir = \"-D\"\n",
    "RUNNER.settings.special.nodes = \"--nodes=\"\n",
    "RUNNER.settings.special.qos = \"--qos=\"\n",
    "RUNNER.settings.special.walltime = \"--time=\"\n",
    "RUNNER.settings.special.tasks_per_node = \"--ntasks-per-node=\"\n",
    "RUNNER.settings.special.cpus_per_task = \"--cpus-per-task=\"\n",
    "RUNNER.settings.special.partition = \"--partition=\"\n",
    "RUNNER.settings.special.account = \"--account=\"\n",
    "RUNNER.settings.special.job_name = \"--job-name=\"\n",
    "\n",
    "scm.config.log.file = 7  # debug\n",
    "scm.config.log.stdout = 1  # 1: important 3: normal 5: verbose 7: debug\n",
    "scm.config.job.pickle = False\n",
    "scm.config.job.runscript.nproc = CORES_PER_NODE * NODES\n",
    "scm.config.job.runscript.shebang = \"#!/bin/bash\"\n",
    "scm.config.default_jobrunner = RUNNER"
   ]
  },
  {
   "cell_type": "code",
   "execution_count": 8,
   "id": "a641f306-e6e8-4a1f-b992-ab548ecbf2d1",
   "metadata": {},
   "outputs": [],
   "source": [
    "settings_pkl_file = os.path.join(RUN_DIR, \"settings.pkl\")\n",
    "with open(settings_pkl_file, \"wb\") as file:\n",
    "    pickle.dump(settings_0_GO, file)"
   ]
  },
  {
   "attachments": {},
   "cell_type": "markdown",
   "id": "fd8bee4a-49a8-4054-b5c7-eb83d1b88d0f",
   "metadata": {},
   "source": [
    "### Set-up JOBS"
   ]
  },
  {
   "attachments": {},
   "cell_type": "markdown",
   "id": "be983f36-445f-47b4-a7d9-34d1f6ff5a6d",
   "metadata": {},
   "source": [
    "Load systems"
   ]
  },
  {
   "cell_type": "code",
   "execution_count": 63,
   "id": "a7720f5f-1bad-4edb-8cc7-dce7d3705ac5",
   "metadata": {},
   "outputs": [
    {
     "name": "stderr",
     "output_type": "stream",
     "text": [
      "/home/paolo/Enhancing_ReaxFF/venv/lib/python3.8/site-packages/pymatgen/io/cif.py:1134: UserWarning: Issues encountered while parsing CIF: Some fractional coordinates rounded to ideal values to avoid issues with finite precision.\n",
      "  warnings.warn(\"Issues encountered while parsing CIF: \" + \"\\n\".join(self.warnings))\n"
     ]
    }
   ],
   "source": [
    "cis_dir = os.path.join(MAIN_DIR_JNB1, CHEM_FORMULA, \"0-materialproject\")\n",
    "systems = []\n",
    "\n",
    "for path in np.sort(glob.glob(os.path.join(cis_dir, \"*.cif\"))):\n",
    "    system_name = path.split(os.sep)[-1].split(\".cif\")[0]\n",
    "    system_mat = Structure.from_file(path)\n",
    "    system_ase = matget2ase.get_atoms(system_mat)\n",
    "    systems.append((system_name, fromASE(system_ase)))"
   ]
  },
  {
   "attachments": {},
   "cell_type": "markdown",
   "id": "a243deb4-e528-4fdc-a579-e3677e4ca3ef",
   "metadata": {},
   "source": [
    "Define jobs"
   ]
  },
  {
   "cell_type": "code",
   "execution_count": 11,
   "id": "e07980e9-1394-4864-abc1-e8a5639d791b",
   "metadata": {},
   "outputs": [],
   "source": [
    "jobs = []\n",
    "for name, system_obj in systems:\n",
    "    sim_name = f\"{TASK}-{name}\"\n",
    "    job = scm.AMSJob(molecule=system_obj, settings=settings_0_GO, name=sim_name)\n",
    "    job.settings.runscript.pre = f\"\"\"module use --append /work/pr1u1751/pr1u1751/shared/modules\n",
    "module load ams/2022.102\n",
    "\n",
    "export OMP_NUM_THREADS={CPUS_PER_CORE}\n",
    "export SCM_SHAR_NONUMA=yes\n",
    "\"\"\"\n",
    "    jobs.append(job)\n",
    "# Group all\n",
    "multi_jobs = scm.MultiJob(name=\"jobs\", children=jobs)"
   ]
  },
  {
   "attachments": {},
   "cell_type": "markdown",
   "id": "1e75292f-2470-4db3-b917-b7a3db8ea44e",
   "metadata": {},
   "source": [
    "#### Run All"
   ]
  },
  {
   "cell_type": "code",
   "execution_count": 13,
   "id": "9051c217-b75a-4038-9478-3e8af9cca4b7",
   "metadata": {},
   "outputs": [
    {
     "name": "stdout",
     "output_type": "stream",
     "text": [
      "[25.12|23:06:46] JOB jobs STARTED\n",
      "[25.12|23:06:46] JOB jobs/GO-0-C_R-3m_na4 STARTED\n",
      "[25.12|23:06:46] JOB jobs/GO-1-Li_R-3m_na3 STARTED\n",
      "[25.12|23:06:46] JOB jobs/GO-2-O_C2m_na8 STARTED\n",
      "[25.12|23:21:32] JOB jobs/GO-1-Li_R-3m_na3 SUCCESSFUL\n",
      "[26.12|15:45:03] Job jobs/GO-2-O_C2m_na8 reported warnings. Please check the the output\n",
      "[26.12|15:45:03] JOB jobs/GO-2-O_C2m_na8 SUCCESSFUL\n",
      "[26.12|23:13:11] JOB jobs/GO-0-C_R-3m_na4 FAILED\n",
      "[26.12|23:13:14] JOB jobs FAILED\n"
     ]
    }
   ],
   "source": [
    "result = multi_jobs.run(\n",
    "    jobrunner=RUNNER,\n",
    "    nodes=NODES,\n",
    "    cores=CORES_PER_NODE * NODES,\n",
    "    tasks_per_node=CORES_PER_NODE,\n",
    "    cpus_per_task=CPUS_PER_CORE,\n",
    "    walltime=\"24:00:00\",\n",
    "    partition=\"standard\",\n",
    "    account=\"pr1u1751\",\n",
    "    qos=\"standard\",\n",
    ")"
   ]
  },
  {
   "attachments": {},
   "cell_type": "markdown",
   "id": "d71fb9c7-6f69-4acd-9cde-e29d78a25d1a",
   "metadata": {},
   "source": [
    "### Post-processing"
   ]
  },
  {
   "attachments": {},
   "cell_type": "markdown",
   "id": "3ef3e7e2-c97f-4bf1-b647-453ac3ef9b2d",
   "metadata": {},
   "source": [
    "Load Material Project data"
   ]
  },
  {
   "cell_type": "code",
   "execution_count": 64,
   "id": "df83b517-9d7d-43b5-9a87-796676d0cd65",
   "metadata": {},
   "outputs": [],
   "source": [
    "dir_jobs = os.path.join(RUN_DIR, \"jobs\")\n",
    "\n",
    "prev_sim = os.path.join(MAIN_DIR_JNB2, CHEM_FORMULA, \"0-UnitCell_SP\")\n",
    "data_path = os.path.join(prev_sim, f\"results.json\")\n",
    "results_df = pd.read_json(data_path)"
   ]
  },
  {
   "cell_type": "code",
   "execution_count": 65,
   "id": "3a522423-b6c9-4858-81d0-f346d8f3fe37",
   "metadata": {},
   "outputs": [],
   "source": [
    "for job_dir in glob.glob(os.path.join(dir_jobs, \"*\")):\n",
    "    sim_name = job_dir.split(os.sep)[-1]\n",
    "    job_result = scm.AMSJob.load_external(job_dir, settings=settings_0_GO).results\n",
    "    energy = scm.Units.convert(job_result.get_energy(), \"au\", \"eV\")\n",
    "    results_df.loc[sim_name[3:] + \".cif\", \"scm_energy_GO\"] = energy\n",
    "    Na = len(job_result.get_molecule(\"Molecule\").atoms)\n",
    "    energy_per_atom = energy / Na\n",
    "    results_df.loc[sim_name[3:] + \".cif\", \"scm_energy_per_atom_GO\"] = energy_per_atom\n",
    "results_df.to_json(os.path.join(RUN_DIR, f\"results.json\"))"
   ]
  },
  {
   "cell_type": "code",
   "execution_count": 66,
   "id": "c5d7b8ae-39fe-4208-815d-91dccb259120",
   "metadata": {},
   "outputs": [
    {
     "data": {
      "text/html": [
       "<div>\n",
       "<style scoped>\n",
       "    .dataframe tbody tr th:only-of-type {\n",
       "        vertical-align: middle;\n",
       "    }\n",
       "\n",
       "    .dataframe tbody tr th {\n",
       "        vertical-align: top;\n",
       "    }\n",
       "\n",
       "    .dataframe thead th {\n",
       "        text-align: right;\n",
       "    }\n",
       "</style>\n",
       "<table border=\"1\" class=\"dataframe\">\n",
       "  <thead>\n",
       "    <tr style=\"text-align: right;\">\n",
       "      <th></th>\n",
       "      <th>energy_per_atom</th>\n",
       "      <th>formation_energy_per_atom</th>\n",
       "      <th>scm_energy_SP</th>\n",
       "      <th>scm_energy_per_atom_SP</th>\n",
       "      <th>scm_energy_GO</th>\n",
       "      <th>scm_energy_per_atom_GO</th>\n",
       "    </tr>\n",
       "  </thead>\n",
       "  <tbody>\n",
       "    <tr>\n",
       "      <th>0-LiF_Fm-3m_-3.18.cif</th>\n",
       "      <td>-4.845146</td>\n",
       "      <td>-3.180409</td>\n",
       "      <td>-9.622935</td>\n",
       "      <td>-4.811468</td>\n",
       "      <td>-9.625820</td>\n",
       "      <td>-4.812910</td>\n",
       "    </tr>\n",
       "    <tr>\n",
       "      <th>1-LiF_P6_3mc_-3.17.cif</th>\n",
       "      <td>-4.838474</td>\n",
       "      <td>-3.173737</td>\n",
       "      <td>-19.208830</td>\n",
       "      <td>-4.802207</td>\n",
       "      <td>-19.214337</td>\n",
       "      <td>-4.803584</td>\n",
       "    </tr>\n",
       "    <tr>\n",
       "      <th>2-LiF_Pm-3m_-2.89.cif</th>\n",
       "      <td>-4.557603</td>\n",
       "      <td>-2.892867</td>\n",
       "      <td>-9.023544</td>\n",
       "      <td>-4.511772</td>\n",
       "      <td>-9.024396</td>\n",
       "      <td>-4.512198</td>\n",
       "    </tr>\n",
       "  </tbody>\n",
       "</table>\n",
       "</div>"
      ],
      "text/plain": [
       "                        energy_per_atom  ...  scm_energy_per_atom_GO\n",
       "0-LiF_Fm-3m_-3.18.cif         -4.845146  ...               -4.812910\n",
       "1-LiF_P6_3mc_-3.17.cif        -4.838474  ...               -4.803584\n",
       "2-LiF_Pm-3m_-2.89.cif         -4.557603  ...               -4.512198\n",
       "\n",
       "[3 rows x 6 columns]"
      ]
     },
     "execution_count": 66,
     "metadata": {},
     "output_type": "execute_result"
    }
   ],
   "source": [
    "results_df"
   ]
  },
  {
   "cell_type": "code",
   "execution_count": 67,
   "id": "4dc9a993-c1f5-4dfe-971d-7416de516e99",
   "metadata": {},
   "outputs": [
    {
     "data": {
      "image/png": "[encoded data removed]",
      "text/plain": [
       "<Figure size 500x250 with 1 Axes>"
      ]
     },
     "metadata": {},
     "output_type": "display_data"
    }
   ],
   "source": [
    "fig = plt.figure(figsize=[5, 2.5], dpi=100)\n",
    "\n",
    "with plt.style.context(\"./articles_seaborn.mplstyle\"):\n",
    "    ax = fig.add_subplot(111)\n",
    "    idx = np.arange(len(results_df.index))\n",
    "    ax.bar(idx - 0.2, results_df[\"energy_per_atom\"], width=0.20, label=\"Materials Project\")\n",
    "    ax.bar(idx + 0.0, results_df[\"scm_energy_per_atom_SP\"], width=0.20, label=\"BAND (SP)\")\n",
    "    ax.bar(idx + 0.2, results_df[\"scm_energy_per_atom_GO\"], width=0.20, label=\"BAND (GO)\")\n",
    "    ax.set_ylabel(\"Energy per atoms [eV]\")\n",
    "    ax.set_xticks(idx)\n",
    "    ax.set_xticklabels(results_df.index, rotation=25, ha=\"right\")\n",
    "    # ax.legend(loc='center left', bbox_to_anchor=(1., 0.5))\n",
    "    ax.legend(loc=\"lower center\")\n",
    "    all_E = (\n",
    "        results_df[\"energy_per_atom\"].values.tolist()\n",
    "        + results_df[\"scm_energy_per_atom_SP\"].values.tolist()\n",
    "        + results_df[\"scm_energy_per_atom_GO\"].values.tolist()\n",
    "    )\n",
    "    ax.set_ylim(np.min(all_E) - np.abs(np.mean(all_E)) * 0.05, np.max(all_E) + np.abs(np.mean(all_E)) * 0.05)\n",
    "\n",
    "plt.show()\n",
    "fig.savefig(os.path.join(\"plots\", f\"0-{CHEM_FORMULA}_{TASK}_sim_energy.pdf\"), dpi=300, bbox_inches=\"tight\")"
   ]
  },
  {
   "attachments": {},
   "cell_type": "markdown",
   "id": "7344c5ff-78d7-4298-9c07-56c5423e3643",
   "metadata": {},
   "source": [
    "#### Finishing "
   ]
  },
  {
   "cell_type": "code",
   "execution_count": 32,
   "id": "421124a7-6168-43ac-a890-075e995b6474",
   "metadata": {},
   "outputs": [],
   "source": [
    "scm.finish()"
   ]
  },
  {
   "attachments": {},
   "cell_type": "markdown",
   "id": "ae7de68d",
   "metadata": {
    "jp-MarkdownHeadingCollapsed": true,
    "tags": []
   },
   "source": [
    "## Pure Species `Single Point`"
   ]
  },
  {
   "cell_type": "code",
   "execution_count": 68,
   "id": "67353e62",
   "metadata": {},
   "outputs": [],
   "source": [
    "SIMsNAME = \"0.1-PureSpeices_SP\"\n",
    "TASK = \"SP\"\n",
    "RUN_DIR = os.path.join(MAIN_DIR_JNB2, CHEM_FORMULA, SIMsNAME)"
   ]
  },
  {
   "attachments": {},
   "cell_type": "markdown",
   "id": "b12a72c8",
   "metadata": {},
   "source": [
    "#### Setting `BAND` *Single Point*"
   ]
  },
  {
   "cell_type": "code",
   "execution_count": 69,
   "id": "03e8ae2b",
   "metadata": {},
   "outputs": [
    {
     "name": "stdout",
     "output_type": "stream",
     "text": [
      "input: \t\n",
      "      AMS: \t\n",
      "          task: \tSinglePoint\n",
      "          Properties: \t\n",
      "                     Gradients: \tyes\n",
      "                     StressTensor: \tyes\n",
      "                     Hessian: \tyes\n",
      "                     PESPointCharacter: \tno\n",
      "                     ElasticTensor: \tno\n",
      "      BAND: \t\n",
      "           basis: \t\n",
      "                 type: \tDZP\n",
      "           xc: \t\n",
      "              GGA: \tPBE\n",
      "           KSpace: \t\n",
      "                  Quality: \tGood\n",
      "\n"
     ]
    }
   ],
   "source": [
    "from tools.misc.default_settings import settings_0_SP\n",
    "\n",
    "print(settings_0_SP)"
   ]
  },
  {
   "attachments": {},
   "cell_type": "markdown",
   "id": "c80ac01f",
   "metadata": {},
   "source": [
    "#### Set-up `RUNNER`"
   ]
  },
  {
   "cell_type": "code",
   "execution_count": 70,
   "id": "d9112215",
   "metadata": {},
   "outputs": [],
   "source": [
    "NODES = 1\n",
    "CORES_PER_NODE = 128\n",
    "CPUS_PER_CORE = 2\n",
    "MAX_JOBS = 0"
   ]
  },
  {
   "cell_type": "code",
   "execution_count": null,
   "id": "adff0331",
   "metadata": {},
   "outputs": [],
   "source": [
    "scm.init(folder=RUN_DIR)\n",
    "RUNNER = scm.GridRunner(grid=\"slurm\", sleepstep=5, parallel=True, maxjobs=MAX_JOBS)  # TODO: Replace it with GridRunner\n",
    "RUNNER.settings.workdir = \"-D\"\n",
    "RUNNER.settings.special.nodes = \"--nodes=\"\n",
    "RUNNER.settings.special.qos = \"--qos=\"\n",
    "RUNNER.settings.special.walltime = \"--time=\"\n",
    "RUNNER.settings.special.tasks_per_node = \"--ntasks-per-node=\"\n",
    "RUNNER.settings.special.cpus_per_task = \"--cpus-per-task=\"\n",
    "RUNNER.settings.special.partition = \"--partition=\"\n",
    "RUNNER.settings.special.account = \"--account=\"\n",
    "RUNNER.settings.special.job_name = \"--job-name=\"\n",
    "\n",
    "scm.config.log.file = 7  # debug\n",
    "scm.config.log.stdout = 1  # 1: important 3: normal 5: verbose 7: debug\n",
    "scm.config.job.pickle = False\n",
    "scm.config.job.runscript.nproc = CORES_PER_NODE\n",
    "scm.config.job.runscript.shebang = \"#!/bin/bash\"\n",
    "scm.config.default_jobrunner = RUNNER"
   ]
  },
  {
   "cell_type": "code",
   "execution_count": 71,
   "id": "396e04e1",
   "metadata": {},
   "outputs": [],
   "source": [
    "settings_pkl_file = os.path.join(RUN_DIR, \"settings.pkl\")\n",
    "with open(settings_pkl_file, \"wb\") as file:\n",
    "    pickle.dump(settings_0_SP, file)"
   ]
  },
  {
   "attachments": {},
   "cell_type": "markdown",
   "id": "515bc9ff",
   "metadata": {},
   "source": [
    "#### Set-up JOBS"
   ]
  },
  {
   "attachments": {},
   "cell_type": "markdown",
   "id": "be983f36-445f-47b4-a7d9-34d1f6ff5a6d",
   "metadata": {},
   "source": [
    "Load systems"
   ]
  },
  {
   "cell_type": "code",
   "execution_count": 9,
   "id": "a7720f5f-1bad-4edb-8cc7-dce7d3705ac5",
   "metadata": {},
   "outputs": [],
   "source": [
    "cis_dir = os.path.join(MAIN_DIR_JNB1, CHEM_FORMULA, \"0-materialproject\")\n",
    "systems = []\n",
    "\n",
    "for path in np.sort(glob.glob(os.path.join(cis_dir, \"*.cif\"))):\n",
    "    system_name = path.split(os.sep)[-1].split(\".cif\")[0]\n",
    "    system_mat = Structure.from_file(path)\n",
    "    system_ase = matget2ase.get_atoms(system_mat)\n",
    "    systems.append((system_name, fromASE(system_ase)))"
   ]
  },
  {
   "attachments": {},
   "cell_type": "markdown",
   "id": "a243deb4-e528-4fdc-a579-e3677e4ca3ef",
   "metadata": {},
   "source": [
    "Define jobs"
   ]
  },
  {
   "cell_type": "code",
   "execution_count": 11,
   "id": "e07980e9-1394-4864-abc1-e8a5639d791b",
   "metadata": {},
   "outputs": [],
   "source": [
    "jobs = []\n",
    "for name, system_obj in systems:\n",
    "    sim_name = f\"{TASK}-{name}\"\n",
    "    job = scm.AMSJob(molecule=system_obj, settings=settings_0_SP, name=sim_name)\n",
    "    job.settings.runscript.pre = f\"\"\"module use --append /work/pr1u1751/pr1u1751/shared/modules\n",
    "module load ams/2022.102\n",
    "\n",
    "export OMP_NUM_THREADS={CPUS_PER_CORE}\n",
    "export SCM_SHAR_NONUMA=yes\n",
    "\"\"\"\n",
    "    jobs.append(job)\n",
    "# Group all\n",
    "multi_jobs = scm.MultiJob(name=\"jobs\", children=jobs)"
   ]
  },
  {
   "attachments": {},
   "cell_type": "markdown",
   "id": "1e75292f-2470-4db3-b917-b7a3db8ea44e",
   "metadata": {},
   "source": [
    "#### Run All"
   ]
  },
  {
   "cell_type": "code",
   "execution_count": 13,
   "id": "9051c217-b75a-4038-9478-3e8af9cca4b7",
   "metadata": {},
   "outputs": [
    {
     "name": "stdout",
     "output_type": "stream",
     "text": [
      "[25.12|23:06:46] JOB jobs STARTED\n",
      "[25.12|23:06:46] JOB jobs/GO-0-C_R-3m_na4 STARTED\n",
      "[25.12|23:06:46] JOB jobs/GO-1-Li_R-3m_na3 STARTED\n",
      "[25.12|23:06:46] JOB jobs/GO-2-O_C2m_na8 STARTED\n",
      "[25.12|23:21:32] JOB jobs/GO-1-Li_R-3m_na3 SUCCESSFUL\n",
      "[26.12|15:45:03] Job jobs/GO-2-O_C2m_na8 reported warnings. Please check the the output\n",
      "[26.12|15:45:03] JOB jobs/GO-2-O_C2m_na8 SUCCESSFUL\n",
      "[26.12|23:13:11] JOB jobs/GO-0-C_R-3m_na4 FAILED\n",
      "[26.12|23:13:14] JOB jobs FAILED\n"
     ]
    }
   ],
   "source": [
    "result = multi_jobs.run(\n",
    "    jobrunner=RUNNER,\n",
    "    nodes=NODES,\n",
    "    cores=CORES_PER_NODE * NODES,\n",
    "    tasks_per_node=CORES_PER_NODE,\n",
    "    cpus_per_task=CPUS_PER_CORE,\n",
    "    walltime=\"24:00:00\",\n",
    "    partition=\"standard\",\n",
    "    account=\"pr1u1751\",\n",
    "    qos=\"standard\",\n",
    ")"
   ]
  },
  {
   "attachments": {},
   "cell_type": "markdown",
   "id": "d71fb9c7-6f69-4acd-9cde-e29d78a25d1a",
   "metadata": {},
   "source": [
    "#### Post-processing"
   ]
  },
  {
   "attachments": {},
   "cell_type": "markdown",
   "id": "3ef3e7e2-c97f-4bf1-b647-453ac3ef9b2d",
   "metadata": {},
   "source": [
    "Load Material Project data"
   ]
  },
  {
   "cell_type": "code",
   "execution_count": 72,
   "id": "df83b517-9d7d-43b5-9a87-796676d0cd65",
   "metadata": {},
   "outputs": [],
   "source": [
    "dir_jobs = os.path.join(RUN_DIR, \"jobs\")\n",
    "\n",
    "cis_dir = os.path.join(MAIN_DIR_JNB1, CHEM_FORMULA, \"0.1-pure_species\")\n",
    "data_path = os.path.join(cis_dir, \"info.json\")\n",
    "results_df = pd.read_json(data_path)"
   ]
  },
  {
   "cell_type": "code",
   "execution_count": 73,
   "id": "3a522423-b6c9-4858-81d0-f346d8f3fe37",
   "metadata": {},
   "outputs": [],
   "source": [
    "for job_dir in glob.glob(os.path.join(dir_jobs, \"*\")):\n",
    "    sim_name = job_dir.split(os.sep)[-1]\n",
    "    job_result = scm.AMSJob.load_external(job_dir, settings=settings_0_SP).results\n",
    "    energy = scm.Units.convert(job_result.get_energy(), \"au\", \"eV\")\n",
    "    results_df.loc[sim_name[3:] + \".cif\", \"scm_energy_SP\"] = energy\n",
    "    Na = len(job_result.get_molecule(\"Molecule\").atoms)\n",
    "    energy_per_atom = energy / Na\n",
    "    results_df.loc[sim_name[3:] + \".cif\", \"scm_energy_per_atom_SP\"] = energy_per_atom\n",
    "results_df.to_json(os.path.join(RUN_DIR, f\"results.json\"))"
   ]
  },
  {
   "cell_type": "code",
   "execution_count": 74,
   "id": "c5d7b8ae-39fe-4208-815d-91dccb259120",
   "metadata": {},
   "outputs": [
    {
     "data": {
      "text/html": [
       "<div>\n",
       "<style scoped>\n",
       "    .dataframe tbody tr th:only-of-type {\n",
       "        vertical-align: middle;\n",
       "    }\n",
       "\n",
       "    .dataframe tbody tr th {\n",
       "        vertical-align: top;\n",
       "    }\n",
       "\n",
       "    .dataframe thead th {\n",
       "        text-align: right;\n",
       "    }\n",
       "</style>\n",
       "<table border=\"1\" class=\"dataframe\">\n",
       "  <thead>\n",
       "    <tr style=\"text-align: right;\">\n",
       "      <th></th>\n",
       "      <th>energy_per_atom</th>\n",
       "      <th>formation_energy_per_atom</th>\n",
       "      <th>element</th>\n",
       "      <th>N</th>\n",
       "      <th>scm_energy_SP</th>\n",
       "      <th>scm_energy_per_atom_SP</th>\n",
       "    </tr>\n",
       "  </thead>\n",
       "  <tbody>\n",
       "    <tr>\n",
       "      <th>0-F_C2c_na4.cif</th>\n",
       "      <td>-1.911456</td>\n",
       "      <td>0</td>\n",
       "      <td>F</td>\n",
       "      <td>4</td>\n",
       "      <td>-7.119855</td>\n",
       "      <td>-1.779964</td>\n",
       "    </tr>\n",
       "    <tr>\n",
       "      <th>1-Li_R-3m_na3.cif</th>\n",
       "      <td>-1.908923</td>\n",
       "      <td>0</td>\n",
       "      <td>Li</td>\n",
       "      <td>3</td>\n",
       "      <td>-5.469886</td>\n",
       "      <td>-1.823295</td>\n",
       "    </tr>\n",
       "  </tbody>\n",
       "</table>\n",
       "</div>"
      ],
      "text/plain": [
       "                   energy_per_atom  ...  scm_energy_per_atom_SP\n",
       "0-F_C2c_na4.cif          -1.911456  ...               -1.779964\n",
       "1-Li_R-3m_na3.cif        -1.908923  ...               -1.823295\n",
       "\n",
       "[2 rows x 6 columns]"
      ]
     },
     "execution_count": 74,
     "metadata": {},
     "output_type": "execute_result"
    }
   ],
   "source": [
    "results_df"
   ]
  },
  {
   "cell_type": "code",
   "execution_count": 75,
   "id": "4dc9a993-c1f5-4dfe-971d-7416de516e99",
   "metadata": {},
   "outputs": [
    {
     "data": {
      "image/png": "[encoded data removed]",
      "text/plain": [
       "<Figure size 500x280 with 1 Axes>"
      ]
     },
     "metadata": {},
     "output_type": "display_data"
    }
   ],
   "source": [
    "fig = plt.figure(figsize=[5, 2.8], dpi=100)\n",
    "\n",
    "with plt.style.context(\"./articles_seaborn.mplstyle\"):\n",
    "    ax = fig.add_subplot(111)\n",
    "    idx = np.arange(len(results_df))\n",
    "    ax.bar(idx - 0.1, results_df[\"scm_energy_per_atom_SP\"], width=0.20, label=\"simulated\")\n",
    "    ax.bar(idx + 0.1, results_df[\"energy_per_atom\"], width=0.20, label=\"materials project\")\n",
    "    ax.set_ylabel(\"Energy per atoms [eV]\")\n",
    "    ax.set_xticks(idx)\n",
    "    ax.set_xticklabels(results_df.index, rotation=25, ha=\"right\")\n",
    "    # ax.legend(loc='center left', bbox_to_anchor=(1., 0.5))\n",
    "    ax.legend(loc=\"lower center\")\n",
    "    all_E = results_df[\"energy_per_atom\"].values.tolist() + results_df[\"scm_energy_per_atom_SP\"].values.tolist()\n",
    "    ax.set_ylim(np.min(all_E) - np.abs(np.mean(all_E)) * 0.05, np.max(all_E) + np.abs(np.mean(all_E)) * 0.05)\n",
    "plt.show()\n",
    "fig.savefig(os.path.join(\"plots\", f\"0.1-{CHEM_FORMULA}_{TASK}_sim_energy.pdf\"), dpi=300, bbox_inches=\"tight\")"
   ]
  },
  {
   "attachments": {},
   "cell_type": "markdown",
   "id": "7344c5ff-78d7-4298-9c07-56c5423e3643",
   "metadata": {},
   "source": [
    "#### Finishing "
   ]
  },
  {
   "cell_type": "code",
   "execution_count": 32,
   "id": "421124a7-6168-43ac-a890-075e995b6474",
   "metadata": {},
   "outputs": [],
   "source": [
    "scm.finish()"
   ]
  },
  {
   "attachments": {},
   "cell_type": "markdown",
   "id": "4ee6311d-d60f-407c-8c2e-0978718b0541",
   "metadata": {
    "jp-MarkdownHeadingCollapsed": true,
    "tags": []
   },
   "source": [
    "## Pure Species `Geometry Optimization`"
   ]
  },
  {
   "cell_type": "code",
   "execution_count": 76,
   "id": "3412c32d-d8bd-4ef3-abad-24b7264dcb38",
   "metadata": {},
   "outputs": [],
   "source": [
    "SIMsNAME = \"0.1-PureSpeices_GO\"\n",
    "TASK = \"GO\"\n",
    "RUN_DIR = os.path.join(MAIN_DIR_JNB2, CHEM_FORMULA, SIMsNAME)"
   ]
  },
  {
   "attachments": {},
   "cell_type": "markdown",
   "id": "61fecff7-741a-4bd8-af36-647668a0a563",
   "metadata": {},
   "source": [
    "#### Setting `BAND` *Single Point*"
   ]
  },
  {
   "cell_type": "code",
   "execution_count": 77,
   "id": "19560fc0-4118-48f4-9d2a-56112dc58478",
   "metadata": {},
   "outputs": [
    {
     "name": "stdout",
     "output_type": "stream",
     "text": [
      "input: \t\n",
      "      AMS: \t\n",
      "          task: \tGeometryOptimization\n",
      "          Properties: \t\n",
      "                     Gradients: \tno\n",
      "                     StressTensor: \tno\n",
      "                     Hessian: \tno\n",
      "                     PESPointCharacter: \tno\n",
      "                     ElasticTensor: \tno\n",
      "          GeometryOptimization: \t\n",
      "                               OptimizeLattice: \tyes\n",
      "                               PretendConverged: \tyes\n",
      "                               MaxIterations: \t500\n",
      "      BAND: \t\n",
      "           basis: \t\n",
      "                 type: \tDZP\n",
      "           xc: \t\n",
      "              GGA: \tPBE\n",
      "           SCF: \t\n",
      "               Iterations: \t150\n",
      "           RadialDefaults: \t\n",
      "                          NR: \t3000\n",
      "           CPVector: \t256\n",
      "           KGRPX: \t10\n",
      "\n"
     ]
    }
   ],
   "source": [
    "from tools.misc.default_settings import settings_0_GO\n",
    "\n",
    "print(settings_0_GO)"
   ]
  },
  {
   "attachments": {},
   "cell_type": "markdown",
   "id": "844962d6-c43a-4dfd-9d42-6a284df33f40",
   "metadata": {},
   "source": [
    "#### Set-up `RUNNER`"
   ]
  },
  {
   "cell_type": "code",
   "execution_count": 78,
   "id": "a8169564-9fcd-4cce-a852-dba8f3aadbac",
   "metadata": {},
   "outputs": [],
   "source": [
    "NODES = 2\n",
    "CORES_PER_NODE = 64\n",
    "CPUS_PER_CORE = 2\n",
    "MAX_JOBS = 0"
   ]
  },
  {
   "cell_type": "code",
   "execution_count": null,
   "id": "d08248ee-2c7c-41fd-a932-f71d9141f5a8",
   "metadata": {},
   "outputs": [],
   "source": [
    "scm.init(folder=RUN_DIR)\n",
    "RUNNER = scm.GridRunner(grid=\"slurm\", sleepstep=5, parallel=True, maxjobs=MAX_JOBS)  # TODO: Replace it with GridRunner\n",
    "RUNNER.settings.workdir = \"-D\"\n",
    "RUNNER.settings.special.nodes = \"--nodes=\"\n",
    "RUNNER.settings.special.qos = \"--qos=\"\n",
    "RUNNER.settings.special.walltime = \"--time=\"\n",
    "RUNNER.settings.special.tasks_per_node = \"--ntasks-per-node=\"\n",
    "RUNNER.settings.special.cpus_per_task = \"--cpus-per-task=\"\n",
    "RUNNER.settings.special.partition = \"--partition=\"\n",
    "RUNNER.settings.special.account = \"--account=\"\n",
    "RUNNER.settings.special.job_name = \"--job-name=\"\n",
    "\n",
    "scm.config.log.file = 7  # debug\n",
    "scm.config.log.stdout = 1  # 1: important 3: normal 5: verbose 7: debug\n",
    "scm.config.job.pickle = False\n",
    "scm.config.job.runscript.nproc = CORES_PER_NODE * NODES\n",
    "scm.config.job.runscript.shebang = \"#!/bin/bash\"\n",
    "scm.config.default_jobrunner = RUNNER"
   ]
  },
  {
   "cell_type": "code",
   "execution_count": 79,
   "id": "a641f306-e6e8-4a1f-b992-ab548ecbf2d1",
   "metadata": {},
   "outputs": [],
   "source": [
    "settings_pkl_file = os.path.join(RUN_DIR, \"settings.pkl\")\n",
    "with open(settings_pkl_file, \"wb\") as file:\n",
    "    pickle.dump(settings_0_GO, file)"
   ]
  },
  {
   "attachments": {},
   "cell_type": "markdown",
   "id": "fd8bee4a-49a8-4054-b5c7-eb83d1b88d0f",
   "metadata": {},
   "source": [
    "#### Set-up JOBS"
   ]
  },
  {
   "attachments": {},
   "cell_type": "markdown",
   "id": "be983f36-445f-47b4-a7d9-34d1f6ff5a6d",
   "metadata": {},
   "source": [
    "Load systems"
   ]
  },
  {
   "cell_type": "code",
   "execution_count": 80,
   "id": "a7720f5f-1bad-4edb-8cc7-dce7d3705ac5",
   "metadata": {},
   "outputs": [],
   "source": [
    "cis_dir = os.path.join(MAIN_DIR_JNB1, CHEM_FORMULA, \"0.1-pure_species\")\n",
    "systems = []\n",
    "\n",
    "for path in np.sort(glob.glob(os.path.join(cis_dir, \"*.cif\"))):\n",
    "    system_name = path.split(os.sep)[-1].split(\".cif\")[0]\n",
    "    system_mat = Structure.from_file(path)\n",
    "    system_ase = matget2ase.get_atoms(system_mat)\n",
    "    systems.append((system_name, fromASE(system_ase)))"
   ]
  },
  {
   "attachments": {},
   "cell_type": "markdown",
   "id": "a243deb4-e528-4fdc-a579-e3677e4ca3ef",
   "metadata": {},
   "source": [
    "Define jobs"
   ]
  },
  {
   "cell_type": "code",
   "execution_count": 11,
   "id": "e07980e9-1394-4864-abc1-e8a5639d791b",
   "metadata": {},
   "outputs": [],
   "source": [
    "jobs = []\n",
    "for name, system_obj in systems:\n",
    "    sim_name = f\"{TASK}-{name}\"\n",
    "    job = scm.AMSJob(molecule=system_obj, settings=settings_0_GO, name=sim_name)\n",
    "    job.settings.runscript.pre = f\"\"\"module use --append /work/pr1u1751/pr1u1751/shared/modules\n",
    "module load ams/2022.102\n",
    "\n",
    "export OMP_NUM_THREADS={CPUS_PER_CORE}\n",
    "export SCM_SHAR_NONUMA=yes\n",
    "\"\"\"\n",
    "    jobs.append(job)\n",
    "# Group all\n",
    "multi_jobs = scm.MultiJob(name=\"jobs\", children=jobs)"
   ]
  },
  {
   "attachments": {},
   "cell_type": "markdown",
   "id": "1e75292f-2470-4db3-b917-b7a3db8ea44e",
   "metadata": {},
   "source": [
    "#### Run All"
   ]
  },
  {
   "cell_type": "code",
   "execution_count": 13,
   "id": "9051c217-b75a-4038-9478-3e8af9cca4b7",
   "metadata": {},
   "outputs": [
    {
     "name": "stdout",
     "output_type": "stream",
     "text": [
      "[25.12|23:06:46] JOB jobs STARTED\n",
      "[25.12|23:06:46] JOB jobs/GO-0-C_R-3m_na4 STARTED\n",
      "[25.12|23:06:46] JOB jobs/GO-1-Li_R-3m_na3 STARTED\n",
      "[25.12|23:06:46] JOB jobs/GO-2-O_C2m_na8 STARTED\n",
      "[25.12|23:21:32] JOB jobs/GO-1-Li_R-3m_na3 SUCCESSFUL\n",
      "[26.12|15:45:03] Job jobs/GO-2-O_C2m_na8 reported warnings. Please check the the output\n",
      "[26.12|15:45:03] JOB jobs/GO-2-O_C2m_na8 SUCCESSFUL\n",
      "[26.12|23:13:11] JOB jobs/GO-0-C_R-3m_na4 FAILED\n",
      "[26.12|23:13:14] JOB jobs FAILED\n"
     ]
    }
   ],
   "source": [
    "result = multi_jobs.run(\n",
    "    jobrunner=RUNNER,\n",
    "    nodes=NODES,\n",
    "    cores=CORES_PER_NODE * NODES,\n",
    "    tasks_per_node=CORES_PER_NODE,\n",
    "    cpus_per_task=CPUS_PER_CORE,\n",
    "    walltime=\"24:00:00\",\n",
    "    partition=\"standard\",\n",
    "    account=\"pr1u1751\",\n",
    "    qos=\"standard\",\n",
    ")"
   ]
  },
  {
   "attachments": {},
   "cell_type": "markdown",
   "id": "d71fb9c7-6f69-4acd-9cde-e29d78a25d1a",
   "metadata": {},
   "source": [
    "#### Post-processing"
   ]
  },
  {
   "attachments": {},
   "cell_type": "markdown",
   "id": "3ef3e7e2-c97f-4bf1-b647-453ac3ef9b2d",
   "metadata": {},
   "source": [
    "Load Material Project data"
   ]
  },
  {
   "cell_type": "code",
   "execution_count": 81,
   "id": "df83b517-9d7d-43b5-9a87-796676d0cd65",
   "metadata": {},
   "outputs": [],
   "source": [
    "dir_jobs = os.path.join(RUN_DIR, \"jobs\")\n",
    "\n",
    "prev_sim = os.path.join(MAIN_DIR_JNB2, CHEM_FORMULA, \"0.1-PureSpeices_SP\")\n",
    "data_path = os.path.join(prev_sim, f\"results.json\")\n",
    "results_df = pd.read_json(data_path)"
   ]
  },
  {
   "cell_type": "code",
   "execution_count": 82,
   "id": "3a522423-b6c9-4858-81d0-f346d8f3fe37",
   "metadata": {},
   "outputs": [],
   "source": [
    "for job_dir in glob.glob(os.path.join(dir_jobs, \"*\")):\n",
    "    sim_name = job_dir.split(os.sep)[-1]\n",
    "    job_result = scm.AMSJob.load_external(job_dir, settings=settings_0_GO).results\n",
    "    energy = scm.Units.convert(job_result.get_energy(), \"au\", \"eV\")\n",
    "    results_df.loc[sim_name[3:] + \".cif\", \"scm_energy_GO\"] = energy\n",
    "    Na = len(job_result.get_molecule(\"Molecule\").atoms)\n",
    "    energy_per_atom = energy / Na\n",
    "    results_df.loc[sim_name[3:] + \".cif\", \"scm_energy_per_atom_GO\"] = energy_per_atom\n",
    "results_df.to_json(os.path.join(RUN_DIR, f\"results.json\"))"
   ]
  },
  {
   "cell_type": "code",
   "execution_count": 83,
   "id": "c5d7b8ae-39fe-4208-815d-91dccb259120",
   "metadata": {},
   "outputs": [
    {
     "data": {
      "text/html": [
       "<div>\n",
       "<style scoped>\n",
       "    .dataframe tbody tr th:only-of-type {\n",
       "        vertical-align: middle;\n",
       "    }\n",
       "\n",
       "    .dataframe tbody tr th {\n",
       "        vertical-align: top;\n",
       "    }\n",
       "\n",
       "    .dataframe thead th {\n",
       "        text-align: right;\n",
       "    }\n",
       "</style>\n",
       "<table border=\"1\" class=\"dataframe\">\n",
       "  <thead>\n",
       "    <tr style=\"text-align: right;\">\n",
       "      <th></th>\n",
       "      <th>energy_per_atom</th>\n",
       "      <th>formation_energy_per_atom</th>\n",
       "      <th>element</th>\n",
       "      <th>N</th>\n",
       "      <th>scm_energy_SP</th>\n",
       "      <th>scm_energy_per_atom_SP</th>\n",
       "      <th>scm_energy_GO</th>\n",
       "      <th>scm_energy_per_atom_GO</th>\n",
       "    </tr>\n",
       "  </thead>\n",
       "  <tbody>\n",
       "    <tr>\n",
       "      <th>0-F_C2c_na4.cif</th>\n",
       "      <td>-1.911456</td>\n",
       "      <td>0</td>\n",
       "      <td>F</td>\n",
       "      <td>4</td>\n",
       "      <td>-7.119855</td>\n",
       "      <td>-1.779964</td>\n",
       "      <td>-7.182324</td>\n",
       "      <td>-1.795581</td>\n",
       "    </tr>\n",
       "    <tr>\n",
       "      <th>1-Li_R-3m_na3.cif</th>\n",
       "      <td>-1.908923</td>\n",
       "      <td>0</td>\n",
       "      <td>Li</td>\n",
       "      <td>3</td>\n",
       "      <td>-5.469886</td>\n",
       "      <td>-1.823295</td>\n",
       "      <td>-5.476674</td>\n",
       "      <td>-1.825558</td>\n",
       "    </tr>\n",
       "  </tbody>\n",
       "</table>\n",
       "</div>"
      ],
      "text/plain": [
       "                   energy_per_atom  ...  scm_energy_per_atom_GO\n",
       "0-F_C2c_na4.cif          -1.911456  ...               -1.795581\n",
       "1-Li_R-3m_na3.cif        -1.908923  ...               -1.825558\n",
       "\n",
       "[2 rows x 8 columns]"
      ]
     },
     "execution_count": 83,
     "metadata": {},
     "output_type": "execute_result"
    }
   ],
   "source": [
    "results_df"
   ]
  },
  {
   "cell_type": "code",
   "execution_count": 84,
   "id": "4dc9a993-c1f5-4dfe-971d-7416de516e99",
   "metadata": {},
   "outputs": [
    {
     "data": {
      "image/png": "[encoded data removed]",
      "text/plain": [
       "<Figure size 500x250 with 1 Axes>"
      ]
     },
     "metadata": {},
     "output_type": "display_data"
    }
   ],
   "source": [
    "fig = plt.figure(figsize=[5, 2.5], dpi=100)\n",
    "\n",
    "with plt.style.context(\"./articles_seaborn.mplstyle\"):\n",
    "    ax = fig.add_subplot(111)\n",
    "    idx = np.arange(len(results_df.index))\n",
    "    ax.bar(idx - 0.2, results_df[\"energy_per_atom\"], width=0.20, label=\"Materials Project\")\n",
    "    ax.bar(idx + 0.0, results_df[\"scm_energy_per_atom_SP\"], width=0.20, label=\"BAND (SP)\")\n",
    "    ax.bar(idx + 0.2, results_df[\"scm_energy_per_atom_GO\"], width=0.20, label=\"BAND (GO)\")\n",
    "    ax.set_ylabel(\"Energy per atoms [eV]\")\n",
    "    ax.set_xticks(idx)\n",
    "    ax.set_xticklabels(results_df.index, rotation=25, ha=\"right\")\n",
    "    # ax.legend(loc='center left', bbox_to_anchor=(1., 0.5))\n",
    "    ax.legend(loc=\"lower center\")\n",
    "    all_E = (\n",
    "        results_df[\"energy_per_atom\"].values.tolist()\n",
    "        + results_df[\"scm_energy_per_atom_SP\"].values.tolist()\n",
    "        + results_df[\"scm_energy_per_atom_GO\"].values.tolist()\n",
    "    )\n",
    "    ax.set_ylim(np.min(all_E) - np.abs(np.mean(all_E)) * 0.05, np.max(all_E) + np.abs(np.mean(all_E)) * 0.05)\n",
    "\n",
    "plt.show()\n",
    "fig.savefig(os.path.join(\"plots\", f\"0.1-{CHEM_FORMULA}_{TASK}_sim_energy.pdf\"), dpi=300, bbox_inches=\"tight\")"
   ]
  },
  {
   "attachments": {},
   "cell_type": "markdown",
   "id": "7344c5ff-78d7-4298-9c07-56c5423e3643",
   "metadata": {},
   "source": [
    "#### Finishing "
   ]
  },
  {
   "cell_type": "code",
   "execution_count": 32,
   "id": "421124a7-6168-43ac-a890-075e995b6474",
   "metadata": {},
   "outputs": [],
   "source": [
    "scm.finish()"
   ]
  },
  {
   "attachments": {},
   "cell_type": "markdown",
   "id": "ffad3842-1433-4dc4-964d-96993ab62fc7",
   "metadata": {
    "jp-MarkdownHeadingCollapsed": true,
    "tags": []
   },
   "source": [
    "## Supercells `Single Point`"
   ]
  },
  {
   "cell_type": "code",
   "execution_count": 86,
   "id": "4842b982-cf29-4dbe-8946-eb57a51eb1b6",
   "metadata": {},
   "outputs": [],
   "source": [
    "SIMsNAME = \"1-Supercells_SP\"\n",
    "TASK = \"SP\"\n",
    "RUN_DIR = os.path.join(MAIN_DIR_JNB2, CHEM_FORMULA, SIMsNAME)"
   ]
  },
  {
   "attachments": {},
   "cell_type": "markdown",
   "id": "a36b1699-fb05-44b8-80ac-bbda12c70f53",
   "metadata": {},
   "source": [
    "#### Setting `BAND` *Single Point*"
   ]
  },
  {
   "cell_type": "code",
   "execution_count": 85,
   "id": "dd45eb4f-128f-4251-be82-eade3b20d1c2",
   "metadata": {},
   "outputs": [
    {
     "name": "stdout",
     "output_type": "stream",
     "text": [
      "input: \t\n",
      "      AMS: \t\n",
      "          task: \tSinglePoint\n",
      "          Properties: \t\n",
      "                     Gradients: \tyes\n",
      "                     StressTensor: \tno\n",
      "                     Hessian: \tno\n",
      "                     PESPointCharacter: \tno\n",
      "                     ElasticTensor: \tno\n",
      "          GeometryOptimization: \t\n",
      "                               OptimizeLattice: \tno\n",
      "      BAND: \t\n",
      "           basis: \t\n",
      "                 type: \tDZP\n",
      "           xc: \t\n",
      "              GGA: \tPBE\n",
      "           KSpace: \t\n",
      "                  Quality: \tGood\n",
      "\n"
     ]
    }
   ],
   "source": [
    "from tools.misc.default_settings import settings_1_SP\n",
    "\n",
    "print(settings_1_SP)"
   ]
  },
  {
   "attachments": {},
   "cell_type": "markdown",
   "id": "5ee37e5d-32cb-4f4f-899c-f0efac6c71c0",
   "metadata": {},
   "source": [
    "#### Set-up `RUNNER`"
   ]
  },
  {
   "cell_type": "code",
   "execution_count": 87,
   "id": "bd22c841-1f06-4955-8936-a55c107e4648",
   "metadata": {},
   "outputs": [],
   "source": [
    "NODES = 2\n",
    "CORES_PER_NODE = 64\n",
    "CPUS_PER_CORE = 3\n",
    "MAX_JOBS = 0"
   ]
  },
  {
   "cell_type": "code",
   "execution_count": null,
   "id": "2fad9903-b5cf-4033-a6b4-2408bf3ce9d9",
   "metadata": {},
   "outputs": [],
   "source": [
    "scm.init(folder=RUN_DIR)\n",
    "RUNNER = scm.GridRunner(grid=\"slurm\", sleepstep=5, parallel=True, maxjobs=MAX_JOBS)  # TODO: Replace it with GridRunner\n",
    "RUNNER.settings.workdir = \"-D\"\n",
    "RUNNER.settings.special.nodes = \"--nodes=\"\n",
    "RUNNER.settings.special.qos = \"--qos=\"\n",
    "RUNNER.settings.special.walltime = \"--time=\"\n",
    "RUNNER.settings.special.tasks_per_node = \"--ntasks-per-node=\"\n",
    "RUNNER.settings.special.cpus_per_task = \"--cpus-per-task=\"\n",
    "RUNNER.settings.special.partition = \"--partition=\"\n",
    "RUNNER.settings.special.account = \"--account=\"\n",
    "RUNNER.settings.special.job_name = \"--job-name=\"\n",
    "\n",
    "scm.config.log.file = 7  # debug\n",
    "scm.config.log.stdout = 1  # 1: important 3: normal 5: verbose 7: debug\n",
    "scm.config.job.pickle = False\n",
    "scm.config.job.runscript.nproc = CORES_PER_NODE\n",
    "scm.config.job.runscript.shebang = \"#!/bin/bash\"\n",
    "scm.config.default_jobrunner = RUNNER"
   ]
  },
  {
   "cell_type": "code",
   "execution_count": 88,
   "id": "d907cbae-a816-469c-98d7-b7486b4712b3",
   "metadata": {},
   "outputs": [],
   "source": [
    "settings_pkl_file = os.path.join(RUN_DIR, \"settings.pkl\")\n",
    "with open(settings_pkl_file, \"wb\") as file:\n",
    "    pickle.dump(settings_1_SP, file)"
   ]
  },
  {
   "attachments": {},
   "cell_type": "markdown",
   "id": "d10c7620-c6eb-439d-8dd4-e9b46550108d",
   "metadata": {},
   "source": [
    "### Set-up JOBS"
   ]
  },
  {
   "attachments": {},
   "cell_type": "markdown",
   "id": "43a7bb10-fb4f-4c24-b800-4aa4d96cb329",
   "metadata": {},
   "source": [
    "Load systems"
   ]
  },
  {
   "cell_type": "code",
   "execution_count": 89,
   "id": "4182ee02-416a-4f97-8a04-9d72c2e6607d",
   "metadata": {},
   "outputs": [
    {
     "name": "stderr",
     "output_type": "stream",
     "text": [
      "/home/paolo/Enhancing_ReaxFF/venv/lib/python3.8/site-packages/pymatgen/io/cif.py:1134: UserWarning: Issues encountered while parsing CIF: Some fractional coordinates rounded to ideal values to avoid issues with finite precision.\n",
      "  warnings.warn(\"Issues encountered while parsing CIF: \" + \"\\n\".join(self.warnings))\n"
     ]
    }
   ],
   "source": [
    "cis_dir = os.path.join(MAIN_DIR_JNB1, CHEM_FORMULA, \"1-supercell\")\n",
    "systems = []\n",
    "\n",
    "for path in np.sort(glob.glob(os.path.join(cis_dir, \"*.cif\"))):\n",
    "    system_name = path.split(os.sep)[-1].split(\".cif\")[0]\n",
    "    system_mat = Structure.from_file(path)\n",
    "    system_ase = matget2ase.get_atoms(system_mat)\n",
    "    systems.append((system_name, fromASE(system_ase)))"
   ]
  },
  {
   "attachments": {},
   "cell_type": "markdown",
   "id": "ee75e680-05b2-43b6-aece-e9c3f358bc0a",
   "metadata": {},
   "source": [
    "Define jobs"
   ]
  },
  {
   "cell_type": "code",
   "execution_count": 33,
   "id": "e58daec6-1896-427e-aee1-6641af3fe9b6",
   "metadata": {},
   "outputs": [],
   "source": [
    "jobs = []\n",
    "for name, system_obj in systems:\n",
    "    sim_name = f\"{TASK}-{name}\"\n",
    "    job = scm.AMSJob(molecule=system_obj, settings=settings_1_SP, name=sim_name)\n",
    "    job.settings.runscript.pre = \"\"\"module use --append /work/pr1u1751/pr1u1751/shared/modules\n",
    "module load ams/2022.102\n",
    "\n",
    "export SCM_SHAR_NONUMA=yes\n",
    "\"\"\"\n",
    "    jobs.append(job)\n",
    "# Group all\n",
    "multi_jobs = scm.MultiJob(name=\"jobs\", children=jobs)"
   ]
  },
  {
   "attachments": {},
   "cell_type": "markdown",
   "id": "2069ae67-3d41-4879-b309-b8a167434767",
   "metadata": {},
   "source": [
    "#### Run All"
   ]
  },
  {
   "cell_type": "code",
   "execution_count": null,
   "id": "f9d3d541-5b2e-46e1-8260-87bc877f536f",
   "metadata": {},
   "outputs": [
    {
     "name": "stdout",
     "output_type": "stream",
     "text": [
      "[05.07|19:49:58] JOB jobs STARTED\n",
      "[05.07|19:49:58] JOB jobs/SP-1.0-0-Li2CO3_P6_3mcm_-2.19_2x1x1 STARTED\n",
      "[05.07|19:49:58] JOB jobs/SP-1.0-1-Li2CO3_C2c_-2.26_2x1x1 STARTED\n",
      "[05.07|19:49:58] JOB jobs/SP-1.1-0-Li2CO3_P6_3mcm_-2.19_2x2x1 STARTED\n",
      "[05.07|19:49:58] JOB jobs/SP-1.1-1-Li2CO3_C2c_-2.26_2x2x1 STARTED\n",
      "[05.07|19:49:58] JOB jobs/SP-1.2-0-Li2CO3_P6_3mcm_-2.19_2x2x2 STARTED\n",
      "[05.07|19:49:58] JOB jobs/SP-1.2-1-Li2CO3_C2c_-2.26_2x2x2 STARTED\n",
      "[05.07|19:49:58] JOB jobs/SP-1.3-0-Li2CO3_P6_3mcm_-2.19_3x2x2 STARTED\n",
      "[05.07|19:49:58] JOB jobs/SP-1.3-1-Li2CO3_C2c_-2.26_3x2x2 STARTED\n",
      "[05.07|19:49:58] JOB jobs/SP-1.4-0-Li2CO3_P6_3mcm_-2.19_3x3x2 STARTED\n",
      "[05.07|19:49:58] JOB jobs/SP-1.4-1-Li2CO3_C2c_-2.26_3x3x2 STARTED\n",
      "[05.07|19:49:58] JOB jobs/SP-1.5-0-Li2CO3_P6_3mcm_-2.19_3x3x3 STARTED\n",
      "[05.07|19:49:58] JOB jobs/SP-1.5-1-Li2CO3_C2c_-2.26_3x3x3 STARTED\n",
      "[05.07|19:55:26] JOB jobs/SP-1.0-0-Li2CO3_P6_3mcm_-2.19_2x1x1 SUCCESSFUL\n",
      "[05.07|19:56:21] JOB jobs/SP-1.0-1-Li2CO3_C2c_-2.26_2x1x1 SUCCESSFUL\n",
      "[05.07|20:01:31] JOB jobs/SP-1.1-1-Li2CO3_C2c_-2.26_2x2x1 SUCCESSFUL\n",
      "[05.07|20:04:33] JOB jobs/SP-1.1-0-Li2CO3_P6_3mcm_-2.19_2x2x1 SUCCESSFUL\n",
      "[05.07|20:20:42] JOB jobs/SP-1.4-1-Li2CO3_C2c_-2.26_3x3x2 SUCCESSFUL\n",
      "[05.07|20:21:50] JOB jobs/SP-1.2-0-Li2CO3_P6_3mcm_-2.19_2x2x2 SUCCESSFUL\n",
      "[05.07|20:23:03] JOB jobs/SP-1.2-1-Li2CO3_C2c_-2.26_2x2x2 SUCCESSFUL\n",
      "[05.07|20:26:26] JOB jobs/SP-1.3-0-Li2CO3_P6_3mcm_-2.19_3x2x2 SUCCESSFUL\n",
      "[05.07|20:27:33] JOB jobs/SP-1.3-1-Li2CO3_C2c_-2.26_3x2x2 SUCCESSFUL\n",
      "[05.07|20:29:58] JOB jobs/SP-1.4-0-Li2CO3_P6_3mcm_-2.19_3x3x2 SUCCESSFUL\n",
      "[05.07|20:48:45] JOB jobs/SP-1.5-1-Li2CO3_C2c_-2.26_3x3x3 SUCCESSFUL\n",
      "[05.07|21:15:03] JOB jobs/SP-1.5-0-Li2CO3_P6_3mcm_-2.19_3x3x3 SUCCESSFUL\n",
      "[05.07|21:15:05] JOB jobs SUCCESSFUL\n"
     ]
    }
   ],
   "source": [
    "result = multi_jobs.run(\n",
    "    jobrunner=RUNNER,\n",
    "    nodes=NODES,\n",
    "    cores=CORES_PER_NODE * NODES,\n",
    "    tasks_per_node=CORES_PER_NODE,\n",
    "    cpus_per_task=CPUS_PER_CORE,\n",
    "    walltime=\"24:00:00\",\n",
    "    partition=\"standard\",\n",
    "    account=\"pr1u1751\",\n",
    "    qos=\"standard\",\n",
    ")"
   ]
  },
  {
   "attachments": {},
   "cell_type": "markdown",
   "id": "c903cfd7-45da-488a-b2b3-0f1701438b88",
   "metadata": {},
   "source": [
    "### Post-processing"
   ]
  },
  {
   "attachments": {},
   "cell_type": "markdown",
   "id": "0bc3a67a-2b7e-4654-ad98-05020184ae8e",
   "metadata": {},
   "source": [
    "Load crystel data"
   ]
  },
  {
   "cell_type": "code",
   "execution_count": 105,
   "id": "90d395f2-a3d4-4c58-a576-97a047fe5805",
   "metadata": {},
   "outputs": [],
   "source": [
    "dir_jobs = os.path.join(RUN_DIR, \"jobs\")\n",
    "\n",
    "cis_dir = os.path.join(MAIN_DIR_JNB1, CHEM_FORMULA, \"1-supercell\")\n",
    "data_path = os.path.join(cis_dir, \"info.json\")\n",
    "results_df = pd.read_json(data_path)"
   ]
  },
  {
   "cell_type": "code",
   "execution_count": 106,
   "id": "0f02e883-0d45-4d44-b9bf-01bf5b3ee53d",
   "metadata": {},
   "outputs": [
    {
     "data": {
      "text/html": [
       "<div>\n",
       "<style scoped>\n",
       "    .dataframe tbody tr th:only-of-type {\n",
       "        vertical-align: middle;\n",
       "    }\n",
       "\n",
       "    .dataframe tbody tr th {\n",
       "        vertical-align: top;\n",
       "    }\n",
       "\n",
       "    .dataframe thead th {\n",
       "        text-align: right;\n",
       "    }\n",
       "</style>\n",
       "<table border=\"1\" class=\"dataframe\">\n",
       "  <thead>\n",
       "    <tr style=\"text-align: right;\">\n",
       "      <th></th>\n",
       "      <th>unitcell_repetition</th>\n",
       "    </tr>\n",
       "  </thead>\n",
       "  <tbody>\n",
       "    <tr>\n",
       "      <th>1.0-0-LiF_Fm-3m_-3.18_2x1x1.cif</th>\n",
       "      <td>2</td>\n",
       "    </tr>\n",
       "    <tr>\n",
       "      <th>1.0-1-LiF_P6_3mc_-3.17_2x1x1.cif</th>\n",
       "      <td>2</td>\n",
       "    </tr>\n",
       "    <tr>\n",
       "      <th>1.0-2-LiF_Pm-3m_-2.89_2x1x1.cif</th>\n",
       "      <td>2</td>\n",
       "    </tr>\n",
       "    <tr>\n",
       "      <th>1.1-0-LiF_Fm-3m_-3.18_2x2x1.cif</th>\n",
       "      <td>4</td>\n",
       "    </tr>\n",
       "    <tr>\n",
       "      <th>1.1-1-LiF_P6_3mc_-3.17_2x2x1.cif</th>\n",
       "      <td>4</td>\n",
       "    </tr>\n",
       "  </tbody>\n",
       "</table>\n",
       "</div>"
      ],
      "text/plain": [
       "                                  unitcell_repetition\n",
       "1.0-0-LiF_Fm-3m_-3.18_2x1x1.cif                     2\n",
       "1.0-1-LiF_P6_3mc_-3.17_2x1x1.cif                    2\n",
       "1.0-2-LiF_Pm-3m_-2.89_2x1x1.cif                     2\n",
       "1.1-0-LiF_Fm-3m_-3.18_2x2x1.cif                     4\n",
       "1.1-1-LiF_P6_3mc_-3.17_2x2x1.cif                    4"
      ]
     },
     "execution_count": 106,
     "metadata": {},
     "output_type": "execute_result"
    }
   ],
   "source": [
    "results_df.head()"
   ]
  },
  {
   "cell_type": "code",
   "execution_count": 111,
   "id": "708bfe27-b7a4-4cf9-bd78-4193462ad168",
   "metadata": {},
   "outputs": [],
   "source": [
    "crystal_dir = os.path.join(MAIN_DIR_JNB1, CHEM_FORMULA, \"0-materialproject\")\n",
    "data_path = os.path.join(crystal_dir, \"info.json\")\n",
    "crystals_df = pd.read_json(data_path)\n",
    "\n",
    "for job_dir in np.sort(glob.glob(os.path.join(dir_jobs, \"*\"))):\n",
    "    sim_name = job_dir.split(os.sep)[-1]\n",
    "    job_result = scm.AMSJob.load_external(job_dir, settings=settings_1_SP).results\n",
    "    energy = scm.Units.convert(job_result.get_energy(), \"au\", \"eV\")\n",
    "    results_df.loc[sim_name[3:] + \".cif\", \"energy_SP\"] = energy\n",
    "    Na = len(job_result.get_molecule(\"Molecule\").atoms)\n",
    "    energy_per_atom = energy / Na\n",
    "    results_df.loc[sim_name[3:] + \".cif\", \"energy_per_atom_SP\"] = energy_per_atom\n",
    "\n",
    "results_df.to_json(os.path.join(RUN_DIR, f\"results.json\"))"
   ]
  },
  {
   "cell_type": "code",
   "execution_count": 112,
   "id": "64b16fbf",
   "metadata": {},
   "outputs": [
    {
     "data": {
      "text/html": [
       "<div>\n",
       "<style scoped>\n",
       "    .dataframe tbody tr th:only-of-type {\n",
       "        vertical-align: middle;\n",
       "    }\n",
       "\n",
       "    .dataframe tbody tr th {\n",
       "        vertical-align: top;\n",
       "    }\n",
       "\n",
       "    .dataframe thead th {\n",
       "        text-align: right;\n",
       "    }\n",
       "</style>\n",
       "<table border=\"1\" class=\"dataframe\">\n",
       "  <thead>\n",
       "    <tr style=\"text-align: right;\">\n",
       "      <th></th>\n",
       "      <th>unitcell_repetition</th>\n",
       "      <th>energy_SP</th>\n",
       "      <th>energy_per_atom_SP</th>\n",
       "    </tr>\n",
       "  </thead>\n",
       "  <tbody>\n",
       "    <tr>\n",
       "      <th>1.0-0-LiF_Fm-3m_-3.18_2x1x1.cif</th>\n",
       "      <td>2</td>\n",
       "      <td>-19.251315</td>\n",
       "      <td>-4.812829</td>\n",
       "    </tr>\n",
       "    <tr>\n",
       "      <th>1.0-1-LiF_P6_3mc_-3.17_2x1x1.cif</th>\n",
       "      <td>2</td>\n",
       "      <td>-38.292625</td>\n",
       "      <td>-4.786578</td>\n",
       "    </tr>\n",
       "    <tr>\n",
       "      <th>1.0-2-LiF_Pm-3m_-2.89_2x1x1.cif</th>\n",
       "      <td>2</td>\n",
       "      <td>-18.076721</td>\n",
       "      <td>-4.519180</td>\n",
       "    </tr>\n",
       "    <tr>\n",
       "      <th>1.1-0-LiF_Fm-3m_-3.18_2x2x1.cif</th>\n",
       "      <td>4</td>\n",
       "      <td>-38.502611</td>\n",
       "      <td>-4.812826</td>\n",
       "    </tr>\n",
       "    <tr>\n",
       "      <th>1.1-1-LiF_P6_3mc_-3.17_2x2x1.cif</th>\n",
       "      <td>4</td>\n",
       "      <td>-76.653339</td>\n",
       "      <td>-4.790834</td>\n",
       "    </tr>\n",
       "  </tbody>\n",
       "</table>\n",
       "</div>"
      ],
      "text/plain": [
       "                                  unitcell_repetition  ...  energy_per_atom_SP\n",
       "1.0-0-LiF_Fm-3m_-3.18_2x1x1.cif                     2  ...           -4.812829\n",
       "1.0-1-LiF_P6_3mc_-3.17_2x1x1.cif                    2  ...           -4.786578\n",
       "1.0-2-LiF_Pm-3m_-2.89_2x1x1.cif                     2  ...           -4.519180\n",
       "1.1-0-LiF_Fm-3m_-3.18_2x2x1.cif                     4  ...           -4.812826\n",
       "1.1-1-LiF_P6_3mc_-3.17_2x2x1.cif                    4  ...           -4.790834\n",
       "\n",
       "[5 rows x 3 columns]"
      ]
     },
     "execution_count": 112,
     "metadata": {},
     "output_type": "execute_result"
    }
   ],
   "source": [
    "results_df.head()"
   ]
  },
  {
   "cell_type": "code",
   "execution_count": 128,
   "id": "900a5429-5b33-437f-a4cd-e709621c0408",
   "metadata": {},
   "outputs": [
    {
     "data": {
      "image/png": "[encoded data removed]",
      "text/plain": [
       "<Figure size 400x250 with 1 Axes>"
      ]
     },
     "metadata": {},
     "output_type": "display_data"
    }
   ],
   "source": [
    "fig = plt.figure(figsize=[4, 2.5])\n",
    "n_sc = len(results_df[\"unitcell_repetition\"].unique())\n",
    "idx = np.arange(len(crystals_df))\n",
    "\n",
    "with plt.style.context(\"./articles_seaborn.mplstyle\"):\n",
    "    ax = fig.add_subplot(111)\n",
    "    Set2 = mp.colormaps[\"Set2\"]\n",
    "    for j, n_uc in enumerate(results_df[\"unitcell_repetition\"].unique().tolist()):\n",
    "        ax.bar([np.nan], [np.nan], width=0.8 / n_sc, label=f\"# unitcell = {n_uc}\", color=Set2.colors[j])\n",
    "        sub_set = results_df.loc[results_df[\"unitcell_repetition\"] == n_uc, :]\n",
    "        for i, name in enumerate(sub_set.index):\n",
    "            ax.bar(\n",
    "                i + 0.8 * (j + 0.5) / n_sc - 0.4,\n",
    "                results_df[\"energy_per_atom_SP\"][i],\n",
    "                width=0.8 / n_sc,\n",
    "                color=Set2.colors[j],\n",
    "            )\n",
    "    ax.set_ylabel(\"Energy per atoms [eV]\")\n",
    "    ax.set_xticks(idx)\n",
    "    ax.set_xticklabels(crystals_df.index, rotation=25, ha=\"right\")\n",
    "    ax.legend(loc=\"center left\", bbox_to_anchor=(1.0, 0.5))\n",
    "    all_E = results_df[\"energy_per_atom_SP\"].values.tolist()\n",
    "    ax.set_ylim(np.min(all_E) - np.abs(np.mean(all_E)) * 0.02, np.max(all_E) + np.abs(np.mean(all_E)) * 0.02)\n",
    "\n",
    "plt.show()\n",
    "fig.savefig(os.path.join(\"plots\", f\"1-{CHEM_FORMULA}_{TASK}_sim_energy.pdf\"), dpi=300, bbox_inches=\"tight\")"
   ]
  },
  {
   "attachments": {},
   "cell_type": "markdown",
   "id": "4fac93fe-133a-428f-98e7-6f60b780b5de",
   "metadata": {},
   "source": [
    "#### Finishing "
   ]
  },
  {
   "cell_type": "code",
   "execution_count": 40,
   "id": "d056ef3e-329d-4fa9-905d-97ee76587f9a",
   "metadata": {},
   "outputs": [],
   "source": [
    "scm.finish()"
   ]
  },
  {
   "attachments": {},
   "cell_type": "markdown",
   "id": "75e61cb0-e87f-48f5-8c1b-f8a5e8a0a02a",
   "metadata": {},
   "source": [
    "## Supercells `Geometry Optimization`"
   ]
  },
  {
   "cell_type": "code",
   "execution_count": 191,
   "id": "3c684aac-7a51-4768-b50d-8a407a4abe6d",
   "metadata": {},
   "outputs": [],
   "source": [
    "SIMsNAME = \"1-Supercells_GO\"\n",
    "TASK = \"GO\"\n",
    "RUN_DIR = os.path.join(MAIN_DIR_JNB2, CHEM_FORMULA, SIMsNAME)"
   ]
  },
  {
   "attachments": {},
   "cell_type": "markdown",
   "id": "c0b606af-0bb3-433a-a191-23bbbd9c90ab",
   "metadata": {},
   "source": [
    "### Setting `BAND` *Single Point*"
   ]
  },
  {
   "cell_type": "code",
   "execution_count": 192,
   "id": "cd431661-ba72-4fa6-8b3d-e6df274a4a0e",
   "metadata": {},
   "outputs": [
    {
     "name": "stdout",
     "output_type": "stream",
     "text": [
      "input: \t\n",
      "      AMS: \t\n",
      "          task: \tGeometryOptimization\n",
      "          Properties: \t\n",
      "                     Gradients: \tyes\n",
      "                     StressTensor: \tno\n",
      "                     Hessian: \tno\n",
      "                     PESPointCharacter: \tno\n",
      "                     ElasticTensor: \tno\n",
      "          GeometryOptimization: \t\n",
      "                               OptimizeLattice: \tno\n",
      "                               PretendConverged: \tyes\n",
      "                               MaxIterations: \t150\n",
      "      BAND: \t\n",
      "           basis: \t\n",
      "                 type: \tDZP\n",
      "           xc: \t\n",
      "              GGA: \tPBE\n",
      "           KSpace: \t\n",
      "                  Quality: \tGood\n",
      "\n"
     ]
    }
   ],
   "source": [
    "from tools.misc.default_settings import settings_1_GO\n",
    "\n",
    "print(settings_1_GO)"
   ]
  },
  {
   "attachments": {},
   "cell_type": "markdown",
   "id": "bd8959e1-257a-41b5-94df-ce772a9c7b00",
   "metadata": {},
   "source": [
    "### Set-up `RUNNER`"
   ]
  },
  {
   "cell_type": "code",
   "execution_count": 193,
   "id": "6a868ad2-1043-428f-a655-49d1e7e5b18e",
   "metadata": {},
   "outputs": [],
   "source": [
    "NODES = 2\n",
    "CORES_PER_NODE = 64\n",
    "CPUS_PER_CORE = 2\n",
    "MAX_JOBS = 64"
   ]
  },
  {
   "cell_type": "code",
   "execution_count": null,
   "id": "c176c806-03b9-4978-ae92-cb62decbb76a",
   "metadata": {},
   "outputs": [],
   "source": [
    "scm.init(folder=RUN_DIR)\n",
    "RUNNER = scm.GridRunner(grid=\"slurm\", sleepstep=5, parallel=True, maxjobs=MAX_JOBS)  # TODO: Replace it with GridRunner\n",
    "RUNNER.settings.workdir = \"-D\"\n",
    "RUNNER.settings.special.nodes = \"--nodes=\"\n",
    "RUNNER.settings.special.qos = \"--qos=\"\n",
    "RUNNER.settings.special.walltime = \"--time=\"\n",
    "RUNNER.settings.special.tasks_per_node = \"--ntasks-per-node=\"\n",
    "RUNNER.settings.special.cpus_per_task = \"--cpus-per-task=\"\n",
    "RUNNER.settings.special.partition = \"--partition=\"\n",
    "RUNNER.settings.special.account = \"--account=\"\n",
    "RUNNER.settings.special.job_name = \"--job-name=\"\n",
    "\n",
    "scm.config.log.file = 7  # debug\n",
    "scm.config.log.stdout = 1  # 1: important 3: normal 5: verbose 7: debug\n",
    "scm.config.job.pickle = False\n",
    "scm.config.job.runscript.nproc = CORES_PER_NODE\n",
    "scm.config.job.runscript.shebang = \"#!/bin/bash\"\n",
    "scm.config.default_jobrunner = RUNNER"
   ]
  },
  {
   "cell_type": "code",
   "execution_count": 142,
   "id": "9f31caa0-91f1-4594-ba6d-9b10ec06a7f9",
   "metadata": {},
   "outputs": [],
   "source": [
    "settings_pkl_file = os.path.join(RUN_DIR, \"settings.pkl\")\n",
    "with open(settings_pkl_file, \"wb\") as file:\n",
    "    pickle.dump(settings_1_GO, file)"
   ]
  },
  {
   "attachments": {},
   "cell_type": "markdown",
   "id": "9b4fb122-9324-4474-a4e9-ab08cd4b189a",
   "metadata": {},
   "source": [
    "### Set-up JOBS"
   ]
  },
  {
   "attachments": {},
   "cell_type": "markdown",
   "id": "94e764b5-3079-4d1b-98c4-9f633c1f979d",
   "metadata": {},
   "source": [
    "Load systems"
   ]
  },
  {
   "cell_type": "code",
   "execution_count": 143,
   "id": "b4d83d57-5155-4401-8ad8-0c5b6ada529d",
   "metadata": {},
   "outputs": [
    {
     "name": "stderr",
     "output_type": "stream",
     "text": [
      "/home/paolo/Enhancing_ReaxFF/venv/lib/python3.8/site-packages/pymatgen/io/cif.py:1134: UserWarning: Issues encountered while parsing CIF: Some fractional coordinates rounded to ideal values to avoid issues with finite precision.\n",
      "  warnings.warn(\"Issues encountered while parsing CIF: \" + \"\\n\".join(self.warnings))\n"
     ]
    }
   ],
   "source": [
    "cis_dir = os.path.join(MAIN_DIR_JNB1, CHEM_FORMULA, \"1-supercell\")\n",
    "systems = []\n",
    "\n",
    "for path in np.sort(glob.glob(os.path.join(cis_dir, \"*.cif\"))):\n",
    "    system_name = path.split(os.sep)[-1].split(\".cif\")[0]\n",
    "    system_mat = Structure.from_file(path)\n",
    "    system_ase = matget2ase.get_atoms(system_mat)\n",
    "    systems.append((system_name, fromASE(system_ase)))"
   ]
  },
  {
   "attachments": {},
   "cell_type": "markdown",
   "id": "dee5ce4c-c4a9-4fb5-8342-39c8a0a33f90",
   "metadata": {},
   "source": [
    "Define jobs"
   ]
  },
  {
   "cell_type": "code",
   "execution_count": 47,
   "id": "7ca9dde5-6712-46a1-a6bb-681eed3514f0",
   "metadata": {},
   "outputs": [],
   "source": [
    "jobs = []\n",
    "for name, system_obj in systems:\n",
    "    sim_name = f\"{TASK}-{name}\"\n",
    "    job = scm.AMSJob(molecule=system_obj, settings=settings_1_GO, name=sim_name)\n",
    "    job.settings.runscript.pre = \"\"\"module use --append /work/pr1u1751/pr1u1751/shared/modules\n",
    "module load ams/2022.102\"\"\"\n",
    "    jobs.append(job)\n",
    "# Group all\n",
    "multi_jobs = scm.MultiJob(name=\"jobs\", children=jobs)"
   ]
  },
  {
   "attachments": {},
   "cell_type": "markdown",
   "id": "59a44b53-2e44-461e-9995-d21ddf17e743",
   "metadata": {},
   "source": [
    "### Run All"
   ]
  },
  {
   "cell_type": "code",
   "execution_count": null,
   "id": "8312c2c3-b0d5-465f-97f3-181d581d081b",
   "metadata": {},
   "outputs": [
    {
     "name": "stdout",
     "output_type": "stream",
     "text": [
      "[05.07|21:50:03] JOB jobs STARTED\n",
      "[05.07|21:50:03] JOB jobs/GO-1.0-0-Li2CO3_P6_3mcm_-2.19_2x1x1 STARTED\n",
      "[05.07|21:50:03] JOB jobs/GO-1.0-1-Li2CO3_C2c_-2.26_2x1x1 STARTED\n",
      "[05.07|21:50:03] JOB jobs/GO-1.1-0-Li2CO3_P6_3mcm_-2.19_2x2x1 STARTED\n",
      "[05.07|21:50:03] JOB jobs/GO-1.1-1-Li2CO3_C2c_-2.26_2x2x1 STARTED\n",
      "[05.07|21:50:03] JOB jobs/GO-1.2-0-Li2CO3_P6_3mcm_-2.19_2x2x2 STARTED\n",
      "[05.07|21:50:03] JOB jobs/GO-1.2-1-Li2CO3_C2c_-2.26_2x2x2 STARTED\n",
      "[05.07|21:50:03] JOB jobs/GO-1.3-0-Li2CO3_P6_3mcm_-2.19_3x2x2 STARTED\n",
      "[05.07|21:50:03] JOB jobs/GO-1.3-1-Li2CO3_C2c_-2.26_3x2x2 STARTED\n",
      "[05.07|21:50:03] JOB jobs/GO-1.4-0-Li2CO3_P6_3mcm_-2.19_3x3x2 STARTED\n",
      "[05.07|21:50:03] JOB jobs/GO-1.4-1-Li2CO3_C2c_-2.26_3x3x2 STARTED\n",
      "[05.07|21:50:03] JOB jobs/GO-1.5-0-Li2CO3_P6_3mcm_-2.19_3x3x3 STARTED\n",
      "[05.07|21:50:03] JOB jobs/GO-1.5-1-Li2CO3_C2c_-2.26_3x3x3 STARTED\n",
      "[05.07|21:53:26] JOB jobs/GO-1.0-0-Li2CO3_P6_3mcm_-2.19_2x1x1 SUCCESSFUL\n",
      "[05.07|21:54:40] JOB jobs/GO-1.0-1-Li2CO3_C2c_-2.26_2x1x1 SUCCESSFUL\n",
      "[05.07|21:55:18] JOB jobs/GO-1.1-0-Li2CO3_P6_3mcm_-2.19_2x2x1 SUCCESSFUL\n",
      "[05.07|22:00:59] JOB jobs/GO-1.3-0-Li2CO3_P6_3mcm_-2.19_3x2x2 SUCCESSFUL\n",
      "[05.07|22:01:06] JOB jobs/GO-1.2-0-Li2CO3_P6_3mcm_-2.19_2x2x2 SUCCESSFUL\n",
      "[05.07|22:05:39] JOB jobs/GO-1.1-1-Li2CO3_C2c_-2.26_2x2x1 SUCCESSFUL\n",
      "[05.07|22:07:29] JOB jobs/GO-1.4-0-Li2CO3_P6_3mcm_-2.19_3x3x2 SUCCESSFUL\n",
      "[05.07|22:10:03] JOB jobs/GO-1.3-1-Li2CO3_C2c_-2.26_3x2x2 SUCCESSFUL\n",
      "[05.07|22:12:50] JOB jobs/GO-1.2-1-Li2CO3_C2c_-2.26_2x2x2 SUCCESSFUL\n",
      "[05.07|22:24:56] JOB jobs/GO-1.5-0-Li2CO3_P6_3mcm_-2.19_3x3x3 SUCCESSFUL\n",
      "[05.07|22:30:16] JOB jobs/GO-1.4-1-Li2CO3_C2c_-2.26_3x3x2 SUCCESSFUL\n",
      "[05.07|23:21:56] JOB jobs/GO-1.5-1-Li2CO3_C2c_-2.26_3x3x3 SUCCESSFUL\n",
      "[05.07|23:21:59] JOB jobs SUCCESSFUL\n"
     ]
    }
   ],
   "source": [
    "result = multi_jobs.run(\n",
    "    jobrunner=RUNNER,\n",
    "    nodes=NODES,\n",
    "    cores=CORES_PER_NODE * NODES,\n",
    "    tasks_per_node=CORES_PER_NODE,\n",
    "    cpus_per_task=CPUS_PER_CORE,\n",
    "    walltime=\"24:00:00\",\n",
    "    partition=\"standard\",\n",
    "    account=\"pr1u1751\",\n",
    "    qos=\"standard\",\n",
    ")"
   ]
  },
  {
   "attachments": {},
   "cell_type": "markdown",
   "id": "e56dafe7-265a-4a47-8b83-aeb5080a9c86",
   "metadata": {},
   "source": [
    "### Post-processing"
   ]
  },
  {
   "attachments": {},
   "cell_type": "markdown",
   "id": "27c73618-040e-4e2c-b565-530b5e9fecf8",
   "metadata": {},
   "source": [
    "Load crystel data"
   ]
  },
  {
   "cell_type": "code",
   "execution_count": 194,
   "id": "e9725096-d9a0-4b0b-89b4-e54dbb0aa121",
   "metadata": {},
   "outputs": [],
   "source": [
    "dir_jobs = os.path.join(RUN_DIR, \"jobs\")\n",
    "prev_sim = os.path.join(MAIN_DIR_JNB2, CHEM_FORMULA, \"1-Supercells_SP\")\n",
    "data_path = os.path.join(prev_sim, \"results.json\")\n",
    "results_df = pd.read_json(data_path)"
   ]
  },
  {
   "cell_type": "code",
   "execution_count": 195,
   "id": "491d94ef-ad35-4a8a-8d9e-a99e76c842ce",
   "metadata": {},
   "outputs": [
    {
     "data": {
      "text/html": [
       "<div>\n",
       "<style scoped>\n",
       "    .dataframe tbody tr th:only-of-type {\n",
       "        vertical-align: middle;\n",
       "    }\n",
       "\n",
       "    .dataframe tbody tr th {\n",
       "        vertical-align: top;\n",
       "    }\n",
       "\n",
       "    .dataframe thead th {\n",
       "        text-align: right;\n",
       "    }\n",
       "</style>\n",
       "<table border=\"1\" class=\"dataframe\">\n",
       "  <thead>\n",
       "    <tr style=\"text-align: right;\">\n",
       "      <th></th>\n",
       "      <th>unitcell_repetition</th>\n",
       "      <th>energy_SP</th>\n",
       "      <th>energy_per_atom_SP</th>\n",
       "      <th>energy_GO</th>\n",
       "      <th>energy_per_atom_GO</th>\n",
       "    </tr>\n",
       "  </thead>\n",
       "  <tbody>\n",
       "    <tr>\n",
       "      <th>1.0-0-LiF_Fm-3m_-3.18_2x1x1.cif</th>\n",
       "      <td>2</td>\n",
       "      <td>-19.251315</td>\n",
       "      <td>-4.812829</td>\n",
       "      <td>-19.251315</td>\n",
       "      <td>-4.812829</td>\n",
       "    </tr>\n",
       "    <tr>\n",
       "      <th>1.0-1-LiF_P6_3mc_-3.17_2x1x1.cif</th>\n",
       "      <td>2</td>\n",
       "      <td>-38.292625</td>\n",
       "      <td>-4.786578</td>\n",
       "      <td>-38.292625</td>\n",
       "      <td>-4.786578</td>\n",
       "    </tr>\n",
       "    <tr>\n",
       "      <th>1.0-2-LiF_Pm-3m_-2.89_2x1x1.cif</th>\n",
       "      <td>2</td>\n",
       "      <td>-18.076721</td>\n",
       "      <td>-4.519180</td>\n",
       "      <td>-18.076721</td>\n",
       "      <td>-4.519180</td>\n",
       "    </tr>\n",
       "    <tr>\n",
       "      <th>1.1-0-LiF_Fm-3m_-3.18_2x2x1.cif</th>\n",
       "      <td>4</td>\n",
       "      <td>-38.502611</td>\n",
       "      <td>-4.812826</td>\n",
       "      <td>-38.502611</td>\n",
       "      <td>-4.812826</td>\n",
       "    </tr>\n",
       "    <tr>\n",
       "      <th>1.1-1-LiF_P6_3mc_-3.17_2x2x1.cif</th>\n",
       "      <td>4</td>\n",
       "      <td>-76.653339</td>\n",
       "      <td>-4.790834</td>\n",
       "      <td>-76.653339</td>\n",
       "      <td>-4.790834</td>\n",
       "    </tr>\n",
       "  </tbody>\n",
       "</table>\n",
       "</div>"
      ],
      "text/plain": [
       "                                  unitcell_repetition  ...  energy_per_atom_GO\n",
       "1.0-0-LiF_Fm-3m_-3.18_2x1x1.cif                     2  ...           -4.812829\n",
       "1.0-1-LiF_P6_3mc_-3.17_2x1x1.cif                    2  ...           -4.786578\n",
       "1.0-2-LiF_Pm-3m_-2.89_2x1x1.cif                     2  ...           -4.519180\n",
       "1.1-0-LiF_Fm-3m_-3.18_2x2x1.cif                     4  ...           -4.812826\n",
       "1.1-1-LiF_P6_3mc_-3.17_2x2x1.cif                    4  ...           -4.790834\n",
       "\n",
       "[5 rows x 5 columns]"
      ]
     },
     "execution_count": 195,
     "metadata": {},
     "output_type": "execute_result"
    }
   ],
   "source": [
    "results_df.head()"
   ]
  },
  {
   "cell_type": "code",
   "execution_count": 196,
   "id": "d14351bd-f033-47f5-b553-fc191f8fa874",
   "metadata": {},
   "outputs": [],
   "source": [
    "crystal_dir = os.path.join(MAIN_DIR_JNB1, CHEM_FORMULA, \"0-materialproject\")\n",
    "data_path = os.path.join(crystal_dir, \"info.json\")\n",
    "crystals_df = pd.read_json(data_path)\n",
    "\n",
    "for job_dir in np.sort(glob.glob(os.path.join(dir_jobs, \"*\"))):\n",
    "    sim_name = job_dir.split(os.sep)[-1]\n",
    "    job_result = scm.AMSJob.load_external(job_dir, settings=settings_1_GO).results\n",
    "    energy = scm.Units.convert(job_result.get_energy(), \"au\", \"eV\")\n",
    "    results_df.loc[sim_name[3:] + \".cif\", \"energy_GO\"] = energy\n",
    "    Na = len(job_result.get_molecule(\"Molecule\").atoms)\n",
    "    energy_per_atom = energy / Na\n",
    "    results_df.loc[sim_name[3:] + \".cif\", \"energy_per_atom_GO\"] = energy_per_atom\n",
    "\n",
    "results_df.to_json(os.path.join(RUN_DIR, f\"results.json\"))"
   ]
  },
  {
   "cell_type": "code",
   "execution_count": 197,
   "id": "8aba3d24",
   "metadata": {},
   "outputs": [
    {
     "data": {
      "text/html": [
       "<div>\n",
       "<style scoped>\n",
       "    .dataframe tbody tr th:only-of-type {\n",
       "        vertical-align: middle;\n",
       "    }\n",
       "\n",
       "    .dataframe tbody tr th {\n",
       "        vertical-align: top;\n",
       "    }\n",
       "\n",
       "    .dataframe thead th {\n",
       "        text-align: right;\n",
       "    }\n",
       "</style>\n",
       "<table border=\"1\" class=\"dataframe\">\n",
       "  <thead>\n",
       "    <tr style=\"text-align: right;\">\n",
       "      <th></th>\n",
       "      <th>unitcell_repetition</th>\n",
       "      <th>energy_SP</th>\n",
       "      <th>energy_per_atom_SP</th>\n",
       "      <th>energy_GO</th>\n",
       "      <th>energy_per_atom_GO</th>\n",
       "    </tr>\n",
       "  </thead>\n",
       "  <tbody>\n",
       "    <tr>\n",
       "      <th>1.0-0-LiF_Fm-3m_-3.18_2x1x1.cif</th>\n",
       "      <td>2</td>\n",
       "      <td>-19.251315</td>\n",
       "      <td>-4.812829</td>\n",
       "      <td>-19.053002</td>\n",
       "      <td>-4.763251</td>\n",
       "    </tr>\n",
       "    <tr>\n",
       "      <th>1.0-1-LiF_P6_3mc_-3.17_2x1x1.cif</th>\n",
       "      <td>2</td>\n",
       "      <td>-38.292625</td>\n",
       "      <td>-4.786578</td>\n",
       "      <td>-38.003627</td>\n",
       "      <td>-4.750453</td>\n",
       "    </tr>\n",
       "    <tr>\n",
       "      <th>1.0-2-LiF_Pm-3m_-2.89_2x1x1.cif</th>\n",
       "      <td>2</td>\n",
       "      <td>-18.076721</td>\n",
       "      <td>-4.519180</td>\n",
       "      <td>-17.868644</td>\n",
       "      <td>-4.467161</td>\n",
       "    </tr>\n",
       "    <tr>\n",
       "      <th>1.1-0-LiF_Fm-3m_-3.18_2x2x1.cif</th>\n",
       "      <td>4</td>\n",
       "      <td>-38.502611</td>\n",
       "      <td>-4.812826</td>\n",
       "      <td>-38.105975</td>\n",
       "      <td>-4.763247</td>\n",
       "    </tr>\n",
       "    <tr>\n",
       "      <th>1.1-1-LiF_P6_3mc_-3.17_2x2x1.cif</th>\n",
       "      <td>4</td>\n",
       "      <td>-76.653339</td>\n",
       "      <td>-4.790834</td>\n",
       "      <td>-76.077089</td>\n",
       "      <td>-4.754818</td>\n",
       "    </tr>\n",
       "  </tbody>\n",
       "</table>\n",
       "</div>"
      ],
      "text/plain": [
       "                                  unitcell_repetition  ...  energy_per_atom_GO\n",
       "1.0-0-LiF_Fm-3m_-3.18_2x1x1.cif                     2  ...           -4.763251\n",
       "1.0-1-LiF_P6_3mc_-3.17_2x1x1.cif                    2  ...           -4.750453\n",
       "1.0-2-LiF_Pm-3m_-2.89_2x1x1.cif                     2  ...           -4.467161\n",
       "1.1-0-LiF_Fm-3m_-3.18_2x2x1.cif                     4  ...           -4.763247\n",
       "1.1-1-LiF_P6_3mc_-3.17_2x2x1.cif                    4  ...           -4.754818\n",
       "\n",
       "[5 rows x 5 columns]"
      ]
     },
     "execution_count": 197,
     "metadata": {},
     "output_type": "execute_result"
    }
   ],
   "source": [
    "results_df.head()"
   ]
  },
  {
   "cell_type": "code",
   "execution_count": 198,
   "id": "d3873d20-5f5d-49a3-802f-a59bd629d56c",
   "metadata": {},
   "outputs": [
    {
     "data": {
      "image/png": "[encoded data removed]",
      "text/plain": [
       "<Figure size 400x200 with 1 Axes>"
      ]
     },
     "metadata": {},
     "output_type": "display_data"
    }
   ],
   "source": [
    "fig = plt.figure(figsize=[4, 2])\n",
    "n_sc = len(results_df[\"unitcell_repetition\"].unique())\n",
    "idx = np.arange(len(crystals_df))\n",
    "\n",
    "with plt.style.context(\"./articles_seaborn.mplstyle\"):\n",
    "    ax = fig.add_subplot(111)\n",
    "    Set2 = mp.colormaps[\"Set2\"]\n",
    "    for j, n_uc in enumerate(results_df[\"unitcell_repetition\"].unique().tolist()):\n",
    "        ax.bar([np.nan], [np.nan], width=0.8 / n_sc, label=f\"# unitcell = {n_uc}\", color=Set2.colors[j])\n",
    "        sub_set = results_df.loc[results_df[\"unitcell_repetition\"] == n_uc, :]\n",
    "        for i, name in enumerate(sub_set.index):\n",
    "            ax.bar(\n",
    "                i + 0.8 * (j + 0.5) / n_sc - 0.4,\n",
    "                results_df[\"energy_per_atom_GO\"][i],\n",
    "                width=0.8 / n_sc,\n",
    "                color=Set2.colors[j],\n",
    "            )\n",
    "    ax.set_ylabel(\"Energy per atoms [eV]\")\n",
    "    ax.set_xticks(idx)\n",
    "    ax.set_xticklabels(crystals_df.index, rotation=25, ha=\"right\")\n",
    "    ax.legend(loc=\"center left\", bbox_to_anchor=(1.0, 0.5))\n",
    "    all_E = results_df[\"energy_per_atom_GO\"].values.tolist()\n",
    "    ax.set_ylim(np.min(all_E) - np.abs(np.mean(all_E)) * 0.02, np.max(all_E) + np.abs(np.mean(all_E)) * 0.02)\n",
    "\n",
    "plt.show()\n",
    "fig.savefig(os.path.join(\"plots\", f\"1-{CHEM_FORMULA}_{TASK}_sim_energy.pdf\"), dpi=300, bbox_inches=\"tight\")"
   ]
  },
  {
   "attachments": {},
   "cell_type": "markdown",
   "id": "fb86ebc9-604d-4773-91dc-004508d63848",
   "metadata": {},
   "source": [
    "#### Finishing "
   ]
  },
  {
   "cell_type": "code",
   "execution_count": 54,
   "id": "baf93f80-4e2c-491d-92d9-5b4b70c9bc79",
   "metadata": {},
   "outputs": [],
   "source": [
    "scm.finish()"
   ]
  },
  {
   "attachments": {},
   "cell_type": "markdown",
   "id": "1f9ab8c1-5c5c-43de-a3c0-f145dae0b96b",
   "metadata": {},
   "source": [
    "## Strain `Single Poin`"
   ]
  },
  {
   "cell_type": "code",
   "execution_count": 199,
   "id": "3a414d65-4267-472b-94f2-40e3b7ca0889",
   "metadata": {},
   "outputs": [],
   "source": [
    "SIMsNAME = \"2-Strain_SP\"\n",
    "TASK = \"SP\"\n",
    "RUN_DIR = os.path.join(MAIN_DIR_JNB2, CHEM_FORMULA, SIMsNAME)"
   ]
  },
  {
   "attachments": {},
   "cell_type": "markdown",
   "id": "cf4ea157-d460-422f-9768-ffb4d94123c5",
   "metadata": {},
   "source": [
    "### Setting `BAND` *Single Point*"
   ]
  },
  {
   "cell_type": "code",
   "execution_count": 200,
   "id": "9eedaa07-700d-419d-9542-41cc28c46b35",
   "metadata": {},
   "outputs": [
    {
     "name": "stdout",
     "output_type": "stream",
     "text": [
      "input: \t\n",
      "      AMS: \t\n",
      "          task: \tSinglePoint\n",
      "          Properties: \t\n",
      "                     Gradients: \tyes\n",
      "                     StressTensor: \tno\n",
      "                     Hessian: \tno\n",
      "                     PESPointCharacter: \tno\n",
      "                     ElasticTensor: \tno\n",
      "      BAND: \t\n",
      "           basis: \t\n",
      "                 type: \tDZP\n",
      "           xc: \t\n",
      "              GGA: \tPBE\n",
      "\n"
     ]
    }
   ],
   "source": [
    "from tools.misc.default_settings import settings_2_SP\n",
    "\n",
    "print(settings_2_SP)"
   ]
  },
  {
   "attachments": {},
   "cell_type": "markdown",
   "id": "2aaff2a4-9e77-4238-999c-caf5ccafb580",
   "metadata": {},
   "source": [
    "### Set-up `RUNNER`"
   ]
  },
  {
   "cell_type": "code",
   "execution_count": 201,
   "id": "2d883fca-1470-4f66-a7d7-a4f351766f4c",
   "metadata": {},
   "outputs": [],
   "source": [
    "NODES = 2\n",
    "CORES_PER_NODE = 32\n",
    "CPUS_PER_CORE = 4\n",
    "MAX_JOBS = 64"
   ]
  },
  {
   "cell_type": "code",
   "execution_count": 202,
   "id": "bb6b70c1-c7d2-47d3-bc2a-4c7a28e1715a",
   "metadata": {},
   "outputs": [
    {
     "name": "stdout",
     "output_type": "stream",
     "text": [
      "[19.06|00:41:10] PLAMS working folder: /home/paolo/Enhancing_ReaxFF/step02-sim/LiF/2-Strain_SP.002\n"
     ]
    }
   ],
   "source": [
    "scm.init(folder=RUN_DIR)\n",
    "RUNNER = scm.GridRunner(grid=\"slurm\", sleepstep=5, parallel=True, maxjobs=MAX_JOBS)\n",
    "RUNNER.settings.workdir = \"-D\"\n",
    "RUNNER.settings.special.nodes = \"--nodes=\"\n",
    "RUNNER.settings.special.qos = \"--qos=\"\n",
    "RUNNER.settings.special.walltime = \"--time=\"\n",
    "RUNNER.settings.special.tasks_per_node = \"--ntasks-per-node=\"\n",
    "RUNNER.settings.special.cpus_per_task = \"--cpus-per-task=\"\n",
    "RUNNER.settings.special.partition = \"--partition=\"\n",
    "RUNNER.settings.special.account = \"--account=\"\n",
    "RUNNER.settings.special.job_name = \"--job-name=\"\n",
    "RUNNER.settings.special.cpu_freq = \"--cpu-freq=\"\n",
    "\n",
    "scm.config.log.file = 7  # debug\n",
    "scm.config.log.stdout = 1  # 1: important 3: normal 5: verbose 7: debug\n",
    "scm.config.job.pickle = False\n",
    "scm.config.job.runscript.nproc = CORES_PER_NODE * NODES\n",
    "scm.config.job.runscript.shebang = \"#!/bin/bash\"\n",
    "scm.config.default_jobrunner = RUNNER"
   ]
  },
  {
   "cell_type": "code",
   "execution_count": 203,
   "id": "7c26d4a2-5230-40cd-83c5-c2d784f87a94",
   "metadata": {},
   "outputs": [],
   "source": [
    "settings_pkl_file = os.path.join(RUN_DIR, \"settings.pkl\")\n",
    "with open(settings_pkl_file, \"wb\") as file:\n",
    "    pickle.dump(settings_2_SP, file)"
   ]
  },
  {
   "attachments": {},
   "cell_type": "markdown",
   "id": "19a3f9fd-8e1f-47db-a241-492e4d9b3fd0",
   "metadata": {},
   "source": [
    "### Set-up JOBS"
   ]
  },
  {
   "attachments": {},
   "cell_type": "markdown",
   "id": "bd8e3c76-2094-4e1f-b26c-e33e4ab3d081",
   "metadata": {},
   "source": [
    "Load systems"
   ]
  },
  {
   "cell_type": "code",
   "execution_count": 204,
   "id": "9749a6d7-a918-4103-9669-a26f7499845b",
   "metadata": {},
   "outputs": [
    {
     "name": "stderr",
     "output_type": "stream",
     "text": [
      "/home/paolo/Enhancing_ReaxFF/venv/lib/python3.8/site-packages/pymatgen/io/cif.py:1134: UserWarning: Issues encountered while parsing CIF: Some fractional coordinates rounded to ideal values to avoid issues with finite precision.\n",
      "  warnings.warn(\"Issues encountered while parsing CIF: \" + \"\\n\".join(self.warnings))\n"
     ]
    }
   ],
   "source": [
    "cis_dir = os.path.join(MAIN_DIR_JNB1, CHEM_FORMULA, \"2-strain\")\n",
    "systems = []\n",
    "\n",
    "for path in np.sort(glob.glob(os.path.join(cis_dir, \"*.cif\"))):\n",
    "    system_name = path.split(os.sep)[-1].split(\".cif\")[0]\n",
    "    system_mat = Structure.from_file(path)\n",
    "    system_ase = matget2ase.get_atoms(system_mat)\n",
    "    systems.append((system_name, fromASE(system_ase)))"
   ]
  },
  {
   "attachments": {},
   "cell_type": "markdown",
   "id": "dea7ae61-77e9-4a73-b1d9-6253f4352d76",
   "metadata": {},
   "source": [
    "Define jobs"
   ]
  },
  {
   "cell_type": "code",
   "execution_count": null,
   "id": "ebccd063-2fa7-4da5-b297-a8c6ef636554",
   "metadata": {},
   "outputs": [],
   "source": [
    "jobs = []\n",
    "for name, system_obj in systems:\n",
    "    sim_name = f\"{TASK}-{name}\"\n",
    "    job_dir = os.path.join(RUN_DIR, \"jobs\", sim_name)\n",
    "    if os.path.exists(job_dir):\n",
    "        job = scm.AMSJob.load_external(job_dir, settings=settings_2_SP)\n",
    "        if not job.check():\n",
    "            print(f\"sim {sim_name} FAILE will rerun it\")\n",
    "        else:\n",
    "            continue\n",
    "    job = scm.AMSJob(molecule=system_obj, settings=settings, name=sim_name)\n",
    "    job.settings.runscript.pre = f\"\"\"module use --append /work/pr1u1751/pr1u1751/shared/modules\n",
    "module load ams/2022.102\n",
    "\n",
    "export OMP_NUM_THREADS={CPUS_PER_CORE}\n",
    "export SCM_SHAR_NONUMA=yes\n",
    "\"\"\"\n",
    "    jobs.append(job)\n",
    "# Group all\n",
    "multi_jobs = scm.MultiJob(name=\"jobs\", children=jobs)"
   ]
  },
  {
   "attachments": {},
   "cell_type": "markdown",
   "id": "d55a54b5-5a62-40e0-b84c-b389661546b2",
   "metadata": {},
   "source": [
    "#### Run All"
   ]
  },
  {
   "cell_type": "code",
   "execution_count": null,
   "id": "b90030af-eb1d-436a-94d0-43c86b0a2326",
   "metadata": {},
   "outputs": [],
   "source": [
    "result = multi_jobs.run(\n",
    "    jobrunner=RUNNER,\n",
    "    nodes=NODES,\n",
    "    cores=CORES_PER_NODE * NODES,\n",
    "    tasks_per_node=CORES_PER_NODE,\n",
    "    cpus_per_task=CPUS_PER_CORE,\n",
    "    walltime=\"24:00:00\",\n",
    "    partition=\"standard\",\n",
    "    account=\"pr1u1751\",\n",
    "    qos=\"standard\",\n",
    "    cpu_freq=2250000,\n",
    ")"
   ]
  },
  {
   "attachments": {},
   "cell_type": "markdown",
   "id": "47d07a96-f913-4e45-845f-f39b4c24147f",
   "metadata": {},
   "source": [
    "### Post-processing"
   ]
  },
  {
   "attachments": {},
   "cell_type": "markdown",
   "id": "b4ba44c8-2ad6-4600-8bc2-4fcf28e8f782",
   "metadata": {},
   "source": [
    "Load Material Project data"
   ]
  },
  {
   "cell_type": "code",
   "execution_count": 205,
   "id": "09a76ff4-e238-46d1-9156-8d23131aaf25",
   "metadata": {},
   "outputs": [],
   "source": [
    "dir_jobs = os.path.join(RUN_DIR, \"jobs\")\n",
    "\n",
    "cis_dir = os.path.join(MAIN_DIR_JNB1, CHEM_FORMULA, \"2-strain\")\n",
    "data_path = os.path.join(cis_dir, \"info.json\")\n",
    "results_df = pd.read_json(data_path)"
   ]
  },
  {
   "cell_type": "code",
   "execution_count": 214,
   "id": "98b01833-a469-4f4c-b0d4-d93183cb5ea2",
   "metadata": {},
   "outputs": [],
   "source": [
    "for job_dir in glob.glob(os.path.join(dir_jobs, \"*\")):\n",
    "    sim_name = job_dir.split(os.sep)[-1]\n",
    "    job = scm.AMSJob.load_external(job_dir, settings=settings_2_SP)\n",
    "    # check\n",
    "    if not job.check():\n",
    "        print(f\"Simulation {job_dir} FAILED\")\n",
    "        continue\n",
    "    job_result = job.results\n",
    "    energy = scm.Units.convert(job_result.get_energy(), \"au\", \"eV\")\n",
    "    results_df.loc[sim_name[3:] + \".cif\", \"scm_energy\"] = energy\n",
    "    mol = toASE(job_result.get_molecule(\"Molecule\"))\n",
    "    Na = len(mol)\n",
    "    energy_per_atom = energy / Na\n",
    "    results_df.loc[sim_name[3:] + \".cif\", \"scm_energy_per_atom\"] = energy_per_atom\n",
    "    strain_mtx = results_df.loc[sim_name[3:] + \".cif\", \"strain_matrix\"]\n",
    "    simple_str, latex_str = mtx2str(strain_mtx)\n",
    "    results_df.loc[sim_name[3:] + \".cif\", \"strain_str\"] = simple_str\n",
    "    results_df.loc[sim_name[3:] + \".cif\", \"strain_str_latex\"] = latex_str\n",
    "    results_df.loc[sim_name[3:] + \".cif\", \"system_id\"] = int(sim_name.split(\"-\")[2])\n",
    "    strain_mtx = np.array(strain_mtx)\n",
    "    strain_mtx_sq = np.power(strain_mtx, 2)\n",
    "    von_mises_strain = (\n",
    "        2\n",
    "        / 3\n",
    "        * np.sign(strain_mtx.sum())\n",
    "        * np.power(\n",
    "            3 / 2 * np.sum((strain_mtx - 1 / 3 * strain_mtx.diagonal(0).sum() * np.eye(3)).sum(axis=0) ** 2)\n",
    "            + 3 / 4 * np.sum(np.tril(2 * strain_mtx, -1) ** 2),\n",
    "            1 / 2,\n",
    "        )\n",
    "    )\n",
    "    results_df.loc[sim_name[3:] + \".cif\", \"von_mises_strain\"] = von_mises_strain\n",
    "    results_df.loc[sim_name[3:] + \".cif\", \"vol\"] = mol.get_volume()\n",
    "results_df.to_json(os.path.join(RUN_DIR, f\"results.json\"))"
   ]
  },
  {
   "cell_type": "code",
   "execution_count": 215,
   "id": "28d3b66c-7841-4ef5-a369-4f94c8bfc9c3",
   "metadata": {},
   "outputs": [
    {
     "data": {
      "text/html": [
       "<div>\n",
       "<style scoped>\n",
       "    .dataframe tbody tr th:only-of-type {\n",
       "        vertical-align: middle;\n",
       "    }\n",
       "\n",
       "    .dataframe tbody tr th {\n",
       "        vertical-align: top;\n",
       "    }\n",
       "\n",
       "    .dataframe thead th {\n",
       "        text-align: right;\n",
       "    }\n",
       "</style>\n",
       "<table border=\"1\" class=\"dataframe\">\n",
       "  <thead>\n",
       "    <tr style=\"text-align: right;\">\n",
       "      <th></th>\n",
       "      <th>unitcell_repetition</th>\n",
       "      <th>strain_matrix</th>\n",
       "      <th>scm_energy</th>\n",
       "      <th>scm_energy_per_atom</th>\n",
       "      <th>strain_str</th>\n",
       "      <th>strain_str_latex</th>\n",
       "      <th>system_id</th>\n",
       "      <th>von_mises_strain</th>\n",
       "      <th>vol</th>\n",
       "    </tr>\n",
       "  </thead>\n",
       "  <tbody>\n",
       "    <tr>\n",
       "      <th>2.0-0-LiF_Fm-3m_-3.18_xx_-0.125.cif</th>\n",
       "      <td>8</td>\n",
       "      <td>[[-0.125, 0.0, 0.0], [0.0, 0.0, 0.0], [0.0, 0....</td>\n",
       "      <td>-75.961595</td>\n",
       "      <td>-4.747600</td>\n",
       "      <td>e_11</td>\n",
       "      <td>$\\varepsilon_{ 1 1 }$</td>\n",
       "      <td>0.0</td>\n",
       "      <td>-8.333333e-02</td>\n",
       "      <td>117.932997</td>\n",
       "    </tr>\n",
       "    <tr>\n",
       "      <th>2.1-0-LiF_Fm-3m_-3.18_xx_-0.095.cif</th>\n",
       "      <td>8</td>\n",
       "      <td>[[-0.095, 0.0, 0.0], [0.0, 0.0, 0.0], [0.0, 0....</td>\n",
       "      <td>-76.494122</td>\n",
       "      <td>-4.780883</td>\n",
       "      <td>e_11</td>\n",
       "      <td>$\\varepsilon_{ 1 1 }$</td>\n",
       "      <td>0.0</td>\n",
       "      <td>-6.333333e-02</td>\n",
       "      <td>122.559565</td>\n",
       "    </tr>\n",
       "    <tr>\n",
       "      <th>2.2-0-LiF_Fm-3m_-3.18_xx_-0.065.cif</th>\n",
       "      <td>8</td>\n",
       "      <td>[[-0.065, 0.0, 0.0], [0.0, 0.0, 0.0], [0.0, 0....</td>\n",
       "      <td>-76.823927</td>\n",
       "      <td>-4.801495</td>\n",
       "      <td>e_11</td>\n",
       "      <td>$\\varepsilon_{ 1 1 }$</td>\n",
       "      <td>0.0</td>\n",
       "      <td>-4.333333e-02</td>\n",
       "      <td>127.017725</td>\n",
       "    </tr>\n",
       "    <tr>\n",
       "      <th>2.3-0-LiF_Fm-3m_-3.18_xx_-0.035.cif</th>\n",
       "      <td>8</td>\n",
       "      <td>[[-0.035, 0.0, 0.0], [0.0, 0.0, 0.0], [0.0, 0....</td>\n",
       "      <td>-76.981781</td>\n",
       "      <td>-4.811361</td>\n",
       "      <td>e_11</td>\n",
       "      <td>$\\varepsilon_{ 1 1 }$</td>\n",
       "      <td>0.0</td>\n",
       "      <td>-2.333333e-02</td>\n",
       "      <td>131.324627</td>\n",
       "    </tr>\n",
       "    <tr>\n",
       "      <th>2.4-0-LiF_Fm-3m_-3.18_xx_-0.005.cif</th>\n",
       "      <td>8</td>\n",
       "      <td>[[-0.005, 0.0, 0.0], [0.0, 0.0, 0.0], [0.0, 0....</td>\n",
       "      <td>-77.010916</td>\n",
       "      <td>-4.813182</td>\n",
       "      <td>e_11</td>\n",
       "      <td>$\\varepsilon_{ 1 1 }$</td>\n",
       "      <td>0.0</td>\n",
       "      <td>-3.333333e-03</td>\n",
       "      <td>135.494698</td>\n",
       "    </tr>\n",
       "    <tr>\n",
       "      <th>...</th>\n",
       "      <td>...</td>\n",
       "      <td>...</td>\n",
       "      <td>...</td>\n",
       "      <td>...</td>\n",
       "      <td>...</td>\n",
       "      <td>...</td>\n",
       "      <td>...</td>\n",
       "      <td>...</td>\n",
       "      <td>...</td>\n",
       "    </tr>\n",
       "    <tr>\n",
       "      <th>2.34-2-LiF_Pm-3m_-2.89_xxyyzz_0.115.cif</th>\n",
       "      <td>8</td>\n",
       "      <td>[[0.115, 0.0, 0.0], [0.0, 0.115, 0.0], [0.0, 0...</td>\n",
       "      <td>-69.102913</td>\n",
       "      <td>-4.318932</td>\n",
       "      <td>e_11 e_22 e_33</td>\n",
       "      <td>$\\varepsilon_{ 1 1 } \\varepsilon_{ 2 2 } \\vare...</td>\n",
       "      <td>2.0</td>\n",
       "      <td>0.000000e+00</td>\n",
       "      <td>182.991053</td>\n",
       "    </tr>\n",
       "    <tr>\n",
       "      <th>2.35-2-LiF_Pm-3m_-2.89_xxyyzz_0.145.cif</th>\n",
       "      <td>8</td>\n",
       "      <td>[[0.145, 0.0, 0.0], [0.0, 0.145, 0.0], [0.0, 0...</td>\n",
       "      <td>-68.165433</td>\n",
       "      <td>-4.260340</td>\n",
       "      <td>e_11 e_22 e_33</td>\n",
       "      <td>$\\varepsilon_{ 1 1 } \\varepsilon_{ 2 2 } \\vare...</td>\n",
       "      <td>2.0</td>\n",
       "      <td>3.925231e-17</td>\n",
       "      <td>196.542625</td>\n",
       "    </tr>\n",
       "    <tr>\n",
       "      <th>2.36-2-LiF_Pm-3m_-2.89_xxyyzz_0.175.cif</th>\n",
       "      <td>8</td>\n",
       "      <td>[[0.17500000000000002, 0.0, 0.0], [0.0, 0.1750...</td>\n",
       "      <td>-67.159394</td>\n",
       "      <td>-4.197462</td>\n",
       "      <td>e_11 e_22 e_33</td>\n",
       "      <td>$\\varepsilon_{ 1 1 } \\varepsilon_{ 2 2 } \\vare...</td>\n",
       "      <td>2.0</td>\n",
       "      <td>3.925231e-17</td>\n",
       "      <td>210.413131</td>\n",
       "    </tr>\n",
       "    <tr>\n",
       "      <th>2.37-2-LiF_Pm-3m_-2.89_xxyyzz_0.205.cif</th>\n",
       "      <td>8</td>\n",
       "      <td>[[0.20500000000000002, 0.0, 0.0], [0.0, 0.2050...</td>\n",
       "      <td>-66.106027</td>\n",
       "      <td>-4.131627</td>\n",
       "      <td>e_11 e_22 e_33</td>\n",
       "      <td>$\\varepsilon_{ 1 1 } \\varepsilon_{ 2 2 } \\vare...</td>\n",
       "      <td>2.0</td>\n",
       "      <td>3.925231e-17</td>\n",
       "      <td>224.595400</td>\n",
       "    </tr>\n",
       "    <tr>\n",
       "      <th>2.38-2-LiF_Pm-3m_-2.89_xxyyzz_0.235.cif</th>\n",
       "      <td>8</td>\n",
       "      <td>[[0.23500000000000001, 0.0, 0.0], [0.0, 0.2350...</td>\n",
       "      <td>-65.030647</td>\n",
       "      <td>-4.064415</td>\n",
       "      <td>e_11 e_22 e_33</td>\n",
       "      <td>$\\varepsilon_{ 1 1 } \\varepsilon_{ 2 2 } \\vare...</td>\n",
       "      <td>2.0</td>\n",
       "      <td>0.000000e+00</td>\n",
       "      <td>239.082721</td>\n",
       "    </tr>\n",
       "  </tbody>\n",
       "</table>\n",
       "<p>117 rows × 9 columns</p>\n",
       "</div>"
      ],
      "text/plain": [
       "                                         unitcell_repetition  ...         vol\n",
       "2.0-0-LiF_Fm-3m_-3.18_xx_-0.125.cif                        8  ...  117.932997\n",
       "2.1-0-LiF_Fm-3m_-3.18_xx_-0.095.cif                        8  ...  122.559565\n",
       "2.2-0-LiF_Fm-3m_-3.18_xx_-0.065.cif                        8  ...  127.017725\n",
       "2.3-0-LiF_Fm-3m_-3.18_xx_-0.035.cif                        8  ...  131.324627\n",
       "2.4-0-LiF_Fm-3m_-3.18_xx_-0.005.cif                        8  ...  135.494698\n",
       "...                                                      ...  ...         ...\n",
       "2.34-2-LiF_Pm-3m_-2.89_xxyyzz_0.115.cif                    8  ...  182.991053\n",
       "2.35-2-LiF_Pm-3m_-2.89_xxyyzz_0.145.cif                    8  ...  196.542625\n",
       "2.36-2-LiF_Pm-3m_-2.89_xxyyzz_0.175.cif                    8  ...  210.413131\n",
       "2.37-2-LiF_Pm-3m_-2.89_xxyyzz_0.205.cif                    8  ...  224.595400\n",
       "2.38-2-LiF_Pm-3m_-2.89_xxyyzz_0.235.cif                    8  ...  239.082721\n",
       "\n",
       "[117 rows x 9 columns]"
      ]
     },
     "execution_count": 215,
     "metadata": {},
     "output_type": "execute_result"
    }
   ],
   "source": [
    "results_df"
   ]
  },
  {
   "cell_type": "code",
   "execution_count": 218,
   "id": "e9198ac9-4e43-4361-93aa-1c46d9217321",
   "metadata": {},
   "outputs": [
    {
     "data": {
      "image/png": "[encoded data removed]",
      "text/plain": [
       "<Figure size 600x240 with 3 Axes>"
      ]
     },
     "metadata": {},
     "output_type": "display_data"
    }
   ],
   "source": [
    "fig = plt.figure(figsize=[5, 2], dpi=120)\n",
    "\n",
    "with plt.style.context(\"./articles_seaborn.mplstyle\"):\n",
    "    ax = {}\n",
    "    strain_strs = results_df[\"strain_str\"].dropna().unique()\n",
    "    strain_strs_latex = results_df[\"strain_str_latex\"].dropna().unique()\n",
    "    spec = fig.add_gridspec(1, len(strain_strs), wspace=0.35)\n",
    "    for i, (strain_str, strain_str_latex) in enumerate(zip(strain_strs, strain_strs_latex)):\n",
    "        ax[i] = fig.add_subplot(spec[i])\n",
    "        ax[i].set_title(strain_str_latex)\n",
    "        sub_df = results_df.loc[results_df[\"strain_str\"] == strain_str].dropna()\n",
    "        for sim_id in results_df[\"system_id\"].dropna().unique():\n",
    "            idx = np.arange(len(results_df.index))\n",
    "            sub_sub_df = sub_df.loc[sub_df[\"system_id\"] == sim_id]\n",
    "            name = sub_sub_df.index[0].split(\"-\")[2]\n",
    "            if strain_str == \"e_11 e_22 e_33\":\n",
    "                min_ind = np.where(sub_sub_df[\"scm_energy_per_atom\"] == sub_sub_df[\"scm_energy_per_atom\"].min())\n",
    "                ax[i].plot(\n",
    "                    sub_sub_df[\"vol\"] / sub_sub_df[\"vol\"].values[min_ind],\n",
    "                    sub_sub_df[\"scm_energy_per_atom\"],\n",
    "                    \"o-\",\n",
    "                    label=name,\n",
    "                )\n",
    "            else:\n",
    "                ax[i].plot(sub_sub_df[\"von_mises_strain\"], sub_sub_df[\"scm_energy_per_atom\"], \"o-\", label=name)\n",
    "        if strain_str == \"e_11 e_22 e_33\":\n",
    "            ax[i].set_xlabel(\"$V/V_0$ [-]\")\n",
    "        else:\n",
    "            ax[i].set_xlabel(\"von Mises strain [-]\")\n",
    "\n",
    "    ax[len(strain_strs) - 1].legend(loc=\"center left\", bbox_to_anchor=(1.0, 0.5))\n",
    "    ax[0].set_ylabel(\"Energy per atoms [eV]\")\n",
    "plt.show()\n",
    "fig.savefig(os.path.join(\"plots\", f\"2-{CHEM_FORMULA}_{TASK}_sim_energy.pdf\"), dpi=300, bbox_inches=\"tight\")"
   ]
  },
  {
   "attachments": {},
   "cell_type": "markdown",
   "id": "869e5889-2565-455e-abcf-eac84a03fd52",
   "metadata": {},
   "source": [
    "Finishing"
   ]
  },
  {
   "cell_type": "code",
   "execution_count": null,
   "id": "b677b6ec-c9e5-4018-9b68-e221b27e6d7d",
   "metadata": {},
   "outputs": [],
   "source": [
    "scm.finish()"
   ]
  },
  {
   "attachments": {},
   "cell_type": "markdown",
   "id": "5638c80c-e757-4a82-a6ce-7a2868baf751",
   "metadata": {
    "jp-MarkdownHeadingCollapsed": true,
    "tags": []
   },
   "source": [
    "## Vacancies `Single Poin`"
   ]
  },
  {
   "cell_type": "code",
   "execution_count": 48,
   "id": "aba0990c-0fdb-4f10-88c2-eeda5f36972e",
   "metadata": {},
   "outputs": [],
   "source": [
    "SIMsNAME = \"3-Vacancies_SP\"\n",
    "TASK = \"SP\"\n",
    "RUN_DIR = os.path.join(MAIN_DIR_JNB2, CHEM_FORMULA, SIMsNAME)"
   ]
  },
  {
   "attachments": {},
   "cell_type": "markdown",
   "id": "4354b96b-a27c-4f21-ba81-bf1faf8ee984",
   "metadata": {},
   "source": [
    "### Setting `BAND` *Single Point*"
   ]
  },
  {
   "cell_type": "code",
   "execution_count": 49,
   "id": "e4fb986f-ccec-4868-a962-e3dac092d652",
   "metadata": {},
   "outputs": [
    {
     "name": "stdout",
     "output_type": "stream",
     "text": [
      "input: \t\n",
      "      AMS: \t\n",
      "          task: \tSinglePoint\n",
      "          Properties: \t\n",
      "                     Gradients: \tyes\n",
      "                     StressTensor: \tno\n",
      "                     Hessian: \tno\n",
      "                     PESPointCharacter: \tno\n",
      "                     ElasticTensor: \tno\n",
      "      BAND: \t\n",
      "           basis: \t\n",
      "                 type: \tDZP\n",
      "           xc: \t\n",
      "              GGA: \tPBE\n",
      "\n"
     ]
    }
   ],
   "source": [
    "from tools.misc.default_settings import settings_3_SP\n",
    "\n",
    "print(settings_3_SP)"
   ]
  },
  {
   "attachments": {},
   "cell_type": "markdown",
   "id": "0eab26e9-375f-41d0-aff9-9b8992d2d1d2",
   "metadata": {},
   "source": [
    "### Set-up `RUNNER`"
   ]
  },
  {
   "cell_type": "code",
   "execution_count": 18,
   "id": "161d44d9-ef7e-4488-aad4-92e343a79c0d",
   "metadata": {},
   "outputs": [],
   "source": [
    "NODES = 4\n",
    "CORES_PER_NODE = 32\n",
    "CPUS_PER_CORE = 4\n",
    "MAX_JOBS = 64"
   ]
  },
  {
   "cell_type": "code",
   "execution_count": null,
   "id": "a68f6664-c20a-4249-8828-851b2ce85fe7",
   "metadata": {},
   "outputs": [],
   "source": [
    "scm.init(folder=RUN_DIR)\n",
    "RUNNER = scm.GridRunner(grid=\"slurm\", sleepstep=5, parallel=True, maxjobs=MAX_JOBS)  # TODO: Replace it with GridRunner\n",
    "RUNNER.settings.workdir = \"-D\"\n",
    "RUNNER.settings.special.nodes = \"--nodes=\"\n",
    "RUNNER.settings.special.qos = \"--qos=\"\n",
    "RUNNER.settings.special.walltime = \"--time=\"\n",
    "RUNNER.settings.special.tasks_per_node = \"--ntasks-per-node=\"\n",
    "RUNNER.settings.special.cpus_per_task = \"--cpus-per-task=\"\n",
    "RUNNER.settings.special.partition = \"--partition=\"\n",
    "RUNNER.settings.special.account = \"--account=\"\n",
    "RUNNER.settings.special.job_name = \"--job-name=\"\n",
    "\n",
    "scm.config.log.file = 7  # debug\n",
    "scm.config.log.stdout = 1  # 1: important 3: normal 5: verbose 7: debug\n",
    "scm.config.job.pickle = False\n",
    "scm.config.job.runscript.nproc = CORES_PER_NODE\n",
    "scm.config.job.runscript.shebang = \"#!/bin/bash\"\n",
    "scm.config.default_jobrunner = RUNNER"
   ]
  },
  {
   "cell_type": "code",
   "execution_count": 6,
   "id": "c585240e-6a1a-421b-964c-9d57940f871b",
   "metadata": {},
   "outputs": [],
   "source": [
    "settings_pkl_file = os.path.join(RUN_DIR, \"settings.pkl\")\n",
    "with open(settings_pkl_file, \"wb\") as file:\n",
    "    pickle.dump(settings_3_SP, file)"
   ]
  },
  {
   "attachments": {},
   "cell_type": "markdown",
   "id": "7c7af390-ece1-4f88-b078-783b8ab4543a",
   "metadata": {},
   "source": [
    "### Set-up JOBS"
   ]
  },
  {
   "attachments": {},
   "cell_type": "markdown",
   "id": "94d277cd-28be-4a1a-bf2a-a16c7857e261",
   "metadata": {},
   "source": [
    "Load systems"
   ]
  },
  {
   "cell_type": "code",
   "execution_count": 10,
   "id": "aa2a3582-aa50-47f7-ba80-9245b8df17fd",
   "metadata": {},
   "outputs": [
    {
     "name": "stderr",
     "output_type": "stream",
     "text": [
      "/home/paolo/Enhancing_ReaxFF/venv/lib/python3.8/site-packages/pymatgen/io/cif.py:1134: UserWarning: Issues encountered while parsing CIF: Some fractional coordinates rounded to ideal values to avoid issues with finite precision.\n",
      "  warnings.warn(\"Issues encountered while parsing CIF: \" + \"\\n\".join(self.warnings))\n"
     ]
    }
   ],
   "source": [
    "cis_dir = os.path.join(MAIN_DIR_JNB1, CHEM_FORMULA, \"3-vacancies\")\n",
    "systems = []\n",
    "\n",
    "for path in np.sort(glob.glob(os.path.join(cis_dir, \"*.cif\"))):\n",
    "    system_name = path.split(os.sep)[-1].split(\".cif\")[0]\n",
    "    system_mat = Structure.from_file(path)\n",
    "    system_ase = matget2ase.get_atoms(system_mat)\n",
    "    systems.append((system_name, fromASE(system_ase)))"
   ]
  },
  {
   "attachments": {},
   "cell_type": "markdown",
   "id": "cb595c61-85c8-4b9e-9c1e-9017bca3a327",
   "metadata": {},
   "source": [
    "Define jobs"
   ]
  },
  {
   "cell_type": "code",
   "execution_count": 22,
   "id": "5350f87e-0e65-44f9-b244-e1aba88d4b23",
   "metadata": {},
   "outputs": [],
   "source": [
    "jobs = []\n",
    "for name, system_obj in systems:\n",
    "    sim_name = f\"{TASK}-{name}\"\n",
    "    job_dir = os.path.join(RUN_DIR, \"jobs\", sim_name)\n",
    "    if os.path.exists(job_dir):\n",
    "        job = scm.AMSJob.load_external(job_dir, settings=settings)\n",
    "        if not job.check():\n",
    "            print(f\"sim {sim_name} FAILE will rerun it\")\n",
    "        else:\n",
    "            continue\n",
    "    job = scm.AMSJob(molecule=system_obj, settings=settings, name=sim_name)\n",
    "    job.settings.runscript.pre = f\"\"\"module use --append /work/pr1u1751/pr1u1751/shared/modules\n",
    "module load ams/2022.102\n",
    "export OMP_NUM_THREADS={CPUS_PER_CORE}\n",
    "\"\"\"\n",
    "    jobs.append(job)\n",
    "# Group all\n",
    "multi_jobs = scm.MultiJob(name=\"jobs\", children=jobs)"
   ]
  },
  {
   "attachments": {},
   "cell_type": "markdown",
   "id": "8f49b5db-b879-4408-aff0-b837a84ac42a",
   "metadata": {},
   "source": [
    "### Run All"
   ]
  },
  {
   "cell_type": "code",
   "execution_count": 24,
   "id": "73771b2c-c15d-4705-9609-853eb8b2470f",
   "metadata": {},
   "outputs": [
    {
     "name": "stdout",
     "output_type": "stream",
     "text": [
      "[10:33:40] JOB jobs STARTED\n",
      "[10:33:40] JOB jobs/SP-3.0-0-LiF_Fm-3m_-3.18_nv_1 STARTED\n",
      "[10:33:40] JOB jobs/SP-3.0-1-LiF_P6_3mc_-3.17_nv_1 STARTED\n",
      "[10:33:40] JOB jobs/SP-3.0-2-LiF_Pm-3m_-2.89_nv_1 STARTED\n",
      "[10:33:40] JOB jobs/SP-3.1-0-LiF_Fm-3m_-3.18_nv_1 STARTED\n",
      "[10:33:40] JOB jobs/SP-3.1-1-LiF_P6_3mc_-3.17_nv_1 STARTED\n",
      "[10:33:40] JOB jobs/SP-3.1-2-LiF_Pm-3m_-2.89_nv_1 STARTED\n",
      "[10:33:40] JOB jobs/SP-3.10-1-LiF_P6_3mc_-3.17_nv_4 STARTED\n",
      "[10:33:40] JOB jobs/SP-3.11-1-LiF_P6_3mc_-3.17_nv_4 STARTED\n",
      "[10:33:40] JOB jobs/SP-3.12-1-LiF_P6_3mc_-3.17_nv_4 STARTED\n",
      "[10:33:40] JOB jobs/SP-3.13-1-LiF_P6_3mc_-3.17_nv_4 STARTED\n",
      "[10:33:40] JOB jobs/SP-3.14-1-LiF_P6_3mc_-3.17_nv_5 STARTED\n",
      "[10:33:40] JOB jobs/SP-3.15-1-LiF_P6_3mc_-3.17_nv_5 STARTED\n",
      "[10:33:40] JOB jobs/SP-3.16-1-LiF_P6_3mc_-3.17_nv_5 STARTED\n",
      "[10:33:40] JOB jobs/SP-3.17-1-LiF_P6_3mc_-3.17_nv_5 STARTED\n",
      "[10:33:40] JOB jobs/SP-3.2-0-LiF_Fm-3m_-3.18_nv_2 STARTED\n",
      "[10:33:40] JOB jobs/SP-3.2-1-LiF_P6_3mc_-3.17_nv_2 STARTED\n",
      "[10:33:40] JOB jobs/SP-3.2-2-LiF_Pm-3m_-2.89_nv_2 STARTED\n",
      "[10:33:40] JOB jobs/SP-3.3-0-LiF_Fm-3m_-3.18_nv_2 STARTED\n",
      "[10:33:40] JOB jobs/SP-3.3-1-LiF_P6_3mc_-3.17_nv_2 STARTED\n",
      "[10:33:40] JOB jobs/SP-3.3-2-LiF_Pm-3m_-2.89_nv_2 STARTED\n",
      "[10:33:41] JOB jobs/SP-3.4-0-LiF_Fm-3m_-3.18_nv_3 STARTED\n",
      "[10:33:41] JOB jobs/SP-3.4-1-LiF_P6_3mc_-3.17_nv_2 STARTED\n",
      "[10:33:41] JOB jobs/SP-3.4-2-LiF_Pm-3m_-2.89_nv_3 STARTED\n",
      "[10:33:41] JOB jobs/SP-3.5-0-LiF_Fm-3m_-3.18_nv_3 STARTED\n",
      "[10:33:41] JOB jobs/SP-3.5-1-LiF_P6_3mc_-3.17_nv_2 STARTED\n",
      "[10:33:41] JOB jobs/SP-3.5-2-LiF_Pm-3m_-2.89_nv_3 STARTED\n",
      "[10:33:41] JOB jobs/SP-3.6-0-LiF_Fm-3m_-3.18_nv_4 STARTED\n",
      "[10:33:41] JOB jobs/SP-3.6-1-LiF_P6_3mc_-3.17_nv_3 STARTED\n",
      "[10:33:41] JOB jobs/SP-3.6-2-LiF_Pm-3m_-2.89_nv_4 STARTED\n",
      "[10:33:41] JOB jobs/SP-3.7-0-LiF_Fm-3m_-3.18_nv_4 STARTED\n",
      "[10:33:41] JOB jobs/SP-3.7-1-LiF_P6_3mc_-3.17_nv_3 STARTED\n",
      "[10:33:41] JOB jobs/SP-3.7-2-LiF_Pm-3m_-2.89_nv_4 STARTED\n",
      "[10:33:42] JOB jobs/SP-3.8-0-LiF_Fm-3m_-3.18_nv_5 STARTED\n",
      "[10:33:42] JOB jobs/SP-3.8-1-LiF_P6_3mc_-3.17_nv_3 STARTED\n",
      "[10:33:42] JOB jobs/SP-3.8-2-LiF_Pm-3m_-2.89_nv_5 STARTED\n",
      "[10:33:42] JOB jobs/SP-3.9-0-LiF_Fm-3m_-3.18_nv_5 STARTED\n",
      "[10:33:42] JOB jobs/SP-3.9-1-LiF_P6_3mc_-3.17_nv_3 STARTED\n",
      "[10:33:42] JOB jobs/SP-3.9-2-LiF_Pm-3m_-2.89_nv_5 STARTED\n"
     ]
    }
   ],
   "source": [
    "result = multi_jobs.run(\n",
    "    jobrunner=RUNNER,\n",
    "    nodes=NODES,\n",
    "    cores=CORES_PER_NODE * NODES,\n",
    "    tasks_per_node=CORES_PER_NODE,\n",
    "    cpus_per_task=CPUS_PER_CORE,\n",
    "    walltime=\"24:00:00\",\n",
    "    partition=\"standard\",\n",
    "    account=\"pr1u1751\",\n",
    "    qos=\"standard\",\n",
    ")"
   ]
  },
  {
   "attachments": {},
   "cell_type": "markdown",
   "id": "221461b5-e587-4d6b-94b3-fea7024c369a",
   "metadata": {},
   "source": [
    "### Post-processing"
   ]
  },
  {
   "cell_type": "code",
   "execution_count": 50,
   "id": "9c4b6e17-0ba7-40f4-93d2-297d28a80219",
   "metadata": {},
   "outputs": [],
   "source": [
    "dir_jobs = os.path.join(RUN_DIR, \"jobs\")\n",
    "\n",
    "cis_dir = os.path.join(MAIN_DIR_JNB1, CHEM_FORMULA, \"3-vacancies\")\n",
    "data_path = os.path.join(cis_dir, \"info.json\")\n",
    "results_df = pd.read_json(data_path)"
   ]
  },
  {
   "cell_type": "code",
   "execution_count": 51,
   "id": "4833283c-b9a4-430a-9fe1-4f2d8631e29f",
   "metadata": {},
   "outputs": [
    {
     "data": {
      "text/html": [
       "<div>\n",
       "<style scoped>\n",
       "    .dataframe tbody tr th:only-of-type {\n",
       "        vertical-align: middle;\n",
       "    }\n",
       "\n",
       "    .dataframe tbody tr th {\n",
       "        vertical-align: top;\n",
       "    }\n",
       "\n",
       "    .dataframe thead th {\n",
       "        text-align: right;\n",
       "    }\n",
       "</style>\n",
       "<table border=\"1\" class=\"dataframe\">\n",
       "  <thead>\n",
       "    <tr style=\"text-align: right;\">\n",
       "      <th></th>\n",
       "      <th>vacancy_site</th>\n",
       "      <th>vacancy_element</th>\n",
       "      <th>unitcell_repetition</th>\n",
       "    </tr>\n",
       "  </thead>\n",
       "  <tbody>\n",
       "    <tr>\n",
       "      <th>3.0-0-LiF_Fm-3m_-3.18_nv_1.cif</th>\n",
       "      <td>[[0.0, 0.0, 0.0]]</td>\n",
       "      <td>[Li]</td>\n",
       "      <td>4</td>\n",
       "    </tr>\n",
       "    <tr>\n",
       "      <th>3.1-0-LiF_Fm-3m_-3.18_nv_1.cif</th>\n",
       "      <td>[[1.6670525006, 1.1787841278, 2.88741963]]</td>\n",
       "      <td>[F]</td>\n",
       "      <td>4</td>\n",
       "    </tr>\n",
       "    <tr>\n",
       "      <th>3.2-0-LiF_Fm-3m_-3.18_nv_2.cif</th>\n",
       "      <td>[[1.6670525006, 1.1787841278, 2.88741963], [0....</td>\n",
       "      <td>[F, Li]</td>\n",
       "      <td>4</td>\n",
       "    </tr>\n",
       "    <tr>\n",
       "      <th>3.3-0-LiF_Fm-3m_-3.18_nv_2.cif</th>\n",
       "      <td>[[1.6670525006, 1.1787841278, 2.88741963], [2....</td>\n",
       "      <td>[F, F]</td>\n",
       "      <td>4</td>\n",
       "    </tr>\n",
       "    <tr>\n",
       "      <th>3.4-0-LiF_Fm-3m_-3.18_nv_3.cif</th>\n",
       "      <td>[[1.6670525006, 1.1787841278, 2.88741963], [0....</td>\n",
       "      <td>[F, Li, Li]</td>\n",
       "      <td>4</td>\n",
       "    </tr>\n",
       "  </tbody>\n",
       "</table>\n",
       "</div>"
      ],
      "text/plain": [
       "                                                                     vacancy_site  \\\n",
       "3.0-0-LiF_Fm-3m_-3.18_nv_1.cif                                  [[0.0, 0.0, 0.0]]   \n",
       "3.1-0-LiF_Fm-3m_-3.18_nv_1.cif         [[1.6670525006, 1.1787841278, 2.88741963]]   \n",
       "3.2-0-LiF_Fm-3m_-3.18_nv_2.cif  [[1.6670525006, 1.1787841278, 2.88741963], [0....   \n",
       "3.3-0-LiF_Fm-3m_-3.18_nv_2.cif  [[1.6670525006, 1.1787841278, 2.88741963], [2....   \n",
       "3.4-0-LiF_Fm-3m_-3.18_nv_3.cif  [[1.6670525006, 1.1787841278, 2.88741963], [0....   \n",
       "\n",
       "                               vacancy_element  unitcell_repetition  \n",
       "3.0-0-LiF_Fm-3m_-3.18_nv_1.cif            [Li]                    4  \n",
       "3.1-0-LiF_Fm-3m_-3.18_nv_1.cif             [F]                    4  \n",
       "3.2-0-LiF_Fm-3m_-3.18_nv_2.cif         [F, Li]                    4  \n",
       "3.3-0-LiF_Fm-3m_-3.18_nv_2.cif          [F, F]                    4  \n",
       "3.4-0-LiF_Fm-3m_-3.18_nv_3.cif     [F, Li, Li]                    4  "
      ]
     },
     "execution_count": 51,
     "metadata": {},
     "output_type": "execute_result"
    }
   ],
   "source": [
    "results_df.head()"
   ]
  },
  {
   "cell_type": "code",
   "execution_count": 52,
   "id": "18328189-e4ab-4f3c-b88b-64191992ff5f",
   "metadata": {},
   "outputs": [],
   "source": [
    "for job_dir in glob.glob(os.path.join(dir_jobs, \"*\")):\n",
    "    sim_name = job_dir.split(os.sep)[-1]\n",
    "    job = scm.AMSJob.load_external(job_dir, settings=settings_3_SP)\n",
    "    # check\n",
    "    if not job.check():\n",
    "        print(f\"Simulation {job_dir} FAILED\")\n",
    "        continue\n",
    "    job_result = job.results\n",
    "    energy = scm.Units.convert(job_result.get_energy(), \"au\", \"eV\")\n",
    "    results_df.loc[sim_name[3:] + \".cif\", \"scm_energy\"] = energy\n",
    "    Na = len(job_result.get_molecule(\"Molecule\").atoms)\n",
    "    energy_per_atom = energy / Na\n",
    "    results_df.loc[sim_name[3:] + \".cif\", \"scm_energy_per_atom\"] = energy_per_atom\n",
    "    results_df.loc[sim_name[3:] + \".cif\", \"system_id\"] = int(sim_name.split(\"-\")[2])\n",
    "\n",
    "results_df.to_json(os.path.join(RUN_DIR, f\"results.json\"))"
   ]
  },
  {
   "cell_type": "code",
   "execution_count": 53,
   "id": "70999e98",
   "metadata": {},
   "outputs": [
    {
     "data": {
      "text/html": [
       "<div>\n",
       "<style scoped>\n",
       "    .dataframe tbody tr th:only-of-type {\n",
       "        vertical-align: middle;\n",
       "    }\n",
       "\n",
       "    .dataframe tbody tr th {\n",
       "        vertical-align: top;\n",
       "    }\n",
       "\n",
       "    .dataframe thead th {\n",
       "        text-align: right;\n",
       "    }\n",
       "</style>\n",
       "<table border=\"1\" class=\"dataframe\">\n",
       "  <thead>\n",
       "    <tr style=\"text-align: right;\">\n",
       "      <th></th>\n",
       "      <th>vacancy_site</th>\n",
       "      <th>vacancy_element</th>\n",
       "      <th>unitcell_repetition</th>\n",
       "      <th>scm_energy</th>\n",
       "      <th>scm_energy_per_atom</th>\n",
       "      <th>system_id</th>\n",
       "    </tr>\n",
       "  </thead>\n",
       "  <tbody>\n",
       "    <tr>\n",
       "      <th>3.0-0-LiF_Fm-3m_-3.18_nv_1.cif</th>\n",
       "      <td>[[0.0, 0.0, 0.0]]</td>\n",
       "      <td>[Li]</td>\n",
       "      <td>4.0</td>\n",
       "      <td>-250.853627</td>\n",
       "      <td>-4.733087</td>\n",
       "      <td>0.0</td>\n",
       "    </tr>\n",
       "    <tr>\n",
       "      <th>3.1-0-LiF_Fm-3m_-3.18_nv_1.cif</th>\n",
       "      <td>[[1.6670525006, 1.1787841278, 2.88741963]]</td>\n",
       "      <td>[F]</td>\n",
       "      <td>4.0</td>\n",
       "      <td>-250.588127</td>\n",
       "      <td>-4.728078</td>\n",
       "      <td>0.0</td>\n",
       "    </tr>\n",
       "    <tr>\n",
       "      <th>3.2-0-LiF_Fm-3m_-3.18_nv_2.cif</th>\n",
       "      <td>[[1.6670525006, 1.1787841278, 2.88741963], [0....</td>\n",
       "      <td>[F, Li]</td>\n",
       "      <td>4.0</td>\n",
       "      <td>-246.515831</td>\n",
       "      <td>-4.740689</td>\n",
       "      <td>0.0</td>\n",
       "    </tr>\n",
       "    <tr>\n",
       "      <th>3.3-0-LiF_Fm-3m_-3.18_nv_2.cif</th>\n",
       "      <td>[[1.6670525006, 1.1787841278, 2.88741963], [2....</td>\n",
       "      <td>[F, F]</td>\n",
       "      <td>4.0</td>\n",
       "      <td>-242.263743</td>\n",
       "      <td>-4.658918</td>\n",
       "      <td>0.0</td>\n",
       "    </tr>\n",
       "    <tr>\n",
       "      <th>3.4-0-LiF_Fm-3m_-3.18_nv_3.cif</th>\n",
       "      <td>[[1.6670525006, 1.1787841278, 2.88741963], [0....</td>\n",
       "      <td>[F, Li, Li]</td>\n",
       "      <td>4.0</td>\n",
       "      <td>-238.689686</td>\n",
       "      <td>-4.680190</td>\n",
       "      <td>0.0</td>\n",
       "    </tr>\n",
       "  </tbody>\n",
       "</table>\n",
       "</div>"
      ],
      "text/plain": [
       "                                                                     vacancy_site  \\\n",
       "3.0-0-LiF_Fm-3m_-3.18_nv_1.cif                                  [[0.0, 0.0, 0.0]]   \n",
       "3.1-0-LiF_Fm-3m_-3.18_nv_1.cif         [[1.6670525006, 1.1787841278, 2.88741963]]   \n",
       "3.2-0-LiF_Fm-3m_-3.18_nv_2.cif  [[1.6670525006, 1.1787841278, 2.88741963], [0....   \n",
       "3.3-0-LiF_Fm-3m_-3.18_nv_2.cif  [[1.6670525006, 1.1787841278, 2.88741963], [2....   \n",
       "3.4-0-LiF_Fm-3m_-3.18_nv_3.cif  [[1.6670525006, 1.1787841278, 2.88741963], [0....   \n",
       "\n",
       "                               vacancy_element  unitcell_repetition  \\\n",
       "3.0-0-LiF_Fm-3m_-3.18_nv_1.cif            [Li]                  4.0   \n",
       "3.1-0-LiF_Fm-3m_-3.18_nv_1.cif             [F]                  4.0   \n",
       "3.2-0-LiF_Fm-3m_-3.18_nv_2.cif         [F, Li]                  4.0   \n",
       "3.3-0-LiF_Fm-3m_-3.18_nv_2.cif          [F, F]                  4.0   \n",
       "3.4-0-LiF_Fm-3m_-3.18_nv_3.cif     [F, Li, Li]                  4.0   \n",
       "\n",
       "                                scm_energy  scm_energy_per_atom  system_id  \n",
       "3.0-0-LiF_Fm-3m_-3.18_nv_1.cif -250.853627            -4.733087        0.0  \n",
       "3.1-0-LiF_Fm-3m_-3.18_nv_1.cif -250.588127            -4.728078        0.0  \n",
       "3.2-0-LiF_Fm-3m_-3.18_nv_2.cif -246.515831            -4.740689        0.0  \n",
       "3.3-0-LiF_Fm-3m_-3.18_nv_2.cif -242.263743            -4.658918        0.0  \n",
       "3.4-0-LiF_Fm-3m_-3.18_nv_3.cif -238.689686            -4.680190        0.0  "
      ]
     },
     "execution_count": 53,
     "metadata": {},
     "output_type": "execute_result"
    }
   ],
   "source": [
    "results_df.head()"
   ]
  },
  {
   "cell_type": "code",
   "execution_count": 55,
   "id": "d19127ed-dac9-4e9d-9b0e-89e2f657f1e6",
   "metadata": {},
   "outputs": [
    {
     "data": {
      "image/png": "[encoded data removed]",
      "text/plain": [
       "<Figure size 500x160 with 3 Axes>"
      ]
     },
     "metadata": {},
     "output_type": "display_data"
    }
   ],
   "source": [
    "fig = plt.figure(figsize=[5, 1.6], dpi=100)\n",
    "\n",
    "with plt.style.context(\"./articles_seaborn.mplstyle\"):\n",
    "    ax = {}\n",
    "    system_id = results_df[\"system_id\"].unique()\n",
    "    spec = fig.add_gridspec(1, len(system_id), wspace=0.35)\n",
    "    for i, sim_id in enumerate(results_df[\"system_id\"].unique()):\n",
    "        ax[i] = fig.add_subplot(spec[i])\n",
    "        idx = np.arange(len(results_df.index))\n",
    "        sub_df = results_df.loc[results_df[\"system_id\"] == sim_id]\n",
    "        xticks = np.arange(len(sub_df))\n",
    "        name = sub_df.index[0].split(\"-\")[2]\n",
    "        ax[i].bar(xticks, sub_df[\"scm_energy_per_atom\"], label=name)\n",
    "        ax[i].set_ylim([-4.8, -4.2])\n",
    "        ax[i].set_xticks(xticks)\n",
    "        xticks_labels = [\",\".join(sites) if sites == sites else \"\" for sites in sub_df[\"vacancy_element\"]]\n",
    "        ax[i].set_xticklabels(xticks_labels, rotation=90, ha=\"center\")\n",
    "        ax[i].set_title(name)\n",
    "    ax[0].set_ylabel(\"Energy per atoms [eV]\")\n",
    "plt.show()\n",
    "fig.savefig(os.path.join(\"plots\", f\"3-{CHEM_FORMULA}_{TASK}_sim_energy.pdf\"), dpi=300, bbox_inches=\"tight\")"
   ]
  },
  {
   "attachments": {},
   "cell_type": "markdown",
   "id": "bd8c5dd8-4b60-40c8-a139-a3980eaedebc",
   "metadata": {},
   "source": [
    "#### Finishing "
   ]
  },
  {
   "cell_type": "code",
   "execution_count": null,
   "id": "c2053e1e-b476-4118-8c09-cbf4d382e211",
   "metadata": {},
   "outputs": [],
   "source": [
    "scm.finish()"
   ]
  },
  {
   "attachments": {},
   "cell_type": "markdown",
   "id": "4738e113-5803-47a9-bbf2-84fb40ebb0db",
   "metadata": {
    "jp-MarkdownHeadingCollapsed": true,
    "tags": []
   },
   "source": [
    "## Substitution `Single Poin`"
   ]
  },
  {
   "cell_type": "code",
   "execution_count": 56,
   "id": "d07eb665-553d-4cc1-956e-f88f1e639ffb",
   "metadata": {},
   "outputs": [],
   "source": [
    "SIMsNAME = \"4-Substitution_SP\"\n",
    "TASK = \"SP\"\n",
    "RUN_DIR = os.path.join(MAIN_DIR_JNB2, CHEM_FORMULA, SIMsNAME)"
   ]
  },
  {
   "attachments": {},
   "cell_type": "markdown",
   "id": "96554a37-8305-468d-bec7-85e36ae7753e",
   "metadata": {},
   "source": [
    "### Setting `BAND` *Single Point*"
   ]
  },
  {
   "cell_type": "code",
   "execution_count": 57,
   "id": "9654bc2d-ce4c-43e1-a1c8-ec2444bb456f",
   "metadata": {},
   "outputs": [
    {
     "name": "stdout",
     "output_type": "stream",
     "text": [
      "input: \t\n",
      "      AMS: \t\n",
      "          task: \tSinglePoint\n",
      "          Properties: \t\n",
      "                     Gradients: \tyes\n",
      "                     StressTensor: \tno\n",
      "                     Hessian: \tno\n",
      "                     PESPointCharacter: \tno\n",
      "                     ElasticTensor: \tno\n",
      "      BAND: \t\n",
      "           basis: \t\n",
      "                 type: \tDZP\n",
      "           xc: \t\n",
      "              GGA: \tPBE\n",
      "\n"
     ]
    }
   ],
   "source": [
    "from tools.misc.default_settings import settings_4_SP\n",
    "\n",
    "print(settings_4_SP)"
   ]
  },
  {
   "attachments": {},
   "cell_type": "markdown",
   "id": "8a80f548-9b4b-4436-bab6-46a4ce7346a3",
   "metadata": {},
   "source": [
    "### Set-up `RUNNER`"
   ]
  },
  {
   "cell_type": "code",
   "execution_count": 30,
   "id": "8434a3f1-6f90-4ae7-97e4-33a5bfc3ce06",
   "metadata": {},
   "outputs": [],
   "source": [
    "NODES = 4\n",
    "CORES_PER_NODE = 8\n",
    "CPUS_PER_CORE = 4\n",
    "MAX_JOBS = 64"
   ]
  },
  {
   "cell_type": "code",
   "execution_count": null,
   "id": "d7333205-92f6-407f-bbb7-b1d23ffd235e",
   "metadata": {},
   "outputs": [],
   "source": [
    "scm.init(folder=RUN_DIR)\n",
    "RUNNER = scm.GridRunner(grid=\"slurm\", sleepstep=5, parallel=True, maxjobs=MAX_JOBS)  # TODO: Replace it with GridRunner\n",
    "RUNNER.settings.workdir = \"-D\"\n",
    "RUNNER.settings.special.nodes = \"--nodes=\"\n",
    "RUNNER.settings.special.qos = \"--qos=\"\n",
    "RUNNER.settings.special.walltime = \"--time=\"\n",
    "RUNNER.settings.special.tasks_per_node = \"--ntasks-per-node=\"\n",
    "RUNNER.settings.special.cpus_per_task = \"--cpus-per-task=\"\n",
    "RUNNER.settings.special.partition = \"--partition=\"\n",
    "RUNNER.settings.special.account = \"--account=\"\n",
    "RUNNER.settings.special.job_name = \"--job-name=\"\n",
    "\n",
    "scm.config.log.file = 7  # debug\n",
    "scm.config.log.stdout = 1  # 1: important 3: normal 5: verbose 7: debug\n",
    "scm.config.job.pickle = False\n",
    "scm.config.job.runscript.nproc = CORES_PER_NODE\n",
    "scm.config.job.runscript.shebang = \"#!/bin/bash\"\n",
    "scm.config.default_jobrunner = RUNNER"
   ]
  },
  {
   "cell_type": "code",
   "execution_count": 31,
   "id": "307e7089-9042-486b-978c-ae99034129ca",
   "metadata": {},
   "outputs": [],
   "source": [
    "settings_pkl_file = os.path.join(RUN_DIR, \"settings.pkl\")\n",
    "with open(settings_pkl_file, \"wb\") as file:\n",
    "    pickle.dump(settings_4_SP, file)"
   ]
  },
  {
   "attachments": {},
   "cell_type": "markdown",
   "id": "349a23ce-0ae2-4f8a-9ca7-9763c0bd6c0d",
   "metadata": {},
   "source": [
    "#### Set-up JOBS"
   ]
  },
  {
   "attachments": {},
   "cell_type": "markdown",
   "id": "99f95c01-81f5-4a26-8809-98f87cd5c07c",
   "metadata": {},
   "source": [
    "Load systems"
   ]
  },
  {
   "cell_type": "code",
   "execution_count": 32,
   "id": "fb1cdfc9-c7af-4c2c-8db3-d3c930d018a4",
   "metadata": {},
   "outputs": [],
   "source": [
    "cis_dir = os.path.join(MAIN_DIR_JNB1, CHEM_FORMULA, \"4-substitutions\")\n",
    "systems = []\n",
    "\n",
    "for path in np.sort(glob.glob(os.path.join(cis_dir, \"*.cif\"))):\n",
    "    system_name = path.split(os.sep)[-1].split(\".cif\")[0]\n",
    "    system_mat = Structure.from_file(path)\n",
    "    system_ase = matget2ase.get_atoms(system_mat)\n",
    "    systems.append((system_name, fromASE(system_ase)))"
   ]
  },
  {
   "attachments": {},
   "cell_type": "markdown",
   "id": "602e9283-766b-4ffd-9613-ef99bf86f00f",
   "metadata": {},
   "source": [
    "Define jobs"
   ]
  },
  {
   "cell_type": "code",
   "execution_count": 29,
   "id": "b35621a1-c3bc-4805-950a-4081d98b66d8",
   "metadata": {},
   "outputs": [],
   "source": [
    "jobs = []\n",
    "for name, system_obj in systems:\n",
    "    sim_name = f\"{TASK}-{name}\"\n",
    "    job = scm.AMSJob(molecule=system_obj, settings=settings_4_SP, name=sim_name)\n",
    "    job.settings.runscript.pre = f\"\"\"module use --append /work/pr1u1751/pr1u1751/shared/modules\n",
    "module load ams/2022.102\n",
    "export OMP_NUM_THREADS={CPUS_PER_CORE}\n",
    "\"\"\"\n",
    "    jobs.append(job)\n",
    "# Group all\n",
    "multi_jobs = scm.MultiJob(name=\"jobs\", children=jobs)"
   ]
  },
  {
   "attachments": {},
   "cell_type": "markdown",
   "id": "dcd3b54f-2b56-4cb1-aafb-dab4fa7ca13f",
   "metadata": {},
   "source": [
    "#### Run All"
   ]
  },
  {
   "cell_type": "code",
   "execution_count": 32,
   "id": "76806d93-a1ba-4889-9380-a8a164c2902c",
   "metadata": {},
   "outputs": [
    {
     "name": "stdout",
     "output_type": "stream",
     "text": [
      "[18:57:04] JOB jobs STARTED\n",
      "[18:57:04] JOB jobs/SP-4.0-0-LiF_Fm-3m_-3.18_ns_1 STARTED\n",
      "[18:57:04] JOB jobs/SP-4.0-1-LiF_P6_3mc_-3.17_ns_1 STARTED\n",
      "[18:57:04] JOB jobs/SP-4.0-2-LiF_Pm-3m_-2.89_ns_1 STARTED\n",
      "[18:57:04] JOB jobs/SP-4.1-0-LiF_Fm-3m_-3.18_ns_2 STARTED\n",
      "[18:57:04] JOB jobs/SP-4.1-1-LiF_P6_3mc_-3.17_ns_2 STARTED\n",
      "[18:57:04] JOB jobs/SP-4.1-2-LiF_Pm-3m_-2.89_ns_2 STARTED\n",
      "[18:57:04] JOB jobs/SP-4.2-0-LiF_Fm-3m_-3.18_ns_3 STARTED\n",
      "[18:57:04] JOB jobs/SP-4.2-1-LiF_P6_3mc_-3.17_ns_3 STARTED\n",
      "[18:57:04] JOB jobs/SP-4.2-2-LiF_Pm-3m_-2.89_ns_3 STARTED\n",
      "[18:57:04] JOB jobs/SP-4.3-0-LiF_Fm-3m_-3.18_ns_4 STARTED\n",
      "[18:57:04] JOB jobs/SP-4.3-1-LiF_P6_3mc_-3.17_ns_4 STARTED\n",
      "[18:57:04] JOB jobs/SP-4.3-2-LiF_Pm-3m_-2.89_ns_4 STARTED\n",
      "[18:57:04] JOB jobs/SP-4.4-0-LiF_Fm-3m_-3.18_ns_5 STARTED\n",
      "[18:57:04] JOB jobs/SP-4.4-1-LiF_P6_3mc_-3.17_ns_5 STARTED\n",
      "[18:57:04] JOB jobs/SP-4.4-2-LiF_Pm-3m_-2.89_ns_5 STARTED\n"
     ]
    }
   ],
   "source": [
    "result = multi_jobs.run(\n",
    "    jobrunner=RUNNER,\n",
    "    nodes=NODES,\n",
    "    cores=CORES_PER_NODE * NODES,\n",
    "    tasks_per_node=CORES_PER_NODE,\n",
    "    cpus_per_task=CPUS_PER_CORE,\n",
    "    walltime=\"24:00:00\",\n",
    "    partition=\"standard\",\n",
    "    account=\"pr1u1751\",\n",
    "    qos=\"standard\",\n",
    ")"
   ]
  },
  {
   "attachments": {},
   "cell_type": "markdown",
   "id": "e64b12f1-943f-48ba-9acd-507271e333c7",
   "metadata": {},
   "source": [
    "### Post-processing"
   ]
  },
  {
   "attachments": {},
   "cell_type": "markdown",
   "id": "fd8c770c-710b-4139-9f23-7af063e68448",
   "metadata": {},
   "source": [
    "Load Material Project data"
   ]
  },
  {
   "cell_type": "code",
   "execution_count": 58,
   "id": "1f7a9fc4-87e3-499d-af00-a5ab418ea555",
   "metadata": {},
   "outputs": [],
   "source": [
    "dir_jobs = os.path.join(RUN_DIR, \"jobs\")\n",
    "\n",
    "cis_dir = os.path.join(MAIN_DIR_JNB1, CHEM_FORMULA, \"4-substitutions\")\n",
    "data_path = os.path.join(cis_dir, \"info.json\")\n",
    "# data_path = os.path.join(ALLSIM_DIR, f'results_0-UnitCell_SP.json')\n",
    "results_df = pd.read_json(data_path)"
   ]
  },
  {
   "cell_type": "code",
   "execution_count": 59,
   "id": "4bdf9d61-90c6-4529-b1f1-ade478c31499",
   "metadata": {},
   "outputs": [
    {
     "data": {
      "text/html": [
       "<div>\n",
       "<style scoped>\n",
       "    .dataframe tbody tr th:only-of-type {\n",
       "        vertical-align: middle;\n",
       "    }\n",
       "\n",
       "    .dataframe tbody tr th {\n",
       "        vertical-align: top;\n",
       "    }\n",
       "\n",
       "    .dataframe thead th {\n",
       "        text-align: right;\n",
       "    }\n",
       "</style>\n",
       "<table border=\"1\" class=\"dataframe\">\n",
       "  <thead>\n",
       "    <tr style=\"text-align: right;\">\n",
       "      <th></th>\n",
       "      <th>substitution_site</th>\n",
       "      <th>substitution_element</th>\n",
       "      <th>unitcell_repetition</th>\n",
       "    </tr>\n",
       "  </thead>\n",
       "  <tbody>\n",
       "    <tr>\n",
       "      <th>4.0-0-LiF_Fm-3m_-3.18_ns_1.cif</th>\n",
       "      <td>[[0.0, 0.0, 0.0]]</td>\n",
       "      <td>[F]</td>\n",
       "      <td>4</td>\n",
       "    </tr>\n",
       "    <tr>\n",
       "      <th>4.1-0-LiF_Fm-3m_-3.18_ns_2.cif</th>\n",
       "      <td>[[0.0, 0.0, 0.0], [0.8335262503, 2.3575682556,...</td>\n",
       "      <td>[F, F]</td>\n",
       "      <td>4</td>\n",
       "    </tr>\n",
       "    <tr>\n",
       "      <th>4.2-0-LiF_Fm-3m_-3.18_ns_3.cif</th>\n",
       "      <td>[[0.0, 0.0, 0.0], [0.8335262503, 2.3575682556,...</td>\n",
       "      <td>[F, F, Li]</td>\n",
       "      <td>4</td>\n",
       "    </tr>\n",
       "    <tr>\n",
       "      <th>4.3-0-LiF_Fm-3m_-3.18_ns_4.cif</th>\n",
       "      <td>[[0.0, 0.0, 0.0], [0.8335262503, 2.3575682556,...</td>\n",
       "      <td>[F, F, Li, F]</td>\n",
       "      <td>4</td>\n",
       "    </tr>\n",
       "    <tr>\n",
       "      <th>4.4-0-LiF_Fm-3m_-3.18_ns_5.cif</th>\n",
       "      <td>[[0.0, 0.0, 0.0], [0.8335262503, 2.3575682556,...</td>\n",
       "      <td>[F, F, Li, F, F]</td>\n",
       "      <td>4</td>\n",
       "    </tr>\n",
       "  </tbody>\n",
       "</table>\n",
       "</div>"
      ],
      "text/plain": [
       "                                                                substitution_site  \\\n",
       "4.0-0-LiF_Fm-3m_-3.18_ns_1.cif                                  [[0.0, 0.0, 0.0]]   \n",
       "4.1-0-LiF_Fm-3m_-3.18_ns_2.cif  [[0.0, 0.0, 0.0], [0.8335262503, 2.3575682556,...   \n",
       "4.2-0-LiF_Fm-3m_-3.18_ns_3.cif  [[0.0, 0.0, 0.0], [0.8335262503, 2.3575682556,...   \n",
       "4.3-0-LiF_Fm-3m_-3.18_ns_4.cif  [[0.0, 0.0, 0.0], [0.8335262503, 2.3575682556,...   \n",
       "4.4-0-LiF_Fm-3m_-3.18_ns_5.cif  [[0.0, 0.0, 0.0], [0.8335262503, 2.3575682556,...   \n",
       "\n",
       "                               substitution_element  unitcell_repetition  \n",
       "4.0-0-LiF_Fm-3m_-3.18_ns_1.cif                  [F]                    4  \n",
       "4.1-0-LiF_Fm-3m_-3.18_ns_2.cif               [F, F]                    4  \n",
       "4.2-0-LiF_Fm-3m_-3.18_ns_3.cif           [F, F, Li]                    4  \n",
       "4.3-0-LiF_Fm-3m_-3.18_ns_4.cif        [F, F, Li, F]                    4  \n",
       "4.4-0-LiF_Fm-3m_-3.18_ns_5.cif     [F, F, Li, F, F]                    4  "
      ]
     },
     "execution_count": 59,
     "metadata": {},
     "output_type": "execute_result"
    }
   ],
   "source": [
    "results_df.head()"
   ]
  },
  {
   "cell_type": "code",
   "execution_count": 60,
   "id": "cceae5d5-e0d8-473e-92da-ac73118825c6",
   "metadata": {},
   "outputs": [],
   "source": [
    "for job_dir in glob.glob(os.path.join(dir_jobs, \"*\")):\n",
    "    sim_name = job_dir.split(os.sep)[-1]\n",
    "    job_result = scm.AMSJob.load_external(job_dir, settings=settings_4_SP).results\n",
    "    energy = scm.Units.convert(job_result.get_energy(), \"au\", \"eV\")\n",
    "    results_df.loc[sim_name[3:] + \".cif\", \"scm_energy\"] = energy\n",
    "    Na = len(job_result.get_molecule(\"Molecule\").atoms)\n",
    "    energy_per_atom = energy / Na\n",
    "    results_df.loc[sim_name[3:] + \".cif\", \"scm_energy_per_atom\"] = energy_per_atom\n",
    "    results_df.loc[sim_name[3:] + \".cif\", \"system_id\"] = int(sim_name.split(\"-\")[2])\n",
    "\n",
    "results_df.to_json(os.path.join(RUN_DIR, f\"results.json\"))"
   ]
  },
  {
   "cell_type": "code",
   "execution_count": 61,
   "id": "24949e76",
   "metadata": {},
   "outputs": [
    {
     "data": {
      "text/html": [
       "<div>\n",
       "<style scoped>\n",
       "    .dataframe tbody tr th:only-of-type {\n",
       "        vertical-align: middle;\n",
       "    }\n",
       "\n",
       "    .dataframe tbody tr th {\n",
       "        vertical-align: top;\n",
       "    }\n",
       "\n",
       "    .dataframe thead th {\n",
       "        text-align: right;\n",
       "    }\n",
       "</style>\n",
       "<table border=\"1\" class=\"dataframe\">\n",
       "  <thead>\n",
       "    <tr style=\"text-align: right;\">\n",
       "      <th></th>\n",
       "      <th>substitution_site</th>\n",
       "      <th>substitution_element</th>\n",
       "      <th>unitcell_repetition</th>\n",
       "      <th>scm_energy</th>\n",
       "      <th>scm_energy_per_atom</th>\n",
       "      <th>system_id</th>\n",
       "    </tr>\n",
       "  </thead>\n",
       "  <tbody>\n",
       "    <tr>\n",
       "      <th>4.0-0-LiF_Fm-3m_-3.18_ns_1.cif</th>\n",
       "      <td>[[0.0, 0.0, 0.0]]</td>\n",
       "      <td>[F]</td>\n",
       "      <td>4</td>\n",
       "      <td>-246.959376</td>\n",
       "      <td>-4.573322</td>\n",
       "      <td>0.0</td>\n",
       "    </tr>\n",
       "    <tr>\n",
       "      <th>4.1-0-LiF_Fm-3m_-3.18_ns_2.cif</th>\n",
       "      <td>[[0.0, 0.0, 0.0], [0.8335262503, 2.3575682556,...</td>\n",
       "      <td>[F, F]</td>\n",
       "      <td>4</td>\n",
       "      <td>-233.970146</td>\n",
       "      <td>-4.332780</td>\n",
       "      <td>0.0</td>\n",
       "    </tr>\n",
       "    <tr>\n",
       "      <th>4.2-0-LiF_Fm-3m_-3.18_ns_3.cif</th>\n",
       "      <td>[[0.0, 0.0, 0.0], [0.8335262503, 2.3575682556,...</td>\n",
       "      <td>[F, F, Li]</td>\n",
       "      <td>4</td>\n",
       "      <td>-223.081439</td>\n",
       "      <td>-4.131138</td>\n",
       "      <td>0.0</td>\n",
       "    </tr>\n",
       "    <tr>\n",
       "      <th>4.3-0-LiF_Fm-3m_-3.18_ns_4.cif</th>\n",
       "      <td>[[0.0, 0.0, 0.0], [0.8335262503, 2.3575682556,...</td>\n",
       "      <td>[F, F, Li, F]</td>\n",
       "      <td>4</td>\n",
       "      <td>-212.037549</td>\n",
       "      <td>-3.926621</td>\n",
       "      <td>0.0</td>\n",
       "    </tr>\n",
       "    <tr>\n",
       "      <th>4.4-0-LiF_Fm-3m_-3.18_ns_5.cif</th>\n",
       "      <td>[[0.0, 0.0, 0.0], [0.8335262503, 2.3575682556,...</td>\n",
       "      <td>[F, F, Li, F, F]</td>\n",
       "      <td>4</td>\n",
       "      <td>-200.977492</td>\n",
       "      <td>-3.721805</td>\n",
       "      <td>0.0</td>\n",
       "    </tr>\n",
       "  </tbody>\n",
       "</table>\n",
       "</div>"
      ],
      "text/plain": [
       "                                                                substitution_site  \\\n",
       "4.0-0-LiF_Fm-3m_-3.18_ns_1.cif                                  [[0.0, 0.0, 0.0]]   \n",
       "4.1-0-LiF_Fm-3m_-3.18_ns_2.cif  [[0.0, 0.0, 0.0], [0.8335262503, 2.3575682556,...   \n",
       "4.2-0-LiF_Fm-3m_-3.18_ns_3.cif  [[0.0, 0.0, 0.0], [0.8335262503, 2.3575682556,...   \n",
       "4.3-0-LiF_Fm-3m_-3.18_ns_4.cif  [[0.0, 0.0, 0.0], [0.8335262503, 2.3575682556,...   \n",
       "4.4-0-LiF_Fm-3m_-3.18_ns_5.cif  [[0.0, 0.0, 0.0], [0.8335262503, 2.3575682556,...   \n",
       "\n",
       "                               substitution_element  unitcell_repetition  \\\n",
       "4.0-0-LiF_Fm-3m_-3.18_ns_1.cif                  [F]                    4   \n",
       "4.1-0-LiF_Fm-3m_-3.18_ns_2.cif               [F, F]                    4   \n",
       "4.2-0-LiF_Fm-3m_-3.18_ns_3.cif           [F, F, Li]                    4   \n",
       "4.3-0-LiF_Fm-3m_-3.18_ns_4.cif        [F, F, Li, F]                    4   \n",
       "4.4-0-LiF_Fm-3m_-3.18_ns_5.cif     [F, F, Li, F, F]                    4   \n",
       "\n",
       "                                scm_energy  scm_energy_per_atom  system_id  \n",
       "4.0-0-LiF_Fm-3m_-3.18_ns_1.cif -246.959376            -4.573322        0.0  \n",
       "4.1-0-LiF_Fm-3m_-3.18_ns_2.cif -233.970146            -4.332780        0.0  \n",
       "4.2-0-LiF_Fm-3m_-3.18_ns_3.cif -223.081439            -4.131138        0.0  \n",
       "4.3-0-LiF_Fm-3m_-3.18_ns_4.cif -212.037549            -3.926621        0.0  \n",
       "4.4-0-LiF_Fm-3m_-3.18_ns_5.cif -200.977492            -3.721805        0.0  "
      ]
     },
     "execution_count": 61,
     "metadata": {},
     "output_type": "execute_result"
    }
   ],
   "source": [
    "results_df.head()"
   ]
  },
  {
   "cell_type": "code",
   "execution_count": 62,
   "id": "8d285519-6243-425d-8377-0538a8718489",
   "metadata": {},
   "outputs": [
    {
     "data": {
      "image/png": "[encoded data removed]",
      "text/plain": [
       "<Figure size 500x160 with 3 Axes>"
      ]
     },
     "metadata": {},
     "output_type": "display_data"
    }
   ],
   "source": [
    "fig = plt.figure(figsize=[5, 1.6], dpi=100)\n",
    "\n",
    "with plt.style.context(\"./articles_seaborn.mplstyle\"):\n",
    "    ax = {}\n",
    "    system_id = results_df[\"system_id\"].unique()\n",
    "    system_id = [id for id in system_id if id == id]\n",
    "    spec = fig.add_gridspec(1, len(system_id), wspace=0.35)\n",
    "    for i, sim_id in enumerate(system_id):\n",
    "        ax[i] = fig.add_subplot(spec[i])\n",
    "        idx = np.arange(len(results_df.index))\n",
    "        sub_df = results_df.loc[results_df[\"system_id\"] == sim_id]\n",
    "        xticks = np.arange(len(sub_df))\n",
    "        name = sub_df.index[0].split(\"-\")[2]\n",
    "        ax[i].bar(xticks, sub_df[\"scm_energy_per_atom\"], label=name)\n",
    "        ax[i].set_ylim([-4.8, -3])\n",
    "        ax[i].set_xticks(xticks)\n",
    "        xticks_labels = [\",\".join(sites) if sites == sites else \"\" for sites in sub_df[\"substitution_element\"]]\n",
    "        ax[i].set_xticklabels(xticks_labels, rotation=90, ha=\"center\")\n",
    "        ax[i].set_title(name)\n",
    "    ax[0].set_ylabel(\"Energy per atoms [eV]\")\n",
    "plt.show()\n",
    "fig.savefig(os.path.join(\"plots\", f\"4-{CHEM_FORMULA}_{TASK}_sim_energy.pdf\"), dpi=300, bbox_inches=\"tight\")"
   ]
  },
  {
   "attachments": {},
   "cell_type": "markdown",
   "id": "ed79abbc-0dcb-4ffd-a36f-26c5fae732f6",
   "metadata": {},
   "source": [
    "#### Finishing "
   ]
  },
  {
   "cell_type": "code",
   "execution_count": 160,
   "id": "fe6383ff-e0ea-4ea8-bdcd-5f8022af7c3d",
   "metadata": {
    "tags": []
   },
   "outputs": [],
   "source": [
    "scm.finish()"
   ]
  },
  {
   "attachments": {},
   "cell_type": "markdown",
   "id": "817f1b88-12df-46d6-8c0a-23523ea798d0",
   "metadata": {
    "tags": []
   },
   "source": [
    "## Interstitial `Pre Optimization`"
   ]
  },
  {
   "cell_type": "code",
   "execution_count": 67,
   "id": "c1ecff11-dd33-41bf-bd6a-21c43ea424aa",
   "metadata": {},
   "outputs": [],
   "source": [
    "SIMsNAME = \"5-Interstitial_PreO\"\n",
    "TASK = \"PreO\"\n",
    "RUN_DIR = os.path.join(MAIN_DIR_JNB2, CHEM_FORMULA, SIMsNAME)"
   ]
  },
  {
   "attachments": {},
   "cell_type": "markdown",
   "id": "f1042c0c-24e4-4322-b9d9-ac7cf60fabb2",
   "metadata": {},
   "source": [
    "### Setting `BAND` *Geopmetry Optimization*"
   ]
  },
  {
   "cell_type": "code",
   "execution_count": 71,
   "id": "0fbe65d1-ca0e-4617-822e-deeb62d5592e",
   "metadata": {},
   "outputs": [
    {
     "name": "stdout",
     "output_type": "stream",
     "text": [
      "input: \t\n",
      "      ams: \t\n",
      "          task: \tGeometryOptimization\n",
      "          GeometryOptimization: \t\n",
      "                               OptimizeLattice: \tyes\n",
      "                               Convergence: \t\n",
      "                                           Energy: \t3.8087988488664447e-05\n",
      "                                           Gradients: \t0.3808798848866444\n",
      "                                           StressEnergyPerAtom: \t0.01904399424433222\n",
      "                                           Step: \t0.05\n",
      "                               PretendConverged: \tyes\n",
      "                               MaxIterations: \t100\n",
      "      BAND: \t\n",
      "           basis: \t\n",
      "                 type: \tDZ\n",
      "                 Core: \tMedium\n",
      "           Dependency: \t\n",
      "                      Core: \t0.8\n",
      "           xc: \t\n",
      "              LDA: \tVWN\n",
      "           scf: \t\n",
      "               mixing: \t0.3\n",
      "           numericalquality: \tBasic\n",
      "           beckegrid: \t\n",
      "                     quality: \tBasic\n",
      "           CPVector: \t512\n",
      "           KGRPX: \t6\n",
      "\n"
     ]
    }
   ],
   "source": [
    "from tools.misc.default_settings import settings_5_PreO\n",
    "\n",
    "print(settings_5_PreO)"
   ]
  },
  {
   "attachments": {},
   "cell_type": "markdown",
   "id": "7e6fec17-0c07-4ee9-9171-e1d813ded87e",
   "metadata": {},
   "source": [
    "### Set-up `RUNNER`"
   ]
  },
  {
   "cell_type": "code",
   "execution_count": 69,
   "id": "841c670f-7aed-40e5-b44c-09a594948154",
   "metadata": {},
   "outputs": [],
   "source": [
    "NODES = 1\n",
    "CORES_PER_NODE = 64\n",
    "CPUS_PER_CORE = 4\n",
    "MAX_JOBS = 15"
   ]
  },
  {
   "cell_type": "code",
   "execution_count": 72,
   "id": "72540b94-554c-4c24-b61e-8490f14cd9c8",
   "metadata": {},
   "outputs": [],
   "source": [
    "settings_pkl_file = os.path.join(RUN_DIR, \"settings.pkl\")\n",
    "with open(settings_pkl_file, \"wb\") as file:\n",
    "    pickle.dump(settings_5_PreO, file)"
   ]
  },
  {
   "cell_type": "code",
   "execution_count": null,
   "id": "00b67846-b1da-407a-b722-0834bb9eb8f0",
   "metadata": {},
   "outputs": [],
   "source": [
    "scm.init(folder=RUN_DIR)\n",
    "RUNNER = scm.GridRunner(grid=\"slurm\", sleepstep=5, parallel=True, maxjobs=MAX_JOBS)  # TODO: Replace it with GridRunner\n",
    "RUNNER.settings.workdir = \"-D\"\n",
    "RUNNER.settings.special.nodes = \"--nodes=\"\n",
    "RUNNER.settings.special.qos = \"--qos=\"\n",
    "RUNNER.settings.special.walltime = \"--time=\"\n",
    "RUNNER.settings.special.tasks_per_node = \"--ntasks-per-node=\"\n",
    "RUNNER.settings.special.cpus_per_task = \"--cpus-per-task=\"\n",
    "RUNNER.settings.special.partition = \"--partition=\"\n",
    "RUNNER.settings.special.account = \"--account=\"\n",
    "RUNNER.settings.special.job_name = \"--job-name=\"\n",
    "\n",
    "scm.config.log.file = 7  # debug\n",
    "scm.config.log.stdout = 1  # 1: important 3: normal 5: verbose 7: debug\n",
    "scm.config.job.pickle = False\n",
    "scm.config.job.runscript.nproc = CORES_PER_NODE * NODES\n",
    "scm.config.job.runscript.shebang = \"#!/bin/bash\"\n",
    "scm.config.default_jobrunner = RUNNER"
   ]
  },
  {
   "attachments": {},
   "cell_type": "markdown",
   "id": "775dabb6-fd99-4820-bc35-5e46513d70f5",
   "metadata": {},
   "source": [
    "### Set-up JOBS"
   ]
  },
  {
   "attachments": {},
   "cell_type": "markdown",
   "id": "3c841614-8cce-4aa9-ada5-6a095a930355",
   "metadata": {},
   "source": [
    "Load systems"
   ]
  },
  {
   "cell_type": "code",
   "execution_count": 73,
   "id": "9cff6df8-98e8-410f-a025-c8c99259e040",
   "metadata": {},
   "outputs": [
    {
     "name": "stderr",
     "output_type": "stream",
     "text": [
      "/home/paolo/Enhancing_ReaxFF/venv/lib/python3.8/site-packages/pymatgen/io/cif.py:1134: UserWarning: Issues encountered while parsing CIF: Some fractional coordinates rounded to ideal values to avoid issues with finite precision.\n",
      "  warnings.warn(\"Issues encountered while parsing CIF: \" + \"\\n\".join(self.warnings))\n"
     ]
    }
   ],
   "source": [
    "cis_dir = os.path.join(MAIN_DIR_JNB1, CHEM_FORMULA, \"5-interstitial\")\n",
    "systems = []\n",
    "\n",
    "for path in np.sort(glob.glob(os.path.join(cis_dir, \"*.cif\"))):\n",
    "    system_name = path.split(os.sep)[-1].split(\".cif\")[0]\n",
    "    system_mat = Structure.from_file(path)\n",
    "    system_ase = matget2ase.get_atoms(system_mat)\n",
    "    systems.append((system_name, fromASE(system_ase)))"
   ]
  },
  {
   "attachments": {},
   "cell_type": "markdown",
   "id": "d0e32113-094b-4adb-9f4a-e1b41209f534",
   "metadata": {},
   "source": [
    "Define jobs"
   ]
  },
  {
   "cell_type": "code",
   "execution_count": 182,
   "id": "6e45f7c8-a7b2-464a-8661-caaba2de15b5",
   "metadata": {},
   "outputs": [],
   "source": [
    "jobs = []\n",
    "for name, system_obj in systems:\n",
    "    sim_name = f\"{TASK}-{name}\"\n",
    "    job = scm.AMSJob(molecule=system_obj, settings=settings_5_PreO, name=sim_name)\n",
    "    job.settings.runscript.pre = \"\"\"module use --append /work/pr1u1751/pr1u1751/shared/modules\n",
    "module load ams/2022.102\"\"\"\n",
    "    jobs.append(job)\n",
    "# Group all\n",
    "multi_jobs = scm.MultiJob(name=\"jobs\", children=jobs)"
   ]
  },
  {
   "attachments": {},
   "cell_type": "markdown",
   "id": "6ec02877-1075-4d5a-8683-18655de3d8c5",
   "metadata": {},
   "source": [
    "#### Run All"
   ]
  },
  {
   "cell_type": "code",
   "execution_count": 184,
   "id": "c6fc202e-7a72-45d0-ada7-27038308418e",
   "metadata": {},
   "outputs": [
    {
     "name": "stdout",
     "output_type": "stream",
     "text": [
      "[26.11|20:46:50] JOB jobs STARTED\n",
      "[26.11|20:46:50] JOB jobs/PO-5.0-0-LiF_Fm-3m_-3.18_ni_0 STARTED\n",
      "[26.11|20:46:50] JOB jobs/PO-5.0-1-LiF_P6_3mc_-3.17_ni_0 STARTED\n",
      "[26.11|20:46:50] JOB jobs/PO-5.0-2-LiF_Pm-3m_-2.89_ni_0 STARTED\n",
      "[26.11|20:46:50] JOB jobs/PO-5.1-0-LiF_Fm-3m_-3.18_ni_1 STARTED\n",
      "[26.11|20:46:50] JOB jobs/PO-5.1-1-LiF_P6_3mc_-3.17_ni_1 STARTED\n",
      "[26.11|20:46:50] JOB jobs/PO-5.1-2-LiF_Pm-3m_-2.89_ni_1 STARTED\n",
      "[26.11|20:46:50] JOB jobs/PO-5.2-0-LiF_Fm-3m_-3.18_ni_2 STARTED\n",
      "[26.11|20:46:50] JOB jobs/PO-5.2-1-LiF_P6_3mc_-3.17_ni_2 STARTED\n",
      "[26.11|20:46:50] JOB jobs/PO-5.2-2-LiF_Pm-3m_-2.89_ni_2 STARTED\n",
      "[26.11|20:46:50] JOB jobs/PO-5.3-0-LiF_Fm-3m_-3.18_ni_3 STARTED\n",
      "[26.11|20:46:50] JOB jobs/PO-5.3-1-LiF_P6_3mc_-3.17_ni_3 STARTED\n",
      "[26.11|20:46:50] JOB jobs/PO-5.3-2-LiF_Pm-3m_-2.89_ni_3 STARTED\n",
      "[26.11|20:46:50] JOB jobs/PO-5.4-0-LiF_Fm-3m_-3.18_ni_4 STARTED\n",
      "[26.11|20:46:50] JOB jobs/PO-5.4-1-LiF_P6_3mc_-3.17_ni_4 STARTED\n",
      "[26.11|20:46:50] JOB jobs/PO-5.4-2-LiF_Pm-3m_-2.89_ni_4 STARTED\n",
      "[26.11|20:48:59] JOB jobs/PO-5.0-0-LiF_Fm-3m_-3.18_ni_0 SUCCESSFUL\n",
      "[26.11|20:49:20] JOB jobs/PO-5.0-2-LiF_Pm-3m_-2.89_ni_0 SUCCESSFUL\n"
     ]
    }
   ],
   "source": [
    "result = multi_jobs.run(\n",
    "    jobrunner=RUNNER,\n",
    "    nodes=NODES,\n",
    "    cores=CORES_PER_NODE * NODES,\n",
    "    tasks_per_node=CORES_PER_NODE,\n",
    "    cpus_per_task=CPUS_PER_CORE,\n",
    "    walltime=\"24:00:00\",\n",
    "    partition=\"standard\",\n",
    "    account=\"pr1u1751\",\n",
    "    qos=\"standard\",\n",
    ")"
   ]
  },
  {
   "attachments": {},
   "cell_type": "markdown",
   "id": "2823cff0-e1f4-4f23-9989-81249714118a",
   "metadata": {},
   "source": [
    "### Post-processing"
   ]
  },
  {
   "attachments": {},
   "cell_type": "markdown",
   "id": "dd537421",
   "metadata": {},
   "source": [
    "save pre-optimized configurations"
   ]
  },
  {
   "cell_type": "code",
   "execution_count": 76,
   "id": "e302be6b-ee73-499c-a3d3-eab3a725a822",
   "metadata": {},
   "outputs": [],
   "source": [
    "conf_dir = os.path.join(MAIN_DIR_JNB1, CHEM_FORMULA, \"5.1-interstitial_PO\")\n",
    "make_dir(conf_dir)\n",
    "\n",
    "for job_dir in glob.glob(os.path.join(dir_jobs, \"*\")):\n",
    "    sim_name = job_dir.split(os.sep)[-1]\n",
    "    job = scm.AMSJob.load_external(job_dir, settings=settings_5_PreO)\n",
    "    # check\n",
    "    if not job.check():\n",
    "        print(f\"Simulation {job_dir} FAILED\")\n",
    "        continue\n",
    "    name = sim_name[3:]\n",
    "    mol = job.results.get_input_molecule()\n",
    "    # print(os.path.join(conf_dir, f'{name}.cif'))\n",
    "    mol = toASE(mol)\n",
    "    mol.write(os.path.join(conf_dir, f\"{name}.cif\"), format=\"cif\")"
   ]
  },
  {
   "attachments": {},
   "cell_type": "markdown",
   "id": "e2cd7c26-7a94-4264-a170-e7c51c5e0847",
   "metadata": {},
   "source": [
    "Load Material Project data"
   ]
  },
  {
   "cell_type": "code",
   "execution_count": 77,
   "id": "a3e19c6d-026d-4fe5-90aa-783c30867a18",
   "metadata": {},
   "outputs": [],
   "source": [
    "dir_jobs = os.path.join(RUN_DIR, \"jobs\")\n",
    "\n",
    "cis_dir = os.path.join(MAIN_DIR_JNB1, CHEM_FORMULA, \"5-interstitial\")\n",
    "data_path = os.path.join(cis_dir, \"info.json\")\n",
    "results_df = pd.read_json(data_path)"
   ]
  },
  {
   "cell_type": "code",
   "execution_count": 78,
   "id": "dbed5699",
   "metadata": {},
   "outputs": [
    {
     "data": {
      "text/html": [
       "<div>\n",
       "<style scoped>\n",
       "    .dataframe tbody tr th:only-of-type {\n",
       "        vertical-align: middle;\n",
       "    }\n",
       "\n",
       "    .dataframe tbody tr th {\n",
       "        vertical-align: top;\n",
       "    }\n",
       "\n",
       "    .dataframe thead th {\n",
       "        text-align: right;\n",
       "    }\n",
       "</style>\n",
       "<table border=\"1\" class=\"dataframe\">\n",
       "  <thead>\n",
       "    <tr style=\"text-align: right;\">\n",
       "      <th></th>\n",
       "      <th>unitcell_repetition</th>\n",
       "      <th>interstitial_site</th>\n",
       "      <th>interstitial_element</th>\n",
       "    </tr>\n",
       "  </thead>\n",
       "  <tbody>\n",
       "    <tr>\n",
       "      <th>5.0-0-LiF_Fm-3m_-3.18_ni_0.cif</th>\n",
       "      <td>4</td>\n",
       "      <td>[]</td>\n",
       "      <td>[]</td>\n",
       "    </tr>\n",
       "    <tr>\n",
       "      <th>5.1-0-LiF_Fm-3m_-3.18_ni_1.cif</th>\n",
       "      <td>4</td>\n",
       "      <td>[[0.8335262503, 0.5893920639, 1.443709815]]</td>\n",
       "      <td>[Li]</td>\n",
       "    </tr>\n",
       "    <tr>\n",
       "      <th>5.2-0-LiF_Fm-3m_-3.18_ni_2.cif</th>\n",
       "      <td>4</td>\n",
       "      <td>[[0.8335262503, 0.5893920639, 1.443709815], [3...</td>\n",
       "      <td>[Li, Li]</td>\n",
       "    </tr>\n",
       "    <tr>\n",
       "      <th>5.3-0-LiF_Fm-3m_-3.18_ni_3.cif</th>\n",
       "      <td>4</td>\n",
       "      <td>[[0.8335262503, 0.5893920639, 1.443709815], [3...</td>\n",
       "      <td>[Li, Li, Li]</td>\n",
       "    </tr>\n",
       "    <tr>\n",
       "      <th>5.4-0-LiF_Fm-3m_-3.18_ni_4.cif</th>\n",
       "      <td>4</td>\n",
       "      <td>[[0.8335262503, 0.5893920639, 1.443709815], [3...</td>\n",
       "      <td>[Li, Li, Li, Li]</td>\n",
       "    </tr>\n",
       "  </tbody>\n",
       "</table>\n",
       "</div>"
      ],
      "text/plain": [
       "                                unitcell_repetition  \\\n",
       "5.0-0-LiF_Fm-3m_-3.18_ni_0.cif                    4   \n",
       "5.1-0-LiF_Fm-3m_-3.18_ni_1.cif                    4   \n",
       "5.2-0-LiF_Fm-3m_-3.18_ni_2.cif                    4   \n",
       "5.3-0-LiF_Fm-3m_-3.18_ni_3.cif                    4   \n",
       "5.4-0-LiF_Fm-3m_-3.18_ni_4.cif                    4   \n",
       "\n",
       "                                                                interstitial_site  \\\n",
       "5.0-0-LiF_Fm-3m_-3.18_ni_0.cif                                                 []   \n",
       "5.1-0-LiF_Fm-3m_-3.18_ni_1.cif        [[0.8335262503, 0.5893920639, 1.443709815]]   \n",
       "5.2-0-LiF_Fm-3m_-3.18_ni_2.cif  [[0.8335262503, 0.5893920639, 1.443709815], [3...   \n",
       "5.3-0-LiF_Fm-3m_-3.18_ni_3.cif  [[0.8335262503, 0.5893920639, 1.443709815], [3...   \n",
       "5.4-0-LiF_Fm-3m_-3.18_ni_4.cif  [[0.8335262503, 0.5893920639, 1.443709815], [3...   \n",
       "\n",
       "                               interstitial_element  \n",
       "5.0-0-LiF_Fm-3m_-3.18_ni_0.cif                   []  \n",
       "5.1-0-LiF_Fm-3m_-3.18_ni_1.cif                 [Li]  \n",
       "5.2-0-LiF_Fm-3m_-3.18_ni_2.cif             [Li, Li]  \n",
       "5.3-0-LiF_Fm-3m_-3.18_ni_3.cif         [Li, Li, Li]  \n",
       "5.4-0-LiF_Fm-3m_-3.18_ni_4.cif     [Li, Li, Li, Li]  "
      ]
     },
     "execution_count": 78,
     "metadata": {},
     "output_type": "execute_result"
    }
   ],
   "source": [
    "results_df.head()"
   ]
  },
  {
   "cell_type": "code",
   "execution_count": 79,
   "id": "ef9369cc-9743-4d35-8594-3a9171e26372",
   "metadata": {},
   "outputs": [],
   "source": [
    "for job_dir in glob.glob(os.path.join(dir_jobs, \"*\")):\n",
    "    sim_name = job_dir.split(os.sep)[-1]\n",
    "    job_result = scm.AMSJob.load_external(job_dir, settings=settings_5_PreO).results\n",
    "    energy = scm.Units.convert(job_result.get_energy(), \"au\", \"eV\")\n",
    "    results_df.loc[sim_name[3:] + \".cif\", \"scm_PO_energy\"] = energy\n",
    "    Na = len(job_result.get_molecule(\"Molecule\").atoms)\n",
    "    energy_per_atom = energy / Na\n",
    "    results_df.loc[sim_name[3:] + \".cif\", \"scm_PO_energy_per_atom\"] = energy_per_atom\n",
    "    results_df.loc[sim_name[3:] + \".cif\", \"system_id\"] = int(sim_name.split(\"-\")[2])\n",
    "\n",
    "results_df.to_json(os.path.join(RUN_DIR, f\"results.json\"))\n",
    "results_df.to_json(os.path.join(conf_dir, \"info.json\"))"
   ]
  },
  {
   "cell_type": "code",
   "execution_count": 80,
   "id": "81a3141e-0231-4821-9c16-f0c2455bc799",
   "metadata": {},
   "outputs": [
    {
     "data": {
      "text/html": [
       "<div>\n",
       "<style scoped>\n",
       "    .dataframe tbody tr th:only-of-type {\n",
       "        vertical-align: middle;\n",
       "    }\n",
       "\n",
       "    .dataframe tbody tr th {\n",
       "        vertical-align: top;\n",
       "    }\n",
       "\n",
       "    .dataframe thead th {\n",
       "        text-align: right;\n",
       "    }\n",
       "</style>\n",
       "<table border=\"1\" class=\"dataframe\">\n",
       "  <thead>\n",
       "    <tr style=\"text-align: right;\">\n",
       "      <th></th>\n",
       "      <th>unitcell_repetition</th>\n",
       "      <th>interstitial_site</th>\n",
       "      <th>interstitial_element</th>\n",
       "      <th>scm_PO_energy</th>\n",
       "      <th>scm_PO_energy_per_atom</th>\n",
       "      <th>system_id</th>\n",
       "    </tr>\n",
       "  </thead>\n",
       "  <tbody>\n",
       "    <tr>\n",
       "      <th>5.0-0-LiF_Fm-3m_-3.18_ni_0.cif</th>\n",
       "      <td>4</td>\n",
       "      <td>[]</td>\n",
       "      <td>[]</td>\n",
       "      <td>-122.520549</td>\n",
       "      <td>-5.105023</td>\n",
       "      <td>0.0</td>\n",
       "    </tr>\n",
       "    <tr>\n",
       "      <th>5.1-0-LiF_Fm-3m_-3.18_ni_1.cif</th>\n",
       "      <td>4</td>\n",
       "      <td>[[0.8335262503, 0.5893920639, 1.443709815]]</td>\n",
       "      <td>[Li]</td>\n",
       "      <td>-119.788653</td>\n",
       "      <td>-4.791546</td>\n",
       "      <td>0.0</td>\n",
       "    </tr>\n",
       "    <tr>\n",
       "      <th>5.2-0-LiF_Fm-3m_-3.18_ni_2.cif</th>\n",
       "      <td>4</td>\n",
       "      <td>[[0.8335262503, 0.5893920639, 1.443709815], [3...</td>\n",
       "      <td>[Li, Li]</td>\n",
       "      <td>-121.977475</td>\n",
       "      <td>-4.691441</td>\n",
       "      <td>0.0</td>\n",
       "    </tr>\n",
       "    <tr>\n",
       "      <th>5.3-0-LiF_Fm-3m_-3.18_ni_3.cif</th>\n",
       "      <td>4</td>\n",
       "      <td>[[0.8335262503, 0.5893920639, 1.443709815], [3...</td>\n",
       "      <td>[Li, Li, Li]</td>\n",
       "      <td>-121.142548</td>\n",
       "      <td>-4.486761</td>\n",
       "      <td>0.0</td>\n",
       "    </tr>\n",
       "    <tr>\n",
       "      <th>5.4-0-LiF_Fm-3m_-3.18_ni_4.cif</th>\n",
       "      <td>4</td>\n",
       "      <td>[[0.8335262503, 0.5893920639, 1.443709815], [3...</td>\n",
       "      <td>[Li, Li, Li, Li]</td>\n",
       "      <td>-121.414971</td>\n",
       "      <td>-4.336249</td>\n",
       "      <td>0.0</td>\n",
       "    </tr>\n",
       "  </tbody>\n",
       "</table>\n",
       "</div>"
      ],
      "text/plain": [
       "                                unitcell_repetition  \\\n",
       "5.0-0-LiF_Fm-3m_-3.18_ni_0.cif                    4   \n",
       "5.1-0-LiF_Fm-3m_-3.18_ni_1.cif                    4   \n",
       "5.2-0-LiF_Fm-3m_-3.18_ni_2.cif                    4   \n",
       "5.3-0-LiF_Fm-3m_-3.18_ni_3.cif                    4   \n",
       "5.4-0-LiF_Fm-3m_-3.18_ni_4.cif                    4   \n",
       "\n",
       "                                                                interstitial_site  \\\n",
       "5.0-0-LiF_Fm-3m_-3.18_ni_0.cif                                                 []   \n",
       "5.1-0-LiF_Fm-3m_-3.18_ni_1.cif        [[0.8335262503, 0.5893920639, 1.443709815]]   \n",
       "5.2-0-LiF_Fm-3m_-3.18_ni_2.cif  [[0.8335262503, 0.5893920639, 1.443709815], [3...   \n",
       "5.3-0-LiF_Fm-3m_-3.18_ni_3.cif  [[0.8335262503, 0.5893920639, 1.443709815], [3...   \n",
       "5.4-0-LiF_Fm-3m_-3.18_ni_4.cif  [[0.8335262503, 0.5893920639, 1.443709815], [3...   \n",
       "\n",
       "                               interstitial_element  scm_PO_energy  \\\n",
       "5.0-0-LiF_Fm-3m_-3.18_ni_0.cif                   []    -122.520549   \n",
       "5.1-0-LiF_Fm-3m_-3.18_ni_1.cif                 [Li]    -119.788653   \n",
       "5.2-0-LiF_Fm-3m_-3.18_ni_2.cif             [Li, Li]    -121.977475   \n",
       "5.3-0-LiF_Fm-3m_-3.18_ni_3.cif         [Li, Li, Li]    -121.142548   \n",
       "5.4-0-LiF_Fm-3m_-3.18_ni_4.cif     [Li, Li, Li, Li]    -121.414971   \n",
       "\n",
       "                                scm_PO_energy_per_atom  system_id  \n",
       "5.0-0-LiF_Fm-3m_-3.18_ni_0.cif               -5.105023        0.0  \n",
       "5.1-0-LiF_Fm-3m_-3.18_ni_1.cif               -4.791546        0.0  \n",
       "5.2-0-LiF_Fm-3m_-3.18_ni_2.cif               -4.691441        0.0  \n",
       "5.3-0-LiF_Fm-3m_-3.18_ni_3.cif               -4.486761        0.0  \n",
       "5.4-0-LiF_Fm-3m_-3.18_ni_4.cif               -4.336249        0.0  "
      ]
     },
     "execution_count": 80,
     "metadata": {},
     "output_type": "execute_result"
    }
   ],
   "source": [
    "results_df.head()"
   ]
  },
  {
   "cell_type": "code",
   "execution_count": 84,
   "id": "909697d0-e936-44bf-9755-943116277563",
   "metadata": {},
   "outputs": [
    {
     "data": {
      "image/png": "[encoded data removed]",
      "text/plain": [
       "<Figure size 500x160 with 3 Axes>"
      ]
     },
     "metadata": {},
     "output_type": "display_data"
    }
   ],
   "source": [
    "fig = plt.figure(figsize=[5, 1.6], dpi=100)\n",
    "\n",
    "with plt.style.context(\"./articles_seaborn.mplstyle\"):\n",
    "    ax = {}\n",
    "    system_id = results_df[\"system_id\"].unique()\n",
    "    system_id = [id for id in system_id if id == id]\n",
    "    spec = fig.add_gridspec(1, len(system_id), wspace=0.35)\n",
    "    for i, sim_id in enumerate(system_id):\n",
    "        ax[i] = fig.add_subplot(spec[i])\n",
    "        idx = np.arange(len(results_df.index))\n",
    "        sub_df = results_df.loc[results_df[\"system_id\"] == sim_id]\n",
    "        xticks = np.arange(len(sub_df))\n",
    "        name = sub_df.index[0].split(\"-\")[2]\n",
    "        ax[i].bar(xticks, sub_df[\"scm_PO_energy_per_atom\"], label=name)\n",
    "        ax[i].set_ylim([-5.5, -3.8])\n",
    "        ax[i].set_xticks(xticks)\n",
    "        xticks_labels = [\",\".join(sites) for sites in sub_df[\"interstitial_element\"]]\n",
    "        ax[i].set_xticklabels(xticks_labels, rotation=90, ha=\"center\")\n",
    "        ax[i].set_title(name)\n",
    "    ax[0].set_ylabel(\"Energy per atoms [eV]\")\n",
    "plt.show()\n",
    "fig.savefig(os.path.join(\"plots\", f\"5-{CHEM_FORMULA}_{TASK}_sim_energy.pdf\"), dpi=300, bbox_inches=\"tight\")"
   ]
  },
  {
   "attachments": {},
   "cell_type": "markdown",
   "id": "903d2df6-8106-456a-b58a-c33459c87e43",
   "metadata": {},
   "source": [
    "### Finishing "
   ]
  },
  {
   "cell_type": "code",
   "execution_count": 242,
   "id": "e04c1188-70d0-44d3-b818-ff1f1160b7c8",
   "metadata": {},
   "outputs": [],
   "source": [
    "scm.finish()"
   ]
  },
  {
   "attachments": {},
   "cell_type": "markdown",
   "id": "64414118-5377-4463-a280-25ebe369a579",
   "metadata": {
    "jp-MarkdownHeadingCollapsed": true,
    "tags": []
   },
   "source": [
    "## Interstitial `Geopmetry Optimization`"
   ]
  },
  {
   "cell_type": "code",
   "execution_count": 85,
   "id": "8d9643ba-b833-415f-8361-b15b4fe631ab",
   "metadata": {},
   "outputs": [],
   "source": [
    "SIMsNAME = \"5-Interstitial_GO\"\n",
    "TASK = \"GO\"\n",
    "RUN_DIR = os.path.join(MAIN_DIR_JNB2, CHEM_FORMULA, SIMsNAME)"
   ]
  },
  {
   "attachments": {},
   "cell_type": "markdown",
   "id": "beae9e0f-4546-4fa9-9cc1-fd6fd81bd119",
   "metadata": {},
   "source": [
    "### Setting `BAND` *Geopmetry Optimization*"
   ]
  },
  {
   "cell_type": "code",
   "execution_count": 86,
   "id": "6c86467a-be6f-4298-94da-5f6d83475473",
   "metadata": {},
   "outputs": [
    {
     "name": "stdout",
     "output_type": "stream",
     "text": [
      "input: \t\n",
      "      AMS: \t\n",
      "          task: \tGeometryOptimization\n",
      "          Properties: \t\n",
      "                     Gradients: \tyes\n",
      "                     StressTensor: \tno\n",
      "                     Hessian: \tno\n",
      "                     PESPointCharacter: \tno\n",
      "                     ElasticTensor: \tno\n",
      "          GeometryOptimization: \t\n",
      "                               OptimizeLattice: \tno\n",
      "                               Convergence: \t\n",
      "                                           Energy: \t3.8087988488664447e-05\n",
      "                                           Gradients: \t0.3808798848866444\n",
      "                                           StressEnergyPerAtom: \t0.01904399424433222\n",
      "                                           Step: \t0.05\n",
      "                               PretendConverged: \tyes\n",
      "                               MaxIterations: \t100\n",
      "      BAND: \t\n",
      "           basis: \t\n",
      "                 type: \tDZP\n",
      "                 Core: \tMedium\n",
      "           Dependency: \t\n",
      "                      Core: \t0.8\n",
      "           xc: \t\n",
      "              GGA: \tPBE\n",
      "              MetaGGA: \tpostscf TPSS\n",
      "           scf: \t\n",
      "               mixing: \t0.3\n",
      "           numericalquality: \tNormal\n",
      "           beckegrid: \t\n",
      "                     quality: \tNormal\n",
      "           CPVector: \t256\n",
      "           KGRPX: \t4\n",
      "\n"
     ]
    }
   ],
   "source": [
    "from tools.misc.default_settings import settings_5_GO\n",
    "\n",
    "print(settings_5_GO)"
   ]
  },
  {
   "attachments": {},
   "cell_type": "markdown",
   "id": "dc009feb-9b23-4e6c-9eb5-e1858a6ef5c2",
   "metadata": {},
   "source": [
    "### Set-up `RUNNER`"
   ]
  },
  {
   "cell_type": "code",
   "execution_count": 87,
   "id": "8493707b-8588-4fc9-b036-b84513d3464f",
   "metadata": {},
   "outputs": [],
   "source": [
    "NODES = 2\n",
    "CORES_PER_NODE = 32\n",
    "CPUS_PER_CORE = 4\n",
    "MAX_JOBS = 64"
   ]
  },
  {
   "cell_type": "code",
   "execution_count": null,
   "id": "fc790e9d-a35d-4a8d-b320-3f94e9da308e",
   "metadata": {},
   "outputs": [],
   "source": [
    "scm.init(folder=RUN_DIR)\n",
    "RUNNER = scm.GridRunner(grid=\"slurm\", sleepstep=5, parallel=True, maxjobs=MAX_JOBS)  # TODO: Replace it with GridRunner\n",
    "RUNNER.settings.workdir = \"-D\"\n",
    "RUNNER.settings.special.nodes = \"--nodes=\"\n",
    "RUNNER.settings.special.qos = \"--qos=\"\n",
    "RUNNER.settings.special.walltime = \"--time=\"\n",
    "RUNNER.settings.special.tasks_per_node = \"--ntasks-per-node=\"\n",
    "RUNNER.settings.special.cpus_per_task = \"--cpus-per-task=\"\n",
    "RUNNER.settings.special.partition = \"--partition=\"\n",
    "RUNNER.settings.special.account = \"--account=\"\n",
    "RUNNER.settings.special.job_name = \"--job-name=\"\n",
    "\n",
    "scm.config.log.file = 7  # debug\n",
    "scm.config.log.stdout = 1  # 1: important 3: normal 5: verbose 7: debug\n",
    "scm.config.job.pickle = False\n",
    "scm.config.job.runscript.nproc = CORES_PER_NODE\n",
    "scm.config.job.runscript.shebang = \"#!/bin/bash\"\n",
    "scm.config.default_jobrunner = RUNNER"
   ]
  },
  {
   "cell_type": "code",
   "execution_count": 88,
   "id": "15892d71-a453-4ea4-b990-8c710edd5b35",
   "metadata": {},
   "outputs": [],
   "source": [
    "settings_pkl_file = os.path.join(RUN_DIR, \"settings.pkl\")\n",
    "with open(settings_pkl_file, \"wb\") as file:\n",
    "    pickle.dump(settings_5_GO, file)"
   ]
  },
  {
   "attachments": {},
   "cell_type": "markdown",
   "id": "edcc2db1-baad-4eeb-908a-9b58a78bb6f6",
   "metadata": {},
   "source": [
    "### Set-up JOBS"
   ]
  },
  {
   "attachments": {},
   "cell_type": "markdown",
   "id": "cef19003-ebd8-483e-9c42-4ca02bd8aa88",
   "metadata": {},
   "source": [
    "Load systems"
   ]
  },
  {
   "cell_type": "code",
   "execution_count": 89,
   "id": "ebdceccd-a4bb-4a92-b77e-883c10cbf25a",
   "metadata": {},
   "outputs": [
    {
     "name": "stderr",
     "output_type": "stream",
     "text": [
      "/home/paolo/Enhancing_ReaxFF/venv/lib/python3.8/site-packages/pymatgen/io/cif.py:1134: UserWarning: Issues encountered while parsing CIF: Some fractional coordinates rounded to ideal values to avoid issues with finite precision.\n",
      "  warnings.warn(\"Issues encountered while parsing CIF: \" + \"\\n\".join(self.warnings))\n"
     ]
    }
   ],
   "source": [
    "cis_dir = os.path.join(MAIN_DIR_JNB1, CHEM_FORMULA, \"5.1-interstitial_PO\")\n",
    "systems = []\n",
    "\n",
    "for path in np.sort(glob.glob(os.path.join(cis_dir, \"*.cif\"))):\n",
    "    system_name = path.split(os.sep)[-1].split(\".cif\")[0]\n",
    "    system_mat = Structure.from_file(path)\n",
    "    system_ase = matget2ase.get_atoms(system_mat)\n",
    "    systems.append((system_name, fromASE(system_ase)))"
   ]
  },
  {
   "attachments": {},
   "cell_type": "markdown",
   "id": "2875c143-c517-4a5f-a4c7-1ccdac879c87",
   "metadata": {},
   "source": [
    "Define jobs"
   ]
  },
  {
   "cell_type": "code",
   "execution_count": 12,
   "id": "f9391319-da52-4b78-b585-6568a77c1175",
   "metadata": {},
   "outputs": [],
   "source": [
    "jobs = []\n",
    "for name, system_obj in systems:\n",
    "    sim_name = f\"{TASK}-{name}\"\n",
    "    job = scm.AMSJob(molecule=system_obj, settings=settings_5_GO, name=sim_name)\n",
    "    job.settings.runscript.pre = \"\"\"module use --append /work/pr1u1751/pr1u1751/shared/modules\n",
    "module load ams/2022.102\"\"\"\n",
    "    jobs.append(job)\n",
    "# Group all\n",
    "multi_jobs = scm.MultiJob(name=\"jobs\", children=jobs)"
   ]
  },
  {
   "attachments": {},
   "cell_type": "markdown",
   "id": "de9d9ed8-8de1-4b4a-9c0c-6587c9776f6f",
   "metadata": {},
   "source": [
    "### Run All"
   ]
  },
  {
   "cell_type": "code",
   "execution_count": 13,
   "id": "fc0210ec-2ce7-444d-ba7b-bd63d1b92bd1",
   "metadata": {},
   "outputs": [
    {
     "name": "stdout",
     "output_type": "stream",
     "text": [
      "[22:46:01] JOB jobs STARTED\n",
      "[22:46:01] JOB jobs/GO-5.0-0-LiF_Fm-3m_-3.18_ni_0 STARTED\n",
      "[22:46:01] JOB jobs/GO-5.0-1-LiF_P6_3mc_-3.17_ni_0 STARTED\n",
      "[22:46:01] JOB jobs/GO-5.0-2-LiF_Pm-3m_-2.89_ni_0 STARTED\n",
      "[22:46:01] JOB jobs/GO-5.1-0-LiF_Fm-3m_-3.18_ni_1 STARTED\n",
      "[22:46:01] JOB jobs/GO-5.1-1-LiF_P6_3mc_-3.17_ni_1 STARTED\n",
      "[22:46:01] JOB jobs/GO-5.1-2-LiF_Pm-3m_-2.89_ni_1 STARTED\n",
      "[22:46:01] JOB jobs/GO-5.2-0-LiF_Fm-3m_-3.18_ni_2 STARTED\n",
      "[22:46:01] JOB jobs/GO-5.2-1-LiF_P6_3mc_-3.17_ni_2 STARTED\n",
      "[22:46:01] JOB jobs/GO-5.2-2-LiF_Pm-3m_-2.89_ni_2 STARTED\n",
      "[22:46:01] JOB jobs/GO-5.3-0-LiF_Fm-3m_-3.18_ni_3 STARTED\n",
      "[22:46:01] JOB jobs/GO-5.3-1-LiF_P6_3mc_-3.17_ni_3 STARTED\n",
      "[22:46:01] JOB jobs/GO-5.3-2-LiF_Pm-3m_-2.89_ni_3 STARTED\n",
      "[22:46:01] JOB jobs/GO-5.4-0-LiF_Fm-3m_-3.18_ni_4 STARTED\n",
      "[22:46:01] JOB jobs/GO-5.4-1-LiF_P6_3mc_-3.17_ni_4 STARTED\n",
      "[22:46:01] JOB jobs/GO-5.4-2-LiF_Pm-3m_-2.89_ni_4 STARTED\n",
      "[22:57:31] JOB jobs/GO-5.0-1-LiF_P6_3mc_-3.17_ni_0 SUCCESSFUL\n",
      "[22:57:47] JOB jobs/GO-5.0-2-LiF_Pm-3m_-2.89_ni_0 SUCCESSFUL\n",
      "[23:07:44] JOB jobs/GO-5.1-1-LiF_P6_3mc_-3.17_ni_1 SUCCESSFUL\n",
      "[23:09:10] JOB jobs/GO-5.0-0-LiF_Fm-3m_-3.18_ni_0 SUCCESSFUL\n",
      "[00:08:35] JOB jobs/GO-5.1-2-LiF_Pm-3m_-2.89_ni_1 SUCCESSFUL\n"
     ]
    }
   ],
   "source": [
    "result = multi_jobs.run(\n",
    "    jobrunner=RUNNER,\n",
    "    nodes=NODES,\n",
    "    cores=CORES_PER_NODE * NODES,\n",
    "    tasks_per_node=CORES_PER_NODE,\n",
    "    cpus_per_task=CPUS_PER_CORE,\n",
    "    walltime=\"24:00:00\",\n",
    "    partition=\"standard\",\n",
    "    account=\"pr1u1751\",\n",
    "    qos=\"standard\",\n",
    ")"
   ]
  },
  {
   "attachments": {},
   "cell_type": "markdown",
   "id": "bc5e14ad-be46-4cc0-949b-bcc98b0d5063",
   "metadata": {},
   "source": [
    "### Post-processing"
   ]
  },
  {
   "attachments": {},
   "cell_type": "markdown",
   "id": "f167c045-38c7-465f-b979-689bdf6c92c5",
   "metadata": {},
   "source": [
    "Post Processing"
   ]
  },
  {
   "attachments": {},
   "cell_type": "markdown",
   "id": "1d62edfc-ee99-481a-a8ed-6363e138b39f",
   "metadata": {},
   "source": [
    "Load Material Project data"
   ]
  },
  {
   "cell_type": "code",
   "execution_count": 97,
   "id": "208b7b11-96d4-4146-9c4b-bb5129ccb9c3",
   "metadata": {},
   "outputs": [],
   "source": [
    "dir_jobs = os.path.join(RUN_DIR, \"jobs\")\n",
    "\n",
    "cis_dir = os.path.join(MAIN_DIR_JNB1, CHEM_FORMULA, \"5.1-interstitial_PO\")\n",
    "data_path = os.path.join(cis_dir, \"info.json\")\n",
    "# data_path = os.path.join(ALLSIM_DIR, f'results_0-UnitCell_SP.json')\n",
    "results_df = pd.read_json(data_path)"
   ]
  },
  {
   "cell_type": "code",
   "execution_count": 98,
   "id": "7392f5a0",
   "metadata": {},
   "outputs": [
    {
     "data": {
      "text/html": [
       "<div>\n",
       "<style scoped>\n",
       "    .dataframe tbody tr th:only-of-type {\n",
       "        vertical-align: middle;\n",
       "    }\n",
       "\n",
       "    .dataframe tbody tr th {\n",
       "        vertical-align: top;\n",
       "    }\n",
       "\n",
       "    .dataframe thead th {\n",
       "        text-align: right;\n",
       "    }\n",
       "</style>\n",
       "<table border=\"1\" class=\"dataframe\">\n",
       "  <thead>\n",
       "    <tr style=\"text-align: right;\">\n",
       "      <th></th>\n",
       "      <th>unitcell_repetition</th>\n",
       "      <th>interstitial_site</th>\n",
       "      <th>interstitial_element</th>\n",
       "      <th>scm_PO_energy</th>\n",
       "      <th>scm_PO_energy_per_atom</th>\n",
       "      <th>system_id</th>\n",
       "    </tr>\n",
       "  </thead>\n",
       "  <tbody>\n",
       "    <tr>\n",
       "      <th>5.0-0-LiF_Fm-3m_-3.18_ni_0.cif</th>\n",
       "      <td>4</td>\n",
       "      <td>[]</td>\n",
       "      <td>[]</td>\n",
       "      <td>-122.520549</td>\n",
       "      <td>-5.105023</td>\n",
       "      <td>0.0</td>\n",
       "    </tr>\n",
       "    <tr>\n",
       "      <th>5.1-0-LiF_Fm-3m_-3.18_ni_1.cif</th>\n",
       "      <td>4</td>\n",
       "      <td>[[0.8335262503, 0.5893920639, 1.443709815]]</td>\n",
       "      <td>[Li]</td>\n",
       "      <td>-119.788653</td>\n",
       "      <td>-4.791546</td>\n",
       "      <td>0.0</td>\n",
       "    </tr>\n",
       "    <tr>\n",
       "      <th>5.2-0-LiF_Fm-3m_-3.18_ni_2.cif</th>\n",
       "      <td>4</td>\n",
       "      <td>[[0.8335262503, 0.5893920639, 1.443709815], [3...</td>\n",
       "      <td>[Li, Li]</td>\n",
       "      <td>-121.977475</td>\n",
       "      <td>-4.691441</td>\n",
       "      <td>0.0</td>\n",
       "    </tr>\n",
       "    <tr>\n",
       "      <th>5.3-0-LiF_Fm-3m_-3.18_ni_3.cif</th>\n",
       "      <td>4</td>\n",
       "      <td>[[0.8335262503, 0.5893920639, 1.443709815], [3...</td>\n",
       "      <td>[Li, Li, Li]</td>\n",
       "      <td>-121.142548</td>\n",
       "      <td>-4.486761</td>\n",
       "      <td>0.0</td>\n",
       "    </tr>\n",
       "    <tr>\n",
       "      <th>5.4-0-LiF_Fm-3m_-3.18_ni_4.cif</th>\n",
       "      <td>4</td>\n",
       "      <td>[[0.8335262503, 0.5893920639, 1.443709815], [3...</td>\n",
       "      <td>[Li, Li, Li, Li]</td>\n",
       "      <td>-121.414971</td>\n",
       "      <td>-4.336249</td>\n",
       "      <td>0.0</td>\n",
       "    </tr>\n",
       "  </tbody>\n",
       "</table>\n",
       "</div>"
      ],
      "text/plain": [
       "                                unitcell_repetition  \\\n",
       "5.0-0-LiF_Fm-3m_-3.18_ni_0.cif                    4   \n",
       "5.1-0-LiF_Fm-3m_-3.18_ni_1.cif                    4   \n",
       "5.2-0-LiF_Fm-3m_-3.18_ni_2.cif                    4   \n",
       "5.3-0-LiF_Fm-3m_-3.18_ni_3.cif                    4   \n",
       "5.4-0-LiF_Fm-3m_-3.18_ni_4.cif                    4   \n",
       "\n",
       "                                                                interstitial_site  \\\n",
       "5.0-0-LiF_Fm-3m_-3.18_ni_0.cif                                                 []   \n",
       "5.1-0-LiF_Fm-3m_-3.18_ni_1.cif        [[0.8335262503, 0.5893920639, 1.443709815]]   \n",
       "5.2-0-LiF_Fm-3m_-3.18_ni_2.cif  [[0.8335262503, 0.5893920639, 1.443709815], [3...   \n",
       "5.3-0-LiF_Fm-3m_-3.18_ni_3.cif  [[0.8335262503, 0.5893920639, 1.443709815], [3...   \n",
       "5.4-0-LiF_Fm-3m_-3.18_ni_4.cif  [[0.8335262503, 0.5893920639, 1.443709815], [3...   \n",
       "\n",
       "                               interstitial_element  scm_PO_energy  \\\n",
       "5.0-0-LiF_Fm-3m_-3.18_ni_0.cif                   []    -122.520549   \n",
       "5.1-0-LiF_Fm-3m_-3.18_ni_1.cif                 [Li]    -119.788653   \n",
       "5.2-0-LiF_Fm-3m_-3.18_ni_2.cif             [Li, Li]    -121.977475   \n",
       "5.3-0-LiF_Fm-3m_-3.18_ni_3.cif         [Li, Li, Li]    -121.142548   \n",
       "5.4-0-LiF_Fm-3m_-3.18_ni_4.cif     [Li, Li, Li, Li]    -121.414971   \n",
       "\n",
       "                                scm_PO_energy_per_atom  system_id  \n",
       "5.0-0-LiF_Fm-3m_-3.18_ni_0.cif               -5.105023        0.0  \n",
       "5.1-0-LiF_Fm-3m_-3.18_ni_1.cif               -4.791546        0.0  \n",
       "5.2-0-LiF_Fm-3m_-3.18_ni_2.cif               -4.691441        0.0  \n",
       "5.3-0-LiF_Fm-3m_-3.18_ni_3.cif               -4.486761        0.0  \n",
       "5.4-0-LiF_Fm-3m_-3.18_ni_4.cif               -4.336249        0.0  "
      ]
     },
     "execution_count": 98,
     "metadata": {},
     "output_type": "execute_result"
    }
   ],
   "source": [
    "results_df.head()"
   ]
  },
  {
   "cell_type": "code",
   "execution_count": 100,
   "id": "aa6515ca-5dbf-41e9-8328-0b22d8a1fda5",
   "metadata": {},
   "outputs": [],
   "source": [
    "for job_dir in glob.glob(os.path.join(dir_jobs, \"*\")):\n",
    "    sim_name = job_dir.split(os.sep)[-1]\n",
    "    job = scm.AMSJob.load_external(job_dir, settings=settings_5_GO)\n",
    "    # check\n",
    "    if not job.check():\n",
    "        print(f\"Simulation {job_dir} FAILED\")\n",
    "        continue\n",
    "    job_result = job.results\n",
    "    energy = scm.Units.convert(job_result.get_energy(), \"au\", \"eV\")\n",
    "    results_df.loc[sim_name[3:] + \".cif\", \"scm_energy\"] = energy\n",
    "    Na = len(job_result.get_molecule(\"Molecule\").atoms)\n",
    "    energy_per_atom = energy / Na\n",
    "    results_df.loc[sim_name[3:] + \".cif\", \"scm_energy_per_atom\"] = energy_per_atom\n",
    "    results_df.loc[sim_name[3:] + \".cif\", \"system_id\"] = int(sim_name.split(\"-\")[2])\n",
    "\n",
    "results_df.to_json(os.path.join(RUN_DIR, f\"results.json\"))"
   ]
  },
  {
   "cell_type": "code",
   "execution_count": 101,
   "id": "b29de702-c5f2-4841-8c4f-e6d24b7ed706",
   "metadata": {},
   "outputs": [
    {
     "data": {
      "text/html": [
       "<div>\n",
       "<style scoped>\n",
       "    .dataframe tbody tr th:only-of-type {\n",
       "        vertical-align: middle;\n",
       "    }\n",
       "\n",
       "    .dataframe tbody tr th {\n",
       "        vertical-align: top;\n",
       "    }\n",
       "\n",
       "    .dataframe thead th {\n",
       "        text-align: right;\n",
       "    }\n",
       "</style>\n",
       "<table border=\"1\" class=\"dataframe\">\n",
       "  <thead>\n",
       "    <tr style=\"text-align: right;\">\n",
       "      <th></th>\n",
       "      <th>unitcell_repetition</th>\n",
       "      <th>interstitial_site</th>\n",
       "      <th>interstitial_element</th>\n",
       "      <th>scm_PO_energy</th>\n",
       "      <th>scm_PO_energy_per_atom</th>\n",
       "      <th>system_id</th>\n",
       "      <th>scm_energy</th>\n",
       "      <th>scm_energy_per_atom</th>\n",
       "    </tr>\n",
       "  </thead>\n",
       "  <tbody>\n",
       "    <tr>\n",
       "      <th>5.0-0-LiF_Fm-3m_-3.18_ni_0.cif</th>\n",
       "      <td>4</td>\n",
       "      <td>[]</td>\n",
       "      <td>[]</td>\n",
       "      <td>-122.520549</td>\n",
       "      <td>-5.105023</td>\n",
       "      <td>0.0</td>\n",
       "      <td>-115.490746</td>\n",
       "      <td>-4.812114</td>\n",
       "    </tr>\n",
       "    <tr>\n",
       "      <th>5.1-0-LiF_Fm-3m_-3.18_ni_1.cif</th>\n",
       "      <td>4</td>\n",
       "      <td>[[0.8335262503, 0.5893920639, 1.443709815]]</td>\n",
       "      <td>[Li]</td>\n",
       "      <td>-119.788653</td>\n",
       "      <td>-4.791546</td>\n",
       "      <td>0.0</td>\n",
       "      <td>-111.743702</td>\n",
       "      <td>-4.469748</td>\n",
       "    </tr>\n",
       "    <tr>\n",
       "      <th>5.2-0-LiF_Fm-3m_-3.18_ni_2.cif</th>\n",
       "      <td>4</td>\n",
       "      <td>[[0.8335262503, 0.5893920639, 1.443709815], [3...</td>\n",
       "      <td>[Li, Li]</td>\n",
       "      <td>-121.977475</td>\n",
       "      <td>-4.691441</td>\n",
       "      <td>0.0</td>\n",
       "      <td>-108.530593</td>\n",
       "      <td>-4.174254</td>\n",
       "    </tr>\n",
       "    <tr>\n",
       "      <th>5.3-0-LiF_Fm-3m_-3.18_ni_3.cif</th>\n",
       "      <td>4</td>\n",
       "      <td>[[0.8335262503, 0.5893920639, 1.443709815], [3...</td>\n",
       "      <td>[Li, Li, Li]</td>\n",
       "      <td>-121.142548</td>\n",
       "      <td>-4.486761</td>\n",
       "      <td>0.0</td>\n",
       "      <td>-104.112090</td>\n",
       "      <td>-3.856003</td>\n",
       "    </tr>\n",
       "    <tr>\n",
       "      <th>5.4-0-LiF_Fm-3m_-3.18_ni_4.cif</th>\n",
       "      <td>4</td>\n",
       "      <td>[[0.8335262503, 0.5893920639, 1.443709815], [3...</td>\n",
       "      <td>[Li, Li, Li, Li]</td>\n",
       "      <td>-121.414971</td>\n",
       "      <td>-4.336249</td>\n",
       "      <td>0.0</td>\n",
       "      <td>-99.352794</td>\n",
       "      <td>-3.548314</td>\n",
       "    </tr>\n",
       "  </tbody>\n",
       "</table>\n",
       "</div>"
      ],
      "text/plain": [
       "                                unitcell_repetition  \\\n",
       "5.0-0-LiF_Fm-3m_-3.18_ni_0.cif                    4   \n",
       "5.1-0-LiF_Fm-3m_-3.18_ni_1.cif                    4   \n",
       "5.2-0-LiF_Fm-3m_-3.18_ni_2.cif                    4   \n",
       "5.3-0-LiF_Fm-3m_-3.18_ni_3.cif                    4   \n",
       "5.4-0-LiF_Fm-3m_-3.18_ni_4.cif                    4   \n",
       "\n",
       "                                                                interstitial_site  \\\n",
       "5.0-0-LiF_Fm-3m_-3.18_ni_0.cif                                                 []   \n",
       "5.1-0-LiF_Fm-3m_-3.18_ni_1.cif        [[0.8335262503, 0.5893920639, 1.443709815]]   \n",
       "5.2-0-LiF_Fm-3m_-3.18_ni_2.cif  [[0.8335262503, 0.5893920639, 1.443709815], [3...   \n",
       "5.3-0-LiF_Fm-3m_-3.18_ni_3.cif  [[0.8335262503, 0.5893920639, 1.443709815], [3...   \n",
       "5.4-0-LiF_Fm-3m_-3.18_ni_4.cif  [[0.8335262503, 0.5893920639, 1.443709815], [3...   \n",
       "\n",
       "                               interstitial_element  scm_PO_energy  \\\n",
       "5.0-0-LiF_Fm-3m_-3.18_ni_0.cif                   []    -122.520549   \n",
       "5.1-0-LiF_Fm-3m_-3.18_ni_1.cif                 [Li]    -119.788653   \n",
       "5.2-0-LiF_Fm-3m_-3.18_ni_2.cif             [Li, Li]    -121.977475   \n",
       "5.3-0-LiF_Fm-3m_-3.18_ni_3.cif         [Li, Li, Li]    -121.142548   \n",
       "5.4-0-LiF_Fm-3m_-3.18_ni_4.cif     [Li, Li, Li, Li]    -121.414971   \n",
       "\n",
       "                                scm_PO_energy_per_atom  system_id  scm_energy  \\\n",
       "5.0-0-LiF_Fm-3m_-3.18_ni_0.cif               -5.105023        0.0 -115.490746   \n",
       "5.1-0-LiF_Fm-3m_-3.18_ni_1.cif               -4.791546        0.0 -111.743702   \n",
       "5.2-0-LiF_Fm-3m_-3.18_ni_2.cif               -4.691441        0.0 -108.530593   \n",
       "5.3-0-LiF_Fm-3m_-3.18_ni_3.cif               -4.486761        0.0 -104.112090   \n",
       "5.4-0-LiF_Fm-3m_-3.18_ni_4.cif               -4.336249        0.0  -99.352794   \n",
       "\n",
       "                                scm_energy_per_atom  \n",
       "5.0-0-LiF_Fm-3m_-3.18_ni_0.cif            -4.812114  \n",
       "5.1-0-LiF_Fm-3m_-3.18_ni_1.cif            -4.469748  \n",
       "5.2-0-LiF_Fm-3m_-3.18_ni_2.cif            -4.174254  \n",
       "5.3-0-LiF_Fm-3m_-3.18_ni_3.cif            -3.856003  \n",
       "5.4-0-LiF_Fm-3m_-3.18_ni_4.cif            -3.548314  "
      ]
     },
     "execution_count": 101,
     "metadata": {},
     "output_type": "execute_result"
    }
   ],
   "source": [
    "results_df.head()"
   ]
  },
  {
   "cell_type": "code",
   "execution_count": 104,
   "id": "11646038-6ed3-44d0-9b6c-22ffb88a359a",
   "metadata": {},
   "outputs": [
    {
     "data": {
      "image/png": "[encoded data removed]",
      "text/plain": [
       "<Figure size 500x180 with 3 Axes>"
      ]
     },
     "metadata": {},
     "output_type": "display_data"
    }
   ],
   "source": [
    "fig = plt.figure(figsize=[5, 1.8], dpi=100)\n",
    "\n",
    "with plt.style.context(\"./articles_seaborn.mplstyle\"):\n",
    "    ax = {}\n",
    "    system_id = results_df[\"system_id\"].unique()\n",
    "    system_id = [id for id in system_id if id == id]\n",
    "    spec = fig.add_gridspec(1, len(system_id), wspace=0.35)\n",
    "    for i, sim_id in enumerate(system_id):\n",
    "        ax[i] = fig.add_subplot(spec[i])\n",
    "        idx = np.arange(len(results_df.index))\n",
    "        sub_df = results_df.loc[results_df[\"system_id\"] == sim_id]\n",
    "        xticks = np.arange(len(sub_df))\n",
    "        name = sub_df.index[0].split(\"-\")[2]\n",
    "        ax[i].bar(xticks, sub_df[\"scm_PO_energy_per_atom\"], label=\"PreO\")\n",
    "        ax[i].bar(xticks, sub_df[\"scm_energy_per_atom\"], label=\"GO\")\n",
    "        ax[i].set_ylim([-5.7, -3])\n",
    "        ax[i].set_xticks(xticks)\n",
    "        xticks_labels = [\",\".join(sites) for sites in sub_df[\"interstitial_element\"]]\n",
    "        ax[i].set_xticklabels(xticks_labels, rotation=90, ha=\"center\")\n",
    "        ax[i].set_title(name)\n",
    "    ax[len(system_id) - 1].legend(loc=\"center left\", bbox_to_anchor=(1.0, 0.5))\n",
    "    ax[0].set_ylabel(\"Energy per atoms [eV]\")\n",
    "plt.show()\n",
    "fig.savefig(os.path.join(\"plots\", f\"5-{CHEM_FORMULA}_{TASK}_sim_energy.pdf\"), dpi=300, bbox_inches=\"tight\")"
   ]
  },
  {
   "attachments": {},
   "cell_type": "markdown",
   "id": "b444b36e-558d-4f27-afe1-a1e4929e5139",
   "metadata": {},
   "source": [
    "### Finishing "
   ]
  },
  {
   "cell_type": "code",
   "execution_count": 78,
   "id": "2f83cbd0-f099-4d86-8960-e4061dbd106f",
   "metadata": {
    "tags": []
   },
   "outputs": [],
   "source": [
    "scm.finish()"
   ]
  },
  {
   "attachments": {},
   "cell_type": "markdown",
   "id": "be7c923e-a186-4a08-b6fe-127f8ece42c3",
   "metadata": {},
   "source": [
    "## Slab `PRE Optimization`"
   ]
  },
  {
   "cell_type": "code",
   "execution_count": 4,
   "id": "0203c5ca-7567-4a42-815a-0644225b1dcf",
   "metadata": {},
   "outputs": [],
   "source": [
    "SIMsNAME = \"6-Slabs_PreO\"\n",
    "TASK = \"PreO\"\n",
    "RUN_DIR = os.path.join(MAIN_DIR_JNB2, CHEM_FORMULA, SIMsNAME)"
   ]
  },
  {
   "attachments": {},
   "cell_type": "markdown",
   "id": "468756ca-c3b0-4811-b1c8-d333e37d5ae5",
   "metadata": {},
   "source": [
    "### Setting `BAND` *Geopmetry Optimization*"
   ]
  },
  {
   "cell_type": "code",
   "execution_count": 5,
   "id": "49bcde91-09ee-43a0-a706-b7f490e61185",
   "metadata": {},
   "outputs": [
    {
     "name": "stdout",
     "output_type": "stream",
     "text": [
      "input: \t\n",
      "      ams: \t\n",
      "          task: \tGeometryOptimization\n",
      "          GeometryOptimization: \t\n",
      "                               OptimizeLattice: \tno\n",
      "                               Convergence: \t\n",
      "                                           Energy: \t3.8087988488664447e-05\n",
      "                                           Gradients: \t0.03808798848866444\n",
      "                                           StressEnergyPerAtom: \t0.03808798848866444\n",
      "                                           Step: \t0.05\n",
      "                               PretendConverged: \tyes\n",
      "                               MaxIterations: \t50\n",
      "      BAND: \t\n",
      "           basis: \t\n",
      "                 type: \tSZ\n",
      "                 Core: \tMedium\n",
      "           Dependency: \t\n",
      "                      Core: \t0.8\n",
      "           xc: \t\n",
      "              GGA: \tPBE\n",
      "           SCF: \t\n",
      "               mixing: \t0.1\n",
      "               Iterations: \t180\n",
      "               Method: \tMultiSecant\n",
      "           numericalquality: \tGood\n",
      "           beckegrid: \t\n",
      "                     quality: \tNormal\n",
      "           Convergence: \t\n",
      "                       Degenerate: \tDefault\n",
      "           RadialDefaults: \t\n",
      "                          NR: \t10000\n",
      "           CPVector: \t512\n",
      "           KGRPX: \t6\n",
      "\n"
     ]
    }
   ],
   "source": [
    "from tools.misc.default_settings import settings_6_PreO\n",
    "\n",
    "print(settings_6_PreO)"
   ]
  },
  {
   "attachments": {},
   "cell_type": "markdown",
   "id": "de3cdbdb-a049-40f2-9eeb-e3d11b2a01f4",
   "metadata": {},
   "source": [
    "### Set-up `RUNNER`"
   ]
  },
  {
   "cell_type": "code",
   "execution_count": 6,
   "id": "a1d48165-fea2-459f-b01a-911e9d6b47a6",
   "metadata": {},
   "outputs": [],
   "source": [
    "NODES = 2\n",
    "CORES_PER_NODE = 128\n",
    "CPUS_PER_CORE = 2\n",
    "MAX_JOBS = 12"
   ]
  },
  {
   "cell_type": "code",
   "execution_count": null,
   "id": "e09519db-1cf2-4f02-bd2b-66604b0265bf",
   "metadata": {},
   "outputs": [],
   "source": [
    "scm.init(folder=RUN_DIR)\n",
    "RUNNER = scm.GridRunner(grid=\"slurm\", sleepstep=5, parallel=True, maxjobs=MAX_JOBS)\n",
    "RUNNER.settings.workdir = \"-D\"\n",
    "RUNNER.settings.special.nodes = \"--nodes=\"\n",
    "RUNNER.settings.special.qos = \"--qos=\"\n",
    "RUNNER.settings.special.walltime = \"--time=\"\n",
    "RUNNER.settings.special.tasks_per_node = \"--ntasks-per-node=\"\n",
    "RUNNER.settings.special.cpus_per_task = \"--cpus-per-task=\"\n",
    "RUNNER.settings.special.partition = \"--partition=\"\n",
    "RUNNER.settings.special.account = \"--account=\"\n",
    "RUNNER.settings.special.job_name = \"--job-name=\"\n",
    "\n",
    "scm.config.log.file = 7  # debug\n",
    "scm.config.log.stdout = 1  # 1: important 3: normal 5: verbose 7: debug\n",
    "scm.config.job.pickle = False\n",
    "scm.config.job.runscript.nproc = CORES_PER_NODE * NODES\n",
    "scm.config.job.runscript.shebang = \"#!/bin/bash\"\n",
    "scm.config.default_jobrunner = RUNNER"
   ]
  },
  {
   "cell_type": "code",
   "execution_count": 7,
   "id": "8fc9a209-16c8-4a6b-8d94-7a8917bebf39",
   "metadata": {},
   "outputs": [],
   "source": [
    "settings_pkl_file = os.path.join(RUN_DIR, \"settings.pkl\")\n",
    "with open(settings_pkl_file, \"wb\") as file:\n",
    "    pickle.dump(settings_6_PreO, file)"
   ]
  },
  {
   "attachments": {},
   "cell_type": "markdown",
   "id": "31c55d5d-4bf9-4bc9-8f19-f829162673ba",
   "metadata": {},
   "source": [
    "### Set-up JOBS"
   ]
  },
  {
   "attachments": {},
   "cell_type": "markdown",
   "id": "313d2423-3ba0-48a2-9d25-f5704c1df105",
   "metadata": {},
   "source": [
    "Load systems"
   ]
  },
  {
   "cell_type": "code",
   "execution_count": 8,
   "id": "1a0c4d9d-5df7-4339-93b4-c1d27ce1a00c",
   "metadata": {},
   "outputs": [
    {
     "name": "stderr",
     "output_type": "stream",
     "text": [
      "/home/paolo/Enhancing_ReaxFF/venv/lib/python3.8/site-packages/pymatgen/io/cif.py:1134: UserWarning: Issues encountered while parsing CIF: Some fractional coordinates rounded to ideal values to avoid issues with finite precision.\n",
      "  warnings.warn(\"Issues encountered while parsing CIF: \" + \"\\n\".join(self.warnings))\n"
     ]
    }
   ],
   "source": [
    "cis_dir = os.path.join(MAIN_DIR_JNB1, CHEM_FORMULA, \"6-slabs\")\n",
    "systems = []\n",
    "\n",
    "for path in np.sort(glob.glob(os.path.join(cis_dir, \"*.cif\"))):\n",
    "    system_name = path.split(os.sep)[-1].split(\".cif\")[0]\n",
    "    system_mat = Structure.from_file(path)\n",
    "    system_ase = matget2ase.get_atoms(system_mat)\n",
    "    systems.append((system_name, fromASE(system_ase)))"
   ]
  },
  {
   "attachments": {},
   "cell_type": "markdown",
   "id": "7aacc55b-e8f3-4cfa-8510-b7f6170bc215",
   "metadata": {},
   "source": [
    "Define jobs"
   ]
  },
  {
   "cell_type": "code",
   "execution_count": 34,
   "id": "e7c83385-f3ec-44b3-b480-5f01741d3f50",
   "metadata": {},
   "outputs": [],
   "source": [
    "jobs = []\n",
    "for name, system_obj in systems:\n",
    "    sim_name = f\"{TASK}-{name}\"\n",
    "    job = scm.AMSJob(molecule=system_obj, settings=settings_6_PreO, name=sim_name)\n",
    "    job.settings.runscript.pre = \"\"\"module use --append /work/pr1u1751/pr1u1751/shared/modules\n",
    "module load ams/2022.102\"\"\"\n",
    "    jobs.append(job)\n",
    "# Group all\n",
    "multi_jobs = scm.MultiJob(name=\"jobs\", children=jobs)"
   ]
  },
  {
   "attachments": {},
   "cell_type": "markdown",
   "id": "f66f6dfb-8bd9-44ea-abb3-2bbf9f53f45b",
   "metadata": {},
   "source": [
    "#### Run All"
   ]
  },
  {
   "cell_type": "code",
   "execution_count": 36,
   "id": "b1652642-fcbd-4fd6-85da-ef70a719c746",
   "metadata": {},
   "outputs": [
    {
     "name": "stdout",
     "output_type": "stream",
     "text": [
      "[02.12|00:10:26] JOB jobs STARTED\n",
      "[02.12|00:10:26] JOB jobs/PO-6.0-0-LiF_Fm-3m_-3.18_001x2 STARTED\n",
      "[02.12|00:10:26] JOB jobs/PO-6.0-1-LiF_P6_3mc_-3.17_001x2 STARTED\n",
      "[02.12|00:10:26] JOB jobs/PO-6.0-2-LiF_Pm-3m_-2.89_001x2 STARTED\n",
      "[02.12|00:10:26] JOB jobs/PO-6.1-0-LiF_Fm-3m_-3.18_001x3 STARTED\n",
      "[02.12|00:10:26] JOB jobs/PO-6.1-1-LiF_P6_3mc_-3.17_001x3 STARTED\n",
      "[02.12|00:10:26] JOB jobs/PO-6.1-2-LiF_Pm-3m_-2.89_001x3 STARTED\n",
      "[02.12|00:10:26] JOB jobs/PO-6.10-0-LiF_Fm-3m_-3.18_012x3 STARTED\n",
      "[02.12|00:10:26] JOB jobs/PO-6.10-1-LiF_P6_3mc_-3.17_012x3 STARTED\n",
      "[02.12|00:10:26] JOB jobs/PO-6.10-2-LiF_Pm-3m_-2.89_012x3 STARTED\n",
      "[02.12|00:10:26] JOB jobs/PO-6.11-0-LiF_Fm-3m_-3.18_012x4 STARTED\n",
      "[02.12|00:10:26] JOB jobs/PO-6.11-1-LiF_P6_3mc_-3.17_012x4 STARTED\n",
      "[02.12|00:10:26] JOB jobs/PO-6.11-2-LiF_Pm-3m_-2.89_012x4 STARTED\n",
      "[02.12|00:10:26] JOB jobs/PO-6.2-0-LiF_Fm-3m_-3.18_001x4 STARTED\n",
      "[02.12|00:10:26] JOB jobs/PO-6.2-1-LiF_P6_3mc_-3.17_001x4 STARTED\n",
      "[02.12|00:10:26] JOB jobs/PO-6.2-2-LiF_Pm-3m_-2.89_001x4 STARTED\n",
      "[02.12|00:10:26] JOB jobs/PO-6.3-0-LiF_Fm-3m_-3.18_011x2 STARTED\n",
      "[02.12|00:10:26] JOB jobs/PO-6.3-1-LiF_P6_3mc_-3.17_011x2 STARTED\n",
      "[02.12|00:10:26] Job PO-6.11-0-LiF_Fm-3m_-3.18_012x4 previously run as PO-6.10-0-LiF_Fm-3m_-3.18_012x3, using old results\n",
      "[02.12|00:10:26] JOB jobs/PO-6.3-2-LiF_Pm-3m_-2.89_011x2 STARTED\n",
      "[02.12|00:10:26] Waiting for job PO-6.10-0-LiF_Fm-3m_-3.18_012x3 to finish\n",
      "[02.12|00:10:26] Job PO-6.11-1-LiF_P6_3mc_-3.17_012x4 previously run as PO-6.10-1-LiF_P6_3mc_-3.17_012x3, using old results\n",
      "[02.12|00:10:26] JOB jobs/PO-6.4-0-LiF_Fm-3m_-3.18_011x3 STARTED\n",
      "[02.12|00:10:26] Waiting for job PO-6.10-1-LiF_P6_3mc_-3.17_012x3 to finish\n",
      "[02.12|00:10:26] Job PO-6.11-2-LiF_Pm-3m_-2.89_012x4 previously run as PO-6.10-2-LiF_Pm-3m_-2.89_012x3, using old results\n",
      "[02.12|00:10:26] JOB jobs/PO-6.4-1-LiF_P6_3mc_-3.17_011x3 STARTED\n",
      "[02.12|00:10:26] Waiting for job PO-6.10-2-LiF_Pm-3m_-2.89_012x3 to finish\n",
      "[02.12|00:10:26] JOB jobs/PO-6.4-2-LiF_Pm-3m_-2.89_011x3 STARTED\n",
      "[02.12|00:10:26] JOB jobs/PO-6.5-0-LiF_Fm-3m_-3.18_011x4 STARTED\n",
      "[02.12|00:10:27] JOB jobs/PO-6.5-1-LiF_P6_3mc_-3.17_011x4 STARTED\n",
      "[02.12|00:10:27] JOB jobs/PO-6.5-2-LiF_Pm-3m_-2.89_011x4 STARTED\n",
      "[02.12|00:10:27] JOB jobs/PO-6.6-0-LiF_Fm-3m_-3.18_111x2 STARTED\n",
      "[02.12|00:10:27] JOB jobs/PO-6.6-1-LiF_P6_3mc_-3.17_111x2 STARTED\n",
      "[02.12|00:10:27] JOB jobs/PO-6.6-2-LiF_Pm-3m_-2.89_111x2 STARTED\n",
      "[02.12|00:10:27] JOB jobs/PO-6.7-0-LiF_Fm-3m_-3.18_111x3 STARTED\n",
      "[02.12|00:10:27] JOB jobs/PO-6.7-1-LiF_P6_3mc_-3.17_111x3 STARTED\n",
      "[02.12|00:10:27] JOB jobs/PO-6.7-2-LiF_Pm-3m_-2.89_111x3 STARTED\n",
      "[02.12|00:10:27] JOB jobs/PO-6.8-0-LiF_Fm-3m_-3.18_111x4 STARTED\n",
      "[02.12|00:10:27] JOB jobs/PO-6.8-1-LiF_P6_3mc_-3.17_111x4 STARTED\n",
      "[02.12|00:10:27] JOB jobs/PO-6.8-2-LiF_Pm-3m_-2.89_111x4 STARTED\n",
      "[02.12|00:10:27] JOB jobs/PO-6.9-0-LiF_Fm-3m_-3.18_012x2 STARTED\n",
      "[02.12|00:10:27] JOB jobs/PO-6.9-1-LiF_P6_3mc_-3.17_012x2 STARTED\n",
      "[02.12|00:10:27] JOB jobs/PO-6.9-2-LiF_Pm-3m_-2.89_012x2 STARTED\n"
     ]
    }
   ],
   "source": [
    "result = multi_jobs.run(\n",
    "    jobrunner=RUNNER,\n",
    "    nodes=NODES,\n",
    "    cores=CORES_PER_NODE * NODES,\n",
    "    tasks_per_node=CORES_PER_NODE,\n",
    "    cpus_per_task=CPUS_PER_CORE,\n",
    "    walltime=\"24:00:00\",\n",
    "    partition=\"standard\",\n",
    "    account=\"pr1u1751\",\n",
    "    qos=\"standard\",\n",
    ")"
   ]
  },
  {
   "attachments": {},
   "cell_type": "markdown",
   "id": "e11d7f41-5a01-4d97-a0bc-961908ace837",
   "metadata": {},
   "source": [
    "### Post-processing"
   ]
  },
  {
   "attachments": {},
   "cell_type": "markdown",
   "id": "f5512f12-fd31-493e-8a26-4f5bc1ceacd1",
   "metadata": {},
   "source": [
    "Save last configuration"
   ]
  },
  {
   "cell_type": "code",
   "execution_count": 15,
   "id": "a0b39a30-89ab-4747-bf26-934eb19c74a5",
   "metadata": {},
   "outputs": [
    {
     "name": "stdout",
     "output_type": "stream",
     "text": [
      "Simulation step02-sim/LiF/6-Slabs_PreO/jobs/PO-6.9-1-LiF_P6_3mc_-3.17_012x2 FAILED\n",
      "Simulation step02-sim/LiF/6-Slabs_PreO/jobs/PO-6.2-1-LiF_P6_3mc_-3.17_001x4 FAILED\n",
      "Simulation step02-sim/LiF/6-Slabs_PreO/jobs/PO-6.9-0-LiF_Fm-3m_-3.18_012x2 FAILED\n",
      "Simulation step02-sim/LiF/6-Slabs_PreO/jobs/PO-6.8-0-LiF_Fm-3m_-3.18_111x4 FAILED\n",
      "Simulation step02-sim/LiF/6-Slabs_PreO/jobs/PO-6.9-2-LiF_Pm-3m_-2.89_012x2 FAILED\n",
      "Simulation step02-sim/LiF/6-Slabs_PreO/jobs/PO-6.0-1-LiF_P6_3mc_-3.17_001x2 FAILED\n",
      "Simulation step02-sim/LiF/6-Slabs_PreO/jobs/PO-6.8-1-LiF_P6_3mc_-3.17_111x4 FAILED\n"
     ]
    }
   ],
   "source": [
    "dir_jobs = os.path.join(RUN_DIR, \"jobs\")\n",
    "conf_dir = os.path.join(MAIN_DIR_JNB1, CHEM_FORMULA, \"6.1-slabs_PO\")\n",
    "make_dir(conf_dir)\n",
    "\n",
    "for job_dir in glob.glob(os.path.join(dir_jobs, \"*\")):\n",
    "    sim_name = job_dir.split(os.sep)[-1]\n",
    "    job = scm.AMSJob.load_external(job_dir, settings=settings_6_PreO)\n",
    "    # check\n",
    "    if not job.check():\n",
    "        print(f\"Simulation {job_dir} FAILED\")\n",
    "        continue\n",
    "    name = sim_name[3:]\n",
    "    mol = job.results.get_input_molecule()\n",
    "    mol = toASE(mol)\n",
    "    mol.write(os.path.join(conf_dir, f\"{name}.cif\"), format=\"cif\")"
   ]
  },
  {
   "attachments": {},
   "cell_type": "markdown",
   "id": "b8eafaa3-125e-4e03-8b0e-6535579ff015",
   "metadata": {},
   "source": [
    "Load Material Project data"
   ]
  },
  {
   "cell_type": "code",
   "execution_count": 17,
   "id": "7dfe219f-49da-4fcd-9234-417d96754665",
   "metadata": {},
   "outputs": [],
   "source": [
    "dir_jobs = os.path.join(RUN_DIR, \"jobs\")\n",
    "\n",
    "cis_dir = os.path.join(MAIN_DIR_JNB1, CHEM_FORMULA, \"6-slabs\")\n",
    "data_path = os.path.join(cis_dir, \"info.json\")\n",
    "results_df = pd.read_json(data_path)"
   ]
  },
  {
   "cell_type": "code",
   "execution_count": 18,
   "id": "8b7ec490",
   "metadata": {},
   "outputs": [
    {
     "data": {
      "text/html": [
       "<div>\n",
       "<style scoped>\n",
       "    .dataframe tbody tr th:only-of-type {\n",
       "        vertical-align: middle;\n",
       "    }\n",
       "\n",
       "    .dataframe tbody tr th {\n",
       "        vertical-align: top;\n",
       "    }\n",
       "\n",
       "    .dataframe thead th {\n",
       "        text-align: right;\n",
       "    }\n",
       "</style>\n",
       "<table border=\"1\" class=\"dataframe\">\n",
       "  <thead>\n",
       "    <tr style=\"text-align: right;\">\n",
       "      <th></th>\n",
       "      <th>millers</th>\n",
       "      <th>slabs</th>\n",
       "    </tr>\n",
       "  </thead>\n",
       "  <tbody>\n",
       "    <tr>\n",
       "      <th>6.0-0-LiF_Fm-3m_-3.18_001x2.cif</th>\n",
       "      <td>[0, 0, 1]</td>\n",
       "      <td>2</td>\n",
       "    </tr>\n",
       "    <tr>\n",
       "      <th>6.1-0-LiF_Fm-3m_-3.18_001x3.cif</th>\n",
       "      <td>[0, 0, 1]</td>\n",
       "      <td>3</td>\n",
       "    </tr>\n",
       "    <tr>\n",
       "      <th>6.2-0-LiF_Fm-3m_-3.18_001x4.cif</th>\n",
       "      <td>[0, 0, 1]</td>\n",
       "      <td>4</td>\n",
       "    </tr>\n",
       "    <tr>\n",
       "      <th>6.3-0-LiF_Fm-3m_-3.18_011x2.cif</th>\n",
       "      <td>[0, 1, 1]</td>\n",
       "      <td>2</td>\n",
       "    </tr>\n",
       "    <tr>\n",
       "      <th>6.4-0-LiF_Fm-3m_-3.18_011x3.cif</th>\n",
       "      <td>[0, 1, 1]</td>\n",
       "      <td>3</td>\n",
       "    </tr>\n",
       "  </tbody>\n",
       "</table>\n",
       "</div>"
      ],
      "text/plain": [
       "                                   millers  slabs\n",
       "6.0-0-LiF_Fm-3m_-3.18_001x2.cif  [0, 0, 1]      2\n",
       "6.1-0-LiF_Fm-3m_-3.18_001x3.cif  [0, 0, 1]      3\n",
       "6.2-0-LiF_Fm-3m_-3.18_001x4.cif  [0, 0, 1]      4\n",
       "6.3-0-LiF_Fm-3m_-3.18_011x2.cif  [0, 1, 1]      2\n",
       "6.4-0-LiF_Fm-3m_-3.18_011x3.cif  [0, 1, 1]      3"
      ]
     },
     "execution_count": 18,
     "metadata": {},
     "output_type": "execute_result"
    }
   ],
   "source": [
    "results_df.head()"
   ]
  },
  {
   "cell_type": "code",
   "execution_count": 19,
   "id": "0aa26aef-c9fe-4036-8c2f-aa8e0e4fe7f4",
   "metadata": {},
   "outputs": [
    {
     "name": "stdout",
     "output_type": "stream",
     "text": [
      "Simulation step02-sim/LiF/6-Slabs_PreO/jobs/PO-6.9-1-LiF_P6_3mc_-3.17_012x2 FAILED\n",
      "Simulation step02-sim/LiF/6-Slabs_PreO/jobs/PO-6.2-1-LiF_P6_3mc_-3.17_001x4 FAILED\n",
      "Simulation step02-sim/LiF/6-Slabs_PreO/jobs/PO-6.9-0-LiF_Fm-3m_-3.18_012x2 FAILED\n",
      "Simulation step02-sim/LiF/6-Slabs_PreO/jobs/PO-6.8-0-LiF_Fm-3m_-3.18_111x4 FAILED\n",
      "Simulation step02-sim/LiF/6-Slabs_PreO/jobs/PO-6.9-2-LiF_Pm-3m_-2.89_012x2 FAILED\n",
      "Simulation step02-sim/LiF/6-Slabs_PreO/jobs/PO-6.0-1-LiF_P6_3mc_-3.17_001x2 FAILED\n",
      "Simulation step02-sim/LiF/6-Slabs_PreO/jobs/PO-6.8-1-LiF_P6_3mc_-3.17_111x4 FAILED\n"
     ]
    }
   ],
   "source": [
    "for job_dir in glob.glob(os.path.join(dir_jobs, \"*\")):\n",
    "    sim_name = job_dir.split(os.sep)[-1]\n",
    "    job = scm.AMSJob.load_external(job_dir, settings=settings_6_PreO)\n",
    "    results_df.loc[sim_name[3:] + \".cif\", \"millers_str\"] = str(results_df.loc[sim_name[3:] + \".cif\", \"millers\"])\n",
    "    # check\n",
    "    if not job.check():\n",
    "        print(f\"Simulation {job_dir} FAILED\")\n",
    "        continue\n",
    "    job_result = job.results\n",
    "    energy = scm.Units.convert(job_result.get_energy(), \"au\", \"eV\")\n",
    "    results_df.loc[sim_name[3:] + \".cif\", \"scm_PO_energy\"] = energy\n",
    "    Na = len(job_result.get_molecule(\"Molecule\").atoms)\n",
    "    energy_per_atom = energy / Na\n",
    "    results_df.loc[sim_name[3:] + \".cif\", \"scm_PO_energy_per_atom\"] = energy_per_atom\n",
    "    results_df.loc[sim_name[3:] + \".cif\", \"system_id\"] = int(sim_name.split(\"-\")[2])\n",
    "\n",
    "results_df.to_json(os.path.join(RUN_DIR, f\"results.json\"))\n",
    "results_df.to_json(os.path.join(conf_dir, \"info.json\"))"
   ]
  },
  {
   "cell_type": "code",
   "execution_count": 20,
   "id": "1545c14b-8f1d-432f-9220-7bcd50aeea75",
   "metadata": {},
   "outputs": [
    {
     "data": {
      "text/html": [
       "<div>\n",
       "<style scoped>\n",
       "    .dataframe tbody tr th:only-of-type {\n",
       "        vertical-align: middle;\n",
       "    }\n",
       "\n",
       "    .dataframe tbody tr th {\n",
       "        vertical-align: top;\n",
       "    }\n",
       "\n",
       "    .dataframe thead th {\n",
       "        text-align: right;\n",
       "    }\n",
       "</style>\n",
       "<table border=\"1\" class=\"dataframe\">\n",
       "  <thead>\n",
       "    <tr style=\"text-align: right;\">\n",
       "      <th></th>\n",
       "      <th>millers</th>\n",
       "      <th>slabs</th>\n",
       "      <th>millers_str</th>\n",
       "      <th>scm_PO_energy</th>\n",
       "      <th>scm_PO_energy_per_atom</th>\n",
       "      <th>system_id</th>\n",
       "    </tr>\n",
       "  </thead>\n",
       "  <tbody>\n",
       "    <tr>\n",
       "      <th>6.0-0-LiF_Fm-3m_-3.18_001x2.cif</th>\n",
       "      <td>[0, 0, 1]</td>\n",
       "      <td>2</td>\n",
       "      <td>[0, 0, 1]</td>\n",
       "      <td>-52.869952</td>\n",
       "      <td>-3.304372</td>\n",
       "      <td>0.0</td>\n",
       "    </tr>\n",
       "    <tr>\n",
       "      <th>6.1-0-LiF_Fm-3m_-3.18_001x3.cif</th>\n",
       "      <td>[0, 0, 1]</td>\n",
       "      <td>3</td>\n",
       "      <td>[0, 0, 1]</td>\n",
       "      <td>-79.203034</td>\n",
       "      <td>-3.300126</td>\n",
       "      <td>0.0</td>\n",
       "    </tr>\n",
       "    <tr>\n",
       "      <th>6.2-0-LiF_Fm-3m_-3.18_001x4.cif</th>\n",
       "      <td>[0, 0, 1]</td>\n",
       "      <td>4</td>\n",
       "      <td>[0, 0, 1]</td>\n",
       "      <td>-108.190278</td>\n",
       "      <td>-3.380946</td>\n",
       "      <td>0.0</td>\n",
       "    </tr>\n",
       "    <tr>\n",
       "      <th>6.3-0-LiF_Fm-3m_-3.18_011x2.cif</th>\n",
       "      <td>[0, 1, 1]</td>\n",
       "      <td>2</td>\n",
       "      <td>[0, 1, 1]</td>\n",
       "      <td>-57.632127</td>\n",
       "      <td>-3.602008</td>\n",
       "      <td>0.0</td>\n",
       "    </tr>\n",
       "    <tr>\n",
       "      <th>6.4-0-LiF_Fm-3m_-3.18_011x3.cif</th>\n",
       "      <td>[0, 1, 1]</td>\n",
       "      <td>3</td>\n",
       "      <td>[0, 1, 1]</td>\n",
       "      <td>-87.752700</td>\n",
       "      <td>-3.656362</td>\n",
       "      <td>0.0</td>\n",
       "    </tr>\n",
       "  </tbody>\n",
       "</table>\n",
       "</div>"
      ],
      "text/plain": [
       "                                   millers  slabs millers_str  scm_PO_energy  \\\n",
       "6.0-0-LiF_Fm-3m_-3.18_001x2.cif  [0, 0, 1]      2   [0, 0, 1]     -52.869952   \n",
       "6.1-0-LiF_Fm-3m_-3.18_001x3.cif  [0, 0, 1]      3   [0, 0, 1]     -79.203034   \n",
       "6.2-0-LiF_Fm-3m_-3.18_001x4.cif  [0, 0, 1]      4   [0, 0, 1]    -108.190278   \n",
       "6.3-0-LiF_Fm-3m_-3.18_011x2.cif  [0, 1, 1]      2   [0, 1, 1]     -57.632127   \n",
       "6.4-0-LiF_Fm-3m_-3.18_011x3.cif  [0, 1, 1]      3   [0, 1, 1]     -87.752700   \n",
       "\n",
       "                                 scm_PO_energy_per_atom  system_id  \n",
       "6.0-0-LiF_Fm-3m_-3.18_001x2.cif               -3.304372        0.0  \n",
       "6.1-0-LiF_Fm-3m_-3.18_001x3.cif               -3.300126        0.0  \n",
       "6.2-0-LiF_Fm-3m_-3.18_001x4.cif               -3.380946        0.0  \n",
       "6.3-0-LiF_Fm-3m_-3.18_011x2.cif               -3.602008        0.0  \n",
       "6.4-0-LiF_Fm-3m_-3.18_011x3.cif               -3.656362        0.0  "
      ]
     },
     "execution_count": 20,
     "metadata": {},
     "output_type": "execute_result"
    }
   ],
   "source": [
    "results_df.head()"
   ]
  },
  {
   "cell_type": "code",
   "execution_count": 35,
   "id": "40f5c707-c36e-4dbb-9a11-399d1e6c26bd",
   "metadata": {},
   "outputs": [
    {
     "name": "stderr",
     "output_type": "stream",
     "text": [
      "/tmp/ipykernel_1662169/3732062782.py:6: MatplotlibDeprecationWarning: The get_cmap function was deprecated in Matplotlib 3.7 and will be removed two minor releases later. Use ``matplotlib.colormaps[name]`` or ``matplotlib.colormaps.get_cmap(obj)`` instead.\n",
      "  Set2 = mp.cm.get_cmap(\"Set2\", 8)\n"
     ]
    },
    {
     "data": {
      "image/png": "[encoded data removed]",
      "text/plain": [
       "<Figure size 500x350 with 4 Axes>"
      ]
     },
     "metadata": {},
     "output_type": "display_data"
    }
   ],
   "source": [
    "fig = plt.figure(figsize=[5, 3.5], dpi=100)\n",
    "\n",
    "with plt.style.context(\"./articles_seaborn.mplstyle\"):\n",
    "    ax = {}\n",
    "    slabs_millers = results_df[\"millers_str\"].unique()\n",
    "    Set2 = mp.cm.get_cmap(\"Set2\", 8)\n",
    "    spec = fig.add_gridspec(\n",
    "        len(slabs_millers) // 2 + len(slabs_millers) % 2, min([len(slabs_millers), 2]), hspace=0.7, wspace=0.25\n",
    "    )\n",
    "    for i, millers in enumerate(slabs_millers):\n",
    "        ax[i] = fig.add_subplot(spec[i])\n",
    "        sub_df = results_df.loc[results_df[\"millers_str\"] == millers]\n",
    "        systems_id = results_df[\"system_id\"].unique()\n",
    "        xticks = 1 / sub_df[\"slabs\"].unique()\n",
    "        xticks_labels = [f\"$\\\\frac{{1}}{{{ns}}}$\" for ns in sub_df[\"slabs\"].unique()]\n",
    "        ax[i].set_xticks(xticks)\n",
    "        ax[i].set_xticklabels(xticks_labels, rotation=0, ha=\"center\")\n",
    "        ax[i].set_title(millers)\n",
    "        for sys_id in systems_id:\n",
    "            sub_df\n",
    "            idx = np.arange(len(results_df.index))\n",
    "            sub_sub_df = sub_df.loc[sub_df[\"system_id\"] == sys_id]\n",
    "            if not len(sub_sub_df.index) > 0:\n",
    "                # print(sub_sub_df.head())\n",
    "                continue\n",
    "            name = sub_sub_df.index[0].split(\"-\")[2]\n",
    "            # print(1/sub_sub_df['slabs'], sub_sub_df['scm_PO_energy_per_atom'])\n",
    "            ax[i].scatter(\n",
    "                1 / sub_sub_df[\"slabs\"],\n",
    "                sub_sub_df[\"scm_PO_energy_per_atom\"],\n",
    "                color=Set2.colors[int(sys_id)],\n",
    "                label=name,\n",
    "            )\n",
    "\n",
    "            # ax[i].set_xticks(idx)\n",
    "            # ax[i].set_xticklabels(results_df.index, rotation=25, ha='right')\n",
    "        # ax[i].set_ylim([-5.2, -3.8])\n",
    "    #     ax[i].set_ylim([-5, -3.8])\n",
    "    ax[3 - 2].legend(loc=\"center left\", bbox_to_anchor=(1.02, -0.3))\n",
    "    for i in range(0, len(ax), 2):\n",
    "        ax[i].set_ylabel(\"Energy per atoms [eV]\")\n",
    "    for i in range(len(ax) - 2, len(ax), 1):\n",
    "        ax[i].set_xlabel(r\"$1 /(\\mathrm{\\#\\, slabs})$ [-]\")\n",
    "plt.show()\n",
    "fig.savefig(os.path.join(\"plots\", f\"6-{CHEM_FORMULA}_{TASK}_sim_energy.pdf\"), dpi=300, bbox_inches=\"tight\")"
   ]
  },
  {
   "attachments": {},
   "cell_type": "markdown",
   "id": "136ef930-d7f5-444a-8a11-fe03f7b8cd0b",
   "metadata": {},
   "source": [
    "#### Finishing "
   ]
  },
  {
   "cell_type": "code",
   "execution_count": 18,
   "id": "b901b689-b0b9-482d-83b7-632a2af9e38c",
   "metadata": {},
   "outputs": [],
   "source": [
    "scm.finish()"
   ]
  },
  {
   "attachments": {},
   "cell_type": "markdown",
   "id": "815dbb77-7927-4ffa-8af5-b4677b9a61ce",
   "metadata": {
    "tags": []
   },
   "source": [
    "## Slabs `Geopmetry Optimization`"
   ]
  },
  {
   "cell_type": "code",
   "execution_count": 48,
   "id": "4827bde4-28a7-4368-978c-dcc8a2527d79",
   "metadata": {},
   "outputs": [],
   "source": [
    "SIMsNAME = \"6-Slabs_GO\"\n",
    "TASK = \"GO\"\n",
    "RUN_DIR = os.path.join(MAIN_DIR_JNB2, CHEM_FORMULA, SIMsNAME)"
   ]
  },
  {
   "attachments": {},
   "cell_type": "markdown",
   "id": "182f8138-3ba1-44a1-995d-6920fa7823b2",
   "metadata": {},
   "source": [
    "### Setting `BAND` *Geopmetry Optimization*"
   ]
  },
  {
   "cell_type": "code",
   "execution_count": 49,
   "id": "2eb381d8-4b88-4341-ad75-2fdd1749b86f",
   "metadata": {},
   "outputs": [
    {
     "name": "stdout",
     "output_type": "stream",
     "text": [
      "input: \t\n",
      "      AMS: \t\n",
      "          task: \tGeometryOptimization\n",
      "          Properties: \t\n",
      "                     Gradients: \tyes\n",
      "                     StressTensor: \tno\n",
      "                     Hessian: \tno\n",
      "                     PESPointCharacter: \tno\n",
      "                     ElasticTensor: \tno\n",
      "          GeometryOptimization: \t\n",
      "                               OptimizeLattice: \tno\n",
      "                               Convergence: \t\n",
      "                                           Energy: \t3.8087988488664447e-05\n",
      "                                           Gradients: \t0.3808798848866444\n",
      "                                           StressEnergyPerAtom: \t0.01904399424433222\n",
      "                                           Step: \t0.05\n",
      "                               PretendConverged: \tyes\n",
      "                               MaxIterations: \t15\n",
      "      BAND: \t\n",
      "           basis: \t\n",
      "                 type: \tDZP\n",
      "                 Core: \tMedium\n",
      "           Dependency: \t\n",
      "                      Core: \t0.8\n",
      "           xc: \t\n",
      "              MetaGGA: \tTPSS\n",
      "           SCF: \t\n",
      "               mixing: \t0.05\n",
      "               Iterations: \t150\n",
      "               Method: \tMultiSecant\n",
      "           numericalquality: \tGood\n",
      "           beckegrid: \t\n",
      "                     quality: \tGood\n",
      "           Convergence: \t\n",
      "                       Degenerate: \tDefault\n",
      "           RadialDefaults: \t\n",
      "                          NR: \t10000\n",
      "           CPVector: \t512\n",
      "           KGRPX: \t6\n",
      "\n"
     ]
    }
   ],
   "source": [
    "from tools.misc.default_settings import settings_6_GO\n",
    "\n",
    "print(settings_6_GO)"
   ]
  },
  {
   "attachments": {},
   "cell_type": "markdown",
   "id": "2c2b7ec2-1097-4595-acc6-beba8fae423d",
   "metadata": {},
   "source": [
    "#### Set-up `RUNNER`"
   ]
  },
  {
   "cell_type": "code",
   "execution_count": 50,
   "id": "894b77f5-0e55-4ed9-a9d5-064cf59eb3b2",
   "metadata": {},
   "outputs": [],
   "source": [
    "NODES = 4\n",
    "CORES_PER_NODE = 64\n",
    "CPUS_PER_CORE = 4\n",
    "MAX_JOBS = 30"
   ]
  },
  {
   "cell_type": "code",
   "execution_count": null,
   "id": "fc86a67d-2be9-4910-a463-1d1793b89c69",
   "metadata": {},
   "outputs": [],
   "source": [
    "scm.init(folder=RUN_DIR)\n",
    "RUNNER = scm.GridRunner(grid=\"slurm\", sleepstep=5, parallel=True, maxjobs=MAX_JOBS)  # TODO: Replace it with GridRunner\n",
    "RUNNER.settings.workdir = \"-D\"\n",
    "RUNNER.settings.special.nodes = \"--nodes=\"\n",
    "RUNNER.settings.special.qos = \"--qos=\"\n",
    "RUNNER.settings.special.walltime = \"--time=\"\n",
    "RUNNER.settings.special.tasks_per_node = \"--ntasks-per-node=\"\n",
    "RUNNER.settings.special.cpus_per_task = \"--cpus-per-task=\"\n",
    "RUNNER.settings.special.partition = \"--partition=\"\n",
    "RUNNER.settings.special.account = \"--account=\"\n",
    "RUNNER.settings.special.job_name = \"--job-name=\"\n",
    "\n",
    "scm.config.log.file = 7  # debug\n",
    "scm.config.log.stdout = 1  # 1: important 3: normal 5: verbose 7: debug\n",
    "scm.config.job.pickle = False\n",
    "scm.config.job.runscript.nproc = CORES_PER_NODE * NODES\n",
    "scm.config.job.runscript.shebang = \"#!/bin/bash\"\n",
    "scm.config.default_jobrunner = RUNNER"
   ]
  },
  {
   "cell_type": "code",
   "execution_count": 51,
   "id": "5edfd480-e5d8-4b2c-8173-9b6f36febcd6",
   "metadata": {},
   "outputs": [],
   "source": [
    "settings_pkl_file = os.path.join(RUN_DIR, \"settings.pkl\")\n",
    "with open(settings_pkl_file, \"wb\") as file:\n",
    "    pickle.dump(settings_6_GO, file)"
   ]
  },
  {
   "attachments": {},
   "cell_type": "markdown",
   "id": "4318c509-f1b8-4c70-bd42-3d917de6597d",
   "metadata": {},
   "source": [
    "#### Set-up JOBS"
   ]
  },
  {
   "attachments": {},
   "cell_type": "markdown",
   "id": "6204b8ec-a8d7-465b-9491-d798ec98deb5",
   "metadata": {},
   "source": [
    "Load systems"
   ]
  },
  {
   "cell_type": "code",
   "execution_count": 39,
   "id": "91d8f6da-2ac0-432c-93fc-6e1f418fa498",
   "metadata": {},
   "outputs": [
    {
     "name": "stderr",
     "output_type": "stream",
     "text": [
      "/home/paolo/Enhancing_ReaxFF/venv/lib/python3.8/site-packages/pymatgen/io/cif.py:1134: UserWarning: Issues encountered while parsing CIF: Some fractional coordinates rounded to ideal values to avoid issues with finite precision.\n",
      "  warnings.warn(\"Issues encountered while parsing CIF: \" + \"\\n\".join(self.warnings))\n"
     ]
    }
   ],
   "source": [
    "cis_dir = os.path.join(MAIN_DIR_JNB1, CHEM_FORMULA, \"6.1-slabs_PO\")\n",
    "systems = []\n",
    "\n",
    "for path in np.sort(glob.glob(os.path.join(cis_dir, \"*.cif\"))):\n",
    "    system_name = path.split(os.sep)[-1].split(\".cif\")[0]\n",
    "    system_mat = Structure.from_file(path)\n",
    "    system_ase = matget2ase.get_atoms(system_mat)\n",
    "    # apply 2D simmetry\n",
    "    system_ase.set_pbc([True, True, False])\n",
    "    systems.append((system_name, fromASE(system_ase)))"
   ]
  },
  {
   "attachments": {},
   "cell_type": "markdown",
   "id": "043b928c-4c63-46a5-9a2a-1ea7afd25a3f",
   "metadata": {},
   "source": [
    "Define jobs"
   ]
  },
  {
   "cell_type": "code",
   "execution_count": 32,
   "id": "91811f99-60d3-4930-a273-7407bf76ad62",
   "metadata": {},
   "outputs": [],
   "source": [
    "jobs = []\n",
    "for name, system_obj in systems:\n",
    "    sim_name = f\"{TASK}-{name}\"\n",
    "    job = scm.AMSJob(molecule=system_obj, settings=settings, name=sim_name)\n",
    "    job.settings.runscript.pre = \"\"\"module use --append /work/pr1u1751/pr1u1751/shared/modules\n",
    "module load ams/2022.102\"\"\"\n",
    "    jobs.append(job)\n",
    "# Group all\n",
    "multi_jobs = scm.MultiJob(name=\"jobs\", children=jobs)"
   ]
  },
  {
   "attachments": {},
   "cell_type": "markdown",
   "id": "761b5dbd-c038-4e1b-b395-7d8c182cc656",
   "metadata": {},
   "source": [
    "### Run All"
   ]
  },
  {
   "cell_type": "code",
   "execution_count": 34,
   "id": "e1724583-7c6a-4eeb-8bdd-6e197df70cef",
   "metadata": {},
   "outputs": [
    {
     "name": "stdout",
     "output_type": "stream",
     "text": [
      "[10:47:38] JOB jobs STARTED\n",
      "[10:47:39] JOB jobs/GO-6.0-0-LiF_Fm-3m_-3.18_001x2 STARTED\n",
      "[10:47:39] JOB jobs/GO-6.0-2-LiF_Pm-3m_-2.89_001x2 STARTED\n",
      "[10:47:39] JOB jobs/GO-6.1-0-LiF_Fm-3m_-3.18_001x3 STARTED\n",
      "[10:47:39] JOB jobs/GO-6.1-1-LiF_P6_3mc_-3.17_001x3 STARTED\n",
      "[10:47:39] JOB jobs/GO-6.1-2-LiF_Pm-3m_-2.89_001x3 STARTED\n",
      "[10:47:39] JOB jobs/GO-6.10-0-LiF_Fm-3m_-3.18_012x3 STARTED\n",
      "[10:47:39] JOB jobs/GO-6.10-1-LiF_P6_3mc_-3.17_012x3 STARTED\n",
      "[10:47:39] JOB jobs/GO-6.10-2-LiF_Pm-3m_-2.89_012x3 STARTED\n",
      "[10:47:39] JOB jobs/GO-6.11-0-LiF_Fm-3m_-3.18_012x4 STARTED\n",
      "[10:47:39] JOB jobs/GO-6.11-1-LiF_P6_3mc_-3.17_012x4 STARTED\n",
      "[10:47:39] JOB jobs/GO-6.11-2-LiF_Pm-3m_-2.89_012x4 STARTED\n",
      "[10:47:39] JOB jobs/GO-6.2-0-LiF_Fm-3m_-3.18_001x4 STARTED\n",
      "[10:47:39] JOB jobs/GO-6.2-2-LiF_Pm-3m_-2.89_001x4 STARTED\n",
      "[10:47:39] JOB jobs/GO-6.3-0-LiF_Fm-3m_-3.18_011x2 STARTED\n",
      "[10:47:39] JOB jobs/GO-6.3-1-LiF_P6_3mc_-3.17_011x2 STARTED\n",
      "[10:47:39] JOB jobs/GO-6.3-2-LiF_Pm-3m_-2.89_011x2 STARTED\n",
      "[10:47:39] JOB jobs/GO-6.4-0-LiF_Fm-3m_-3.18_011x3 STARTED\n",
      "[10:47:39] Job GO-6.11-0-LiF_Fm-3m_-3.18_012x4 previously run as GO-6.10-0-LiF_Fm-3m_-3.18_012x3, using old results\n",
      "[10:47:39] JOB jobs/GO-6.4-1-LiF_P6_3mc_-3.17_011x3 STARTED\n",
      "[10:47:39] Waiting for job GO-6.10-0-LiF_Fm-3m_-3.18_012x3 to finish\n",
      "[10:47:39] Job GO-6.11-1-LiF_P6_3mc_-3.17_012x4 previously run as GO-6.10-1-LiF_P6_3mc_-3.17_012x3, using old results\n",
      "[10:47:39] JOB jobs/GO-6.4-2-LiF_Pm-3m_-2.89_011x3 STARTED\n",
      "[10:47:39] Waiting for job GO-6.10-1-LiF_P6_3mc_-3.17_012x3 to finish\n",
      "[10:47:39] Job GO-6.11-2-LiF_Pm-3m_-2.89_012x4 previously run as GO-6.10-2-LiF_Pm-3m_-2.89_012x3, using old results\n",
      "[10:47:39] JOB jobs/GO-6.5-0-LiF_Fm-3m_-3.18_011x4 STARTED\n",
      "[10:47:39] Waiting for job GO-6.10-2-LiF_Pm-3m_-2.89_012x3 to finish\n",
      "[10:47:39] JOB jobs/GO-6.5-1-LiF_P6_3mc_-3.17_011x4 STARTED\n",
      "[10:47:40] JOB jobs/GO-6.5-2-LiF_Pm-3m_-2.89_011x4 STARTED\n",
      "[10:47:40] JOB jobs/GO-6.6-0-LiF_Fm-3m_-3.18_111x2 STARTED\n",
      "[10:47:40] JOB jobs/GO-6.6-1-LiF_P6_3mc_-3.17_111x2 STARTED\n",
      "[10:47:40] JOB jobs/GO-6.6-2-LiF_Pm-3m_-2.89_111x2 STARTED\n",
      "[10:47:40] JOB jobs/GO-6.7-0-LiF_Fm-3m_-3.18_111x3 STARTED\n",
      "[10:47:40] JOB jobs/GO-6.7-1-LiF_P6_3mc_-3.17_111x3 STARTED\n",
      "[10:47:40] JOB jobs/GO-6.7-2-LiF_Pm-3m_-2.89_111x3 STARTED\n",
      "[10:47:40] JOB jobs/GO-6.8-2-LiF_Pm-3m_-2.89_111x4 STARTED\n",
      "[11:41:13] Job jobs/GO-6.3-0-LiF_Fm-3m_-3.18_011x2 reported warnings. Please check the the output\n",
      "[11:41:13] JOB jobs/GO-6.3-0-LiF_Fm-3m_-3.18_011x2 SUCCESSFUL\n",
      "[11:46:18] Job jobs/GO-6.3-2-LiF_Pm-3m_-2.89_011x2 reported warnings. Please check the the output\n",
      "[11:46:18] JOB jobs/GO-6.3-2-LiF_Pm-3m_-2.89_011x2 SUCCESSFUL\n",
      "[11:51:19] Job jobs/GO-6.4-0-LiF_Fm-3m_-3.18_011x3 reported warnings. Please check the the output\n",
      "[11:51:19] JOB jobs/GO-6.4-0-LiF_Fm-3m_-3.18_011x3 SUCCESSFUL\n",
      "[11:57:21] Job jobs/GO-6.4-2-LiF_Pm-3m_-2.89_011x3 reported warnings. Please check the the output\n",
      "[11:57:21] JOB jobs/GO-6.4-2-LiF_Pm-3m_-2.89_011x3 SUCCESSFUL\n",
      "[12:04:18] Job jobs/GO-6.5-0-LiF_Fm-3m_-3.18_011x4 reported warnings. Please check the the output\n",
      "[12:04:18] JOB jobs/GO-6.5-0-LiF_Fm-3m_-3.18_011x4 SUCCESSFUL\n",
      "[12:14:05] Job jobs/GO-6.0-2-LiF_Pm-3m_-2.89_001x2 reported warnings. Please check the the output\n",
      "[12:14:05] JOB jobs/GO-6.0-2-LiF_Pm-3m_-2.89_001x2 SUCCESSFUL\n",
      "[12:20:52] Job jobs/GO-6.5-2-LiF_Pm-3m_-2.89_011x4 reported warnings. Please check the the output\n",
      "[12:20:52] JOB jobs/GO-6.5-2-LiF_Pm-3m_-2.89_011x4 SUCCESSFUL\n",
      "[12:28:42] JOB jobs/GO-6.1-1-LiF_P6_3mc_-3.17_001x3 FAILED\n",
      "[12:29:38] JOB jobs/GO-6.4-1-LiF_P6_3mc_-3.17_011x3 FAILED\n",
      "[12:44:52] JOB jobs/GO-6.10-1-LiF_P6_3mc_-3.17_012x3 FAILED\n",
      "[12:49:02] Job jobs/GO-6.6-2-LiF_Pm-3m_-2.89_111x2 reported warnings. Please check the the output\n",
      "[12:49:02] JOB jobs/GO-6.6-2-LiF_Pm-3m_-2.89_111x2 SUCCESSFUL\n"
     ]
    }
   ],
   "source": [
    "result = multi_jobs.run(\n",
    "    jobrunner=RUNNER,\n",
    "    nodes=NODES,\n",
    "    cores=CORES_PER_NODE * NODES,\n",
    "    tasks_per_node=CORES_PER_NODE,\n",
    "    cpus_per_task=CPUS_PER_CORE,\n",
    "    walltime=\"24:00:00\",\n",
    "    partition=\"standard\",\n",
    "    account=\"pr1u1751\",\n",
    "    qos=\"standard\",\n",
    ")"
   ]
  },
  {
   "attachments": {},
   "cell_type": "markdown",
   "id": "ecb08fd7-9f13-4ae8-bc4d-6e8da28ba35d",
   "metadata": {},
   "source": [
    "### Post-processing"
   ]
  },
  {
   "attachments": {},
   "cell_type": "markdown",
   "id": "a4315ee2-bb6b-4f62-bbe6-9cac79fb9626",
   "metadata": {},
   "source": [
    "Load Material Project data"
   ]
  },
  {
   "cell_type": "code",
   "execution_count": 52,
   "id": "b49abc30-1c99-465b-a012-01859d286e67",
   "metadata": {},
   "outputs": [],
   "source": [
    "dir_jobs = os.path.join(RUN_DIR, \"jobs\")\n",
    "\n",
    "cis_dir = os.path.join(MAIN_DIR_JNB1, CHEM_FORMULA, \"6.1-slabs_PO\")\n",
    "data_path = os.path.join(cis_dir, \"info.json\")\n",
    "results_df = pd.read_json(data_path)"
   ]
  },
  {
   "cell_type": "code",
   "execution_count": 53,
   "id": "d94271a0-6f17-4696-8803-949b9ae4fe01",
   "metadata": {},
   "outputs": [
    {
     "data": {
      "text/html": [
       "<div>\n",
       "<style scoped>\n",
       "    .dataframe tbody tr th:only-of-type {\n",
       "        vertical-align: middle;\n",
       "    }\n",
       "\n",
       "    .dataframe tbody tr th {\n",
       "        vertical-align: top;\n",
       "    }\n",
       "\n",
       "    .dataframe thead th {\n",
       "        text-align: right;\n",
       "    }\n",
       "</style>\n",
       "<table border=\"1\" class=\"dataframe\">\n",
       "  <thead>\n",
       "    <tr style=\"text-align: right;\">\n",
       "      <th></th>\n",
       "      <th>millers</th>\n",
       "      <th>slabs</th>\n",
       "      <th>millers_str</th>\n",
       "      <th>scm_PO_energy</th>\n",
       "      <th>scm_PO_energy_per_atom</th>\n",
       "      <th>system_id</th>\n",
       "    </tr>\n",
       "  </thead>\n",
       "  <tbody>\n",
       "    <tr>\n",
       "      <th>6.0-0-LiF_Fm-3m_-3.18_001x2.cif</th>\n",
       "      <td>[0, 0, 1]</td>\n",
       "      <td>2</td>\n",
       "      <td>[0, 0, 1]</td>\n",
       "      <td>-52.869952</td>\n",
       "      <td>-3.304372</td>\n",
       "      <td>0.0</td>\n",
       "    </tr>\n",
       "    <tr>\n",
       "      <th>6.1-0-LiF_Fm-3m_-3.18_001x3.cif</th>\n",
       "      <td>[0, 0, 1]</td>\n",
       "      <td>3</td>\n",
       "      <td>[0, 0, 1]</td>\n",
       "      <td>-79.203034</td>\n",
       "      <td>-3.300126</td>\n",
       "      <td>0.0</td>\n",
       "    </tr>\n",
       "    <tr>\n",
       "      <th>6.2-0-LiF_Fm-3m_-3.18_001x4.cif</th>\n",
       "      <td>[0, 0, 1]</td>\n",
       "      <td>4</td>\n",
       "      <td>[0, 0, 1]</td>\n",
       "      <td>-108.190278</td>\n",
       "      <td>-3.380946</td>\n",
       "      <td>0.0</td>\n",
       "    </tr>\n",
       "    <tr>\n",
       "      <th>6.3-0-LiF_Fm-3m_-3.18_011x2.cif</th>\n",
       "      <td>[0, 1, 1]</td>\n",
       "      <td>2</td>\n",
       "      <td>[0, 1, 1]</td>\n",
       "      <td>-57.632127</td>\n",
       "      <td>-3.602008</td>\n",
       "      <td>0.0</td>\n",
       "    </tr>\n",
       "    <tr>\n",
       "      <th>6.4-0-LiF_Fm-3m_-3.18_011x3.cif</th>\n",
       "      <td>[0, 1, 1]</td>\n",
       "      <td>3</td>\n",
       "      <td>[0, 1, 1]</td>\n",
       "      <td>-87.752700</td>\n",
       "      <td>-3.656362</td>\n",
       "      <td>0.0</td>\n",
       "    </tr>\n",
       "  </tbody>\n",
       "</table>\n",
       "</div>"
      ],
      "text/plain": [
       "                                   millers  slabs millers_str  scm_PO_energy  \\\n",
       "6.0-0-LiF_Fm-3m_-3.18_001x2.cif  [0, 0, 1]      2   [0, 0, 1]     -52.869952   \n",
       "6.1-0-LiF_Fm-3m_-3.18_001x3.cif  [0, 0, 1]      3   [0, 0, 1]     -79.203034   \n",
       "6.2-0-LiF_Fm-3m_-3.18_001x4.cif  [0, 0, 1]      4   [0, 0, 1]    -108.190278   \n",
       "6.3-0-LiF_Fm-3m_-3.18_011x2.cif  [0, 1, 1]      2   [0, 1, 1]     -57.632127   \n",
       "6.4-0-LiF_Fm-3m_-3.18_011x3.cif  [0, 1, 1]      3   [0, 1, 1]     -87.752700   \n",
       "\n",
       "                                 scm_PO_energy_per_atom  system_id  \n",
       "6.0-0-LiF_Fm-3m_-3.18_001x2.cif               -3.304372        0.0  \n",
       "6.1-0-LiF_Fm-3m_-3.18_001x3.cif               -3.300126        0.0  \n",
       "6.2-0-LiF_Fm-3m_-3.18_001x4.cif               -3.380946        0.0  \n",
       "6.3-0-LiF_Fm-3m_-3.18_011x2.cif               -3.602008        0.0  \n",
       "6.4-0-LiF_Fm-3m_-3.18_011x3.cif               -3.656362        0.0  "
      ]
     },
     "execution_count": 53,
     "metadata": {},
     "output_type": "execute_result"
    }
   ],
   "source": [
    "results_df.head()"
   ]
  },
  {
   "cell_type": "code",
   "execution_count": 54,
   "id": "0ef74f8c-8e63-4c5b-8b09-c9157da80268",
   "metadata": {},
   "outputs": [
    {
     "name": "stdout",
     "output_type": "stream",
     "text": [
      "Simulation step02-sim/LiF/6-Slabs_GO/jobs/GO-6.1-1-LiF_P6_3mc_-3.17_001x3 FAILED\n"
     ]
    },
    {
     "name": "stdout",
     "output_type": "stream",
     "text": [
      "Simulation step02-sim/LiF/6-Slabs_GO/jobs/GO-6.11-1-LiF_P6_3mc_-3.17_012x4 FAILED\n",
      "Simulation step02-sim/LiF/6-Slabs_GO/jobs/GO-6.5-1-LiF_P6_3mc_-3.17_011x4 FAILED\n",
      "Simulation step02-sim/LiF/6-Slabs_GO/jobs/GO-6.4-1-LiF_P6_3mc_-3.17_011x3 FAILED\n",
      "Simulation step02-sim/LiF/6-Slabs_GO/jobs/GO-6.7-1-LiF_P6_3mc_-3.17_111x3 FAILED\n",
      "Simulation step02-sim/LiF/6-Slabs_GO/jobs/GO-6.11-2-LiF_Pm-3m_-2.89_012x4 FAILED\n",
      "Simulation step02-sim/LiF/6-Slabs_GO/jobs/GO-6.10-1-LiF_P6_3mc_-3.17_012x3 FAILED\n",
      "Simulation step02-sim/LiF/6-Slabs_GO/jobs/GO-6.11-0-LiF_Fm-3m_-3.18_012x4 FAILED\n",
      "Simulation step02-sim/LiF/6-Slabs_GO/jobs/GO-6.7-0-LiF_Fm-3m_-3.18_111x3 FAILED\n"
     ]
    }
   ],
   "source": [
    "for job_dir in glob.glob(os.path.join(dir_jobs, \"*\")):\n",
    "    sim_name = job_dir.split(os.sep)[-1]\n",
    "    job = scm.AMSJob.load_external(job_dir, settings=settings_6_GO)\n",
    "    # check\n",
    "    if not job.check():\n",
    "        print(f\"Simulation {job_dir} FAILED\")\n",
    "        continue\n",
    "    job_result = job.results\n",
    "    energy = scm.Units.convert(job_result.get_energy(), \"au\", \"eV\")\n",
    "    results_df.loc[sim_name[3:] + \".cif\", \"scm_energy\"] = energy\n",
    "    Na = len(job_result.get_molecule(\"Molecule\").atoms)\n",
    "    energy_per_atom = energy / Na\n",
    "    results_df.loc[sim_name[3:] + \".cif\", \"scm_energy_per_atom\"] = energy_per_atom\n",
    "    results_df.loc[sim_name[3:] + \".cif\", \"system_id\"] = int(sim_name.split(\"-\")[2])\n",
    "\n",
    "results_df.to_json(os.path.join(RUN_DIR, f\"results.json\"))"
   ]
  },
  {
   "cell_type": "code",
   "execution_count": 55,
   "id": "a0ccaf03",
   "metadata": {},
   "outputs": [
    {
     "data": {
      "text/html": [
       "<div>\n",
       "<style scoped>\n",
       "    .dataframe tbody tr th:only-of-type {\n",
       "        vertical-align: middle;\n",
       "    }\n",
       "\n",
       "    .dataframe tbody tr th {\n",
       "        vertical-align: top;\n",
       "    }\n",
       "\n",
       "    .dataframe thead th {\n",
       "        text-align: right;\n",
       "    }\n",
       "</style>\n",
       "<table border=\"1\" class=\"dataframe\">\n",
       "  <thead>\n",
       "    <tr style=\"text-align: right;\">\n",
       "      <th></th>\n",
       "      <th>millers</th>\n",
       "      <th>slabs</th>\n",
       "      <th>millers_str</th>\n",
       "      <th>scm_PO_energy</th>\n",
       "      <th>scm_PO_energy_per_atom</th>\n",
       "      <th>system_id</th>\n",
       "      <th>scm_energy</th>\n",
       "      <th>scm_energy_per_atom</th>\n",
       "    </tr>\n",
       "  </thead>\n",
       "  <tbody>\n",
       "    <tr>\n",
       "      <th>6.0-0-LiF_Fm-3m_-3.18_001x2.cif</th>\n",
       "      <td>[0, 0, 1]</td>\n",
       "      <td>2</td>\n",
       "      <td>[0, 0, 1]</td>\n",
       "      <td>-52.869952</td>\n",
       "      <td>-3.304372</td>\n",
       "      <td>0.0</td>\n",
       "      <td>-67.675824</td>\n",
       "      <td>-4.229739</td>\n",
       "    </tr>\n",
       "    <tr>\n",
       "      <th>6.1-0-LiF_Fm-3m_-3.18_001x3.cif</th>\n",
       "      <td>[0, 0, 1]</td>\n",
       "      <td>3</td>\n",
       "      <td>[0, 0, 1]</td>\n",
       "      <td>-79.203034</td>\n",
       "      <td>-3.300126</td>\n",
       "      <td>0.0</td>\n",
       "      <td>-100.444650</td>\n",
       "      <td>-4.185194</td>\n",
       "    </tr>\n",
       "    <tr>\n",
       "      <th>6.2-0-LiF_Fm-3m_-3.18_001x4.cif</th>\n",
       "      <td>[0, 0, 1]</td>\n",
       "      <td>4</td>\n",
       "      <td>[0, 0, 1]</td>\n",
       "      <td>-108.190278</td>\n",
       "      <td>-3.380946</td>\n",
       "      <td>0.0</td>\n",
       "      <td>-140.808647</td>\n",
       "      <td>-4.400270</td>\n",
       "    </tr>\n",
       "    <tr>\n",
       "      <th>6.3-0-LiF_Fm-3m_-3.18_011x2.cif</th>\n",
       "      <td>[0, 1, 1]</td>\n",
       "      <td>2</td>\n",
       "      <td>[0, 1, 1]</td>\n",
       "      <td>-57.632127</td>\n",
       "      <td>-3.602008</td>\n",
       "      <td>0.0</td>\n",
       "      <td>-75.675830</td>\n",
       "      <td>-4.729739</td>\n",
       "    </tr>\n",
       "    <tr>\n",
       "      <th>6.4-0-LiF_Fm-3m_-3.18_011x3.cif</th>\n",
       "      <td>[0, 1, 1]</td>\n",
       "      <td>3</td>\n",
       "      <td>[0, 1, 1]</td>\n",
       "      <td>-87.752700</td>\n",
       "      <td>-3.656362</td>\n",
       "      <td>0.0</td>\n",
       "      <td>-114.351394</td>\n",
       "      <td>-4.764641</td>\n",
       "    </tr>\n",
       "  </tbody>\n",
       "</table>\n",
       "</div>"
      ],
      "text/plain": [
       "                                   millers  slabs millers_str  scm_PO_energy  \\\n",
       "6.0-0-LiF_Fm-3m_-3.18_001x2.cif  [0, 0, 1]      2   [0, 0, 1]     -52.869952   \n",
       "6.1-0-LiF_Fm-3m_-3.18_001x3.cif  [0, 0, 1]      3   [0, 0, 1]     -79.203034   \n",
       "6.2-0-LiF_Fm-3m_-3.18_001x4.cif  [0, 0, 1]      4   [0, 0, 1]    -108.190278   \n",
       "6.3-0-LiF_Fm-3m_-3.18_011x2.cif  [0, 1, 1]      2   [0, 1, 1]     -57.632127   \n",
       "6.4-0-LiF_Fm-3m_-3.18_011x3.cif  [0, 1, 1]      3   [0, 1, 1]     -87.752700   \n",
       "\n",
       "                                 scm_PO_energy_per_atom  system_id  \\\n",
       "6.0-0-LiF_Fm-3m_-3.18_001x2.cif               -3.304372        0.0   \n",
       "6.1-0-LiF_Fm-3m_-3.18_001x3.cif               -3.300126        0.0   \n",
       "6.2-0-LiF_Fm-3m_-3.18_001x4.cif               -3.380946        0.0   \n",
       "6.3-0-LiF_Fm-3m_-3.18_011x2.cif               -3.602008        0.0   \n",
       "6.4-0-LiF_Fm-3m_-3.18_011x3.cif               -3.656362        0.0   \n",
       "\n",
       "                                 scm_energy  scm_energy_per_atom  \n",
       "6.0-0-LiF_Fm-3m_-3.18_001x2.cif  -67.675824            -4.229739  \n",
       "6.1-0-LiF_Fm-3m_-3.18_001x3.cif -100.444650            -4.185194  \n",
       "6.2-0-LiF_Fm-3m_-3.18_001x4.cif -140.808647            -4.400270  \n",
       "6.3-0-LiF_Fm-3m_-3.18_011x2.cif  -75.675830            -4.729739  \n",
       "6.4-0-LiF_Fm-3m_-3.18_011x3.cif -114.351394            -4.764641  "
      ]
     },
     "execution_count": 55,
     "metadata": {},
     "output_type": "execute_result"
    }
   ],
   "source": [
    "results_df.head()"
   ]
  },
  {
   "cell_type": "code",
   "execution_count": 56,
   "id": "a2d19f6b",
   "metadata": {},
   "outputs": [
    {
     "name": "stderr",
     "output_type": "stream",
     "text": [
      "/tmp/ipykernel_1662169/3962507603.py:6: MatplotlibDeprecationWarning: The get_cmap function was deprecated in Matplotlib 3.7 and will be removed two minor releases later. Use ``matplotlib.colormaps[name]`` or ``matplotlib.colormaps.get_cmap(obj)`` instead.\n",
      "  Set2 = mp.cm.get_cmap(\"Set2\", 8)\n"
     ]
    },
    {
     "data": {
      "image/png": "[encoded data removed]",
      "text/plain": [
       "<Figure size 500x350 with 4 Axes>"
      ]
     },
     "metadata": {},
     "output_type": "display_data"
    }
   ],
   "source": [
    "fig = plt.figure(figsize=[5, 3.5], dpi=100)\n",
    "\n",
    "with plt.style.context(\"./articles_seaborn.mplstyle\"):\n",
    "    ax = {}\n",
    "    slabs_millers = results_df[\"millers_str\"].unique()\n",
    "    Set2 = mp.cm.get_cmap(\"Set2\", 8)\n",
    "    spec = fig.add_gridspec(\n",
    "        len(slabs_millers) // 2 + len(slabs_millers) % 2, min([len(slabs_millers), 2]), hspace=0.7, wspace=0.25\n",
    "    )\n",
    "    for i, millers in enumerate(slabs_millers):\n",
    "        ax[i] = fig.add_subplot(spec[i])\n",
    "        sub_df = results_df.loc[results_df[\"millers_str\"] == millers]\n",
    "        systems_id = results_df[\"system_id\"].unique()\n",
    "        xticks = 1 / sub_df[\"slabs\"].unique()\n",
    "        xticks_labels = [f\"$\\\\frac{{1}}{{{ns}}}$\" for ns in sub_df[\"slabs\"].unique()]\n",
    "        ax[i].set_xticks(xticks)\n",
    "        ax[i].set_xticklabels(xticks_labels, rotation=0, ha=\"center\")\n",
    "        ax[i].set_title(millers)\n",
    "        for sys_id in systems_id:\n",
    "            sub_df\n",
    "            idx = np.arange(len(results_df.index))\n",
    "            sub_sub_df = sub_df.loc[sub_df[\"system_id\"] == sys_id]\n",
    "            if not len(sub_sub_df.index) > 0:\n",
    "                # print(sub_sub_df.head())\n",
    "                continue\n",
    "            name = sub_sub_df.index[0].split(\"-\")[2]\n",
    "            # print(1/sub_sub_df['slabs'], sub_sub_df['scm_PO_energy_per_atom'])\n",
    "            ax[i].scatter(\n",
    "                1 / sub_sub_df[\"slabs\"],\n",
    "                sub_sub_df[\"scm_energy_per_atom\"],\n",
    "                color=Set2.colors[int(sys_id)],\n",
    "                label=name,\n",
    "            )\n",
    "\n",
    "            # ax[i].set_xticks(idx)\n",
    "            # ax[i].set_xticklabels(results_df.index, rotation=25, ha='right')\n",
    "        # ax[i].set_ylim([-5.2, -3.8])\n",
    "    #     ax[i].set_ylim([-5, -3.8])\n",
    "    ax[3 - 2].legend(loc=\"center left\", bbox_to_anchor=(1.02, -0.3))\n",
    "    for i in range(0, len(ax), 2):\n",
    "        ax[i].set_ylabel(\"Energy per atoms [eV]\")\n",
    "    for i in range(len(ax) - 2, len(ax), 1):\n",
    "        ax[i].set_xlabel(r\"$1 /(\\mathrm{\\#\\, slabs})$ [-]\")\n",
    "plt.show()\n",
    "fig.savefig(os.path.join(\"plots\", f\"6-{CHEM_FORMULA}_{TASK}_sim_energy.pdf\"), dpi=300, bbox_inches=\"tight\")"
   ]
  },
  {
   "attachments": {},
   "cell_type": "markdown",
   "id": "27f388c7-cc50-43de-b102-7d07585d599a",
   "metadata": {},
   "source": [
    "#### Finishing "
   ]
  },
  {
   "cell_type": "code",
   "execution_count": 13,
   "id": "624904bc-752c-4651-9042-827a7a4234d7",
   "metadata": {},
   "outputs": [],
   "source": [
    "scm.finish()"
   ]
  },
  {
   "attachments": {},
   "cell_type": "markdown",
   "id": "f9f04ad6-9cb7-4752-a471-0aa57c05f62e",
   "metadata": {
    "tags": []
   },
   "source": [
    "## Amorphous `ab initio MD`"
   ]
  },
  {
   "cell_type": "code",
   "execution_count": 6,
   "id": "3be55930-3f8e-422a-9c74-3b2dadf40a66",
   "metadata": {},
   "outputs": [],
   "source": [
    "SIMsNAME = \"7-Amorphous_MD\"\n",
    "TASK = \"MD\"\n",
    "RUN_DIR = os.path.join(MAIN_DIR_JNB2, CHEM_FORMULA, SIMsNAME)"
   ]
  },
  {
   "attachments": {},
   "cell_type": "markdown",
   "id": "a3a86d56-bbf8-47f6-9e79-8cc6769f2658",
   "metadata": {},
   "source": [
    "#### Setting `DFTB` *ab initio MD*"
   ]
  },
  {
   "attachments": {},
   "cell_type": "markdown",
   "id": "c0309503",
   "metadata": {},
   "source": [
    "MD settings"
   ]
  },
  {
   "cell_type": "code",
   "execution_count": 5,
   "id": "2f005185-510f-4aab-92c9-a2380570b291",
   "metadata": {},
   "outputs": [
    {
     "name": "stdout",
     "output_type": "stream",
     "text": [
      "input: \t\n",
      "      ams: \t\n",
      "          task: \tMolecularDynamics\n",
      "          MolecularDynamics: \t\n",
      "                            NSteps: \t1000\n",
      "                            TimeStep: \t0.25\n",
      "                            Trajectory: \t\n",
      "                                       PrintFreq: \t5\n",
      "                                       SamplingFreq: \t50\n",
      "                            InitialVelocities: \t\n",
      "                                              Temperature: \t2500\n",
      "                            Thermostat: \t\n",
      "                                       Type: \tBerendsen\n",
      "                                       Temperature: \t2500\n",
      "                                       Tau: \t25\n",
      "      DFTB: \t\n",
      "           Model: \tNonSCC-GFN1-xTB\n",
      "\n"
     ]
    }
   ],
   "source": [
    "STEPS = 1000\n",
    "TIMESTEP = 0.25  # [fs]\n",
    "TEMP = 2500  # [K]\n",
    "\n",
    "from tools.misc.default_settings import settings_MD\n",
    "\n",
    "settings_MD.input.ams.MolecularDynamics.NSteps = STEPS\n",
    "settings_MD.input.ams.MolecularDynamics.TimeStep = TIMESTEP\n",
    "settings_MD.input.ams.MolecularDynamics.InitialVelocities.Temperature = TEMP\n",
    "settings_MD.input.ams.MolecularDynamics.Thermostat.Temperature = TEMP\n",
    "settings_MD.input.ams.MolecularDynamics.Thermostat.Tau = int(100 * TIMESTEP)\n",
    "\n",
    "print(settings_MD)"
   ]
  },
  {
   "attachments": {},
   "cell_type": "markdown",
   "id": "a8b5625d-82aa-4ef6-9035-624715ce33a4",
   "metadata": {
    "tags": []
   },
   "source": [
    "#### Set-up `RUNNER`"
   ]
  },
  {
   "cell_type": "code",
   "execution_count": 7,
   "id": "bbc2e006-675f-4f8e-b56c-c51d46a5e516",
   "metadata": {},
   "outputs": [],
   "source": [
    "NODES = 1\n",
    "CORES_PER_NODE = 128\n",
    "CPUS_PER_CORE = 2\n",
    "MAX_JOBS = 0"
   ]
  },
  {
   "cell_type": "code",
   "execution_count": null,
   "id": "2ed95b37-5d84-4f57-8303-23bfb5dc4102",
   "metadata": {},
   "outputs": [],
   "source": [
    "scm.init(folder=RUN_DIR)\n",
    "RUNNER = scm.GridRunner(grid=\"slurm\", sleepstep=5, parallel=True, maxjobs=MAX_JOBS)\n",
    "RUNNER.settings.workdir = \"-D\"\n",
    "RUNNER.settings.special.nodes = \"--nodes=\"\n",
    "RUNNER.settings.special.qos = \"--qos=\"\n",
    "RUNNER.settings.special.walltime = \"--time=\"\n",
    "RUNNER.settings.special.tasks_per_node = \"--ntasks-per-node=\"\n",
    "RUNNER.settings.special.cpus_per_task = \"--cpus-per-task=\"\n",
    "RUNNER.settings.special.partition = \"--partition=\"\n",
    "RUNNER.settings.special.account = \"--account=\"\n",
    "RUNNER.settings.special.job_name = \"--job-name=\"\n",
    "\n",
    "scm.config.log.file = 7  # debug\n",
    "scm.config.log.stdout = 1  # 1: important 3: normal 5: verbose 7: debug\n",
    "scm.config.job.pickle = False\n",
    "scm.config.job.runscript.nproc = CORES_PER_NODE\n",
    "scm.config.job.runscript.shebang = \"#!/bin/bash\"\n",
    "scm.config.default_jobrunner = RUNNER"
   ]
  },
  {
   "cell_type": "code",
   "execution_count": 8,
   "id": "a607dec7-584e-4c20-9b8a-b6f5e3a9d2ff",
   "metadata": {},
   "outputs": [],
   "source": [
    "settings_pkl_file = os.path.join(RUN_DIR, \"settings.pkl\")\n",
    "with open(settings_pkl_file, \"wb\") as file:\n",
    "    pickle.dump(settings_MD, file)"
   ]
  },
  {
   "attachments": {},
   "cell_type": "markdown",
   "id": "d86a2cf0-6a17-4468-aaf8-7e1c89a97c4f",
   "metadata": {},
   "source": [
    "#### Set-up JOBS"
   ]
  },
  {
   "attachments": {},
   "cell_type": "markdown",
   "id": "dfd507a9-1e51-40e5-9c66-144334eb4f28",
   "metadata": {},
   "source": [
    "Load systems"
   ]
  },
  {
   "cell_type": "code",
   "execution_count": 9,
   "id": "5a1736f4-e6c7-4861-83e7-e05117692e2c",
   "metadata": {},
   "outputs": [
    {
     "name": "stderr",
     "output_type": "stream",
     "text": [
      "/home/paolo/Enhancing_ReaxFF/venv/lib/python3.8/site-packages/pymatgen/io/cif.py:1134: UserWarning: Issues encountered while parsing CIF: Some fractional coordinates rounded to ideal values to avoid issues with finite precision.\n",
      "  warnings.warn(\"Issues encountered while parsing CIF: \" + \"\\n\".join(self.warnings))\n"
     ]
    }
   ],
   "source": [
    "cis_dir = os.path.join(MAIN_DIR_JNB1, CHEM_FORMULA, \"7-amorphous\")\n",
    "systems = []\n",
    "\n",
    "for path in np.sort(glob.glob(os.path.join(cis_dir, \"*.cif\"))):\n",
    "    system_name = path.split(os.sep)[-1].split(\".cif\")[0]\n",
    "    system_mat = Structure.from_file(path)\n",
    "    system_ase = matget2ase.get_atoms(system_mat)\n",
    "    systems.append((system_name, fromASE(system_ase)))"
   ]
  },
  {
   "attachments": {},
   "cell_type": "markdown",
   "id": "dc318467-a5f5-4ed3-aba5-d9aecf00b39e",
   "metadata": {},
   "source": [
    "Define jobs"
   ]
  },
  {
   "cell_type": "code",
   "execution_count": 11,
   "id": "668faa77-49fa-487f-a811-159fc86071d4",
   "metadata": {},
   "outputs": [],
   "source": [
    "jobs = []\n",
    "for name, system_obj in systems:\n",
    "    sim_name = f\"{TASK}-{name}\"\n",
    "    job = scm.AMSJob(molecule=system_obj, settings=settings_MD, name=sim_name)\n",
    "    job.settings.runscript.pre = \"\"\"module use --append /work/pr1u1751/pr1u1751/shared/modules\n",
    "module load ams/2022.102\"\"\"\n",
    "    jobs.append(job)\n",
    "# Group all\n",
    "multi_jobs = scm.MultiJob(name=\"jobs\", children=jobs)"
   ]
  },
  {
   "attachments": {},
   "cell_type": "markdown",
   "id": "6febd41a-984f-4028-84fc-9920cf28c07f",
   "metadata": {},
   "source": [
    "#### Run All"
   ]
  },
  {
   "cell_type": "code",
   "execution_count": null,
   "id": "c55f2b61-2c2b-4dc8-846f-542c92164a20",
   "metadata": {},
   "outputs": [
    {
     "name": "stdout",
     "output_type": "stream",
     "text": [
      "[12:36:49] JOB jobs STARTED\n",
      "[12:36:49] JOB jobs/MD-11.0-0-LiF_Fm-3m_-3.18_2x2x3 STARTED\n",
      "[12:36:49] JOB jobs/MD-11.0-1-LiF_P6_3mc_-3.17_2x2x3 STARTED\n",
      "[12:36:49] JOB jobs/MD-11.0-2-LiF_Pm-3m_-2.89_2x2x3 STARTED\n"
     ]
    }
   ],
   "source": [
    "result = multi_jobs.run(\n",
    "    jobrunner=RUNNER,\n",
    "    nodes=NODES,\n",
    "    cores=CORES_PER_NODE * NODES,\n",
    "    tasks_per_node=CORES_PER_NODE,\n",
    "    cpus_per_task=CPUS_PER_CORE,\n",
    "    walltime=\"24:00:00\",\n",
    "    partition=\"standard\",\n",
    "    account=\"pr1u1751\",\n",
    "    qos=\"standard\",\n",
    ")"
   ]
  },
  {
   "attachments": {},
   "cell_type": "markdown",
   "id": "bfdc5e64-347f-4378-8b0f-f0058403e399",
   "metadata": {},
   "source": [
    "#### Post-processing"
   ]
  },
  {
   "attachments": {},
   "cell_type": "markdown",
   "id": "72d5228b-f43d-4d27-935f-3f9767a631ec",
   "metadata": {},
   "source": [
    "Post Processing"
   ]
  },
  {
   "attachments": {},
   "cell_type": "markdown",
   "id": "ded8d51f-f22b-4b21-84cc-68568276ba76",
   "metadata": {},
   "source": [
    "Load Material Project data"
   ]
  },
  {
   "cell_type": "code",
   "execution_count": 14,
   "id": "38303c61-f11f-4930-a072-5909f0cee2d8",
   "metadata": {},
   "outputs": [],
   "source": [
    "dir_jobs = os.path.join(RUN_DIR, \"jobs\")\n",
    "\n",
    "cis_dir = os.path.join(MAIN_DIR_JNB1, CHEM_FORMULA, \"7-amorphous\")\n",
    "data_path = os.path.join(cis_dir, \"info.json\")\n",
    "results_df = pd.read_json(data_path)"
   ]
  },
  {
   "cell_type": "code",
   "execution_count": 15,
   "id": "b79f3694-27b0-41ab-9742-5d9d0088aa3c",
   "metadata": {},
   "outputs": [
    {
     "data": {
      "text/html": [
       "<div>\n",
       "<style scoped>\n",
       "    .dataframe tbody tr th:only-of-type {\n",
       "        vertical-align: middle;\n",
       "    }\n",
       "\n",
       "    .dataframe tbody tr th {\n",
       "        vertical-align: top;\n",
       "    }\n",
       "\n",
       "    .dataframe thead th {\n",
       "        text-align: right;\n",
       "    }\n",
       "</style>\n",
       "<table border=\"1\" class=\"dataframe\">\n",
       "  <thead>\n",
       "    <tr style=\"text-align: right;\">\n",
       "      <th></th>\n",
       "      <th>unitcell_repetition</th>\n",
       "    </tr>\n",
       "  </thead>\n",
       "  <tbody>\n",
       "    <tr>\n",
       "      <th>7.0-0-LiF_Fm-3m_-3.18_3x3x3.cif</th>\n",
       "      <td>27</td>\n",
       "    </tr>\n",
       "    <tr>\n",
       "      <th>7.0-1-LiF_P6_3mc_-3.17_3x3x3.cif</th>\n",
       "      <td>27</td>\n",
       "    </tr>\n",
       "    <tr>\n",
       "      <th>7.0-2-LiF_Pm-3m_-2.89_3x3x3.cif</th>\n",
       "      <td>27</td>\n",
       "    </tr>\n",
       "  </tbody>\n",
       "</table>\n",
       "</div>"
      ],
      "text/plain": [
       "                                  unitcell_repetition\n",
       "7.0-0-LiF_Fm-3m_-3.18_3x3x3.cif                    27\n",
       "7.0-1-LiF_P6_3mc_-3.17_3x3x3.cif                   27\n",
       "7.0-2-LiF_Pm-3m_-2.89_3x3x3.cif                    27"
      ]
     },
     "execution_count": 15,
     "metadata": {},
     "output_type": "execute_result"
    }
   ],
   "source": [
    "results_df"
   ]
  },
  {
   "cell_type": "code",
   "execution_count": 16,
   "id": "0328c68b-f5b6-4649-a7ef-faef458a1743",
   "metadata": {},
   "outputs": [],
   "source": [
    "temp_df = pd.DataFrame(index=results_df.index, columns=[\"scm_step\", \"scm_Temp\", \"scm_energy_per_atom_t\"])\n",
    "\n",
    "for job_dir in glob.glob(os.path.join(dir_jobs, \"*\")):\n",
    "    sim_name = job_dir.split(os.sep)[-1]\n",
    "    job = scm.AMSJob.load_external(job_dir, settings=settings_MD)\n",
    "    # check\n",
    "    if not job.check():\n",
    "        print(f\"Simulation {job_dir} FAILED\")\n",
    "        continue\n",
    "    job_result = job.results\n",
    "    Nentry = job_result.read_rkf_section(\"History\")[\"nEntries\"]\n",
    "    energy = scm.Units.convert(\n",
    "        job_result.read_rkf_section(\"History\")[f\"Energy({Nentry})\"], \"au\", \"eV\"\n",
    "    )  # scm.Units.convert(job_result.get_energy(), 'au', 'eV')\n",
    "    results_df.loc[sim_name[3:] + \".cif\", \"scm_energy\"] = energy\n",
    "    Na = len(job_result.get_molecule(\"Molecule\").atoms)\n",
    "    energy_per_atom = energy / Na\n",
    "    results_df.loc[sim_name[3:] + \".cif\", \"scm_energy_per_atom\"] = energy_per_atom\n",
    "    results_df.loc[sim_name[3:] + \".cif\", \"system_id\"] = int(sim_name.split(\"-\")[2])\n",
    "    temp_df.at[sim_name[3:] + \".cif\", \"scm_step\"] = np.array(job_result.get_history_property(\"Step\"))\n",
    "    temp_df.at[sim_name[3:] + \".cif\", \"scm_Temp\"] = np.array(job_result.read_rkf_section(\"MDHistory\")[\"Temperature(1)\"])\n",
    "    temp_df.at[sim_name[3:] + \".cif\", \"scm_energy_per_atom_t\"] = (\n",
    "        np.array(job_result.get_history_property(\"Energy\")) / Na\n",
    "    )\n",
    "\n",
    "results_df = pd.concat([results_df, temp_df], axis=1)\n",
    "results_df.to_json(os.path.join(RUN_DIR, f\"results.json\"))"
   ]
  },
  {
   "cell_type": "code",
   "execution_count": 17,
   "id": "0b281bdd-8f82-4b33-ac92-938ab82b6672",
   "metadata": {},
   "outputs": [
    {
     "data": {
      "text/html": [
       "<div>\n",
       "<style scoped>\n",
       "    .dataframe tbody tr th:only-of-type {\n",
       "        vertical-align: middle;\n",
       "    }\n",
       "\n",
       "    .dataframe tbody tr th {\n",
       "        vertical-align: top;\n",
       "    }\n",
       "\n",
       "    .dataframe thead th {\n",
       "        text-align: right;\n",
       "    }\n",
       "</style>\n",
       "<table border=\"1\" class=\"dataframe\">\n",
       "  <thead>\n",
       "    <tr style=\"text-align: right;\">\n",
       "      <th></th>\n",
       "      <th>unitcell_repetition</th>\n",
       "      <th>scm_energy</th>\n",
       "      <th>scm_energy_per_atom</th>\n",
       "      <th>system_id</th>\n",
       "      <th>scm_step</th>\n",
       "      <th>scm_Temp</th>\n",
       "      <th>scm_energy_per_atom_t</th>\n",
       "    </tr>\n",
       "  </thead>\n",
       "  <tbody>\n",
       "    <tr>\n",
       "      <th>7.0-0-LiF_Fm-3m_-3.18_3x3x3.cif</th>\n",
       "      <td>27</td>\n",
       "      <td>-4163.214306</td>\n",
       "      <td>-77.096561</td>\n",
       "      <td>0.0</td>\n",
       "      <td>[0, 50, 100, 150, 200, 250, 300, 350, 400, 450...</td>\n",
       "      <td>[2600.0, 2227.472837617847, 1746.6540792818357...</td>\n",
       "      <td>[-2.844426643130874, -2.842366090997381, -2.83...</td>\n",
       "    </tr>\n",
       "    <tr>\n",
       "      <th>7.0-1-LiF_P6_3mc_-3.17_3x3x3.cif</th>\n",
       "      <td>27</td>\n",
       "      <td>-8318.727662</td>\n",
       "      <td>-77.025256</td>\n",
       "      <td>1.0</td>\n",
       "      <td>[0, 50, 100, 150, 200, 250, 300, 350, 400, 450...</td>\n",
       "      <td>[2600.0, 2201.8829583416705, 2011.420067554859...</td>\n",
       "      <td>[-2.8400756492875705, -2.837850360580547, -2.8...</td>\n",
       "    </tr>\n",
       "    <tr>\n",
       "      <th>7.0-2-LiF_Pm-3m_-2.89_3x3x3.cif</th>\n",
       "      <td>27</td>\n",
       "      <td>-4162.027782</td>\n",
       "      <td>-77.074589</td>\n",
       "      <td>2.0</td>\n",
       "      <td>[0, 50, 100, 150, 200, 250, 300, 350, 400, 450...</td>\n",
       "      <td>[2599.9999999999995, 2307.5056676702957, 1673....</td>\n",
       "      <td>[-2.8410294274160868, -2.8393977166355455, -2....</td>\n",
       "    </tr>\n",
       "  </tbody>\n",
       "</table>\n",
       "</div>"
      ],
      "text/plain": [
       "                                  unitcell_repetition   scm_energy  \\\n",
       "7.0-0-LiF_Fm-3m_-3.18_3x3x3.cif                    27 -4163.214306   \n",
       "7.0-1-LiF_P6_3mc_-3.17_3x3x3.cif                   27 -8318.727662   \n",
       "7.0-2-LiF_Pm-3m_-2.89_3x3x3.cif                    27 -4162.027782   \n",
       "\n",
       "                                  scm_energy_per_atom  system_id  \\\n",
       "7.0-0-LiF_Fm-3m_-3.18_3x3x3.cif            -77.096561        0.0   \n",
       "7.0-1-LiF_P6_3mc_-3.17_3x3x3.cif           -77.025256        1.0   \n",
       "7.0-2-LiF_Pm-3m_-2.89_3x3x3.cif            -77.074589        2.0   \n",
       "\n",
       "                                                                           scm_step  \\\n",
       "7.0-0-LiF_Fm-3m_-3.18_3x3x3.cif   [0, 50, 100, 150, 200, 250, 300, 350, 400, 450...   \n",
       "7.0-1-LiF_P6_3mc_-3.17_3x3x3.cif  [0, 50, 100, 150, 200, 250, 300, 350, 400, 450...   \n",
       "7.0-2-LiF_Pm-3m_-2.89_3x3x3.cif   [0, 50, 100, 150, 200, 250, 300, 350, 400, 450...   \n",
       "\n",
       "                                                                           scm_Temp  \\\n",
       "7.0-0-LiF_Fm-3m_-3.18_3x3x3.cif   [2600.0, 2227.472837617847, 1746.6540792818357...   \n",
       "7.0-1-LiF_P6_3mc_-3.17_3x3x3.cif  [2600.0, 2201.8829583416705, 2011.420067554859...   \n",
       "7.0-2-LiF_Pm-3m_-2.89_3x3x3.cif   [2599.9999999999995, 2307.5056676702957, 1673....   \n",
       "\n",
       "                                                              scm_energy_per_atom_t  \n",
       "7.0-0-LiF_Fm-3m_-3.18_3x3x3.cif   [-2.844426643130874, -2.842366090997381, -2.83...  \n",
       "7.0-1-LiF_P6_3mc_-3.17_3x3x3.cif  [-2.8400756492875705, -2.837850360580547, -2.8...  \n",
       "7.0-2-LiF_Pm-3m_-2.89_3x3x3.cif   [-2.8410294274160868, -2.8393977166355455, -2....  "
      ]
     },
     "execution_count": 17,
     "metadata": {},
     "output_type": "execute_result"
    }
   ],
   "source": [
    "results_df"
   ]
  },
  {
   "cell_type": "code",
   "execution_count": 22,
   "id": "6cea222f-da3f-4dc5-a3b0-8249754dc534",
   "metadata": {},
   "outputs": [
    {
     "data": {
      "image/png": "[encoded data removed]",
      "text/plain": [
       "<Figure size 690x200 with 2 Axes>"
      ]
     },
     "metadata": {},
     "output_type": "display_data"
    }
   ],
   "source": [
    "fig = plt.figure(figsize=[6.9, 2], dpi=100)\n",
    "\n",
    "with plt.style.context(\"./articles_seaborn.mplstyle\"):\n",
    "    spec = fig.add_gridspec(1, 2, wspace=0.35)\n",
    "    ax1 = fig.add_subplot(spec[0])\n",
    "    ax2 = fig.add_subplot(spec[1])\n",
    "    idx = np.arange(len(results_df.index))\n",
    "    for sim in results_df.index:\n",
    "        name = sim.split(\"-\")[2]\n",
    "        ax1.plot(results_df.loc[sim, \"scm_step\"] * TIMESTEP, results_df.loc[sim, \"scm_Temp\"], label=name)\n",
    "        ax2.plot(results_df.loc[sim, \"scm_step\"] * TIMESTEP, results_df.loc[sim, \"scm_energy_per_atom_t\"], label=name)\n",
    "\n",
    "    ax1.set_ylabel(\"Temperature [K]\")\n",
    "    ax2.set_ylabel(\"Energy per atoms [eV]\")\n",
    "    ax1.set_xlabel(\"Time [fs]\")\n",
    "    ax2.set_xlabel(\"Time [fs]\")\n",
    "    ax1.legend()\n",
    "    ax2.legend()\n",
    "\n",
    "plt.show()\n",
    "fig.savefig(os.path.join(\"plots\", f\"7-{CHEM_FORMULA}_{TASK}_sim_energy.pdf\"), dpi=300, bbox_inches=\"tight\")"
   ]
  },
  {
   "attachments": {},
   "cell_type": "markdown",
   "id": "649ff3e0-15cf-46a7-9376-f930b5913793",
   "metadata": {},
   "source": [
    "#### Save frames "
   ]
  },
  {
   "cell_type": "code",
   "execution_count": 23,
   "id": "2e5f5604-c7f3-43bf-be6e-2f851395daee",
   "metadata": {},
   "outputs": [],
   "source": [
    "dir_jobs = os.path.join(RUN_DIR, \"jobs\")\n",
    "conf_dir = os.path.join(MAIN_DIR_JNB1, CHEM_FORMULA, \"7.1-amorphous_frames\")\n",
    "cis_dir = os.path.join(MAIN_DIR_JNB1, CHEM_FORMULA, \"7-amorphous\")\n",
    "data_path = os.path.join(cis_dir, \"info.json\")\n",
    "results_df = pd.read_json(data_path)\n",
    "\n",
    "make_dir(conf_dir)\n",
    "last_n_frames = 10\n",
    "nskip = 2\n",
    "frame_results_df = pd.DataFrame(columns=[\"step\", \"time\", \"unitcell_repetition\"])\n",
    "\n",
    "mols_ase = []\n",
    "\n",
    "for job_dir in glob.glob(os.path.join(dir_jobs, \"*\")):\n",
    "    sim_name = job_dir.split(os.sep)[-1]\n",
    "    job = scm.AMSJob.load_external(job_dir, settings=settings_MD)\n",
    "    # check\n",
    "    if not job.check():\n",
    "        print(f\"Simulation {job_dir} FAILED\")\n",
    "        continue\n",
    "    name = sim_name[3:]\n",
    "    steps = job_result.get_history_property(\"Step\")\n",
    "    n_frame = len(steps)\n",
    "    n_rep = results_df.loc[f\"{name}.cif\", \"unitcell_repetition\"]\n",
    "    for i_frame in range(n_frame - last_n_frames * nskip + 1, n_frame, nskip):\n",
    "        frame_name = f\"{name}_{steps[i_frame] * TIMESTEP:1.1f}ps\"\n",
    "        mol = job.results.get_history_molecule(i_frame + 1)\n",
    "        # print(os.path.join(conf_dir, f'{name}.cif'))\n",
    "        mol = toASE(mol)\n",
    "        mol.write(os.path.join(conf_dir, f\"{frame_name}.cif\"), format=\"cif\")\n",
    "        frame_results_df.loc[f\"{frame_name}.cif\", \"unitcell_repetition\"] = n_rep\n",
    "        frame_results_df.loc[f\"{frame_name}.cif\", \"step\"] = steps[i_frame]\n",
    "        frame_results_df.loc[f\"{frame_name}.cif\", \"time\"] = steps[i_frame] * TIMESTEP\n",
    "        mols_ase.append(mol.copy())\n",
    "\n",
    "frame_results_df.to_json(os.path.join(conf_dir, \"info.json\"))"
   ]
  },
  {
   "cell_type": "code",
   "execution_count": 25,
   "id": "f0135cbd-d926-4ca7-be35-abda4e7a0106",
   "metadata": {},
   "outputs": [
    {
     "data": {
      "text/html": [
       "<div>\n",
       "<style scoped>\n",
       "    .dataframe tbody tr th:only-of-type {\n",
       "        vertical-align: middle;\n",
       "    }\n",
       "\n",
       "    .dataframe tbody tr th {\n",
       "        vertical-align: top;\n",
       "    }\n",
       "\n",
       "    .dataframe thead th {\n",
       "        text-align: right;\n",
       "    }\n",
       "</style>\n",
       "<table border=\"1\" class=\"dataframe\">\n",
       "  <thead>\n",
       "    <tr style=\"text-align: right;\">\n",
       "      <th></th>\n",
       "      <th>step</th>\n",
       "      <th>time</th>\n",
       "      <th>unitcell_repetition</th>\n",
       "    </tr>\n",
       "  </thead>\n",
       "  <tbody>\n",
       "    <tr>\n",
       "      <th>7.0-1-LiF_P6_3mc_-3.17_3x3x3_400.0ps.cif</th>\n",
       "      <td>1600</td>\n",
       "      <td>400.0</td>\n",
       "      <td>27</td>\n",
       "    </tr>\n",
       "    <tr>\n",
       "      <th>7.0-1-LiF_P6_3mc_-3.17_3x3x3_425.0ps.cif</th>\n",
       "      <td>1700</td>\n",
       "      <td>425.0</td>\n",
       "      <td>27</td>\n",
       "    </tr>\n",
       "    <tr>\n",
       "      <th>7.0-1-LiF_P6_3mc_-3.17_3x3x3_450.0ps.cif</th>\n",
       "      <td>1800</td>\n",
       "      <td>450.0</td>\n",
       "      <td>27</td>\n",
       "    </tr>\n",
       "    <tr>\n",
       "      <th>7.0-1-LiF_P6_3mc_-3.17_3x3x3_475.0ps.cif</th>\n",
       "      <td>1900</td>\n",
       "      <td>475.0</td>\n",
       "      <td>27</td>\n",
       "    </tr>\n",
       "    <tr>\n",
       "      <th>7.0-1-LiF_P6_3mc_-3.17_3x3x3_500.0ps.cif</th>\n",
       "      <td>2000</td>\n",
       "      <td>500.0</td>\n",
       "      <td>27</td>\n",
       "    </tr>\n",
       "  </tbody>\n",
       "</table>\n",
       "</div>"
      ],
      "text/plain": [
       "                                          step   time unitcell_repetition\n",
       "7.0-1-LiF_P6_3mc_-3.17_3x3x3_400.0ps.cif  1600  400.0                  27\n",
       "7.0-1-LiF_P6_3mc_-3.17_3x3x3_425.0ps.cif  1700  425.0                  27\n",
       "7.0-1-LiF_P6_3mc_-3.17_3x3x3_450.0ps.cif  1800  450.0                  27\n",
       "7.0-1-LiF_P6_3mc_-3.17_3x3x3_475.0ps.cif  1900  475.0                  27\n",
       "7.0-1-LiF_P6_3mc_-3.17_3x3x3_500.0ps.cif  2000  500.0                  27"
      ]
     },
     "execution_count": 25,
     "metadata": {},
     "output_type": "execute_result"
    }
   ],
   "source": [
    "frame_results_df.head()"
   ]
  },
  {
   "cell_type": "code",
   "execution_count": 28,
   "id": "76135ef7-5de3-46c0-a763-88ba2802c687",
   "metadata": {},
   "outputs": [
    {
     "data": {
      "application/vnd.jupyter.widget-view+json": {
       "model_id": "ed657c183b6a4b3abecbfdca4b7573ec",
       "version_major": 2,
       "version_minor": 0
      },
      "text/plain": []
     },
     "metadata": {},
     "output_type": "display_data"
    },
    {
     "data": {
      "application/vnd.jupyter.widget-view+json": {
       "model_id": "d57b7feac2a6409a8c3b13a1f2fc1050",
       "version_major": 2,
       "version_minor": 0
      },
      "text/plain": [
       "HBox(children=(NGLWidget(max_frame=29), VBox(children=(Dropdown(description='Show', options=('All', 'Li', 'F')…"
      ]
     },
     "execution_count": 28,
     "metadata": {},
     "output_type": "execute_result"
    }
   ],
   "source": [
    "view(mols_ase, viewer=\"ngl\")"
   ]
  },
  {
   "attachments": {},
   "cell_type": "markdown",
   "id": "ea754e65-dcb7-4be8-b50f-e8caff786dca",
   "metadata": {},
   "source": [
    "#### Finishing "
   ]
  },
  {
   "cell_type": "code",
   "execution_count": 66,
   "id": "8679444c-a3dd-46e3-9ad1-8588a4415106",
   "metadata": {},
   "outputs": [],
   "source": [
    "scm.finish()"
   ]
  },
  {
   "attachments": {},
   "cell_type": "markdown",
   "id": "4a10bc10-72b7-4c14-83af-6cd5e01e7d34",
   "metadata": {
    "tags": []
   },
   "source": [
    "## Amorphous `Single Point`"
   ]
  },
  {
   "cell_type": "code",
   "execution_count": 29,
   "id": "629124c9-a4da-4ad3-9258-27f76b78685b",
   "metadata": {},
   "outputs": [],
   "source": [
    "SIMsNAME = \"7.1-Amorphous_SP\"\n",
    "TASK = \"SP\"\n",
    "RUN_DIR = os.path.join(MAIN_DIR_JNB2, CHEM_FORMULA, SIMsNAME)"
   ]
  },
  {
   "attachments": {},
   "cell_type": "markdown",
   "id": "9f93885d-116b-47e4-917b-3dfc567e456c",
   "metadata": {},
   "source": [
    "### Setting `BAND` *Single Point*"
   ]
  },
  {
   "cell_type": "code",
   "execution_count": 30,
   "id": "9c90c48f-7dce-406a-a8ee-112aae871766",
   "metadata": {},
   "outputs": [
    {
     "name": "stdout",
     "output_type": "stream",
     "text": [
      "input: \t\n",
      "      AMS: \t\n",
      "          task: \tSinglePoint\n",
      "          Properties: \t\n",
      "                     Gradients: \tyes\n",
      "                     StressTensor: \tno\n",
      "                     Hessian: \tno\n",
      "                     PESPointCharacter: \tno\n",
      "                     ElasticTensor: \tno\n",
      "          GeometryOptimization: \t\n",
      "                               OptimizeLattice: \tno\n",
      "      BAND: \t\n",
      "           basis: \t\n",
      "                 type: \tDZP\n",
      "           xc: \t\n",
      "              GGA: \tPBE\n",
      "\n"
     ]
    }
   ],
   "source": [
    "from tools.misc.default_settings import settings_7_SP\n",
    "\n",
    "print(settings_7_SP)"
   ]
  },
  {
   "attachments": {},
   "cell_type": "markdown",
   "id": "3aa7c2ea-b75e-4fcf-8453-e7de1cdfed4b",
   "metadata": {
    "tags": []
   },
   "source": [
    "#### Set-up `RUNNER`"
   ]
  },
  {
   "cell_type": "code",
   "execution_count": 31,
   "id": "4b86e5f6-3c8d-4825-898f-b03abe3d877f",
   "metadata": {},
   "outputs": [],
   "source": [
    "NODES = 4\n",
    "CORES_PER_NODE = 32\n",
    "CPUS_PER_CORE = 4\n",
    "MAX_JOBS = 64"
   ]
  },
  {
   "cell_type": "code",
   "execution_count": null,
   "id": "80932a55-55c4-4129-8159-8d146a22c87d",
   "metadata": {},
   "outputs": [],
   "source": [
    "scm.init(folder=RUN_DIR)\n",
    "RUNNER = scm.GridRunner(grid=\"slurm\", sleepstep=5, parallel=True, maxjobs=MAX_JOBS)\n",
    "RUNNER.settings.workdir = \"-D\"\n",
    "RUNNER.settings.special.nodes = \"--nodes=\"\n",
    "RUNNER.settings.special.qos = \"--qos=\"\n",
    "RUNNER.settings.special.walltime = \"--time=\"\n",
    "RUNNER.settings.special.tasks_per_node = \"--ntasks-per-node=\"\n",
    "RUNNER.settings.special.cpus_per_task = \"--cpus-per-task=\"\n",
    "RUNNER.settings.special.partition = \"--partition=\"\n",
    "RUNNER.settings.special.account = \"--account=\"\n",
    "RUNNER.settings.special.job_name = \"--job-name=\"\n",
    "\n",
    "scm.config.log.file = 7  # debug\n",
    "scm.config.log.stdout = 1  # 1: important 3: normal 5: verbose 7: debug\n",
    "scm.config.job.pickle = False\n",
    "scm.config.job.runscript.nproc = CORES_PER_NODE\n",
    "scm.config.job.runscript.shebang = \"#!/bin/bash\"\n",
    "scm.config.default_jobrunner = RUNNER"
   ]
  },
  {
   "cell_type": "code",
   "execution_count": 32,
   "id": "3c81fbea-e4ea-4b55-964f-11a13e992f9a",
   "metadata": {},
   "outputs": [],
   "source": [
    "settings_pkl_file = os.path.join(RUN_DIR, \"settings.pkl\")\n",
    "with open(settings_pkl_file, \"wb\") as file:\n",
    "    pickle.dump(settings_7_SP, file)"
   ]
  },
  {
   "attachments": {},
   "cell_type": "markdown",
   "id": "3a46150f-8010-49c7-bc03-e451917ccd0a",
   "metadata": {},
   "source": [
    "#### Set-up JOBS"
   ]
  },
  {
   "attachments": {},
   "cell_type": "markdown",
   "id": "dfef15b5-9ac3-4d4c-b600-1a0f3bce8071",
   "metadata": {},
   "source": [
    "Load systems"
   ]
  },
  {
   "cell_type": "code",
   "execution_count": 33,
   "id": "4a76bb51-530f-4198-85a9-eb4991d1ae7a",
   "metadata": {},
   "outputs": [],
   "source": [
    "cis_dir = os.path.join(MAIN_DIR_JNB1, CHEM_FORMULA, \"7.1-amorphous_frames\")\n",
    "systems = []\n",
    "\n",
    "for path in np.sort(glob.glob(os.path.join(cis_dir, \"*.cif\"))):\n",
    "    system_name = path.split(os.sep)[-1].split(\".cif\")[0]\n",
    "    system_mat = Structure.from_file(path)\n",
    "    system_ase = matget2ase.get_atoms(system_mat)\n",
    "    systems.append((system_name, fromASE(system_ase)))"
   ]
  },
  {
   "attachments": {},
   "cell_type": "markdown",
   "id": "0fa48390-4e61-424c-b5ed-51c9aa3de842",
   "metadata": {},
   "source": [
    "Define jobs"
   ]
  },
  {
   "cell_type": "code",
   "execution_count": 74,
   "id": "e05dad83-07eb-450d-a2bd-21dfd6ad567a",
   "metadata": {},
   "outputs": [],
   "source": [
    "jobs = []\n",
    "for name, system_obj in systems:\n",
    "    sim_name = f\"{TASK}-{name}\"\n",
    "    job = scm.AMSJob(molecule=system_obj, settings=settings_7_SP, name=sim_name)\n",
    "    job.settings.runscript.pre = \"\"\"module use --append /work/pr1u1751/pr1u1751/shared/modules\n",
    "module load ams/2021.104\"\"\"\n",
    "    jobs.append(job)\n",
    "# Group all\n",
    "multi_jobs = scm.MultiJob(name=\"jobs\", children=jobs)"
   ]
  },
  {
   "attachments": {},
   "cell_type": "markdown",
   "id": "91712856-8217-48d4-b2ab-505feeb12cc1",
   "metadata": {},
   "source": [
    "#### Run All"
   ]
  },
  {
   "cell_type": "code",
   "execution_count": 76,
   "id": "acc131bf-6f60-4718-8e16-20f3284f593c",
   "metadata": {},
   "outputs": [
    {
     "name": "stdout",
     "output_type": "stream",
     "text": [
      "[23:00:37] JOB jobs STARTED\n",
      "[23:00:37] JOB jobs/SP-11.0-0-LiF_Fm-3m_-3.18_2x2x3_100.0ps STARTED\n",
      "[23:00:37] JOB jobs/SP-11.0-0-LiF_Fm-3m_-3.18_2x2x3_125.0ps STARTED\n",
      "[23:00:37] JOB jobs/SP-11.0-0-LiF_Fm-3m_-3.18_2x2x3_150.0ps STARTED\n",
      "[23:00:37] JOB jobs/SP-11.0-0-LiF_Fm-3m_-3.18_2x2x3_175.0ps STARTED\n",
      "[23:00:37] JOB jobs/SP-11.0-0-LiF_Fm-3m_-3.18_2x2x3_200.0ps STARTED\n",
      "[23:00:37] JOB jobs/SP-11.0-0-LiF_Fm-3m_-3.18_2x2x3_225.0ps STARTED\n",
      "[23:00:37] JOB jobs/SP-11.0-0-LiF_Fm-3m_-3.18_2x2x3_25.0ps STARTED\n",
      "[23:00:37] JOB jobs/SP-11.0-0-LiF_Fm-3m_-3.18_2x2x3_250.0ps STARTED\n",
      "[23:00:37] JOB jobs/SP-11.0-0-LiF_Fm-3m_-3.18_2x2x3_50.0ps STARTED\n",
      "[23:00:37] JOB jobs/SP-11.0-0-LiF_Fm-3m_-3.18_2x2x3_75.0ps STARTED\n",
      "[23:00:37] JOB jobs/SP-11.0-1-LiF_P6_3mc_-3.17_2x2x3_100.0ps STARTED\n",
      "[23:00:37] JOB jobs/SP-11.0-1-LiF_P6_3mc_-3.17_2x2x3_125.0ps STARTED\n",
      "[23:00:37] JOB jobs/SP-11.0-1-LiF_P6_3mc_-3.17_2x2x3_150.0ps STARTED\n",
      "[23:00:37] JOB jobs/SP-11.0-1-LiF_P6_3mc_-3.17_2x2x3_175.0ps STARTED\n",
      "[23:00:37] JOB jobs/SP-11.0-1-LiF_P6_3mc_-3.17_2x2x3_200.0ps STARTED\n",
      "[23:00:37] JOB jobs/SP-11.0-1-LiF_P6_3mc_-3.17_2x2x3_225.0ps STARTED\n",
      "[23:00:37] JOB jobs/SP-11.0-1-LiF_P6_3mc_-3.17_2x2x3_25.0ps STARTED\n",
      "[23:00:37] JOB jobs/SP-11.0-1-LiF_P6_3mc_-3.17_2x2x3_250.0ps STARTED\n",
      "[23:00:37] JOB jobs/SP-11.0-1-LiF_P6_3mc_-3.17_2x2x3_50.0ps STARTED\n",
      "[23:00:37] JOB jobs/SP-11.0-1-LiF_P6_3mc_-3.17_2x2x3_75.0ps STARTED\n",
      "[23:00:37] JOB jobs/SP-11.0-2-LiF_Pm-3m_-2.89_2x2x3_100.0ps STARTED\n",
      "[23:00:37] JOB jobs/SP-11.0-2-LiF_Pm-3m_-2.89_2x2x3_125.0ps STARTED\n",
      "[23:00:37] JOB jobs/SP-11.0-2-LiF_Pm-3m_-2.89_2x2x3_150.0ps STARTED\n",
      "[23:00:37] JOB jobs/SP-11.0-2-LiF_Pm-3m_-2.89_2x2x3_175.0ps STARTED\n",
      "[23:00:37] JOB jobs/SP-11.0-2-LiF_Pm-3m_-2.89_2x2x3_200.0ps STARTED\n",
      "[23:00:37] JOB jobs/SP-11.0-2-LiF_Pm-3m_-2.89_2x2x3_225.0ps STARTED\n",
      "[23:00:38] JOB jobs/SP-11.0-2-LiF_Pm-3m_-2.89_2x2x3_25.0ps STARTED\n",
      "[23:00:38] JOB jobs/SP-11.0-2-LiF_Pm-3m_-2.89_2x2x3_250.0ps STARTED\n",
      "[23:00:38] JOB jobs/SP-11.0-2-LiF_Pm-3m_-2.89_2x2x3_50.0ps STARTED\n",
      "[23:00:38] JOB jobs/SP-11.0-2-LiF_Pm-3m_-2.89_2x2x3_75.0ps STARTED\n",
      "[23:03:55] JOB jobs/SP-11.0-1-LiF_P6_3mc_-3.17_2x2x3_200.0ps SUCCESSFUL\n",
      "[23:03:55] JOB jobs/SP-11.0-1-LiF_P6_3mc_-3.17_2x2x3_25.0ps SUCCESSFUL\n",
      "[23:03:55] JOB jobs/SP-11.0-1-LiF_P6_3mc_-3.17_2x2x3_175.0ps SUCCESSFUL\n",
      "[23:04:01] JOB jobs/SP-11.0-1-LiF_P6_3mc_-3.17_2x2x3_250.0ps SUCCESSFUL\n",
      "[23:04:01] JOB jobs/SP-11.0-1-LiF_P6_3mc_-3.17_2x2x3_150.0ps SUCCESSFUL\n",
      "[23:04:01] JOB jobs/SP-11.0-1-LiF_P6_3mc_-3.17_2x2x3_225.0ps SUCCESSFUL\n",
      "[23:05:02] JOB jobs/SP-11.0-2-LiF_Pm-3m_-2.89_2x2x3_100.0ps SUCCESSFUL\n",
      "[23:05:07] JOB jobs/SP-11.0-0-LiF_Fm-3m_-3.18_2x2x3_150.0ps SUCCESSFUL\n",
      "[23:05:13] JOB jobs/SP-11.0-2-LiF_Pm-3m_-2.89_2x2x3_250.0ps SUCCESSFUL\n",
      "[23:05:13] JOB jobs/SP-11.0-0-LiF_Fm-3m_-3.18_2x2x3_225.0ps SUCCESSFUL\n",
      "[23:05:13] JOB jobs/SP-11.0-0-LiF_Fm-3m_-3.18_2x2x3_125.0ps SUCCESSFUL\n",
      "[23:05:13] JOB jobs/SP-11.0-0-LiF_Fm-3m_-3.18_2x2x3_100.0ps SUCCESSFUL\n",
      "[23:05:25] JOB jobs/SP-11.0-0-LiF_Fm-3m_-3.18_2x2x3_25.0ps SUCCESSFUL\n",
      "[23:05:37] JOB jobs/SP-11.0-2-LiF_Pm-3m_-2.89_2x2x3_25.0ps SUCCESSFUL\n",
      "[23:07:43] JOB jobs/SP-11.0-1-LiF_P6_3mc_-3.17_2x2x3_50.0ps SUCCESSFUL\n",
      "[23:08:55] JOB jobs/SP-11.0-2-LiF_Pm-3m_-2.89_2x2x3_225.0ps SUCCESSFUL\n",
      "[23:09:01] JOB jobs/SP-11.0-0-LiF_Fm-3m_-3.18_2x2x3_50.0ps SUCCESSFUL\n",
      "[23:09:07] JOB jobs/SP-11.0-2-LiF_Pm-3m_-2.89_2x2x3_125.0ps SUCCESSFUL\n",
      "[23:09:13] JOB jobs/SP-11.0-0-LiF_Fm-3m_-3.18_2x2x3_75.0ps SUCCESSFUL\n",
      "[23:10:26] JOB jobs/SP-11.0-0-LiF_Fm-3m_-3.18_2x2x3_200.0ps SUCCESSFUL\n",
      "[23:12:44] Job jobs/SP-11.0-1-LiF_P6_3mc_-3.17_2x2x3_75.0ps reported warnings. Please check the the output\n",
      "[23:12:44] JOB jobs/SP-11.0-1-LiF_P6_3mc_-3.17_2x2x3_75.0ps SUCCESSFUL\n",
      "[23:12:44] JOB jobs/SP-11.0-2-LiF_Pm-3m_-2.89_2x2x3_75.0ps SUCCESSFUL\n",
      "[23:12:50] JOB jobs/SP-11.0-1-LiF_P6_3mc_-3.17_2x2x3_125.0ps SUCCESSFUL\n",
      "[23:12:50] Job jobs/SP-11.0-1-LiF_P6_3mc_-3.17_2x2x3_100.0ps reported warnings. Please check the the output\n",
      "[23:12:50] JOB jobs/SP-11.0-1-LiF_P6_3mc_-3.17_2x2x3_100.0ps SUCCESSFUL\n",
      "[23:13:56] JOB jobs/SP-11.0-2-LiF_Pm-3m_-2.89_2x2x3_50.0ps SUCCESSFUL\n",
      "[23:14:02] Job jobs/SP-11.0-2-LiF_Pm-3m_-2.89_2x2x3_175.0ps reported warnings. Please check the the output\n",
      "[23:14:02] JOB jobs/SP-11.0-2-LiF_Pm-3m_-2.89_2x2x3_175.0ps SUCCESSFUL\n",
      "[23:14:02] JOB jobs/SP-11.0-2-LiF_Pm-3m_-2.89_2x2x3_200.0ps SUCCESSFUL\n",
      "[23:14:07] JOB jobs/SP-11.0-0-LiF_Fm-3m_-3.18_2x2x3_175.0ps SUCCESSFUL\n",
      "[23:14:13] JOB jobs/SP-11.0-0-LiF_Fm-3m_-3.18_2x2x3_250.0ps SUCCESSFUL\n",
      "[23:41:56] JOB jobs/SP-11.0-2-LiF_Pm-3m_-2.89_2x2x3_150.0ps FAILED\n",
      "[23:42:00] JOB jobs FAILED\n"
     ]
    }
   ],
   "source": [
    "result = multi_jobs.run(\n",
    "    jobrunner=RUNNER,\n",
    "    nodes=NODES,\n",
    "    cores=CORES_PER_NODE * NODES,\n",
    "    tasks_per_node=CORES_PER_NODE,\n",
    "    cpus_per_task=CPUS_PER_CORE,\n",
    "    walltime=\"24:00:00\",\n",
    "    partition=\"standard\",\n",
    "    account=\"pr1u1751\",\n",
    "    qos=\"standard\",\n",
    ")"
   ]
  },
  {
   "attachments": {},
   "cell_type": "markdown",
   "id": "75d23540-8641-41c5-911a-7fbdbd90c813",
   "metadata": {},
   "source": [
    "#### Post-processing"
   ]
  },
  {
   "attachments": {},
   "cell_type": "markdown",
   "id": "f7fa34bd-5441-4277-b361-370a7b8382e9",
   "metadata": {},
   "source": [
    "Load Material Project data"
   ]
  },
  {
   "cell_type": "code",
   "execution_count": 34,
   "id": "7a8273e9-6952-4a1c-a81b-cf4c6a3b043a",
   "metadata": {},
   "outputs": [],
   "source": [
    "dir_jobs = os.path.join(RUN_DIR, \"jobs\")\n",
    "\n",
    "cis_dir = os.path.join(MAIN_DIR_JNB1, CHEM_FORMULA, \"7.1-amorphous_frames\")\n",
    "data_path = os.path.join(cis_dir, \"info.json\")\n",
    "results_df = pd.read_json(data_path)"
   ]
  },
  {
   "cell_type": "code",
   "execution_count": 36,
   "id": "0f9611d5-57a9-4fe4-ab45-636e930ca2c9",
   "metadata": {},
   "outputs": [
    {
     "data": {
      "text/html": [
       "<div>\n",
       "<style scoped>\n",
       "    .dataframe tbody tr th:only-of-type {\n",
       "        vertical-align: middle;\n",
       "    }\n",
       "\n",
       "    .dataframe tbody tr th {\n",
       "        vertical-align: top;\n",
       "    }\n",
       "\n",
       "    .dataframe thead th {\n",
       "        text-align: right;\n",
       "    }\n",
       "</style>\n",
       "<table border=\"1\" class=\"dataframe\">\n",
       "  <thead>\n",
       "    <tr style=\"text-align: right;\">\n",
       "      <th></th>\n",
       "      <th>step</th>\n",
       "      <th>time</th>\n",
       "      <th>unitcell_repetition</th>\n",
       "    </tr>\n",
       "  </thead>\n",
       "  <tbody>\n",
       "    <tr>\n",
       "      <th>7.0-1-LiF_P6_3mc_-3.17_3x3x3_400.0ps.cif</th>\n",
       "      <td>1600</td>\n",
       "      <td>400</td>\n",
       "      <td>27</td>\n",
       "    </tr>\n",
       "    <tr>\n",
       "      <th>7.0-1-LiF_P6_3mc_-3.17_3x3x3_425.0ps.cif</th>\n",
       "      <td>1700</td>\n",
       "      <td>425</td>\n",
       "      <td>27</td>\n",
       "    </tr>\n",
       "    <tr>\n",
       "      <th>7.0-1-LiF_P6_3mc_-3.17_3x3x3_450.0ps.cif</th>\n",
       "      <td>1800</td>\n",
       "      <td>450</td>\n",
       "      <td>27</td>\n",
       "    </tr>\n",
       "    <tr>\n",
       "      <th>7.0-1-LiF_P6_3mc_-3.17_3x3x3_475.0ps.cif</th>\n",
       "      <td>1900</td>\n",
       "      <td>475</td>\n",
       "      <td>27</td>\n",
       "    </tr>\n",
       "    <tr>\n",
       "      <th>7.0-1-LiF_P6_3mc_-3.17_3x3x3_500.0ps.cif</th>\n",
       "      <td>2000</td>\n",
       "      <td>500</td>\n",
       "      <td>27</td>\n",
       "    </tr>\n",
       "  </tbody>\n",
       "</table>\n",
       "</div>"
      ],
      "text/plain": [
       "                                          step  time  unitcell_repetition\n",
       "7.0-1-LiF_P6_3mc_-3.17_3x3x3_400.0ps.cif  1600   400                   27\n",
       "7.0-1-LiF_P6_3mc_-3.17_3x3x3_425.0ps.cif  1700   425                   27\n",
       "7.0-1-LiF_P6_3mc_-3.17_3x3x3_450.0ps.cif  1800   450                   27\n",
       "7.0-1-LiF_P6_3mc_-3.17_3x3x3_475.0ps.cif  1900   475                   27\n",
       "7.0-1-LiF_P6_3mc_-3.17_3x3x3_500.0ps.cif  2000   500                   27"
      ]
     },
     "execution_count": 36,
     "metadata": {},
     "output_type": "execute_result"
    }
   ],
   "source": [
    "results_df.head()"
   ]
  },
  {
   "cell_type": "code",
   "execution_count": 38,
   "id": "3c8e8774",
   "metadata": {},
   "outputs": [
    {
     "name": "stdout",
     "output_type": "stream",
     "text": [
      "Simulation step02-sim/LiF/7.1-Amorphous_SP/jobs/SP-7.0-1-LiF_P6_3mc_-3.17_3x3x3_320.0ps FAILED\n",
      "Simulation step02-sim/LiF/7.1-Amorphous_SP/jobs/SP-7.0-1-LiF_P6_3mc_-3.17_3x3x3_340.0ps FAILED\n",
      "Simulation step02-sim/LiF/7.1-Amorphous_SP/jobs/SP-7.0-1-LiF_P6_3mc_-3.17_3x3x3_360.0ps FAILED\n",
      "Simulation step02-sim/LiF/7.1-Amorphous_SP/jobs/SP-7.0-1-LiF_P6_3mc_-3.17_3x3x3_380.0ps FAILED\n",
      "Simulation step02-sim/LiF/7.1-Amorphous_SP/jobs/SP-7.0-1-LiF_P6_3mc_-3.17_3x3x3_400.0ps FAILED\n",
      "Simulation step02-sim/LiF/7.1-Amorphous_SP/jobs/SP-7.0-1-LiF_P6_3mc_-3.17_3x3x3_420.0ps FAILED\n",
      "Simulation step02-sim/LiF/7.1-Amorphous_SP/jobs/SP-7.0-1-LiF_P6_3mc_-3.17_3x3x3_440.0ps FAILED\n",
      "Simulation step02-sim/LiF/7.1-Amorphous_SP/jobs/SP-7.0-1-LiF_P6_3mc_-3.17_3x3x3_460.0ps FAILED\n",
      "Simulation step02-sim/LiF/7.1-Amorphous_SP/jobs/SP-7.0-1-LiF_P6_3mc_-3.17_3x3x3_480.0ps FAILED\n",
      "Simulation step02-sim/LiF/7.1-Amorphous_SP/jobs/SP-7.0-1-LiF_P6_3mc_-3.17_3x3x3_500.0ps FAILED\n"
     ]
    }
   ],
   "source": [
    "for job_dir in np.sort(glob.glob(os.path.join(dir_jobs, \"*\"))):\n",
    "    sim_name = job_dir.split(os.sep)[-1]\n",
    "    job = scm.AMSJob.load_external(job_dir, settings=settings_7_SP)\n",
    "    # check\n",
    "    if not job.check():\n",
    "        print(f\"Simulation {job_dir} FAILED\")\n",
    "        continue\n",
    "    job_result = job.results\n",
    "    energy = scm.Units.convert(job_result.get_energy(), \"au\", \"eV\")\n",
    "    results_df.loc[sim_name[3:] + \".cif\", \"energy_SP\"] = energy\n",
    "    Na = len(job_result.get_molecule(\"Molecule\").atoms)\n",
    "    energy_per_atom = energy / Na\n",
    "    results_df.loc[sim_name[3:] + \".cif\", \"energy_per_atom_SP\"] = energy_per_atom\n",
    "\n",
    "results_df.to_json(os.path.join(RUN_DIR, f\"results.json\"))"
   ]
  },
  {
   "cell_type": "markdown",
   "id": "306193a5",
   "metadata": {},
   "source": [
    "### Finishing"
   ]
  },
  {
   "cell_type": "code",
   "execution_count": null,
   "id": "661c7651-7dca-4642-b772-79e279cba83c",
   "metadata": {},
   "outputs": [],
   "source": [
    "scm.finish()"
   ]
  },
  {
   "attachments": {},
   "cell_type": "markdown",
   "id": "a0d16106",
   "metadata": {},
   "source": [
    "## Bulk 300 K `ab initio MD`"
   ]
  },
  {
   "cell_type": "code",
   "execution_count": 40,
   "id": "a666b966",
   "metadata": {},
   "outputs": [],
   "source": [
    "SIMsNAME = \"8-Bulk_300K_MD\"\n",
    "TASK = \"MD\"\n",
    "RUN_DIR = os.path.join(MAIN_DIR_JNB2, CHEM_FORMULA, SIMsNAME)"
   ]
  },
  {
   "cell_type": "markdown",
   "id": "8928fced",
   "metadata": {},
   "source": [
    "#### Setting `DFTB` *ab initio MD*"
   ]
  },
  {
   "cell_type": "markdown",
   "id": "88fed954",
   "metadata": {},
   "source": [
    "MD settings"
   ]
  },
  {
   "cell_type": "code",
   "execution_count": 41,
   "id": "8646e1db",
   "metadata": {},
   "outputs": [
    {
     "name": "stdout",
     "output_type": "stream",
     "text": [
      "input: \t\n",
      "      ams: \t\n",
      "          task: \tMolecularDynamics\n",
      "          MolecularDynamics: \t\n",
      "                            NSteps: \t1000\n",
      "                            TimeStep: \t0.25\n",
      "                            Trajectory: \t\n",
      "                                       PrintFreq: \t5\n",
      "                                       SamplingFreq: \t50\n",
      "                            InitialVelocities: \t\n",
      "                                              Temperature: \t300\n",
      "                            Thermostat: \t\n",
      "                                       Type: \tBerendsen\n",
      "                                       Temperature: \t300\n",
      "                                       Tau: \t25\n",
      "      DFTB: \t\n",
      "           Model: \tNonSCC-GFN1-xTB\n",
      "\n"
     ]
    }
   ],
   "source": [
    "STEPS = 1000\n",
    "TIMESTEP = 0.25  # [fs]\n",
    "TEMP = 300  # [K]\n",
    "\n",
    "from tools.misc.default_settings import settings_MD\n",
    "\n",
    "settings_MD.input.ams.MolecularDynamics.NSteps = STEPS\n",
    "settings_MD.input.ams.MolecularDynamics.TimeStep = TIMESTEP\n",
    "settings_MD.input.ams.MolecularDynamics.InitialVelocities.Temperature = TEMP\n",
    "settings_MD.input.ams.MolecularDynamics.Thermostat.Temperature = TEMP\n",
    "settings_MD.input.ams.MolecularDynamics.Thermostat.Tau = int(100 * TIMESTEP)\n",
    "\n",
    "print(settings_MD)"
   ]
  },
  {
   "cell_type": "markdown",
   "id": "f8ba89b3",
   "metadata": {},
   "source": [
    "#### Set-up `RUNNER`"
   ]
  },
  {
   "cell_type": "code",
   "execution_count": 42,
   "id": "be1b1da0",
   "metadata": {},
   "outputs": [],
   "source": [
    "NODES = 1\n",
    "CORES_PER_NODE = 128\n",
    "CPUS_PER_CORE = 2\n",
    "MAX_JOBS = 0"
   ]
  },
  {
   "cell_type": "code",
   "execution_count": null,
   "id": "325dea28",
   "metadata": {},
   "outputs": [],
   "source": [
    "scm.init(folder=RUN_DIR)\n",
    "RUNNER = scm.GridRunner(grid=\"slurm\", sleepstep=5, parallel=True, maxjobs=MAX_JOBS)\n",
    "RUNNER.settings.workdir = \"-D\"\n",
    "RUNNER.settings.special.nodes = \"--nodes=\"\n",
    "RUNNER.settings.special.qos = \"--qos=\"\n",
    "RUNNER.settings.special.walltime = \"--time=\"\n",
    "RUNNER.settings.special.tasks_per_node = \"--ntasks-per-node=\"\n",
    "RUNNER.settings.special.cpus_per_task = \"--cpus-per-task=\"\n",
    "RUNNER.settings.special.partition = \"--partition=\"\n",
    "RUNNER.settings.special.account = \"--account=\"\n",
    "RUNNER.settings.special.job_name = \"--job-name=\"\n",
    "\n",
    "scm.config.log.file = 7  # debug\n",
    "scm.config.log.stdout = 1  # 1: important 3: normal 5: verbose 7: debug\n",
    "scm.config.job.pickle = False\n",
    "scm.config.job.runscript.nproc = CORES_PER_NODE\n",
    "scm.config.job.runscript.shebang = \"#!/bin/bash\"\n",
    "scm.config.default_jobrunner = RUNNER"
   ]
  },
  {
   "cell_type": "code",
   "execution_count": 43,
   "id": "6882f358",
   "metadata": {},
   "outputs": [],
   "source": [
    "settings_pkl_file = os.path.join(RUN_DIR, \"settings.pkl\")\n",
    "with open(settings_pkl_file, \"wb\") as file:\n",
    "    pickle.dump(settings_MD, file)"
   ]
  },
  {
   "cell_type": "markdown",
   "id": "7ef82ab5",
   "metadata": {},
   "source": [
    "#### Set-up JOBS"
   ]
  },
  {
   "cell_type": "markdown",
   "id": "2604019c",
   "metadata": {},
   "source": [
    "Load systems"
   ]
  },
  {
   "cell_type": "code",
   "execution_count": 44,
   "id": "9e5b07d4",
   "metadata": {},
   "outputs": [
    {
     "name": "stderr",
     "output_type": "stream",
     "text": [
      "/home/paolo/Enhancing_ReaxFF/venv/lib/python3.8/site-packages/pymatgen/io/cif.py:1134: UserWarning: Issues encountered while parsing CIF: Some fractional coordinates rounded to ideal values to avoid issues with finite precision.\n",
      "  warnings.warn(\"Issues encountered while parsing CIF: \" + \"\\n\".join(self.warnings))\n"
     ]
    }
   ],
   "source": [
    "cis_dir = os.path.join(MAIN_DIR_JNB1, CHEM_FORMULA, \"8-bulk_300K\")\n",
    "systems = []\n",
    "\n",
    "for path in np.sort(glob.glob(os.path.join(cis_dir, \"*.cif\"))):\n",
    "    system_name = path.split(os.sep)[-1].split(\".cif\")[0]\n",
    "    system_mat = Structure.from_file(path)\n",
    "    system_ase = matget2ase.get_atoms(system_mat)\n",
    "    systems.append((system_name, fromASE(system_ase)))"
   ]
  },
  {
   "cell_type": "markdown",
   "id": "ad5e93fc",
   "metadata": {},
   "source": [
    "Define jobs"
   ]
  },
  {
   "cell_type": "code",
   "execution_count": null,
   "id": "1a991b43",
   "metadata": {},
   "outputs": [],
   "source": [
    "jobs = []\n",
    "for name, system_obj in systems:\n",
    "    sim_name = f\"{TASK}-{name}\"\n",
    "    job = scm.AMSJob(molecule=system_obj, settings=settings_MD, name=sim_name)\n",
    "    job.settings.runscript.pre = \"\"\"module use --append /work/pr1u1751/pr1u1751/shared/modules\n",
    "module load ams/2022.102\"\"\"\n",
    "    jobs.append(job)\n",
    "# Group all\n",
    "multi_jobs = scm.MultiJob(name=\"jobs\", children=jobs)"
   ]
  },
  {
   "cell_type": "markdown",
   "id": "66ff125e",
   "metadata": {},
   "source": [
    "#### Run All"
   ]
  },
  {
   "cell_type": "code",
   "execution_count": null,
   "id": "9661d7c0",
   "metadata": {},
   "outputs": [
    {
     "name": "stdout",
     "output_type": "stream",
     "text": [
      "[12:36:49] JOB jobs STARTED\n",
      "[12:36:49] JOB jobs/MD-11.0-0-LiF_Fm-3m_-3.18_2x2x3 STARTED\n",
      "[12:36:49] JOB jobs/MD-11.0-1-LiF_P6_3mc_-3.17_2x2x3 STARTED\n",
      "[12:36:49] JOB jobs/MD-11.0-2-LiF_Pm-3m_-2.89_2x2x3 STARTED\n"
     ]
    }
   ],
   "source": [
    "result = multi_jobs.run(\n",
    "    jobrunner=RUNNER,\n",
    "    nodes=NODES,\n",
    "    cores=CORES_PER_NODE * NODES,\n",
    "    tasks_per_node=CORES_PER_NODE,\n",
    "    cpus_per_task=CPUS_PER_CORE,\n",
    "    walltime=\"24:00:00\",\n",
    "    partition=\"standard\",\n",
    "    account=\"pr1u1751\",\n",
    "    qos=\"standard\",\n",
    ")"
   ]
  },
  {
   "cell_type": "markdown",
   "id": "584392ab",
   "metadata": {},
   "source": [
    "#### Post-processing"
   ]
  },
  {
   "cell_type": "markdown",
   "id": "84d23232",
   "metadata": {},
   "source": [
    "Load Material Project data"
   ]
  },
  {
   "cell_type": "code",
   "execution_count": 63,
   "id": "b16c7d58",
   "metadata": {},
   "outputs": [],
   "source": [
    "dir_jobs = os.path.join(RUN_DIR, \"jobs\")\n",
    "\n",
    "cis_dir = os.path.join(MAIN_DIR_JNB1, CHEM_FORMULA, \"8-bulk_300K\")\n",
    "data_path = os.path.join(cis_dir, \"info.json\")\n",
    "results_df = pd.read_json(data_path)"
   ]
  },
  {
   "cell_type": "code",
   "execution_count": 64,
   "id": "7a9aa46c",
   "metadata": {},
   "outputs": [
    {
     "data": {
      "text/html": [
       "<div>\n",
       "<style scoped>\n",
       "    .dataframe tbody tr th:only-of-type {\n",
       "        vertical-align: middle;\n",
       "    }\n",
       "\n",
       "    .dataframe tbody tr th {\n",
       "        vertical-align: top;\n",
       "    }\n",
       "\n",
       "    .dataframe thead th {\n",
       "        text-align: right;\n",
       "    }\n",
       "</style>\n",
       "<table border=\"1\" class=\"dataframe\">\n",
       "  <thead>\n",
       "    <tr style=\"text-align: right;\">\n",
       "      <th></th>\n",
       "      <th>unitcell_repetition</th>\n",
       "    </tr>\n",
       "  </thead>\n",
       "  <tbody>\n",
       "    <tr>\n",
       "      <th>8.0-0-LiF_Fm-3m_-3.18_2x2x3.cif</th>\n",
       "      <td>12</td>\n",
       "    </tr>\n",
       "    <tr>\n",
       "      <th>8.0-1-LiF_P6_3mc_-3.17_2x2x3.cif</th>\n",
       "      <td>12</td>\n",
       "    </tr>\n",
       "    <tr>\n",
       "      <th>8.0-2-LiF_Pm-3m_-2.89_2x2x3.cif</th>\n",
       "      <td>12</td>\n",
       "    </tr>\n",
       "  </tbody>\n",
       "</table>\n",
       "</div>"
      ],
      "text/plain": [
       "                                  unitcell_repetition\n",
       "8.0-0-LiF_Fm-3m_-3.18_2x2x3.cif                    12\n",
       "8.0-1-LiF_P6_3mc_-3.17_2x2x3.cif                   12\n",
       "8.0-2-LiF_Pm-3m_-2.89_2x2x3.cif                    12"
      ]
     },
     "execution_count": 64,
     "metadata": {},
     "output_type": "execute_result"
    }
   ],
   "source": [
    "results_df"
   ]
  },
  {
   "cell_type": "code",
   "execution_count": 65,
   "id": "28ecc24c",
   "metadata": {},
   "outputs": [],
   "source": [
    "temp_df = pd.DataFrame(index=results_df.index, columns=[\"scm_step\", \"scm_Temp\", \"scm_energy_per_atom_t\"])\n",
    "\n",
    "for job_dir in glob.glob(os.path.join(dir_jobs, \"*\")):\n",
    "    sim_name = job_dir.split(os.sep)[-1]\n",
    "    # sim_name = sim_name.replace(\"10.0-\", \"8.0-\")\n",
    "    job = scm.AMSJob.load_external(job_dir, settings=settings_MD)\n",
    "    # check\n",
    "    if not job.check():\n",
    "        print(f\"Simulation {job_dir} FAILED\")\n",
    "        continue\n",
    "    job_result = job.results\n",
    "    Nentry = job_result.read_rkf_section(\"History\")[\"nEntries\"]\n",
    "    energy = scm.Units.convert(\n",
    "        job_result.read_rkf_section(\"History\")[f\"Energy({Nentry})\"], \"au\", \"eV\"\n",
    "    )  # scm.Units.convert(job_result.get_energy(), 'au', 'eV')\n",
    "    results_df.loc[sim_name[3:] + \".cif\", \"scm_energy\"] = energy\n",
    "    Na = len(job_result.get_molecule(\"Molecule\").atoms)\n",
    "    energy_per_atom = energy / Na\n",
    "    results_df.loc[sim_name[3:] + \".cif\", \"scm_energy_per_atom\"] = energy_per_atom\n",
    "    results_df.loc[sim_name[3:] + \".cif\", \"system_id\"] = int(sim_name.split(\"-\")[2])\n",
    "    temp_df.at[sim_name[3:] + \".cif\", \"scm_step\"] = np.array(job_result.get_history_property(\"Step\"))\n",
    "    temp_df.at[sim_name[3:] + \".cif\", \"scm_Temp\"] = np.array(job_result.read_rkf_section(\"MDHistory\")[\"Temperature(1)\"])\n",
    "    temp_df.at[sim_name[3:] + \".cif\", \"scm_energy_per_atom_t\"] = (\n",
    "        np.array(job_result.get_history_property(\"Energy\")) / Na\n",
    "    )\n",
    "\n",
    "results_df = pd.concat([results_df, temp_df], axis=1)\n",
    "results_df.to_json(os.path.join(RUN_DIR, f\"results.json\"))"
   ]
  },
  {
   "cell_type": "code",
   "execution_count": 66,
   "id": "e4023c6c",
   "metadata": {},
   "outputs": [
    {
     "data": {
      "text/html": [
       "<div>\n",
       "<style scoped>\n",
       "    .dataframe tbody tr th:only-of-type {\n",
       "        vertical-align: middle;\n",
       "    }\n",
       "\n",
       "    .dataframe tbody tr th {\n",
       "        vertical-align: top;\n",
       "    }\n",
       "\n",
       "    .dataframe thead th {\n",
       "        text-align: right;\n",
       "    }\n",
       "</style>\n",
       "<table border=\"1\" class=\"dataframe\">\n",
       "  <thead>\n",
       "    <tr style=\"text-align: right;\">\n",
       "      <th></th>\n",
       "      <th>unitcell_repetition</th>\n",
       "      <th>scm_energy</th>\n",
       "      <th>scm_energy_per_atom</th>\n",
       "      <th>system_id</th>\n",
       "      <th>scm_step</th>\n",
       "      <th>scm_Temp</th>\n",
       "      <th>scm_energy_per_atom_t</th>\n",
       "    </tr>\n",
       "  </thead>\n",
       "  <tbody>\n",
       "    <tr>\n",
       "      <th>8.0-0-LiF_Fm-3m_-3.18_2x2x3.cif</th>\n",
       "      <td>12</td>\n",
       "      <td>-1855.994228</td>\n",
       "      <td>-77.333093</td>\n",
       "      <td>0.0</td>\n",
       "      <td>[0, 50, 100, 150, 200, 250, 300, 350, 400, 450...</td>\n",
       "      <td>[300.0, 244.72130136787882, 155.4044352312756,...</td>\n",
       "      <td>[-2.8434003513590658, -2.843102065120439, -2.8...</td>\n",
       "    </tr>\n",
       "    <tr>\n",
       "      <th>8.0-1-LiF_P6_3mc_-3.17_2x2x3.cif</th>\n",
       "      <td>12</td>\n",
       "      <td>-3706.687014</td>\n",
       "      <td>-77.222646</td>\n",
       "      <td>1.0</td>\n",
       "      <td>[0, 50, 100, 150, 200, 250, 300, 350, 400, 450...</td>\n",
       "      <td>[300.00000000000006, 246.25676191160235, 191.3...</td>\n",
       "      <td>[-2.8394662073566574, -2.8391695700790827, -2....</td>\n",
       "    </tr>\n",
       "    <tr>\n",
       "      <th>8.0-2-LiF_Pm-3m_-2.89_2x2x3.cif</th>\n",
       "      <td>12</td>\n",
       "      <td>-1855.288353</td>\n",
       "      <td>-77.303681</td>\n",
       "      <td>2.0</td>\n",
       "      <td>[0, 50, 100, 150, 200, 250, 300, 350, 400, 450...</td>\n",
       "      <td>[300.0, 261.24462668919415, 225.95779944928805...</td>\n",
       "      <td>[-2.8405855542363496, -2.8403753879099565, -2....</td>\n",
       "    </tr>\n",
       "  </tbody>\n",
       "</table>\n",
       "</div>"
      ],
      "text/plain": [
       "                                  unitcell_repetition   scm_energy  \\\n",
       "8.0-0-LiF_Fm-3m_-3.18_2x2x3.cif                    12 -1855.994228   \n",
       "8.0-1-LiF_P6_3mc_-3.17_2x2x3.cif                   12 -3706.687014   \n",
       "8.0-2-LiF_Pm-3m_-2.89_2x2x3.cif                    12 -1855.288353   \n",
       "\n",
       "                                  scm_energy_per_atom  system_id  \\\n",
       "8.0-0-LiF_Fm-3m_-3.18_2x2x3.cif            -77.333093        0.0   \n",
       "8.0-1-LiF_P6_3mc_-3.17_2x2x3.cif           -77.222646        1.0   \n",
       "8.0-2-LiF_Pm-3m_-2.89_2x2x3.cif            -77.303681        2.0   \n",
       "\n",
       "                                                                           scm_step  \\\n",
       "8.0-0-LiF_Fm-3m_-3.18_2x2x3.cif   [0, 50, 100, 150, 200, 250, 300, 350, 400, 450...   \n",
       "8.0-1-LiF_P6_3mc_-3.17_2x2x3.cif  [0, 50, 100, 150, 200, 250, 300, 350, 400, 450...   \n",
       "8.0-2-LiF_Pm-3m_-2.89_2x2x3.cif   [0, 50, 100, 150, 200, 250, 300, 350, 400, 450...   \n",
       "\n",
       "                                                                           scm_Temp  \\\n",
       "8.0-0-LiF_Fm-3m_-3.18_2x2x3.cif   [300.0, 244.72130136787882, 155.4044352312756,...   \n",
       "8.0-1-LiF_P6_3mc_-3.17_2x2x3.cif  [300.00000000000006, 246.25676191160235, 191.3...   \n",
       "8.0-2-LiF_Pm-3m_-2.89_2x2x3.cif   [300.0, 261.24462668919415, 225.95779944928805...   \n",
       "\n",
       "                                                              scm_energy_per_atom_t  \n",
       "8.0-0-LiF_Fm-3m_-3.18_2x2x3.cif   [-2.8434003513590658, -2.843102065120439, -2.8...  \n",
       "8.0-1-LiF_P6_3mc_-3.17_2x2x3.cif  [-2.8394662073566574, -2.8391695700790827, -2....  \n",
       "8.0-2-LiF_Pm-3m_-2.89_2x2x3.cif   [-2.8405855542363496, -2.8403753879099565, -2....  "
      ]
     },
     "execution_count": 66,
     "metadata": {},
     "output_type": "execute_result"
    }
   ],
   "source": [
    "results_df"
   ]
  },
  {
   "cell_type": "code",
   "execution_count": 67,
   "id": "2a717825",
   "metadata": {},
   "outputs": [
    {
     "data": {
      "image/png": "[encoded data removed]",
      "text/plain": [
       "<Figure size 690x200 with 2 Axes>"
      ]
     },
     "metadata": {},
     "output_type": "display_data"
    }
   ],
   "source": [
    "fig = plt.figure(figsize=[6.9, 2], dpi=100)\n",
    "\n",
    "with plt.style.context(\"./articles_seaborn.mplstyle\"):\n",
    "    spec = fig.add_gridspec(1, 2, wspace=0.35)\n",
    "    ax1 = fig.add_subplot(spec[0])\n",
    "    ax2 = fig.add_subplot(spec[1])\n",
    "    idx = np.arange(len(results_df.index))\n",
    "    for sim in results_df.index:\n",
    "        name = sim.split(\"-\")[2]\n",
    "        ax1.plot(results_df.loc[sim, \"scm_step\"] * TIMESTEP, results_df.loc[sim, \"scm_Temp\"], label=name)\n",
    "        ax2.plot(results_df.loc[sim, \"scm_step\"] * TIMESTEP, results_df.loc[sim, \"scm_energy_per_atom_t\"], label=name)\n",
    "\n",
    "    ax1.set_ylabel(\"Temperature [K]\")\n",
    "    ax2.set_ylabel(\"Energy per atoms [eV]\")\n",
    "    ax1.set_xlabel(\"Time [fs]\")\n",
    "    ax2.set_xlabel(\"Time [fs]\")\n",
    "    ax1.legend()\n",
    "    ax2.legend()\n",
    "\n",
    "plt.show()\n",
    "fig.savefig(os.path.join(\"plots\", f\"8-{CHEM_FORMULA}_{TASK}_sim_energy.pdf\"), dpi=300, bbox_inches=\"tight\")"
   ]
  },
  {
   "cell_type": "markdown",
   "id": "1a5fda97",
   "metadata": {},
   "source": [
    "#### Save frames "
   ]
  },
  {
   "cell_type": "code",
   "execution_count": 69,
   "id": "bba95370",
   "metadata": {},
   "outputs": [],
   "source": [
    "dir_jobs = os.path.join(RUN_DIR, \"jobs\")\n",
    "conf_dir = os.path.join(MAIN_DIR_JNB1, CHEM_FORMULA, \"8.1-bulk_300K_frames\")\n",
    "cis_dir = os.path.join(MAIN_DIR_JNB1, CHEM_FORMULA, \"8-bulk_300K\")\n",
    "data_path = os.path.join(cis_dir, \"info.json\")\n",
    "results_df = pd.read_json(data_path)\n",
    "\n",
    "make_dir(conf_dir)\n",
    "last_n_frames = 10\n",
    "nskip = 2\n",
    "frame_results_df = pd.DataFrame(columns=[\"step\", \"time\", \"unitcell_repetition\"])\n",
    "\n",
    "mols_ase = []\n",
    "\n",
    "for job_dir in glob.glob(os.path.join(dir_jobs, \"*\")):\n",
    "    sim_name = job_dir.split(os.sep)[-1]\n",
    "    # sim_name = sim_name.replace(\"10.0-\", \"8.0-\")\n",
    "    job = scm.AMSJob.load_external(job_dir, settings=settings_MD)\n",
    "    # check\n",
    "    if not job.check():\n",
    "        print(f\"Simulation {job_dir} FAILED\")\n",
    "        continue\n",
    "    name = sim_name[3:]\n",
    "    steps = job_result.get_history_property(\"Step\")\n",
    "    n_frame = len(steps)\n",
    "    n_rep = results_df.loc[f\"{name}.cif\", \"unitcell_repetition\"]\n",
    "    for i_frame in range(n_frame - last_n_frames * nskip + 1, n_frame, nskip):\n",
    "        frame_name = f\"{name}_{steps[i_frame] * TIMESTEP:1.1f}ps\"\n",
    "        mol = job.results.get_history_molecule(i_frame + 1)\n",
    "        # print(os.path.join(conf_dir, f'{name}.cif'))\n",
    "        mol = toASE(mol)\n",
    "        mol.write(os.path.join(conf_dir, f\"{frame_name}.cif\"), format=\"cif\")\n",
    "        frame_results_df.loc[f\"{frame_name}.cif\", \"unitcell_repetition\"] = n_rep\n",
    "        frame_results_df.loc[f\"{frame_name}.cif\", \"step\"] = steps[i_frame]\n",
    "        frame_results_df.loc[f\"{frame_name}.cif\", \"time\"] = steps[i_frame] * TIMESTEP\n",
    "        mols_ase.append(mol.copy())\n",
    "\n",
    "frame_results_df.to_json(os.path.join(conf_dir, \"info.json\"))"
   ]
  },
  {
   "cell_type": "code",
   "execution_count": 73,
   "id": "5a408932",
   "metadata": {},
   "outputs": [
    {
     "data": {
      "text/html": [
       "<div>\n",
       "<style scoped>\n",
       "    .dataframe tbody tr th:only-of-type {\n",
       "        vertical-align: middle;\n",
       "    }\n",
       "\n",
       "    .dataframe tbody tr th {\n",
       "        vertical-align: top;\n",
       "    }\n",
       "\n",
       "    .dataframe thead th {\n",
       "        text-align: right;\n",
       "    }\n",
       "</style>\n",
       "<table border=\"1\" class=\"dataframe\">\n",
       "  <thead>\n",
       "    <tr style=\"text-align: right;\">\n",
       "      <th></th>\n",
       "      <th>step</th>\n",
       "      <th>time</th>\n",
       "      <th>unitcell_repetition</th>\n",
       "    </tr>\n",
       "  </thead>\n",
       "  <tbody>\n",
       "    <tr>\n",
       "      <th>8.0-1-LiF_P6_3mc_-3.17_2x2x3_25.0ps.cif</th>\n",
       "      <td>100</td>\n",
       "      <td>25.0</td>\n",
       "      <td>12</td>\n",
       "    </tr>\n",
       "    <tr>\n",
       "      <th>8.0-1-LiF_P6_3mc_-3.17_2x2x3_50.0ps.cif</th>\n",
       "      <td>200</td>\n",
       "      <td>50.0</td>\n",
       "      <td>12</td>\n",
       "    </tr>\n",
       "    <tr>\n",
       "      <th>8.0-1-LiF_P6_3mc_-3.17_2x2x3_75.0ps.cif</th>\n",
       "      <td>300</td>\n",
       "      <td>75.0</td>\n",
       "      <td>12</td>\n",
       "    </tr>\n",
       "    <tr>\n",
       "      <th>8.0-1-LiF_P6_3mc_-3.17_2x2x3_100.0ps.cif</th>\n",
       "      <td>400</td>\n",
       "      <td>100.0</td>\n",
       "      <td>12</td>\n",
       "    </tr>\n",
       "    <tr>\n",
       "      <th>8.0-1-LiF_P6_3mc_-3.17_2x2x3_125.0ps.cif</th>\n",
       "      <td>500</td>\n",
       "      <td>125.0</td>\n",
       "      <td>12</td>\n",
       "    </tr>\n",
       "  </tbody>\n",
       "</table>\n",
       "</div>"
      ],
      "text/plain": [
       "                                         step   time unitcell_repetition\n",
       "8.0-1-LiF_P6_3mc_-3.17_2x2x3_25.0ps.cif   100   25.0                  12\n",
       "8.0-1-LiF_P6_3mc_-3.17_2x2x3_50.0ps.cif   200   50.0                  12\n",
       "8.0-1-LiF_P6_3mc_-3.17_2x2x3_75.0ps.cif   300   75.0                  12\n",
       "8.0-1-LiF_P6_3mc_-3.17_2x2x3_100.0ps.cif  400  100.0                  12\n",
       "8.0-1-LiF_P6_3mc_-3.17_2x2x3_125.0ps.cif  500  125.0                  12"
      ]
     },
     "execution_count": 73,
     "metadata": {},
     "output_type": "execute_result"
    }
   ],
   "source": [
    "frame_results_df.head()"
   ]
  },
  {
   "cell_type": "code",
   "execution_count": 71,
   "id": "891533c1",
   "metadata": {},
   "outputs": [
    {
     "data": {
      "application/vnd.jupyter.widget-view+json": {
       "model_id": "b56023f2673d4d4c904226d60db9cf3f",
       "version_major": 2,
       "version_minor": 0
      },
      "text/plain": [
       "HBox(children=(NGLWidget(max_frame=29), VBox(children=(Dropdown(description='Show', options=('All', 'Li', 'F')…"
      ]
     },
     "execution_count": 71,
     "metadata": {},
     "output_type": "execute_result"
    }
   ],
   "source": [
    "view(mols_ase, viewer=\"ngl\")"
   ]
  },
  {
   "cell_type": "markdown",
   "id": "4b856aba",
   "metadata": {},
   "source": [
    "#### Finishing "
   ]
  },
  {
   "cell_type": "code",
   "execution_count": null,
   "id": "5426811b",
   "metadata": {},
   "outputs": [],
   "source": [
    "scm.finish()"
   ]
  },
  {
   "attachments": {},
   "cell_type": "markdown",
   "id": "1dac2df4",
   "metadata": {},
   "source": [
    "## Bulk 300 K `Single Point`"
   ]
  },
  {
   "cell_type": "code",
   "execution_count": null,
   "id": "c9202d9b",
   "metadata": {},
   "outputs": [],
   "source": [
    "SIMsNAME = \"8.1-Bulk_300K_SP\"\n",
    "TASK = \"SP\"\n",
    "RUN_DIR = os.path.join(MAIN_DIR_JNB2, CHEM_FORMULA, SIMsNAME)"
   ]
  },
  {
   "cell_type": "markdown",
   "id": "6c757efd",
   "metadata": {},
   "source": [
    "### Setting `BAND` *Single Point*"
   ]
  },
  {
   "cell_type": "code",
   "execution_count": null,
   "id": "8626c95e",
   "metadata": {},
   "outputs": [
    {
     "name": "stdout",
     "output_type": "stream",
     "text": [
      "input: \t\n",
      "      AMS: \t\n",
      "          task: \tSinglePoint\n",
      "          Properties: \t\n",
      "                     Gradients: \tyes\n",
      "                     StressTensor: \tno\n",
      "                     Hessian: \tno\n",
      "                     PESPointCharacter: \tno\n",
      "                     ElasticTensor: \tno\n",
      "          GeometryOptimization: \t\n",
      "                               OptimizeLattice: \tno\n",
      "      BAND: \t\n",
      "           basis: \t\n",
      "                 type: \tDZP\n",
      "           xc: \t\n",
      "              GGA: \tPBE\n",
      "\n"
     ]
    }
   ],
   "source": [
    "from tools.misc.default_settings import settings_7_SP\n",
    "\n",
    "print(settings_7_SP)"
   ]
  },
  {
   "cell_type": "markdown",
   "id": "d9c0afcc",
   "metadata": {},
   "source": [
    "#### Set-up `RUNNER`"
   ]
  },
  {
   "cell_type": "code",
   "execution_count": null,
   "id": "624ef865",
   "metadata": {},
   "outputs": [],
   "source": [
    "NODES = 4\n",
    "CORES_PER_NODE = 32\n",
    "CPUS_PER_CORE = 4\n",
    "MAX_JOBS = 64"
   ]
  },
  {
   "cell_type": "code",
   "execution_count": null,
   "id": "8e1410f3",
   "metadata": {},
   "outputs": [],
   "source": [
    "scm.init(folder=RUN_DIR)\n",
    "RUNNER = scm.GridRunner(grid=\"slurm\", sleepstep=5, parallel=True, maxjobs=MAX_JOBS)\n",
    "RUNNER.settings.workdir = \"-D\"\n",
    "RUNNER.settings.special.nodes = \"--nodes=\"\n",
    "RUNNER.settings.special.qos = \"--qos=\"\n",
    "RUNNER.settings.special.walltime = \"--time=\"\n",
    "RUNNER.settings.special.tasks_per_node = \"--ntasks-per-node=\"\n",
    "RUNNER.settings.special.cpus_per_task = \"--cpus-per-task=\"\n",
    "RUNNER.settings.special.partition = \"--partition=\"\n",
    "RUNNER.settings.special.account = \"--account=\"\n",
    "RUNNER.settings.special.job_name = \"--job-name=\"\n",
    "\n",
    "scm.config.log.file = 7  # debug\n",
    "scm.config.log.stdout = 1  # 1: important 3: normal 5: verbose 7: debug\n",
    "scm.config.job.pickle = False\n",
    "scm.config.job.runscript.nproc = CORES_PER_NODE\n",
    "scm.config.job.runscript.shebang = \"#!/bin/bash\"\n",
    "scm.config.default_jobrunner = RUNNER"
   ]
  },
  {
   "cell_type": "code",
   "execution_count": null,
   "id": "4289d597",
   "metadata": {},
   "outputs": [],
   "source": [
    "settings_pkl_file = os.path.join(RUN_DIR, \"settings.pkl\")\n",
    "with open(settings_pkl_file, \"wb\") as file:\n",
    "    pickle.dump(settings_7_SP, file)"
   ]
  },
  {
   "cell_type": "markdown",
   "id": "9f05d3f4",
   "metadata": {},
   "source": [
    "#### Set-up JOBS"
   ]
  },
  {
   "cell_type": "markdown",
   "id": "62d9094c",
   "metadata": {},
   "source": [
    "Load systems"
   ]
  },
  {
   "cell_type": "code",
   "execution_count": null,
   "id": "ef840613",
   "metadata": {},
   "outputs": [],
   "source": [
    "cis_dir = os.path.join(MAIN_DIR_JNB1, CHEM_FORMULA, \"8.1-bulk_300K_frames\")\n",
    "systems = []\n",
    "\n",
    "for path in np.sort(glob.glob(os.path.join(cis_dir, \"*.cif\"))):\n",
    "    system_name = path.split(os.sep)[-1].split(\".cif\")[0]\n",
    "    system_mat = Structure.from_file(path)\n",
    "    system_ase = matget2ase.get_atoms(system_mat)\n",
    "    systems.append((system_name, fromASE(system_ase)))"
   ]
  },
  {
   "cell_type": "markdown",
   "id": "23ef2454",
   "metadata": {},
   "source": [
    "Define jobs"
   ]
  },
  {
   "cell_type": "code",
   "execution_count": null,
   "id": "5300da83",
   "metadata": {},
   "outputs": [],
   "source": [
    "jobs = []\n",
    "for name, system_obj in systems:\n",
    "    sim_name = f\"{TASK}-{name}\"\n",
    "    job = scm.AMSJob(molecule=system_obj, settings=settings_7_SP, name=sim_name)\n",
    "    job.settings.runscript.pre = \"\"\"module use --append /work/pr1u1751/pr1u1751/shared/modules\n",
    "module load ams/2021.104\"\"\"\n",
    "    jobs.append(job)\n",
    "# Group all\n",
    "multi_jobs = scm.MultiJob(name=\"jobs\", children=jobs)"
   ]
  },
  {
   "cell_type": "markdown",
   "id": "77d6ddd8",
   "metadata": {},
   "source": [
    "#### Run All"
   ]
  },
  {
   "cell_type": "code",
   "execution_count": null,
   "id": "d594b680",
   "metadata": {},
   "outputs": [
    {
     "name": "stdout",
     "output_type": "stream",
     "text": [
      "[23:00:37] JOB jobs STARTED\n",
      "[23:00:37] JOB jobs/SP-11.0-0-LiF_Fm-3m_-3.18_2x2x3_100.0ps STARTED\n",
      "[23:00:37] JOB jobs/SP-11.0-0-LiF_Fm-3m_-3.18_2x2x3_125.0ps STARTED\n",
      "[23:00:37] JOB jobs/SP-11.0-0-LiF_Fm-3m_-3.18_2x2x3_150.0ps STARTED\n",
      "[23:00:37] JOB jobs/SP-11.0-0-LiF_Fm-3m_-3.18_2x2x3_175.0ps STARTED\n",
      "[23:00:37] JOB jobs/SP-11.0-0-LiF_Fm-3m_-3.18_2x2x3_200.0ps STARTED\n",
      "[23:00:37] JOB jobs/SP-11.0-0-LiF_Fm-3m_-3.18_2x2x3_225.0ps STARTED\n",
      "[23:00:37] JOB jobs/SP-11.0-0-LiF_Fm-3m_-3.18_2x2x3_25.0ps STARTED\n",
      "[23:00:37] JOB jobs/SP-11.0-0-LiF_Fm-3m_-3.18_2x2x3_250.0ps STARTED\n",
      "[23:00:37] JOB jobs/SP-11.0-0-LiF_Fm-3m_-3.18_2x2x3_50.0ps STARTED\n",
      "[23:00:37] JOB jobs/SP-11.0-0-LiF_Fm-3m_-3.18_2x2x3_75.0ps STARTED\n",
      "[23:00:37] JOB jobs/SP-11.0-1-LiF_P6_3mc_-3.17_2x2x3_100.0ps STARTED\n",
      "[23:00:37] JOB jobs/SP-11.0-1-LiF_P6_3mc_-3.17_2x2x3_125.0ps STARTED\n",
      "[23:00:37] JOB jobs/SP-11.0-1-LiF_P6_3mc_-3.17_2x2x3_150.0ps STARTED\n",
      "[23:00:37] JOB jobs/SP-11.0-1-LiF_P6_3mc_-3.17_2x2x3_175.0ps STARTED\n",
      "[23:00:37] JOB jobs/SP-11.0-1-LiF_P6_3mc_-3.17_2x2x3_200.0ps STARTED\n",
      "[23:00:37] JOB jobs/SP-11.0-1-LiF_P6_3mc_-3.17_2x2x3_225.0ps STARTED\n",
      "[23:00:37] JOB jobs/SP-11.0-1-LiF_P6_3mc_-3.17_2x2x3_25.0ps STARTED\n",
      "[23:00:37] JOB jobs/SP-11.0-1-LiF_P6_3mc_-3.17_2x2x3_250.0ps STARTED\n",
      "[23:00:37] JOB jobs/SP-11.0-1-LiF_P6_3mc_-3.17_2x2x3_50.0ps STARTED\n",
      "[23:00:37] JOB jobs/SP-11.0-1-LiF_P6_3mc_-3.17_2x2x3_75.0ps STARTED\n",
      "[23:00:37] JOB jobs/SP-11.0-2-LiF_Pm-3m_-2.89_2x2x3_100.0ps STARTED\n",
      "[23:00:37] JOB jobs/SP-11.0-2-LiF_Pm-3m_-2.89_2x2x3_125.0ps STARTED\n",
      "[23:00:37] JOB jobs/SP-11.0-2-LiF_Pm-3m_-2.89_2x2x3_150.0ps STARTED\n",
      "[23:00:37] JOB jobs/SP-11.0-2-LiF_Pm-3m_-2.89_2x2x3_175.0ps STARTED\n",
      "[23:00:37] JOB jobs/SP-11.0-2-LiF_Pm-3m_-2.89_2x2x3_200.0ps STARTED\n",
      "[23:00:37] JOB jobs/SP-11.0-2-LiF_Pm-3m_-2.89_2x2x3_225.0ps STARTED\n",
      "[23:00:38] JOB jobs/SP-11.0-2-LiF_Pm-3m_-2.89_2x2x3_25.0ps STARTED\n",
      "[23:00:38] JOB jobs/SP-11.0-2-LiF_Pm-3m_-2.89_2x2x3_250.0ps STARTED\n",
      "[23:00:38] JOB jobs/SP-11.0-2-LiF_Pm-3m_-2.89_2x2x3_50.0ps STARTED\n",
      "[23:00:38] JOB jobs/SP-11.0-2-LiF_Pm-3m_-2.89_2x2x3_75.0ps STARTED\n",
      "[23:03:55] JOB jobs/SP-11.0-1-LiF_P6_3mc_-3.17_2x2x3_200.0ps SUCCESSFUL\n",
      "[23:03:55] JOB jobs/SP-11.0-1-LiF_P6_3mc_-3.17_2x2x3_25.0ps SUCCESSFUL\n",
      "[23:03:55] JOB jobs/SP-11.0-1-LiF_P6_3mc_-3.17_2x2x3_175.0ps SUCCESSFUL\n",
      "[23:04:01] JOB jobs/SP-11.0-1-LiF_P6_3mc_-3.17_2x2x3_250.0ps SUCCESSFUL\n",
      "[23:04:01] JOB jobs/SP-11.0-1-LiF_P6_3mc_-3.17_2x2x3_150.0ps SUCCESSFUL\n",
      "[23:04:01] JOB jobs/SP-11.0-1-LiF_P6_3mc_-3.17_2x2x3_225.0ps SUCCESSFUL\n",
      "[23:05:02] JOB jobs/SP-11.0-2-LiF_Pm-3m_-2.89_2x2x3_100.0ps SUCCESSFUL\n",
      "[23:05:07] JOB jobs/SP-11.0-0-LiF_Fm-3m_-3.18_2x2x3_150.0ps SUCCESSFUL\n",
      "[23:05:13] JOB jobs/SP-11.0-2-LiF_Pm-3m_-2.89_2x2x3_250.0ps SUCCESSFUL\n",
      "[23:05:13] JOB jobs/SP-11.0-0-LiF_Fm-3m_-3.18_2x2x3_225.0ps SUCCESSFUL\n",
      "[23:05:13] JOB jobs/SP-11.0-0-LiF_Fm-3m_-3.18_2x2x3_125.0ps SUCCESSFUL\n",
      "[23:05:13] JOB jobs/SP-11.0-0-LiF_Fm-3m_-3.18_2x2x3_100.0ps SUCCESSFUL\n",
      "[23:05:25] JOB jobs/SP-11.0-0-LiF_Fm-3m_-3.18_2x2x3_25.0ps SUCCESSFUL\n",
      "[23:05:37] JOB jobs/SP-11.0-2-LiF_Pm-3m_-2.89_2x2x3_25.0ps SUCCESSFUL\n",
      "[23:07:43] JOB jobs/SP-11.0-1-LiF_P6_3mc_-3.17_2x2x3_50.0ps SUCCESSFUL\n",
      "[23:08:55] JOB jobs/SP-11.0-2-LiF_Pm-3m_-2.89_2x2x3_225.0ps SUCCESSFUL\n",
      "[23:09:01] JOB jobs/SP-11.0-0-LiF_Fm-3m_-3.18_2x2x3_50.0ps SUCCESSFUL\n",
      "[23:09:07] JOB jobs/SP-11.0-2-LiF_Pm-3m_-2.89_2x2x3_125.0ps SUCCESSFUL\n",
      "[23:09:13] JOB jobs/SP-11.0-0-LiF_Fm-3m_-3.18_2x2x3_75.0ps SUCCESSFUL\n",
      "[23:10:26] JOB jobs/SP-11.0-0-LiF_Fm-3m_-3.18_2x2x3_200.0ps SUCCESSFUL\n",
      "[23:12:44] Job jobs/SP-11.0-1-LiF_P6_3mc_-3.17_2x2x3_75.0ps reported warnings. Please check the the output\n",
      "[23:12:44] JOB jobs/SP-11.0-1-LiF_P6_3mc_-3.17_2x2x3_75.0ps SUCCESSFUL\n",
      "[23:12:44] JOB jobs/SP-11.0-2-LiF_Pm-3m_-2.89_2x2x3_75.0ps SUCCESSFUL\n",
      "[23:12:50] JOB jobs/SP-11.0-1-LiF_P6_3mc_-3.17_2x2x3_125.0ps SUCCESSFUL\n",
      "[23:12:50] Job jobs/SP-11.0-1-LiF_P6_3mc_-3.17_2x2x3_100.0ps reported warnings. Please check the the output\n",
      "[23:12:50] JOB jobs/SP-11.0-1-LiF_P6_3mc_-3.17_2x2x3_100.0ps SUCCESSFUL\n",
      "[23:13:56] JOB jobs/SP-11.0-2-LiF_Pm-3m_-2.89_2x2x3_50.0ps SUCCESSFUL\n",
      "[23:14:02] Job jobs/SP-11.0-2-LiF_Pm-3m_-2.89_2x2x3_175.0ps reported warnings. Please check the the output\n",
      "[23:14:02] JOB jobs/SP-11.0-2-LiF_Pm-3m_-2.89_2x2x3_175.0ps SUCCESSFUL\n",
      "[23:14:02] JOB jobs/SP-11.0-2-LiF_Pm-3m_-2.89_2x2x3_200.0ps SUCCESSFUL\n",
      "[23:14:07] JOB jobs/SP-11.0-0-LiF_Fm-3m_-3.18_2x2x3_175.0ps SUCCESSFUL\n",
      "[23:14:13] JOB jobs/SP-11.0-0-LiF_Fm-3m_-3.18_2x2x3_250.0ps SUCCESSFUL\n",
      "[23:41:56] JOB jobs/SP-11.0-2-LiF_Pm-3m_-2.89_2x2x3_150.0ps FAILED\n",
      "[23:42:00] JOB jobs FAILED\n"
     ]
    }
   ],
   "source": [
    "result = multi_jobs.run(\n",
    "    jobrunner=RUNNER,\n",
    "    nodes=NODES,\n",
    "    cores=CORES_PER_NODE * NODES,\n",
    "    tasks_per_node=CORES_PER_NODE,\n",
    "    cpus_per_task=CPUS_PER_CORE,\n",
    "    walltime=\"24:00:00\",\n",
    "    partition=\"standard\",\n",
    "    account=\"pr1u1751\",\n",
    "    qos=\"standard\",\n",
    ")"
   ]
  },
  {
   "cell_type": "markdown",
   "id": "5c3c0d4e",
   "metadata": {},
   "source": [
    "#### Post-processing"
   ]
  },
  {
   "cell_type": "markdown",
   "id": "bda00240",
   "metadata": {},
   "source": [
    "Load Material Project data"
   ]
  },
  {
   "cell_type": "code",
   "execution_count": null,
   "id": "ba0dabd8",
   "metadata": {},
   "outputs": [],
   "source": [
    "dir_jobs = os.path.join(RUN_DIR, \"jobs\")\n",
    "\n",
    "cis_dir = os.path.join(MAIN_DIR_JNB1, CHEM_FORMULA, \"8.1-bulk_300K_frames\")\n",
    "data_path = os.path.join(cis_dir, \"info.json\")\n",
    "results_df = pd.read_json(data_path)"
   ]
  },
  {
   "cell_type": "code",
   "execution_count": null,
   "id": "bc027cc2",
   "metadata": {},
   "outputs": [
    {
     "data": {
      "text/html": [
       "<div>\n",
       "<style scoped>\n",
       "    .dataframe tbody tr th:only-of-type {\n",
       "        vertical-align: middle;\n",
       "    }\n",
       "\n",
       "    .dataframe tbody tr th {\n",
       "        vertical-align: top;\n",
       "    }\n",
       "\n",
       "    .dataframe thead th {\n",
       "        text-align: right;\n",
       "    }\n",
       "</style>\n",
       "<table border=\"1\" class=\"dataframe\">\n",
       "  <thead>\n",
       "    <tr style=\"text-align: right;\">\n",
       "      <th></th>\n",
       "      <th>step</th>\n",
       "      <th>time</th>\n",
       "      <th>unitcell_repetition</th>\n",
       "    </tr>\n",
       "  </thead>\n",
       "  <tbody>\n",
       "    <tr>\n",
       "      <th>7.0-1-LiF_P6_3mc_-3.17_3x3x3_400.0ps.cif</th>\n",
       "      <td>1600</td>\n",
       "      <td>400</td>\n",
       "      <td>27</td>\n",
       "    </tr>\n",
       "    <tr>\n",
       "      <th>7.0-1-LiF_P6_3mc_-3.17_3x3x3_425.0ps.cif</th>\n",
       "      <td>1700</td>\n",
       "      <td>425</td>\n",
       "      <td>27</td>\n",
       "    </tr>\n",
       "    <tr>\n",
       "      <th>7.0-1-LiF_P6_3mc_-3.17_3x3x3_450.0ps.cif</th>\n",
       "      <td>1800</td>\n",
       "      <td>450</td>\n",
       "      <td>27</td>\n",
       "    </tr>\n",
       "    <tr>\n",
       "      <th>7.0-1-LiF_P6_3mc_-3.17_3x3x3_475.0ps.cif</th>\n",
       "      <td>1900</td>\n",
       "      <td>475</td>\n",
       "      <td>27</td>\n",
       "    </tr>\n",
       "    <tr>\n",
       "      <th>7.0-1-LiF_P6_3mc_-3.17_3x3x3_500.0ps.cif</th>\n",
       "      <td>2000</td>\n",
       "      <td>500</td>\n",
       "      <td>27</td>\n",
       "    </tr>\n",
       "  </tbody>\n",
       "</table>\n",
       "</div>"
      ],
      "text/plain": [
       "                                          step  time  unitcell_repetition\n",
       "7.0-1-LiF_P6_3mc_-3.17_3x3x3_400.0ps.cif  1600   400                   27\n",
       "7.0-1-LiF_P6_3mc_-3.17_3x3x3_425.0ps.cif  1700   425                   27\n",
       "7.0-1-LiF_P6_3mc_-3.17_3x3x3_450.0ps.cif  1800   450                   27\n",
       "7.0-1-LiF_P6_3mc_-3.17_3x3x3_475.0ps.cif  1900   475                   27\n",
       "7.0-1-LiF_P6_3mc_-3.17_3x3x3_500.0ps.cif  2000   500                   27"
      ]
     },
     "metadata": {},
     "output_type": "display_data"
    }
   ],
   "source": [
    "results_df.head()"
   ]
  },
  {
   "cell_type": "code",
   "execution_count": null,
   "id": "4c52e70e",
   "metadata": {},
   "outputs": [],
   "source": [
    "for job_dir in np.sort(glob.glob(os.path.join(dir_jobs, \"*\"))):\n",
    "    sim_name = job_dir.split(os.sep)[-1]\n",
    "    job = scm.AMSJob.load_external(job_dir, settings=settings_7_SP)\n",
    "    # check\n",
    "    if not job.check():\n",
    "        print(f\"Simulation {job_dir} FAILED\")\n",
    "        continue\n",
    "    job_result = job.results\n",
    "    energy = scm.Units.convert(job_result.get_energy(), \"au\", \"eV\")\n",
    "    results_df.loc[sim_name[3:] + \".cif\", \"energy_SP\"] = energy\n",
    "    Na = len(job_result.get_molecule(\"Molecule\").atoms)\n",
    "    energy_per_atom = energy / Na\n",
    "    results_df.loc[sim_name[3:] + \".cif\", \"energy_per_atom_SP\"] = energy_per_atom\n",
    "\n",
    "results_df.to_json(os.path.join(RUN_DIR, f\"results.json\"))"
   ]
  },
  {
   "cell_type": "markdown",
   "id": "fd46993c",
   "metadata": {},
   "source": [
    "### Finishing"
   ]
  },
  {
   "cell_type": "code",
   "execution_count": null,
   "id": "fa72fdb0",
   "metadata": {},
   "outputs": [],
   "source": [
    "scm.finish()"
   ]
  },
  {
   "attachments": {},
   "cell_type": "markdown",
   "id": "3b0a04db",
   "metadata": {},
   "source": [
    "## Bulk 500 K `ab initio MD`"
   ]
  },
  {
   "cell_type": "code",
   "execution_count": 74,
   "id": "40ca5525",
   "metadata": {},
   "outputs": [],
   "source": [
    "SIMsNAME = \"9-Bulk_500K_MD\"\n",
    "TASK = \"MD\"\n",
    "RUN_DIR = os.path.join(MAIN_DIR_JNB2, CHEM_FORMULA, SIMsNAME)"
   ]
  },
  {
   "cell_type": "markdown",
   "id": "0241c13c",
   "metadata": {},
   "source": [
    "#### Setting `DFTB` *ab initio MD*"
   ]
  },
  {
   "cell_type": "markdown",
   "id": "71f1ba50",
   "metadata": {},
   "source": [
    "MD settings"
   ]
  },
  {
   "cell_type": "code",
   "execution_count": 75,
   "id": "7926d994",
   "metadata": {},
   "outputs": [
    {
     "name": "stdout",
     "output_type": "stream",
     "text": [
      "input: \t\n",
      "      ams: \t\n",
      "          task: \tMolecularDynamics\n",
      "          MolecularDynamics: \t\n",
      "                            NSteps: \t1000\n",
      "                            TimeStep: \t0.25\n",
      "                            Trajectory: \t\n",
      "                                       PrintFreq: \t5\n",
      "                                       SamplingFreq: \t50\n",
      "                            InitialVelocities: \t\n",
      "                                              Temperature: \t300\n",
      "                            Thermostat: \t\n",
      "                                       Type: \tBerendsen\n",
      "                                       Temperature: \t300\n",
      "                                       Tau: \t25\n",
      "      DFTB: \t\n",
      "           Model: \tNonSCC-GFN1-xTB\n",
      "\n"
     ]
    }
   ],
   "source": [
    "STEPS = 1000\n",
    "TIMESTEP = 0.25  # [fs]\n",
    "TEMP = 300  # [K]\n",
    "\n",
    "from tools.misc.default_settings import settings_MD\n",
    "\n",
    "settings_MD.input.ams.MolecularDynamics.NSteps = STEPS\n",
    "settings_MD.input.ams.MolecularDynamics.TimeStep = TIMESTEP\n",
    "settings_MD.input.ams.MolecularDynamics.InitialVelocities.Temperature = TEMP\n",
    "settings_MD.input.ams.MolecularDynamics.Thermostat.Temperature = TEMP\n",
    "settings_MD.input.ams.MolecularDynamics.Thermostat.Tau = int(100 * TIMESTEP)\n",
    "\n",
    "print(settings_MD)"
   ]
  },
  {
   "cell_type": "markdown",
   "id": "35f290cf",
   "metadata": {},
   "source": [
    "#### Set-up `RUNNER`"
   ]
  },
  {
   "cell_type": "code",
   "execution_count": 76,
   "id": "2383b775",
   "metadata": {},
   "outputs": [],
   "source": [
    "NODES = 1\n",
    "CORES_PER_NODE = 128\n",
    "CPUS_PER_CORE = 2\n",
    "MAX_JOBS = 0"
   ]
  },
  {
   "cell_type": "code",
   "execution_count": null,
   "id": "fa340fb4",
   "metadata": {},
   "outputs": [],
   "source": [
    "scm.init(folder=RUN_DIR)\n",
    "RUNNER = scm.GridRunner(grid=\"slurm\", sleepstep=5, parallel=True, maxjobs=MAX_JOBS)\n",
    "RUNNER.settings.workdir = \"-D\"\n",
    "RUNNER.settings.special.nodes = \"--nodes=\"\n",
    "RUNNER.settings.special.qos = \"--qos=\"\n",
    "RUNNER.settings.special.walltime = \"--time=\"\n",
    "RUNNER.settings.special.tasks_per_node = \"--ntasks-per-node=\"\n",
    "RUNNER.settings.special.cpus_per_task = \"--cpus-per-task=\"\n",
    "RUNNER.settings.special.partition = \"--partition=\"\n",
    "RUNNER.settings.special.account = \"--account=\"\n",
    "RUNNER.settings.special.job_name = \"--job-name=\"\n",
    "\n",
    "scm.config.log.file = 7  # debug\n",
    "scm.config.log.stdout = 1  # 1: important 3: normal 5: verbose 7: debug\n",
    "scm.config.job.pickle = False\n",
    "scm.config.job.runscript.nproc = CORES_PER_NODE\n",
    "scm.config.job.runscript.shebang = \"#!/bin/bash\"\n",
    "scm.config.default_jobrunner = RUNNER"
   ]
  },
  {
   "cell_type": "code",
   "execution_count": 77,
   "id": "eb138ca8",
   "metadata": {},
   "outputs": [],
   "source": [
    "settings_pkl_file = os.path.join(RUN_DIR, \"settings.pkl\")\n",
    "with open(settings_pkl_file, \"wb\") as file:\n",
    "    pickle.dump(settings_MD, file)"
   ]
  },
  {
   "cell_type": "markdown",
   "id": "8cec58f7",
   "metadata": {},
   "source": [
    "#### Set-up JOBS"
   ]
  },
  {
   "cell_type": "markdown",
   "id": "c51d66c7",
   "metadata": {},
   "source": [
    "Load systems"
   ]
  },
  {
   "cell_type": "code",
   "execution_count": 78,
   "id": "6aa57046",
   "metadata": {},
   "outputs": [
    {
     "name": "stderr",
     "output_type": "stream",
     "text": [
      "/home/paolo/Enhancing_ReaxFF/venv/lib/python3.8/site-packages/pymatgen/io/cif.py:1134: UserWarning: Issues encountered while parsing CIF: Some fractional coordinates rounded to ideal values to avoid issues with finite precision.\n",
      "  warnings.warn(\"Issues encountered while parsing CIF: \" + \"\\n\".join(self.warnings))\n"
     ]
    }
   ],
   "source": [
    "cis_dir = os.path.join(MAIN_DIR_JNB1, CHEM_FORMULA, \"9-bulk_500K\")\n",
    "systems = []\n",
    "\n",
    "for path in np.sort(glob.glob(os.path.join(cis_dir, \"*.cif\"))):\n",
    "    system_name = path.split(os.sep)[-1].split(\".cif\")[0]\n",
    "    system_mat = Structure.from_file(path)\n",
    "    system_ase = matget2ase.get_atoms(system_mat)\n",
    "    systems.append((system_name, fromASE(system_ase)))"
   ]
  },
  {
   "cell_type": "markdown",
   "id": "9ca33be9",
   "metadata": {},
   "source": [
    "Define jobs"
   ]
  },
  {
   "cell_type": "code",
   "execution_count": null,
   "id": "b338311d",
   "metadata": {},
   "outputs": [],
   "source": [
    "jobs = []\n",
    "for name, system_obj in systems:\n",
    "    sim_name = f\"{TASK}-{name}\"\n",
    "    job = scm.AMSJob(molecule=system_obj, settings=settings_MD, name=sim_name)\n",
    "    job.settings.runscript.pre = \"\"\"module use --append /work/pr1u1751/pr1u1751/shared/modules\n",
    "module load ams/2022.102\"\"\"\n",
    "    jobs.append(job)\n",
    "# Group all\n",
    "multi_jobs = scm.MultiJob(name=\"jobs\", children=jobs)"
   ]
  },
  {
   "cell_type": "markdown",
   "id": "1c2344ea",
   "metadata": {},
   "source": [
    "#### Run All"
   ]
  },
  {
   "cell_type": "code",
   "execution_count": null,
   "id": "5970936c",
   "metadata": {},
   "outputs": [
    {
     "name": "stdout",
     "output_type": "stream",
     "text": [
      "[12:36:49] JOB jobs STARTED\n",
      "[12:36:49] JOB jobs/MD-11.0-0-LiF_Fm-3m_-3.18_2x2x3 STARTED\n",
      "[12:36:49] JOB jobs/MD-11.0-1-LiF_P6_3mc_-3.17_2x2x3 STARTED\n",
      "[12:36:49] JOB jobs/MD-11.0-2-LiF_Pm-3m_-2.89_2x2x3 STARTED\n"
     ]
    }
   ],
   "source": [
    "result = multi_jobs.run(\n",
    "    jobrunner=RUNNER,\n",
    "    nodes=NODES,\n",
    "    cores=CORES_PER_NODE * NODES,\n",
    "    tasks_per_node=CORES_PER_NODE,\n",
    "    cpus_per_task=CPUS_PER_CORE,\n",
    "    walltime=\"24:00:00\",\n",
    "    partition=\"standard\",\n",
    "    account=\"pr1u1751\",\n",
    "    qos=\"standard\",\n",
    ")"
   ]
  },
  {
   "cell_type": "markdown",
   "id": "579103c3",
   "metadata": {},
   "source": [
    "#### Post-processing"
   ]
  },
  {
   "cell_type": "markdown",
   "id": "e70196d1",
   "metadata": {},
   "source": [
    "Load Material Project data"
   ]
  },
  {
   "cell_type": "code",
   "execution_count": 83,
   "id": "07e55764",
   "metadata": {},
   "outputs": [],
   "source": [
    "dir_jobs = os.path.join(RUN_DIR, \"jobs\")\n",
    "\n",
    "cis_dir = os.path.join(MAIN_DIR_JNB1, CHEM_FORMULA, \"9-bulk_500K\")\n",
    "data_path = os.path.join(cis_dir, \"info.json\")\n",
    "results_df = pd.read_json(data_path)"
   ]
  },
  {
   "cell_type": "code",
   "execution_count": 84,
   "id": "d8cf716c",
   "metadata": {},
   "outputs": [
    {
     "data": {
      "text/html": [
       "<div>\n",
       "<style scoped>\n",
       "    .dataframe tbody tr th:only-of-type {\n",
       "        vertical-align: middle;\n",
       "    }\n",
       "\n",
       "    .dataframe tbody tr th {\n",
       "        vertical-align: top;\n",
       "    }\n",
       "\n",
       "    .dataframe thead th {\n",
       "        text-align: right;\n",
       "    }\n",
       "</style>\n",
       "<table border=\"1\" class=\"dataframe\">\n",
       "  <thead>\n",
       "    <tr style=\"text-align: right;\">\n",
       "      <th></th>\n",
       "      <th>unitcell_repetition</th>\n",
       "    </tr>\n",
       "  </thead>\n",
       "  <tbody>\n",
       "    <tr>\n",
       "      <th>9.0-0-LiF_Fm-3m_-3.18_2x2x3.cif</th>\n",
       "      <td>12</td>\n",
       "    </tr>\n",
       "    <tr>\n",
       "      <th>9.0-1-LiF_P6_3mc_-3.17_2x2x3.cif</th>\n",
       "      <td>12</td>\n",
       "    </tr>\n",
       "    <tr>\n",
       "      <th>9.0-2-LiF_Pm-3m_-2.89_2x2x3.cif</th>\n",
       "      <td>12</td>\n",
       "    </tr>\n",
       "  </tbody>\n",
       "</table>\n",
       "</div>"
      ],
      "text/plain": [
       "                                  unitcell_repetition\n",
       "9.0-0-LiF_Fm-3m_-3.18_2x2x3.cif                    12\n",
       "9.0-1-LiF_P6_3mc_-3.17_2x2x3.cif                   12\n",
       "9.0-2-LiF_Pm-3m_-2.89_2x2x3.cif                    12"
      ]
     },
     "execution_count": 84,
     "metadata": {},
     "output_type": "execute_result"
    }
   ],
   "source": [
    "results_df"
   ]
  },
  {
   "cell_type": "code",
   "execution_count": 85,
   "id": "01d80d0b",
   "metadata": {},
   "outputs": [],
   "source": [
    "temp_df = pd.DataFrame(index=results_df.index, columns=[\"scm_step\", \"scm_Temp\", \"scm_energy_per_atom_t\"])\n",
    "\n",
    "for job_dir in glob.glob(os.path.join(dir_jobs, \"*\")):\n",
    "    sim_name = job_dir.split(os.sep)[-1]\n",
    "    # sim_name = sim_name.replace(\"11.0-\", \"9.0-\")\n",
    "    job = scm.AMSJob.load_external(job_dir, settings=settings_MD)\n",
    "    # check\n",
    "    if not job.check():\n",
    "        print(f\"Simulation {job_dir} FAILED\")\n",
    "        continue\n",
    "    job_result = job.results\n",
    "    Nentry = job_result.read_rkf_section(\"History\")[\"nEntries\"]\n",
    "    energy = scm.Units.convert(\n",
    "        job_result.read_rkf_section(\"History\")[f\"Energy({Nentry})\"], \"au\", \"eV\"\n",
    "    )  # scm.Units.convert(job_result.get_energy(), 'au', 'eV')\n",
    "    results_df.loc[sim_name[3:] + \".cif\", \"scm_energy\"] = energy\n",
    "    Na = len(job_result.get_molecule(\"Molecule\").atoms)\n",
    "    energy_per_atom = energy / Na\n",
    "    results_df.loc[sim_name[3:] + \".cif\", \"scm_energy_per_atom\"] = energy_per_atom\n",
    "    results_df.loc[sim_name[3:] + \".cif\", \"system_id\"] = int(sim_name.split(\"-\")[2])\n",
    "    temp_df.at[sim_name[3:] + \".cif\", \"scm_step\"] = np.array(job_result.get_history_property(\"Step\"))\n",
    "    temp_df.at[sim_name[3:] + \".cif\", \"scm_Temp\"] = np.array(job_result.read_rkf_section(\"MDHistory\")[\"Temperature(1)\"])\n",
    "    temp_df.at[sim_name[3:] + \".cif\", \"scm_energy_per_atom_t\"] = (\n",
    "        np.array(job_result.get_history_property(\"Energy\")) / Na\n",
    "    )\n",
    "\n",
    "results_df = pd.concat([results_df, temp_df], axis=1)\n",
    "results_df.to_json(os.path.join(RUN_DIR, f\"results.json\"))"
   ]
  },
  {
   "cell_type": "code",
   "execution_count": 86,
   "id": "3ea873f6",
   "metadata": {},
   "outputs": [
    {
     "data": {
      "text/html": [
       "<div>\n",
       "<style scoped>\n",
       "    .dataframe tbody tr th:only-of-type {\n",
       "        vertical-align: middle;\n",
       "    }\n",
       "\n",
       "    .dataframe tbody tr th {\n",
       "        vertical-align: top;\n",
       "    }\n",
       "\n",
       "    .dataframe thead th {\n",
       "        text-align: right;\n",
       "    }\n",
       "</style>\n",
       "<table border=\"1\" class=\"dataframe\">\n",
       "  <thead>\n",
       "    <tr style=\"text-align: right;\">\n",
       "      <th></th>\n",
       "      <th>unitcell_repetition</th>\n",
       "      <th>scm_energy</th>\n",
       "      <th>scm_energy_per_atom</th>\n",
       "      <th>system_id</th>\n",
       "      <th>scm_step</th>\n",
       "      <th>scm_Temp</th>\n",
       "      <th>scm_energy_per_atom_t</th>\n",
       "    </tr>\n",
       "  </thead>\n",
       "  <tbody>\n",
       "    <tr>\n",
       "      <th>9.0-0-LiF_Fm-3m_-3.18_2x2x3.cif</th>\n",
       "      <td>12</td>\n",
       "      <td>-1855.574178</td>\n",
       "      <td>-77.315591</td>\n",
       "      <td>0.0</td>\n",
       "      <td>[0, 50, 100, 150, 200, 250, 300, 350, 400, 450...</td>\n",
       "      <td>[499.9999999999999, 416.923323063444, 271.1582...</td>\n",
       "      <td>[-2.8434003513590658, -2.842952894535068, -2.8...</td>\n",
       "    </tr>\n",
       "    <tr>\n",
       "      <th>9.0-1-LiF_P6_3mc_-3.17_2x2x3.cif</th>\n",
       "      <td>12</td>\n",
       "      <td>-3705.435048</td>\n",
       "      <td>-77.196564</td>\n",
       "      <td>1.0</td>\n",
       "      <td>[0, 50, 100, 150, 200, 250, 300, 350, 400, 450...</td>\n",
       "      <td>[499.9999999999999, 389.0072525130963, 325.165...</td>\n",
       "      <td>[-2.8394662073566574, -2.8388537012790294, -2....</td>\n",
       "    </tr>\n",
       "    <tr>\n",
       "      <th>9.0-2-LiF_Pm-3m_-2.89_2x2x3.cif</th>\n",
       "      <td>12</td>\n",
       "      <td>-1854.542496</td>\n",
       "      <td>-77.272604</td>\n",
       "      <td>2.0</td>\n",
       "      <td>[0, 50, 100, 150, 200, 250, 300, 350, 400, 450...</td>\n",
       "      <td>[500.0, 424.927725103416, 320.27012569595587, ...</td>\n",
       "      <td>[-2.8405855542363496, -2.8401801382610117, -2....</td>\n",
       "    </tr>\n",
       "  </tbody>\n",
       "</table>\n",
       "</div>"
      ],
      "text/plain": [
       "                                  unitcell_repetition   scm_energy  \\\n",
       "9.0-0-LiF_Fm-3m_-3.18_2x2x3.cif                    12 -1855.574178   \n",
       "9.0-1-LiF_P6_3mc_-3.17_2x2x3.cif                   12 -3705.435048   \n",
       "9.0-2-LiF_Pm-3m_-2.89_2x2x3.cif                    12 -1854.542496   \n",
       "\n",
       "                                  scm_energy_per_atom  system_id  \\\n",
       "9.0-0-LiF_Fm-3m_-3.18_2x2x3.cif            -77.315591        0.0   \n",
       "9.0-1-LiF_P6_3mc_-3.17_2x2x3.cif           -77.196564        1.0   \n",
       "9.0-2-LiF_Pm-3m_-2.89_2x2x3.cif            -77.272604        2.0   \n",
       "\n",
       "                                                                           scm_step  \\\n",
       "9.0-0-LiF_Fm-3m_-3.18_2x2x3.cif   [0, 50, 100, 150, 200, 250, 300, 350, 400, 450...   \n",
       "9.0-1-LiF_P6_3mc_-3.17_2x2x3.cif  [0, 50, 100, 150, 200, 250, 300, 350, 400, 450...   \n",
       "9.0-2-LiF_Pm-3m_-2.89_2x2x3.cif   [0, 50, 100, 150, 200, 250, 300, 350, 400, 450...   \n",
       "\n",
       "                                                                           scm_Temp  \\\n",
       "9.0-0-LiF_Fm-3m_-3.18_2x2x3.cif   [499.9999999999999, 416.923323063444, 271.1582...   \n",
       "9.0-1-LiF_P6_3mc_-3.17_2x2x3.cif  [499.9999999999999, 389.0072525130963, 325.165...   \n",
       "9.0-2-LiF_Pm-3m_-2.89_2x2x3.cif   [500.0, 424.927725103416, 320.27012569595587, ...   \n",
       "\n",
       "                                                              scm_energy_per_atom_t  \n",
       "9.0-0-LiF_Fm-3m_-3.18_2x2x3.cif   [-2.8434003513590658, -2.842952894535068, -2.8...  \n",
       "9.0-1-LiF_P6_3mc_-3.17_2x2x3.cif  [-2.8394662073566574, -2.8388537012790294, -2....  \n",
       "9.0-2-LiF_Pm-3m_-2.89_2x2x3.cif   [-2.8405855542363496, -2.8401801382610117, -2....  "
      ]
     },
     "execution_count": 86,
     "metadata": {},
     "output_type": "execute_result"
    }
   ],
   "source": [
    "results_df"
   ]
  },
  {
   "cell_type": "code",
   "execution_count": 87,
   "id": "c02ce972",
   "metadata": {},
   "outputs": [
    {
     "data": {
      "image/png": "[encoded data removed]",
      "text/plain": [
       "<Figure size 690x200 with 2 Axes>"
      ]
     },
     "metadata": {},
     "output_type": "display_data"
    }
   ],
   "source": [
    "fig = plt.figure(figsize=[6.9, 2], dpi=100)\n",
    "\n",
    "with plt.style.context(\"./articles_seaborn.mplstyle\"):\n",
    "    spec = fig.add_gridspec(1, 2, wspace=0.35)\n",
    "    ax1 = fig.add_subplot(spec[0])\n",
    "    ax2 = fig.add_subplot(spec[1])\n",
    "    idx = np.arange(len(results_df.index))\n",
    "    for sim in results_df.index:\n",
    "        name = sim.split(\"-\")[2]\n",
    "        ax1.plot(results_df.loc[sim, \"scm_step\"] * TIMESTEP, results_df.loc[sim, \"scm_Temp\"], label=name)\n",
    "        ax2.plot(results_df.loc[sim, \"scm_step\"] * TIMESTEP, results_df.loc[sim, \"scm_energy_per_atom_t\"], label=name)\n",
    "\n",
    "    ax1.set_ylabel(\"Temperature [K]\")\n",
    "    ax2.set_ylabel(\"Energy per atoms [eV]\")\n",
    "    ax1.set_xlabel(\"Time [fs]\")\n",
    "    ax2.set_xlabel(\"Time [fs]\")\n",
    "    ax1.legend()\n",
    "    ax2.legend()\n",
    "\n",
    "plt.show()\n",
    "fig.savefig(os.path.join(\"plots\", f\"9-{CHEM_FORMULA}_{TASK}_sim_energy.pdf\"), dpi=300, bbox_inches=\"tight\")"
   ]
  },
  {
   "cell_type": "markdown",
   "id": "fb2576f9",
   "metadata": {},
   "source": [
    "#### Save frames "
   ]
  },
  {
   "cell_type": "code",
   "execution_count": 88,
   "id": "afe98808",
   "metadata": {},
   "outputs": [],
   "source": [
    "dir_jobs = os.path.join(RUN_DIR, \"jobs\")\n",
    "conf_dir = os.path.join(MAIN_DIR_JNB1, CHEM_FORMULA, \"9.1-bulk_500K_frames\")\n",
    "cis_dir = os.path.join(MAIN_DIR_JNB1, CHEM_FORMULA, \"9-bulk_500K\")\n",
    "data_path = os.path.join(cis_dir, \"info.json\")\n",
    "results_df = pd.read_json(data_path)\n",
    "\n",
    "make_dir(conf_dir)\n",
    "last_n_frames = 10\n",
    "nskip = 2\n",
    "frame_results_df = pd.DataFrame(columns=[\"step\", \"time\", \"unitcell_repetition\"])\n",
    "\n",
    "mols_ase = []\n",
    "\n",
    "for job_dir in glob.glob(os.path.join(dir_jobs, \"*\")):\n",
    "    sim_name = job_dir.split(os.sep)[-1]\n",
    "    # sim_name = sim_name.replace(\"11.0-\", \"9.0-\")\n",
    "    job = scm.AMSJob.load_external(job_dir, settings=settings_MD)\n",
    "    # check\n",
    "    if not job.check():\n",
    "        print(f\"Simulation {job_dir} FAILED\")\n",
    "        continue\n",
    "    name = sim_name[3:]\n",
    "    steps = job_result.get_history_property(\"Step\")\n",
    "    n_frame = len(steps)\n",
    "    n_rep = results_df.loc[f\"{name}.cif\", \"unitcell_repetition\"]\n",
    "    for i_frame in range(n_frame - last_n_frames * nskip + 1, n_frame, nskip):\n",
    "        frame_name = f\"{name}_{steps[i_frame] * TIMESTEP:1.1f}ps\"\n",
    "        mol = job.results.get_history_molecule(i_frame + 1)\n",
    "        # print(os.path.join(conf_dir, f'{name}.cif'))\n",
    "        mol = toASE(mol)\n",
    "        mol.write(os.path.join(conf_dir, f\"{frame_name}.cif\"), format=\"cif\")\n",
    "        frame_results_df.loc[f\"{frame_name}.cif\", \"unitcell_repetition\"] = n_rep\n",
    "        frame_results_df.loc[f\"{frame_name}.cif\", \"step\"] = steps[i_frame]\n",
    "        frame_results_df.loc[f\"{frame_name}.cif\", \"time\"] = steps[i_frame] * TIMESTEP\n",
    "        mols_ase.append(mol.copy())\n",
    "\n",
    "frame_results_df.to_json(os.path.join(conf_dir, \"info.json\"))"
   ]
  },
  {
   "cell_type": "code",
   "execution_count": 89,
   "id": "ce837531",
   "metadata": {},
   "outputs": [
    {
     "data": {
      "text/html": [
       "<div>\n",
       "<style scoped>\n",
       "    .dataframe tbody tr th:only-of-type {\n",
       "        vertical-align: middle;\n",
       "    }\n",
       "\n",
       "    .dataframe tbody tr th {\n",
       "        vertical-align: top;\n",
       "    }\n",
       "\n",
       "    .dataframe thead th {\n",
       "        text-align: right;\n",
       "    }\n",
       "</style>\n",
       "<table border=\"1\" class=\"dataframe\">\n",
       "  <thead>\n",
       "    <tr style=\"text-align: right;\">\n",
       "      <th></th>\n",
       "      <th>step</th>\n",
       "      <th>time</th>\n",
       "      <th>unitcell_repetition</th>\n",
       "    </tr>\n",
       "  </thead>\n",
       "  <tbody>\n",
       "    <tr>\n",
       "      <th>9.0-1-LiF_P6_3mc_-3.17_2x2x3_25.0ps.cif</th>\n",
       "      <td>100</td>\n",
       "      <td>25.0</td>\n",
       "      <td>12</td>\n",
       "    </tr>\n",
       "    <tr>\n",
       "      <th>9.0-1-LiF_P6_3mc_-3.17_2x2x3_50.0ps.cif</th>\n",
       "      <td>200</td>\n",
       "      <td>50.0</td>\n",
       "      <td>12</td>\n",
       "    </tr>\n",
       "    <tr>\n",
       "      <th>9.0-1-LiF_P6_3mc_-3.17_2x2x3_75.0ps.cif</th>\n",
       "      <td>300</td>\n",
       "      <td>75.0</td>\n",
       "      <td>12</td>\n",
       "    </tr>\n",
       "    <tr>\n",
       "      <th>9.0-1-LiF_P6_3mc_-3.17_2x2x3_100.0ps.cif</th>\n",
       "      <td>400</td>\n",
       "      <td>100.0</td>\n",
       "      <td>12</td>\n",
       "    </tr>\n",
       "    <tr>\n",
       "      <th>9.0-1-LiF_P6_3mc_-3.17_2x2x3_125.0ps.cif</th>\n",
       "      <td>500</td>\n",
       "      <td>125.0</td>\n",
       "      <td>12</td>\n",
       "    </tr>\n",
       "  </tbody>\n",
       "</table>\n",
       "</div>"
      ],
      "text/plain": [
       "                                         step   time unitcell_repetition\n",
       "9.0-1-LiF_P6_3mc_-3.17_2x2x3_25.0ps.cif   100   25.0                  12\n",
       "9.0-1-LiF_P6_3mc_-3.17_2x2x3_50.0ps.cif   200   50.0                  12\n",
       "9.0-1-LiF_P6_3mc_-3.17_2x2x3_75.0ps.cif   300   75.0                  12\n",
       "9.0-1-LiF_P6_3mc_-3.17_2x2x3_100.0ps.cif  400  100.0                  12\n",
       "9.0-1-LiF_P6_3mc_-3.17_2x2x3_125.0ps.cif  500  125.0                  12"
      ]
     },
     "execution_count": 89,
     "metadata": {},
     "output_type": "execute_result"
    }
   ],
   "source": [
    "frame_results_df.head()"
   ]
  },
  {
   "cell_type": "code",
   "execution_count": 90,
   "id": "515e6a53",
   "metadata": {},
   "outputs": [
    {
     "data": {
      "application/vnd.jupyter.widget-view+json": {
       "model_id": "e82677d5780249c4a40f0359fded44ac",
       "version_major": 2,
       "version_minor": 0
      },
      "text/plain": [
       "HBox(children=(NGLWidget(max_frame=29), VBox(children=(Dropdown(description='Show', options=('All', 'Li', 'F')…"
      ]
     },
     "execution_count": 90,
     "metadata": {},
     "output_type": "execute_result"
    }
   ],
   "source": [
    "view(mols_ase, viewer=\"ngl\")"
   ]
  },
  {
   "cell_type": "markdown",
   "id": "6d8b1eb0",
   "metadata": {},
   "source": [
    "#### Finishing "
   ]
  },
  {
   "cell_type": "code",
   "execution_count": null,
   "id": "c518c9a4",
   "metadata": {},
   "outputs": [],
   "source": [
    "scm.finish()"
   ]
  },
  {
   "attachments": {},
   "cell_type": "markdown",
   "id": "3a8d009f",
   "metadata": {},
   "source": [
    "## Bulk 500 K `Single Point`"
   ]
  },
  {
   "cell_type": "code",
   "execution_count": null,
   "id": "c80e9124",
   "metadata": {},
   "outputs": [],
   "source": [
    "SIMsNAME = \"9.1-Bulk_500K_SP\"\n",
    "TASK = \"SP\"\n",
    "RUN_DIR = os.path.join(MAIN_DIR_JNB2, CHEM_FORMULA, SIMsNAME)"
   ]
  },
  {
   "cell_type": "markdown",
   "id": "d52f3076",
   "metadata": {},
   "source": [
    "### Setting `BAND` *Single Point*"
   ]
  },
  {
   "cell_type": "code",
   "execution_count": null,
   "id": "00c99fd1",
   "metadata": {},
   "outputs": [
    {
     "name": "stdout",
     "output_type": "stream",
     "text": [
      "input: \t\n",
      "      AMS: \t\n",
      "          task: \tSinglePoint\n",
      "          Properties: \t\n",
      "                     Gradients: \tyes\n",
      "                     StressTensor: \tno\n",
      "                     Hessian: \tno\n",
      "                     PESPointCharacter: \tno\n",
      "                     ElasticTensor: \tno\n",
      "          GeometryOptimization: \t\n",
      "                               OptimizeLattice: \tno\n",
      "      BAND: \t\n",
      "           basis: \t\n",
      "                 type: \tDZP\n",
      "           xc: \t\n",
      "              GGA: \tPBE\n",
      "\n"
     ]
    }
   ],
   "source": [
    "from tools.misc.default_settings import settings_7_SP\n",
    "\n",
    "print(settings_7_SP)"
   ]
  },
  {
   "cell_type": "markdown",
   "id": "58f8177e",
   "metadata": {},
   "source": [
    "#### Set-up `RUNNER`"
   ]
  },
  {
   "cell_type": "code",
   "execution_count": null,
   "id": "de622944",
   "metadata": {},
   "outputs": [],
   "source": [
    "NODES = 4\n",
    "CORES_PER_NODE = 32\n",
    "CPUS_PER_CORE = 4\n",
    "MAX_JOBS = 64"
   ]
  },
  {
   "cell_type": "code",
   "execution_count": null,
   "id": "703c22dd",
   "metadata": {},
   "outputs": [],
   "source": [
    "scm.init(folder=RUN_DIR)\n",
    "RUNNER = scm.GridRunner(grid=\"slurm\", sleepstep=5, parallel=True, maxjobs=MAX_JOBS)\n",
    "RUNNER.settings.workdir = \"-D\"\n",
    "RUNNER.settings.special.nodes = \"--nodes=\"\n",
    "RUNNER.settings.special.qos = \"--qos=\"\n",
    "RUNNER.settings.special.walltime = \"--time=\"\n",
    "RUNNER.settings.special.tasks_per_node = \"--ntasks-per-node=\"\n",
    "RUNNER.settings.special.cpus_per_task = \"--cpus-per-task=\"\n",
    "RUNNER.settings.special.partition = \"--partition=\"\n",
    "RUNNER.settings.special.account = \"--account=\"\n",
    "RUNNER.settings.special.job_name = \"--job-name=\"\n",
    "\n",
    "scm.config.log.file = 7  # debug\n",
    "scm.config.log.stdout = 1  # 1: important 3: normal 5: verbose 7: debug\n",
    "scm.config.job.pickle = False\n",
    "scm.config.job.runscript.nproc = CORES_PER_NODE\n",
    "scm.config.job.runscript.shebang = \"#!/bin/bash\"\n",
    "scm.config.default_jobrunner = RUNNER"
   ]
  },
  {
   "cell_type": "code",
   "execution_count": null,
   "id": "c098f76c",
   "metadata": {},
   "outputs": [],
   "source": [
    "settings_pkl_file = os.path.join(RUN_DIR, \"settings.pkl\")\n",
    "with open(settings_pkl_file, \"wb\") as file:\n",
    "    pickle.dump(settings_7_SP, file)"
   ]
  },
  {
   "cell_type": "markdown",
   "id": "b94e50bb",
   "metadata": {},
   "source": [
    "#### Set-up JOBS"
   ]
  },
  {
   "cell_type": "markdown",
   "id": "6ab87d89",
   "metadata": {},
   "source": [
    "Load systems"
   ]
  },
  {
   "cell_type": "code",
   "execution_count": null,
   "id": "7c3f1a74",
   "metadata": {},
   "outputs": [],
   "source": [
    "cis_dir = os.path.join(MAIN_DIR_JNB1, CHEM_FORMULA, \"9.1-bulk_500K_frames\")\n",
    "systems = []\n",
    "\n",
    "for path in np.sort(glob.glob(os.path.join(cis_dir, \"*.cif\"))):\n",
    "    system_name = path.split(os.sep)[-1].split(\".cif\")[0]\n",
    "    system_mat = Structure.from_file(path)\n",
    "    system_ase = matget2ase.get_atoms(system_mat)\n",
    "    systems.append((system_name, fromASE(system_ase)))"
   ]
  },
  {
   "cell_type": "markdown",
   "id": "5be8a3e5",
   "metadata": {},
   "source": [
    "Define jobs"
   ]
  },
  {
   "cell_type": "code",
   "execution_count": null,
   "id": "1a56b142",
   "metadata": {},
   "outputs": [],
   "source": [
    "jobs = []\n",
    "for name, system_obj in systems:\n",
    "    sim_name = f\"{TASK}-{name}\"\n",
    "    job = scm.AMSJob(molecule=system_obj, settings=settings_7_SP, name=sim_name)\n",
    "    job.settings.runscript.pre = \"\"\"module use --append /work/pr1u1751/pr1u1751/shared/modules\n",
    "module load ams/2021.104\"\"\"\n",
    "    jobs.append(job)\n",
    "# Group all\n",
    "multi_jobs = scm.MultiJob(name=\"jobs\", children=jobs)"
   ]
  },
  {
   "cell_type": "markdown",
   "id": "18163732",
   "metadata": {},
   "source": [
    "#### Run All"
   ]
  },
  {
   "cell_type": "code",
   "execution_count": null,
   "id": "3792b705",
   "metadata": {},
   "outputs": [
    {
     "name": "stdout",
     "output_type": "stream",
     "text": [
      "[23:00:37] JOB jobs STARTED\n",
      "[23:00:37] JOB jobs/SP-11.0-0-LiF_Fm-3m_-3.18_2x2x3_100.0ps STARTED\n",
      "[23:00:37] JOB jobs/SP-11.0-0-LiF_Fm-3m_-3.18_2x2x3_125.0ps STARTED\n",
      "[23:00:37] JOB jobs/SP-11.0-0-LiF_Fm-3m_-3.18_2x2x3_150.0ps STARTED\n",
      "[23:00:37] JOB jobs/SP-11.0-0-LiF_Fm-3m_-3.18_2x2x3_175.0ps STARTED\n",
      "[23:00:37] JOB jobs/SP-11.0-0-LiF_Fm-3m_-3.18_2x2x3_200.0ps STARTED\n",
      "[23:00:37] JOB jobs/SP-11.0-0-LiF_Fm-3m_-3.18_2x2x3_225.0ps STARTED\n",
      "[23:00:37] JOB jobs/SP-11.0-0-LiF_Fm-3m_-3.18_2x2x3_25.0ps STARTED\n",
      "[23:00:37] JOB jobs/SP-11.0-0-LiF_Fm-3m_-3.18_2x2x3_250.0ps STARTED\n",
      "[23:00:37] JOB jobs/SP-11.0-0-LiF_Fm-3m_-3.18_2x2x3_50.0ps STARTED\n",
      "[23:00:37] JOB jobs/SP-11.0-0-LiF_Fm-3m_-3.18_2x2x3_75.0ps STARTED\n",
      "[23:00:37] JOB jobs/SP-11.0-1-LiF_P6_3mc_-3.17_2x2x3_100.0ps STARTED\n",
      "[23:00:37] JOB jobs/SP-11.0-1-LiF_P6_3mc_-3.17_2x2x3_125.0ps STARTED\n",
      "[23:00:37] JOB jobs/SP-11.0-1-LiF_P6_3mc_-3.17_2x2x3_150.0ps STARTED\n",
      "[23:00:37] JOB jobs/SP-11.0-1-LiF_P6_3mc_-3.17_2x2x3_175.0ps STARTED\n",
      "[23:00:37] JOB jobs/SP-11.0-1-LiF_P6_3mc_-3.17_2x2x3_200.0ps STARTED\n",
      "[23:00:37] JOB jobs/SP-11.0-1-LiF_P6_3mc_-3.17_2x2x3_225.0ps STARTED\n",
      "[23:00:37] JOB jobs/SP-11.0-1-LiF_P6_3mc_-3.17_2x2x3_25.0ps STARTED\n",
      "[23:00:37] JOB jobs/SP-11.0-1-LiF_P6_3mc_-3.17_2x2x3_250.0ps STARTED\n",
      "[23:00:37] JOB jobs/SP-11.0-1-LiF_P6_3mc_-3.17_2x2x3_50.0ps STARTED\n",
      "[23:00:37] JOB jobs/SP-11.0-1-LiF_P6_3mc_-3.17_2x2x3_75.0ps STARTED\n",
      "[23:00:37] JOB jobs/SP-11.0-2-LiF_Pm-3m_-2.89_2x2x3_100.0ps STARTED\n",
      "[23:00:37] JOB jobs/SP-11.0-2-LiF_Pm-3m_-2.89_2x2x3_125.0ps STARTED\n",
      "[23:00:37] JOB jobs/SP-11.0-2-LiF_Pm-3m_-2.89_2x2x3_150.0ps STARTED\n",
      "[23:00:37] JOB jobs/SP-11.0-2-LiF_Pm-3m_-2.89_2x2x3_175.0ps STARTED\n",
      "[23:00:37] JOB jobs/SP-11.0-2-LiF_Pm-3m_-2.89_2x2x3_200.0ps STARTED\n",
      "[23:00:37] JOB jobs/SP-11.0-2-LiF_Pm-3m_-2.89_2x2x3_225.0ps STARTED\n",
      "[23:00:38] JOB jobs/SP-11.0-2-LiF_Pm-3m_-2.89_2x2x3_25.0ps STARTED\n",
      "[23:00:38] JOB jobs/SP-11.0-2-LiF_Pm-3m_-2.89_2x2x3_250.0ps STARTED\n",
      "[23:00:38] JOB jobs/SP-11.0-2-LiF_Pm-3m_-2.89_2x2x3_50.0ps STARTED\n",
      "[23:00:38] JOB jobs/SP-11.0-2-LiF_Pm-3m_-2.89_2x2x3_75.0ps STARTED\n",
      "[23:03:55] JOB jobs/SP-11.0-1-LiF_P6_3mc_-3.17_2x2x3_200.0ps SUCCESSFUL\n",
      "[23:03:55] JOB jobs/SP-11.0-1-LiF_P6_3mc_-3.17_2x2x3_25.0ps SUCCESSFUL\n",
      "[23:03:55] JOB jobs/SP-11.0-1-LiF_P6_3mc_-3.17_2x2x3_175.0ps SUCCESSFUL\n",
      "[23:04:01] JOB jobs/SP-11.0-1-LiF_P6_3mc_-3.17_2x2x3_250.0ps SUCCESSFUL\n",
      "[23:04:01] JOB jobs/SP-11.0-1-LiF_P6_3mc_-3.17_2x2x3_150.0ps SUCCESSFUL\n",
      "[23:04:01] JOB jobs/SP-11.0-1-LiF_P6_3mc_-3.17_2x2x3_225.0ps SUCCESSFUL\n",
      "[23:05:02] JOB jobs/SP-11.0-2-LiF_Pm-3m_-2.89_2x2x3_100.0ps SUCCESSFUL\n",
      "[23:05:07] JOB jobs/SP-11.0-0-LiF_Fm-3m_-3.18_2x2x3_150.0ps SUCCESSFUL\n",
      "[23:05:13] JOB jobs/SP-11.0-2-LiF_Pm-3m_-2.89_2x2x3_250.0ps SUCCESSFUL\n",
      "[23:05:13] JOB jobs/SP-11.0-0-LiF_Fm-3m_-3.18_2x2x3_225.0ps SUCCESSFUL\n",
      "[23:05:13] JOB jobs/SP-11.0-0-LiF_Fm-3m_-3.18_2x2x3_125.0ps SUCCESSFUL\n",
      "[23:05:13] JOB jobs/SP-11.0-0-LiF_Fm-3m_-3.18_2x2x3_100.0ps SUCCESSFUL\n",
      "[23:05:25] JOB jobs/SP-11.0-0-LiF_Fm-3m_-3.18_2x2x3_25.0ps SUCCESSFUL\n",
      "[23:05:37] JOB jobs/SP-11.0-2-LiF_Pm-3m_-2.89_2x2x3_25.0ps SUCCESSFUL\n",
      "[23:07:43] JOB jobs/SP-11.0-1-LiF_P6_3mc_-3.17_2x2x3_50.0ps SUCCESSFUL\n",
      "[23:08:55] JOB jobs/SP-11.0-2-LiF_Pm-3m_-2.89_2x2x3_225.0ps SUCCESSFUL\n",
      "[23:09:01] JOB jobs/SP-11.0-0-LiF_Fm-3m_-3.18_2x2x3_50.0ps SUCCESSFUL\n",
      "[23:09:07] JOB jobs/SP-11.0-2-LiF_Pm-3m_-2.89_2x2x3_125.0ps SUCCESSFUL\n",
      "[23:09:13] JOB jobs/SP-11.0-0-LiF_Fm-3m_-3.18_2x2x3_75.0ps SUCCESSFUL\n",
      "[23:10:26] JOB jobs/SP-11.0-0-LiF_Fm-3m_-3.18_2x2x3_200.0ps SUCCESSFUL\n",
      "[23:12:44] Job jobs/SP-11.0-1-LiF_P6_3mc_-3.17_2x2x3_75.0ps reported warnings. Please check the the output\n",
      "[23:12:44] JOB jobs/SP-11.0-1-LiF_P6_3mc_-3.17_2x2x3_75.0ps SUCCESSFUL\n",
      "[23:12:44] JOB jobs/SP-11.0-2-LiF_Pm-3m_-2.89_2x2x3_75.0ps SUCCESSFUL\n",
      "[23:12:50] JOB jobs/SP-11.0-1-LiF_P6_3mc_-3.17_2x2x3_125.0ps SUCCESSFUL\n",
      "[23:12:50] Job jobs/SP-11.0-1-LiF_P6_3mc_-3.17_2x2x3_100.0ps reported warnings. Please check the the output\n",
      "[23:12:50] JOB jobs/SP-11.0-1-LiF_P6_3mc_-3.17_2x2x3_100.0ps SUCCESSFUL\n",
      "[23:13:56] JOB jobs/SP-11.0-2-LiF_Pm-3m_-2.89_2x2x3_50.0ps SUCCESSFUL\n",
      "[23:14:02] Job jobs/SP-11.0-2-LiF_Pm-3m_-2.89_2x2x3_175.0ps reported warnings. Please check the the output\n",
      "[23:14:02] JOB jobs/SP-11.0-2-LiF_Pm-3m_-2.89_2x2x3_175.0ps SUCCESSFUL\n",
      "[23:14:02] JOB jobs/SP-11.0-2-LiF_Pm-3m_-2.89_2x2x3_200.0ps SUCCESSFUL\n",
      "[23:14:07] JOB jobs/SP-11.0-0-LiF_Fm-3m_-3.18_2x2x3_175.0ps SUCCESSFUL\n",
      "[23:14:13] JOB jobs/SP-11.0-0-LiF_Fm-3m_-3.18_2x2x3_250.0ps SUCCESSFUL\n",
      "[23:41:56] JOB jobs/SP-11.0-2-LiF_Pm-3m_-2.89_2x2x3_150.0ps FAILED\n",
      "[23:42:00] JOB jobs FAILED\n"
     ]
    }
   ],
   "source": [
    "result = multi_jobs.run(\n",
    "    jobrunner=RUNNER,\n",
    "    nodes=NODES,\n",
    "    cores=CORES_PER_NODE * NODES,\n",
    "    tasks_per_node=CORES_PER_NODE,\n",
    "    cpus_per_task=CPUS_PER_CORE,\n",
    "    walltime=\"24:00:00\",\n",
    "    partition=\"standard\",\n",
    "    account=\"pr1u1751\",\n",
    "    qos=\"standard\",\n",
    ")"
   ]
  },
  {
   "cell_type": "markdown",
   "id": "e9313f03",
   "metadata": {},
   "source": [
    "#### Post-processing"
   ]
  },
  {
   "cell_type": "markdown",
   "id": "df5120e6",
   "metadata": {},
   "source": [
    "Load Material Project data"
   ]
  },
  {
   "cell_type": "code",
   "execution_count": null,
   "id": "254250d2",
   "metadata": {},
   "outputs": [],
   "source": [
    "dir_jobs = os.path.join(RUN_DIR, \"jobs\")\n",
    "\n",
    "cis_dir = os.path.join(MAIN_DIR_JNB1, CHEM_FORMULA, \"9.1-bulk_500K_frames\")\n",
    "data_path = os.path.join(cis_dir, \"info.json\")\n",
    "results_df = pd.read_json(data_path)"
   ]
  },
  {
   "cell_type": "code",
   "execution_count": null,
   "id": "90b5c553",
   "metadata": {},
   "outputs": [
    {
     "data": {
      "text/html": [
       "<div>\n",
       "<style scoped>\n",
       "    .dataframe tbody tr th:only-of-type {\n",
       "        vertical-align: middle;\n",
       "    }\n",
       "\n",
       "    .dataframe tbody tr th {\n",
       "        vertical-align: top;\n",
       "    }\n",
       "\n",
       "    .dataframe thead th {\n",
       "        text-align: right;\n",
       "    }\n",
       "</style>\n",
       "<table border=\"1\" class=\"dataframe\">\n",
       "  <thead>\n",
       "    <tr style=\"text-align: right;\">\n",
       "      <th></th>\n",
       "      <th>step</th>\n",
       "      <th>time</th>\n",
       "      <th>unitcell_repetition</th>\n",
       "    </tr>\n",
       "  </thead>\n",
       "  <tbody>\n",
       "    <tr>\n",
       "      <th>7.0-1-LiF_P6_3mc_-3.17_3x3x3_400.0ps.cif</th>\n",
       "      <td>1600</td>\n",
       "      <td>400</td>\n",
       "      <td>27</td>\n",
       "    </tr>\n",
       "    <tr>\n",
       "      <th>7.0-1-LiF_P6_3mc_-3.17_3x3x3_425.0ps.cif</th>\n",
       "      <td>1700</td>\n",
       "      <td>425</td>\n",
       "      <td>27</td>\n",
       "    </tr>\n",
       "    <tr>\n",
       "      <th>7.0-1-LiF_P6_3mc_-3.17_3x3x3_450.0ps.cif</th>\n",
       "      <td>1800</td>\n",
       "      <td>450</td>\n",
       "      <td>27</td>\n",
       "    </tr>\n",
       "    <tr>\n",
       "      <th>7.0-1-LiF_P6_3mc_-3.17_3x3x3_475.0ps.cif</th>\n",
       "      <td>1900</td>\n",
       "      <td>475</td>\n",
       "      <td>27</td>\n",
       "    </tr>\n",
       "    <tr>\n",
       "      <th>7.0-1-LiF_P6_3mc_-3.17_3x3x3_500.0ps.cif</th>\n",
       "      <td>2000</td>\n",
       "      <td>500</td>\n",
       "      <td>27</td>\n",
       "    </tr>\n",
       "  </tbody>\n",
       "</table>\n",
       "</div>"
      ],
      "text/plain": [
       "                                          step  time  unitcell_repetition\n",
       "7.0-1-LiF_P6_3mc_-3.17_3x3x3_400.0ps.cif  1600   400                   27\n",
       "7.0-1-LiF_P6_3mc_-3.17_3x3x3_425.0ps.cif  1700   425                   27\n",
       "7.0-1-LiF_P6_3mc_-3.17_3x3x3_450.0ps.cif  1800   450                   27\n",
       "7.0-1-LiF_P6_3mc_-3.17_3x3x3_475.0ps.cif  1900   475                   27\n",
       "7.0-1-LiF_P6_3mc_-3.17_3x3x3_500.0ps.cif  2000   500                   27"
      ]
     },
     "metadata": {},
     "output_type": "display_data"
    }
   ],
   "source": [
    "results_df.head()"
   ]
  },
  {
   "cell_type": "code",
   "execution_count": null,
   "id": "7e6a887a",
   "metadata": {},
   "outputs": [],
   "source": [
    "for job_dir in np.sort(glob.glob(os.path.join(dir_jobs, \"*\"))):\n",
    "    sim_name = job_dir.split(os.sep)[-1]\n",
    "    job = scm.AMSJob.load_external(job_dir, settings=settings_7_SP)\n",
    "    # check\n",
    "    if not job.check():\n",
    "        print(f\"Simulation {job_dir} FAILED\")\n",
    "        continue\n",
    "    job_result = job.results\n",
    "    energy = scm.Units.convert(job_result.get_energy(), \"au\", \"eV\")\n",
    "    results_df.loc[sim_name[3:] + \".cif\", \"energy_SP\"] = energy\n",
    "    Na = len(job_result.get_molecule(\"Molecule\").atoms)\n",
    "    energy_per_atom = energy / Na\n",
    "    results_df.loc[sim_name[3:] + \".cif\", \"energy_per_atom_SP\"] = energy_per_atom\n",
    "\n",
    "results_df.to_json(os.path.join(RUN_DIR, f\"results.json\"))"
   ]
  },
  {
   "cell_type": "markdown",
   "id": "34fcd066",
   "metadata": {},
   "source": [
    "### Finishing"
   ]
  },
  {
   "cell_type": "code",
   "execution_count": null,
   "id": "26ba3335",
   "metadata": {},
   "outputs": [],
   "source": [
    "scm.finish()"
   ]
  }
 ],
 "metadata": {
  "kernelspec": {
   "display_name": "Python 3",
   "language": "python",
   "name": "python3"
  },
  "language_info": {
   "codemirror_mode": {
    "name": "ipython",
    "version": 3
   },
   "file_extension": ".py",
   "mimetype": "text/x-python",
   "name": "python",
   "nbconvert_exporter": "python",
   "pygments_lexer": "ipython3",
   "version": "3.8.12"
  },
  "toc-autonumbering": true,
  "toc-showcode": false,
  "toc-showmarkdowntxt": false,
  "toc-showtags": false,
  "vscode": {
   "interpreter": {
    "hash": "68c6dd4486945bf06834acdebaf1156968f51509e7c23272cbd0a64c0886d511"
   }
  }
 },
 "nbformat": 4,
 "nbformat_minor": 5
}
